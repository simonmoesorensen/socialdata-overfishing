{
 "cells": [
  {
   "cell_type": "code",
   "execution_count": 1,
   "id": "d2e2b2f4",
   "metadata": {
    "pycharm": {
     "name": "#%%\n"
    }
   },
   "outputs": [],
   "source": [
    "# import necessary packages\n",
    "import pandas as pd\n",
    "import matplotlib.pyplot as plt\n",
    "import math\n",
    "import numpy as np"
   ]
  },
  {
   "cell_type": "markdown",
   "id": "f2c71e35",
   "metadata": {
    "pycharm": {
     "name": "#%% md\n"
    }
   },
   "source": [
    "# Presentation Prep"
   ]
  },
  {
   "cell_type": "code",
   "execution_count": 3,
   "id": "c2b15057",
   "metadata": {
    "pycharm": {
     "name": "#%%\n"
    }
   },
   "outputs": [],
   "source": [
    "data = pd.read_csv(\"../data/fish-and-seafood-consumption-per-capita.csv\")"
   ]
  },
  {
   "cell_type": "code",
   "execution_count": 4,
   "id": "fe1b74b8",
   "metadata": {
    "pycharm": {
     "name": "#%%\n"
    }
   },
   "outputs": [],
   "source": [
    "data_grouped = data.groupby([\"Year\"]).mean()"
   ]
  },
  {
   "cell_type": "code",
   "execution_count": 6,
   "id": "1bce8f9a",
   "metadata": {
    "scrolled": false,
    "pycharm": {
     "name": "#%%\n"
    }
   },
   "outputs": [],
   "source": [
    "data_grouped.rename(columns={\"Fish, Seafood- Food supply quantity (kg/capita/yr) (FAO, 2020)\": \"Mean global seafood consumption\"}, inplace=True)\n",
    "#data_grouped.dtypes"
   ]
  },
  {
   "cell_type": "code",
   "execution_count": 7,
   "id": "658ad843",
   "metadata": {
    "pycharm": {
     "name": "#%%\n"
    }
   },
   "outputs": [
    {
     "data": {
      "text/plain": "<Figure size 720x360 with 0 Axes>"
     },
     "metadata": {},
     "output_type": "display_data"
    },
    {
     "data": {
      "text/plain": "<Figure size 720x360 with 1 Axes>",
      "image/png": "[encoded data removed]"
     },
     "metadata": {},
     "output_type": "display_data"
    }
   ],
   "source": [
    "plt.rcParams['figure.figsize'] = [10, 5]\n",
    "\n",
    "fig = plt.figure( )\n",
    "\n",
    "data_grouped.plot(kind=\"line\")\n",
    "plt.xlabel( \"Year\" )\n",
    "plt.ylabel( \"kg/capita\" )\n",
    "plt.title( \"\" , fontdict = {'fontsize': 14} )\n",
    "\n",
    "plt.show()"
   ]
  },
  {
   "cell_type": "markdown",
   "id": "e5648223",
   "metadata": {
    "pycharm": {
     "name": "#%% md\n"
    }
   },
   "source": [
    "# Homework 1"
   ]
  },
  {
   "cell_type": "markdown",
   "id": "cf7d9693",
   "metadata": {
    "pycharm": {
     "name": "#%% md\n"
    }
   },
   "source": [
    "[19-4-2022 16:56] Simon Moe Sørensen:\n",
    "\n",
    "'Niels Jansen' can you look into which countries are the most impactful wrt to overfishing? And perhaps some data on import / export ratios for all countries and plot that too"
   ]
  },
  {
   "cell_type": "markdown",
   "id": "09bd88f5",
   "metadata": {
    "pycharm": {
     "name": "#%% md\n"
    }
   },
   "source": [
    "## Impact of overfishing"
   ]
  },
  {
   "cell_type": "markdown",
   "id": "926772bb",
   "metadata": {
    "pycharm": {
     "name": "#%% md\n"
    }
   },
   "source": [
    "[source](https://www.conserve-energy-future.com/causes-effects-solutions-of-overfishing.php)\n",
    "Some of the causes of overfishing include:\n",
    "    \n",
    "    - Difficulties in regulating fishing areas due to lack of resources and tracking activity.\n",
    "    - Most areas in the world have a total lack of oversight related to their fishing industry, which means the practices and activities of fishing fleets are not or barely monitored.\n",
    "    - In international waters, there are little to no rules regarding fishing practices, which means fishing fleets can bypass areas that do have regulations.\n",
    "    - Lack of knowledge regarding fish populations and quotas in a universal standard.\n",
    "    - Problems with customs and importation where the provenance of fish is not questioned, leading to surreptitious practices such as calling one kind of fish something else.\n",
    "    - Unreported fishing, which is nearly impossible to track.\n",
    "    - Many countries have subsidies for fishermen which keeps their number higher than it needs to be (it is estimated that there are 2 ½ times more fleets than needed).\n",
    "    - Fishing areas are largely unprotected – only a little over 1.5% of oceans have been declared protective areas, and most of these are still open to fishermen. This means that areas can be harmed or depleted.\n",
    "    \n",
    "Effects:\n",
    "\n",
    "    - 1. Removal of Essential Predators\n",
    "    - 2. Poor Coral Reef Health\n",
    "    - 3. Growth of Algae\n",
    "    - 4. Unintended Catches\n",
    "    - 5. The Threat to Local Food Sources\n",
    "    - 6. Financial Losses\n",
    "    - 7. An Utter Imbalance of the Marine Ecosystems\n",
    "    - 8. The Targeted Fish and its Harvest\n",
    "    - 9. Rise of the Endangered Species\n",
    "    - 10. Improper Aquaculture"
   ]
  },
  {
   "cell_type": "markdown",
   "id": "61a12b3f",
   "metadata": {
    "pycharm": {
     "name": "#%% md\n"
    }
   },
   "source": [
    "## Data on Import/Export"
   ]
  },
  {
   "cell_type": "code",
   "execution_count": 8,
   "id": "fe95f681",
   "metadata": {
    "pycharm": {
     "name": "#%%\n"
    }
   },
   "outputs": [],
   "source": [
    "fish_Im = pd.read_csv(\"../data/FAOSTAT_import.csv\")\n",
    "fish_Ex = pd.read_csv(\"../data/FAOSTAT_export.csv\")\n",
    "\n",
    "fish_Im = fish_Im.drop([\"Domain Code\", \"Domain\", \"Area Code (FAO)\", \"Element Code\", \"Element\", \"Item Code\", \"Item\", \"Year Code\", \"Unit\", \"Flag\", \"Flag Description\"], axis=1);\n",
    "# These are not present in export and not notable countries\n",
    "fish_Im = fish_Im.loc[ fish_Im[\"Area\"] != \"Tajikistan\" ];\n",
    "fish_Im = fish_Im.loc[ fish_Im[\"Area\"] != \"Afghanistan\" ];\n",
    "\n",
    "fish_Ex = fish_Ex.drop([\"Domain Code\", \"Domain\", \"Area Code (FAO)\", \"Element Code\", \"Element\", \"Item Code\", \"Item\", \"Year Code\", \"Unit\", \"Flag\", \"Flag Description\"], axis=1);"
   ]
  },
  {
   "cell_type": "markdown",
   "id": "d792b8a1",
   "metadata": {
    "pycharm": {
     "name": "#%% md\n"
    }
   },
   "source": [
    "### Let's first look at the import and export stats per country."
   ]
  },
  {
   "cell_type": "code",
   "execution_count": 9,
   "id": "6a05d813",
   "metadata": {
    "pycharm": {
     "name": "#%%\n"
    }
   },
   "outputs": [],
   "source": [
    "# Sort on highest import values\n",
    "Im_lastyear = fish_Im.loc[ fish_Im[\"Year\"] == 2019 ].sort_values(\"Value\", axis=0, ignore_index=True, ascending=False)\n",
    "Ex_lastyear = fish_Ex.loc[ fish_Ex[\"Year\"] == 2019 ]\n",
    "\n",
    "Ex_lastyear = Ex_lastyear.set_index('Area');\n",
    "Ex_lastyear = Ex_lastyear.reindex(index=Im_lastyear[\"Area\"]);\n",
    "Ex_lastyear.reset_index();\n",
    "\n",
    "Im_lastyear = Im_lastyear.set_index('Area');"
   ]
  },
  {
   "cell_type": "code",
   "execution_count": 10,
   "id": "b398cc6b",
   "metadata": {
    "pycharm": {
     "name": "#%%\n"
    }
   },
   "outputs": [],
   "source": [
    "# ALTERNATIVELY\n",
    "# Sort on highest export values\n",
    "Im_lastyear = fish_Im.loc[ fish_Im[\"Year\"] == 2019 ]\n",
    "Ex_lastyear = fish_Ex.loc[ fish_Ex[\"Year\"] == 2019 ].sort_values(\"Value\", axis=0, ignore_index=True, ascending=False)\n",
    "\n",
    "Im_lastyear = Im_lastyear.set_index('Area');\n",
    "Im_lastyear = Im_lastyear.reindex(index=Ex_lastyear[\"Area\"]);\n",
    "Im_lastyear.reset_index();\n",
    "\n",
    "Ex_lastyear = Ex_lastyear.set_index('Area');"
   ]
  },
  {
   "cell_type": "code",
   "execution_count": 11,
   "id": "9fc0fca4",
   "metadata": {
    "pycharm": {
     "name": "#%%\n"
    }
   },
   "outputs": [],
   "source": [
    "# show only the top N countries (set 178 for all)\n",
    "N = 20\n",
    "plt.rcParams['figure.figsize'] = [5, 5 + (N*70/178)]\n",
    "y_axis = Im_lastyear[0:N].index\n",
    "x_axis_Im = Im_lastyear[\"Value\"][0:N]\n",
    "x_axis_Ex = Ex_lastyear[\"Value\"][0:N]"
   ]
  },
  {
   "cell_type": "markdown",
   "id": "2d098656",
   "metadata": {
    "pycharm": {
     "name": "#%% md\n"
    }
   },
   "source": [
    "From the below visualization we can see a few interesting things:\n",
    "\n",
    "    - China is both the biggest importer and exported. To me this seems weird, why would countries be importing and exporting about the same amount? Are they reselling or is it related to fishing seasons? I think it's most lickely that they export native species and import non-native species.\n",
    "    - Apart from China and the US countries with a lot of export import a lot less (Peru, Nam, Norway...) what makes these different? Do they eat less fish, so they don't want it or do they have more native species?\n",
    "    - Japan, France, Korea, Italy export a lot more tehn they omport.\n",
    "    - It could be interesting to group/look at individual continets idk."
   ]
  },
  {
   "cell_type": "code",
   "execution_count": 12,
   "id": "f58289b2",
   "metadata": {
    "scrolled": false,
    "pycharm": {
     "name": "#%%\n"
    }
   },
   "outputs": [
    {
     "data": {
      "text/plain": "<Figure size 360x926.292 with 1 Axes>",
      "image/png": "[encoded data removed]"
     },
     "metadata": {},
     "output_type": "display_data"
    }
   ],
   "source": [
    "# Visualization\n",
    "fig, ax = plt.subplots( )\n",
    "\n",
    "ind = np.arange(N)\n",
    "width = 0.3\n",
    "\n",
    "ax.barh(ind, x_axis_Im, width) # IMPORT\n",
    "ax.barh(ind + width, x_axis_Ex, width) # EXPORT\n",
    "\n",
    "ax.set(yticks=ind + width/2, yticklabels=y_axis, ylim=[2*width - 1, len(y_axis)])\n",
    "\n",
    "plt.rcParams[\"legend.loc\"] = 'lower right' \n",
    "ax.legend(['Import', 'Export'])\n",
    "\n",
    "plt.xlabel( \"1000 tons\" )\n",
    "plt.ylabel( \"Country\" )\n",
    "plt.title( \"Fish import/export per country\" , fontdict = {'fontsize': 14} )\n",
    "\n",
    "# to show highest at the top\n",
    "plt.gca().invert_yaxis()\n",
    "\n",
    "plt.show()"
   ]
  },
  {
   "cell_type": "markdown",
   "id": "80758631",
   "metadata": {
    "pycharm": {
     "name": "#%% md\n"
    }
   },
   "source": [
    "### Looking at individual countries over time."
   ]
  },
  {
   "cell_type": "code",
   "execution_count": 16,
   "id": "01152df4",
   "metadata": {
    "pycharm": {
     "name": "#%%\n"
    }
   },
   "outputs": [],
   "source": [
    "# Sort on year\n",
    "country = \"China\"\n",
    "Im_indiv = fish_Im.loc[ fish_Im[\"Area\"] == country ].sort_values(\"Year\", axis=0, ignore_index=True, ascending=True)\n",
    "Ex_indiv = fish_Ex.loc[ fish_Ex[\"Area\"] == country ].sort_values(\"Year\", axis=0, ignore_index=True, ascending=True)\n",
    "\n",
    "Ex_indiv = Ex_indiv.set_index('Year');\n",
    "Im_indiv = Im_indiv.set_index('Year');"
   ]
  },
  {
   "cell_type": "code",
   "execution_count": 17,
   "id": "2f56f6dd",
   "metadata": {
    "pycharm": {
     "name": "#%%\n"
    }
   },
   "outputs": [],
   "source": [
    "plt.rcParams['figure.figsize'] = [10, 5]\n",
    "y_axis = Im_indiv.index\n",
    "x_axis_Im = Im_indiv[\"Value\"]\n",
    "x_axis_Ex = Ex_indiv[\"Value\"]"
   ]
  },
  {
   "cell_type": "markdown",
   "id": "1dc2a898",
   "metadata": {
    "pycharm": {
     "name": "#%% md\n"
    }
   },
   "source": [
    "In the visualization we can see that the import of fish in China has drasticly increased over the last years. Likely due to efforts to maintain the natural enviroment ([haven't read it completely]([https://www.seafoodsource.com/features/why-the-long-term-outlook-for-china-s-seafood-imports-is-bright#:~:text=The%20ruination%20of%20China's%20own,like%20crabs%2C%20lobster%20and%20salmon.])). Most other countries I've tried to inspect manually have not changed much over the years, but lets see if we can find some interesting cases automatically."
   ]
  },
  {
   "cell_type": "code",
   "execution_count": 18,
   "id": "9e11e9e1",
   "metadata": {
    "pycharm": {
     "name": "#%%\n"
    }
   },
   "outputs": [
    {
     "data": {
      "text/plain": "<Figure size 720x360 with 1 Axes>",
      "image/png": "[encoded data removed]"
     },
     "metadata": {},
     "output_type": "display_data"
    }
   ],
   "source": [
    "# Visualization\n",
    "fig, ax = plt.subplots()\n",
    "\n",
    "ax.plot(y_axis, x_axis_Im) # IMPORT\n",
    "ax.plot(y_axis, x_axis_Ex) # EXPORT\n",
    "\n",
    "plt.rcParams[\"legend.loc\"] = 'lower right' \n",
    "ax.legend(['Import', 'Export'])\n",
    "\n",
    "plt.xlabel( \"Year\" )\n",
    "plt.ylabel( \"1000 tons\" )\n",
    "plt.title( \"Fish import/export \" + country, fontdict = {'fontsize': 14} )\n",
    "\n",
    "plt.show()"
   ]
  },
  {
   "cell_type": "markdown",
   "id": "61a3ae99",
   "metadata": {
    "pycharm": {
     "name": "#%% md\n"
    }
   },
   "source": [
    "### Finding interesting countries."
   ]
  },
  {
   "cell_type": "markdown",
   "id": "da47b942",
   "metadata": {
    "pycharm": {
     "name": "#%% md\n"
    }
   },
   "source": [
    "I'll just be looking for countries with the biggest relative change in their import/export over the given time period."
   ]
  },
  {
   "cell_type": "code",
   "execution_count": 365,
   "id": "4e211345",
   "metadata": {
    "pycharm": {
     "name": "#%%\n"
    }
   },
   "outputs": [],
   "source": [
    "# Sort on highest import values\n",
    "# FIRST YEAR\n",
    "Im_first = fish_Im.loc[ fish_Im[\"Year\"] == 2010 ].sort_values(\"Value\", axis=0, ignore_index=True, ascending=False)\n",
    "Ex_first = fish_Ex.loc[ fish_Ex[\"Year\"] == 2010 ]\n",
    "\n",
    "Ex_first = Ex_first.set_index('Area');\n",
    "Ex_first = Ex_first.reindex(index=Im_first[\"Area\"]);\n",
    "Ex_first.reset_index();\n",
    "\n",
    "Im_first = Im_first.set_index('Area');\n",
    "\n",
    "# LAST YEAR (yes we're sort of redoing this, sue me)\n",
    "Im_last = fish_Im.loc[ fish_Im[\"Year\"] == 2019 ].sort_values(\"Value\", axis=0, ignore_index=True, ascending=False)\n",
    "Ex_last = fish_Ex.loc[ fish_Ex[\"Year\"] == 2019 ]\n",
    "\n",
    "Ex_last = Ex_last.set_index('Area');\n",
    "Ex_last = Ex_last.reindex(index=Im_last[\"Area\"]);\n",
    "Ex_last.reset_index();\n",
    "\n",
    "Im_last = Im_last.set_index('Area');"
   ]
  },
  {
   "cell_type": "code",
   "execution_count": 372,
   "id": "dc022d8b",
   "metadata": {
    "pycharm": {
     "name": "#%%\n"
    }
   },
   "outputs": [
    {
     "name": "stdout",
     "output_type": "stream",
     "text": [
      "Index([], dtype='object', name='Area')\n",
      "Index([], dtype='object', name='Area')\n",
      "Index([], dtype='object', name='Area')\n",
      "Index([], dtype='object', name='Area')\n"
     ]
    }
   ],
   "source": [
    "# These indexes do not occur in both start and finish so we drop them\n",
    "print( Im_last.index.difference(Im_first.index) )\n",
    "print( Im_first.index.difference(Im_last.index) )\n",
    "\n",
    "print( Ex_last.index.difference(Ex_first.index) )\n",
    "print( Ex_first.index.difference(Ex_last.index) )"
   ]
  },
  {
   "cell_type": "code",
   "execution_count": 371,
   "id": "4b0c82d0",
   "metadata": {
    "pycharm": {
     "name": "#%%\n"
    }
   },
   "outputs": [],
   "source": [
    "Im_last = Im_last.loc[ Im_last.index != \"Burundi\" ];\n",
    "Im_last = Im_last.loc[ Im_last.index != \"Sudan\" ];\n",
    "Ex_last = Ex_last.loc[ Ex_last.index != \"Burundi\" ];\n",
    "Ex_last = Ex_last.loc[ Ex_last.index != \"Sudan\" ];\n",
    "\n",
    "Im_first = Im_first.loc[ Im_first.index != \"Netherlands Antilles (former)\" ];\n",
    "Ex_first = Ex_first.loc[ Ex_first.index != \"Netherlands Antilles (former)\" ];"
   ]
  },
  {
   "cell_type": "code",
   "execution_count": 407,
   "id": "ef6fdfbe",
   "metadata": {
    "pycharm": {
     "name": "#%%\n"
    }
   },
   "outputs": [],
   "source": [
    "change_Im = (Im_last[\"Value\"]-Im_first[\"Value\"])/Im_first[\"Value\"]\n",
    "change_Ex = (Ex_last[\"Value\"]-Ex_first[\"Value\"])/Ex_first[\"Value\"]\n",
    "increases = pd.DataFrame( {\"import change\":change_Im, \"export change\":change_Ex} )"
   ]
  },
  {
   "cell_type": "code",
   "execution_count": 425,
   "id": "cc8a44e8",
   "metadata": {
    "pycharm": {
     "name": "#%%\n"
    }
   },
   "outputs": [
    {
     "data": {
      "text/html": [
       "<div>\n",
       "<style scoped>\n",
       "    .dataframe tbody tr th:only-of-type {\n",
       "        vertical-align: middle;\n",
       "    }\n",
       "\n",
       "    .dataframe tbody tr th {\n",
       "        vertical-align: top;\n",
       "    }\n",
       "\n",
       "    .dataframe thead th {\n",
       "        text-align: right;\n",
       "    }\n",
       "</style>\n",
       "<table border=\"1\" class=\"dataframe\">\n",
       "  <thead>\n",
       "    <tr style=\"text-align: right;\">\n",
       "      <th></th>\n",
       "      <th>import change</th>\n",
       "      <th>export change</th>\n",
       "    </tr>\n",
       "    <tr>\n",
       "      <th>Area</th>\n",
       "      <th></th>\n",
       "      <th></th>\n",
       "    </tr>\n",
       "  </thead>\n",
       "  <tbody>\n",
       "    <tr>\n",
       "      <th>Venezuela (Bolivarian Republic of)</th>\n",
       "      <td>-0.794188</td>\n",
       "      <td>1.099181</td>\n",
       "    </tr>\n",
       "    <tr>\n",
       "      <th>Nigeria</th>\n",
       "      <td>-0.695738</td>\n",
       "      <td>-0.771274</td>\n",
       "    </tr>\n",
       "    <tr>\n",
       "      <th>Solomon Islands</th>\n",
       "      <td>-0.674121</td>\n",
       "      <td>1.429663</td>\n",
       "    </tr>\n",
       "    <tr>\n",
       "      <th>Syrian Arab Republic</th>\n",
       "      <td>-0.624636</td>\n",
       "      <td>-0.333333</td>\n",
       "    </tr>\n",
       "    <tr>\n",
       "      <th>Gambia</th>\n",
       "      <td>-0.588832</td>\n",
       "      <td>-0.538462</td>\n",
       "    </tr>\n",
       "    <tr>\n",
       "      <th>Turkmenistan</th>\n",
       "      <td>-0.575824</td>\n",
       "      <td>NaN</td>\n",
       "    </tr>\n",
       "    <tr>\n",
       "      <th>Kyrgyzstan</th>\n",
       "      <td>-0.479037</td>\n",
       "      <td>8.150000</td>\n",
       "    </tr>\n",
       "    <tr>\n",
       "      <th>Chad</th>\n",
       "      <td>-0.435294</td>\n",
       "      <td>0.375000</td>\n",
       "    </tr>\n",
       "    <tr>\n",
       "      <th>Russian Federation</th>\n",
       "      <td>-0.411544</td>\n",
       "      <td>0.348109</td>\n",
       "    </tr>\n",
       "    <tr>\n",
       "      <th>Uruguay</th>\n",
       "      <td>-0.408412</td>\n",
       "      <td>-0.467088</td>\n",
       "    </tr>\n",
       "  </tbody>\n",
       "</table>\n",
       "</div>"
      ],
      "text/plain": [
       "                                    import change  export change\n",
       "Area                                                            \n",
       "Venezuela (Bolivarian Republic of)      -0.794188       1.099181\n",
       "Nigeria                                 -0.695738      -0.771274\n",
       "Solomon Islands                         -0.674121       1.429663\n",
       "Syrian Arab Republic                    -0.624636      -0.333333\n",
       "Gambia                                  -0.588832      -0.538462\n",
       "Turkmenistan                            -0.575824            NaN\n",
       "Kyrgyzstan                              -0.479037       8.150000\n",
       "Chad                                    -0.435294       0.375000\n",
       "Russian Federation                      -0.411544       0.348109\n",
       "Uruguay                                 -0.408412      -0.467088"
      ]
     },
     "execution_count": 425,
     "metadata": {},
     "output_type": "execute_result"
    }
   ],
   "source": [
    "# set ascending False to see biggest increases and True to see biggest decreases\n",
    "# afterwards go back to previous section to inspect further\n",
    "increases.sort_values(\"import change\", axis=0, ascending=True).head(10)"
   ]
  },
  {
   "cell_type": "code",
   "execution_count": 457,
   "id": "574d9a9e",
   "metadata": {
    "pycharm": {
     "name": "#%%\n"
    }
   },
   "outputs": [
    {
     "data": {
      "text/html": [
       "<div>\n",
       "<style scoped>\n",
       "    .dataframe tbody tr th:only-of-type {\n",
       "        vertical-align: middle;\n",
       "    }\n",
       "\n",
       "    .dataframe tbody tr th {\n",
       "        vertical-align: top;\n",
       "    }\n",
       "\n",
       "    .dataframe thead th {\n",
       "        text-align: right;\n",
       "    }\n",
       "</style>\n",
       "<table border=\"1\" class=\"dataframe\">\n",
       "  <thead>\n",
       "    <tr style=\"text-align: right;\">\n",
       "      <th></th>\n",
       "      <th>import change</th>\n",
       "      <th>export change</th>\n",
       "    </tr>\n",
       "    <tr>\n",
       "      <th>Area</th>\n",
       "      <th></th>\n",
       "      <th></th>\n",
       "    </tr>\n",
       "  </thead>\n",
       "  <tbody>\n",
       "    <tr>\n",
       "      <th>Central African Republic</th>\n",
       "      <td>0.275478</td>\n",
       "      <td>inf</td>\n",
       "    </tr>\n",
       "    <tr>\n",
       "      <th>Lao People's Democratic Republic</th>\n",
       "      <td>0.782609</td>\n",
       "      <td>inf</td>\n",
       "    </tr>\n",
       "    <tr>\n",
       "      <th>Dominica</th>\n",
       "      <td>0.123288</td>\n",
       "      <td>inf</td>\n",
       "    </tr>\n",
       "    <tr>\n",
       "      <th>Nepal</th>\n",
       "      <td>1.357784</td>\n",
       "      <td>inf</td>\n",
       "    </tr>\n",
       "    <tr>\n",
       "      <th>Kyrgyzstan</th>\n",
       "      <td>-0.479037</td>\n",
       "      <td>8.150000</td>\n",
       "    </tr>\n",
       "    <tr>\n",
       "      <th>Libya</th>\n",
       "      <td>-0.159360</td>\n",
       "      <td>5.957746</td>\n",
       "    </tr>\n",
       "    <tr>\n",
       "      <th>Rwanda</th>\n",
       "      <td>3.396994</td>\n",
       "      <td>5.545455</td>\n",
       "    </tr>\n",
       "    <tr>\n",
       "      <th>Botswana</th>\n",
       "      <td>-0.128571</td>\n",
       "      <td>3.857143</td>\n",
       "    </tr>\n",
       "    <tr>\n",
       "      <th>Mauritania</th>\n",
       "      <td>0.693966</td>\n",
       "      <td>3.537519</td>\n",
       "    </tr>\n",
       "    <tr>\n",
       "      <th>Mali</th>\n",
       "      <td>1.729443</td>\n",
       "      <td>3.500000</td>\n",
       "    </tr>\n",
       "  </tbody>\n",
       "</table>\n",
       "</div>"
      ],
      "text/plain": [
       "                                  import change  export change\n",
       "Area                                                          \n",
       "Central African Republic               0.275478            inf\n",
       "Lao People's Democratic Republic       0.782609            inf\n",
       "Dominica                               0.123288            inf\n",
       "Nepal                                  1.357784            inf\n",
       "Kyrgyzstan                            -0.479037       8.150000\n",
       "Libya                                 -0.159360       5.957746\n",
       "Rwanda                                 3.396994       5.545455\n",
       "Botswana                              -0.128571       3.857143\n",
       "Mauritania                             0.693966       3.537519\n",
       "Mali                                   1.729443       3.500000"
      ]
     },
     "execution_count": 457,
     "metadata": {},
     "output_type": "execute_result"
    }
   ],
   "source": [
    "# set ascending False to see biggest increases and True to see biggest decreases\n",
    "# afterwards go back to previous section to inspect further\n",
    "increases.sort_values(\"export change\", axis=0, ascending=False).head(10)"
   ]
  },
  {
   "cell_type": "markdown",
   "id": "df95a4a3",
   "metadata": {
    "pycharm": {
     "name": "#%% md\n"
    }
   },
   "source": [
    "From the data above we can find interesting countries, however it still takes a little work. \n",
    "Unfortunately since we are using percentages these can be very misleading, which needs more work. For insteance Kyrgyzstan has increades export 8 times, however since it export very very little to begin with this doesn't actually mean much.\n",
    "\n",
    "Countries such as Zambia and Malta have increases a lot in import and Venezuela has decreased a lot. \n",
    "Ukraine is the first interesting case for export decrease."
   ]
  },
  {
   "cell_type": "markdown",
   "id": "6287b295",
   "metadata": {
    "pycharm": {
     "name": "#%% md\n"
    }
   },
   "source": [
    "## Data on production"
   ]
  },
  {
   "cell_type": "markdown",
   "id": "ac22c49d",
   "metadata": {
    "pycharm": {
     "name": "#%% md\n"
    }
   },
   "source": [
    "Last years production numbers shows not only by countries, but also per income levels, regions and projects (IDA & IBRD)."
   ]
  },
  {
   "cell_type": "code",
   "execution_count": 25,
   "outputs": [
    {
     "data": {
      "text/plain": "<AxesSubplot:xlabel='Year'>"
     },
     "execution_count": 25,
     "metadata": {},
     "output_type": "execute_result"
    },
    {
     "data": {
      "text/plain": "<Figure size 720x360 with 1 Axes>",
      "image/png": "[encoded data removed]"
     },
     "metadata": {},
     "output_type": "display_data"
    }
   ],
   "source": [
    "fish_prod = pd.read_csv('../data/capture-fisheries-vs-aquaculture.csv')\n",
    "fish_prod = fish_prod.set_index('Year')\n",
    "fish_prod.query('Entity == \"Nigeria\" and Year >= 2010').plot()\n"
   ],
   "metadata": {
    "collapsed": false,
    "pycharm": {
     "name": "#%%\n"
    }
   }
  },
  {
   "cell_type": "code",
   "execution_count": 80,
   "id": "a5b0d649",
   "metadata": {
    "pycharm": {
     "name": "#%%\n"
    }
   },
   "outputs": [
    {
     "data": {
      "text/html": [
       "<div>\n",
       "<style scoped>\n",
       "    .dataframe tbody tr th:only-of-type {\n",
       "        vertical-align: middle;\n",
       "    }\n",
       "\n",
       "    .dataframe tbody tr th {\n",
       "        vertical-align: top;\n",
       "    }\n",
       "\n",
       "    .dataframe thead th {\n",
       "        text-align: right;\n",
       "    }\n",
       "</style>\n",
       "<table border=\"1\" class=\"dataframe\">\n",
       "  <thead>\n",
       "    <tr style=\"text-align: right;\">\n",
       "      <th></th>\n",
       "      <th>Entity</th>\n",
       "      <th>Code</th>\n",
       "      <th>Year</th>\n",
       "      <th>Capture fisheries production (metric tons)</th>\n",
       "    </tr>\n",
       "  </thead>\n",
       "  <tbody>\n",
       "    <tr>\n",
       "      <th>5971</th>\n",
       "      <td>IDA &amp; IBRD total</td>\n",
       "      <td>NaN</td>\n",
       "      <td>2018</td>\n",
       "      <td>7.490545e+07</td>\n",
       "    </tr>\n",
       "    <tr>\n",
       "      <th>7855</th>\n",
       "      <td>Low &amp; middle income</td>\n",
       "      <td>NaN</td>\n",
       "      <td>2018</td>\n",
       "      <td>7.192948e+07</td>\n",
       "    </tr>\n",
       "    <tr>\n",
       "      <th>8966</th>\n",
       "      <td>Middle income</td>\n",
       "      <td>NaN</td>\n",
       "      <td>2018</td>\n",
       "      <td>6.909678e+07</td>\n",
       "    </tr>\n",
       "    <tr>\n",
       "      <th>5912</th>\n",
       "      <td>IBRD only</td>\n",
       "      <td>NaN</td>\n",
       "      <td>2018</td>\n",
       "      <td>6.191940e+07</td>\n",
       "    </tr>\n",
       "    <tr>\n",
       "      <th>3531</th>\n",
       "      <td>East Asia &amp; Pacific</td>\n",
       "      <td>NaN</td>\n",
       "      <td>2018</td>\n",
       "      <td>4.069175e+07</td>\n",
       "    </tr>\n",
       "    <tr>\n",
       "      <th>...</th>\n",
       "      <td>...</td>\n",
       "      <td>...</td>\n",
       "      <td>...</td>\n",
       "      <td>...</td>\n",
       "    </tr>\n",
       "    <tr>\n",
       "      <th>5027</th>\n",
       "      <td>Gibraltar</td>\n",
       "      <td>GIB</td>\n",
       "      <td>2018</td>\n",
       "      <td>1.000000e+00</td>\n",
       "    </tr>\n",
       "    <tr>\n",
       "      <th>402</th>\n",
       "      <td>Andorra</td>\n",
       "      <td>AND</td>\n",
       "      <td>2018</td>\n",
       "      <td>0.000000e+00</td>\n",
       "    </tr>\n",
       "    <tr>\n",
       "      <th>11561</th>\n",
       "      <td>San Marino</td>\n",
       "      <td>SMR</td>\n",
       "      <td>2018</td>\n",
       "      <td>0.000000e+00</td>\n",
       "    </tr>\n",
       "    <tr>\n",
       "      <th>8022</th>\n",
       "      <td>Luxembourg</td>\n",
       "      <td>LUX</td>\n",
       "      <td>2018</td>\n",
       "      <td>0.000000e+00</td>\n",
       "    </tr>\n",
       "    <tr>\n",
       "      <th>7765</th>\n",
       "      <td>Liechtenstein</td>\n",
       "      <td>LIE</td>\n",
       "      <td>2018</td>\n",
       "      <td>0.000000e+00</td>\n",
       "    </tr>\n",
       "  </tbody>\n",
       "</table>\n",
       "<p>262 rows × 4 columns</p>\n",
       "</div>"
      ],
      "text/plain": [
       "                    Entity Code  Year  \\\n",
       "5971      IDA & IBRD total  NaN  2018   \n",
       "7855   Low & middle income  NaN  2018   \n",
       "8966         Middle income  NaN  2018   \n",
       "5912             IBRD only  NaN  2018   \n",
       "3531   East Asia & Pacific  NaN  2018   \n",
       "...                    ...  ...   ...   \n",
       "5027             Gibraltar  GIB  2018   \n",
       "402                Andorra  AND  2018   \n",
       "11561           San Marino  SMR  2018   \n",
       "8022            Luxembourg  LUX  2018   \n",
       "7765         Liechtenstein  LIE  2018   \n",
       "\n",
       "       Capture fisheries production (metric tons)  \n",
       "5971                                 7.490545e+07  \n",
       "7855                                 7.192948e+07  \n",
       "8966                                 6.909678e+07  \n",
       "5912                                 6.191940e+07  \n",
       "3531                                 4.069175e+07  \n",
       "...                                           ...  \n",
       "5027                                 1.000000e+00  \n",
       "402                                  0.000000e+00  \n",
       "11561                                0.000000e+00  \n",
       "8022                                 0.000000e+00  \n",
       "7765                                 0.000000e+00  \n",
       "\n",
       "[262 rows x 4 columns]"
      ]
     },
     "execution_count": 80,
     "metadata": {},
     "output_type": "execute_result"
    }
   ],
   "source": [
    "fish_prod_lastyear = fish_prod.loc[ fish_prod[\"Year\"] == 2018 ]\n",
    "fish_prod_lastyear = fish_prod_lastyear.sort_values(\"Capture fisheries production (metric tons)\", axis=0, ascending=False)\n",
    "fish_prod_lastyear"
   ]
  },
  {
   "cell_type": "markdown",
   "id": "34d15c2d",
   "metadata": {
    "pycharm": {
     "name": "#%% md\n"
    }
   },
   "source": [
    " Let's split them up next. Which can be done by checking for a country code. I though we might need `pip install pycountry`, but we don't."
   ]
  },
  {
   "cell_type": "code",
   "execution_count": 81,
   "id": "0f2473f7",
   "metadata": {
    "pycharm": {
     "name": "#%%\n"
    }
   },
   "outputs": [
    {
     "data": {
      "text/plain": [
       "Country(alpha_2='AW', alpha_3='ABW', flag='🇦🇼', name='Aruba', numeric='533')"
      ]
     },
     "execution_count": 81,
     "metadata": {},
     "output_type": "execute_result"
    }
   ],
   "source": [
    "list(pycountry.countries)[0]"
   ]
  },
  {
   "cell_type": "code",
   "execution_count": 82,
   "id": "8ee1cc4e",
   "metadata": {
    "pycharm": {
     "name": "#%%\n"
    }
   },
   "outputs": [],
   "source": [
    "fish_prod_lastyear_country = fish_prod_lastyear.loc[ fish_prod_lastyear[\"Code\"].notnull() ]\n",
    "fish_prod_lastyear_other = fish_prod_lastyear.loc[ fish_prod_lastyear[\"Code\"].isnull() ]"
   ]
  },
  {
   "cell_type": "code",
   "execution_count": 83,
   "id": "2f558f97",
   "metadata": {
    "pycharm": {
     "name": "#%%\n"
    }
   },
   "outputs": [
    {
     "data": {
      "text/html": [
       "<div>\n",
       "<style scoped>\n",
       "    .dataframe tbody tr th:only-of-type {\n",
       "        vertical-align: middle;\n",
       "    }\n",
       "\n",
       "    .dataframe tbody tr th {\n",
       "        vertical-align: top;\n",
       "    }\n",
       "\n",
       "    .dataframe thead th {\n",
       "        text-align: right;\n",
       "    }\n",
       "</style>\n",
       "<table border=\"1\" class=\"dataframe\">\n",
       "  <thead>\n",
       "    <tr style=\"text-align: right;\">\n",
       "      <th></th>\n",
       "      <th>Entity</th>\n",
       "      <th>Code</th>\n",
       "      <th>Year</th>\n",
       "      <th>Capture fisheries production (metric tons)</th>\n",
       "    </tr>\n",
       "  </thead>\n",
       "  <tbody>\n",
       "    <tr>\n",
       "      <th>2644</th>\n",
       "      <td>China</td>\n",
       "      <td>CHN</td>\n",
       "      <td>2018</td>\n",
       "      <td>14831310.0</td>\n",
       "    </tr>\n",
       "    <tr>\n",
       "      <th>6325</th>\n",
       "      <td>Indonesia</td>\n",
       "      <td>IDN</td>\n",
       "      <td>2018</td>\n",
       "      <td>7270238.0</td>\n",
       "    </tr>\n",
       "    <tr>\n",
       "      <th>10702</th>\n",
       "      <td>Peru</td>\n",
       "      <td>PER</td>\n",
       "      <td>2018</td>\n",
       "      <td>7208409.5</td>\n",
       "    </tr>\n",
       "    <tr>\n",
       "      <th>13897</th>\n",
       "      <td>United States</td>\n",
       "      <td>USA</td>\n",
       "      <td>2018</td>\n",
       "      <td>5353303.0</td>\n",
       "    </tr>\n",
       "    <tr>\n",
       "      <th>6266</th>\n",
       "      <td>India</td>\n",
       "      <td>IND</td>\n",
       "      <td>2018</td>\n",
       "      <td>5342888.0</td>\n",
       "    </tr>\n",
       "    <tr>\n",
       "      <th>...</th>\n",
       "      <td>...</td>\n",
       "      <td>...</td>\n",
       "      <td>...</td>\n",
       "      <td>...</td>\n",
       "    </tr>\n",
       "    <tr>\n",
       "      <th>5027</th>\n",
       "      <td>Gibraltar</td>\n",
       "      <td>GIB</td>\n",
       "      <td>2018</td>\n",
       "      <td>1.0</td>\n",
       "    </tr>\n",
       "    <tr>\n",
       "      <th>402</th>\n",
       "      <td>Andorra</td>\n",
       "      <td>AND</td>\n",
       "      <td>2018</td>\n",
       "      <td>0.0</td>\n",
       "    </tr>\n",
       "    <tr>\n",
       "      <th>11561</th>\n",
       "      <td>San Marino</td>\n",
       "      <td>SMR</td>\n",
       "      <td>2018</td>\n",
       "      <td>0.0</td>\n",
       "    </tr>\n",
       "    <tr>\n",
       "      <th>8022</th>\n",
       "      <td>Luxembourg</td>\n",
       "      <td>LUX</td>\n",
       "      <td>2018</td>\n",
       "      <td>0.0</td>\n",
       "    </tr>\n",
       "    <tr>\n",
       "      <th>7765</th>\n",
       "      <td>Liechtenstein</td>\n",
       "      <td>LIE</td>\n",
       "      <td>2018</td>\n",
       "      <td>0.0</td>\n",
       "    </tr>\n",
       "  </tbody>\n",
       "</table>\n",
       "<p>215 rows × 4 columns</p>\n",
       "</div>"
      ],
      "text/plain": [
       "              Entity Code  Year  Capture fisheries production (metric tons)\n",
       "2644           China  CHN  2018                                  14831310.0\n",
       "6325       Indonesia  IDN  2018                                   7270238.0\n",
       "10702           Peru  PER  2018                                   7208409.5\n",
       "13897  United States  USA  2018                                   5353303.0\n",
       "6266           India  IND  2018                                   5342888.0\n",
       "...              ...  ...   ...                                         ...\n",
       "5027       Gibraltar  GIB  2018                                         1.0\n",
       "402          Andorra  AND  2018                                         0.0\n",
       "11561     San Marino  SMR  2018                                         0.0\n",
       "8022      Luxembourg  LUX  2018                                         0.0\n",
       "7765   Liechtenstein  LIE  2018                                         0.0\n",
       "\n",
       "[215 rows x 4 columns]"
      ]
     },
     "execution_count": 83,
     "metadata": {},
     "output_type": "execute_result"
    }
   ],
   "source": [
    "fish_prod_lastyear_country"
   ]
  },
  {
   "cell_type": "code",
   "execution_count": 84,
   "id": "3a1ba107",
   "metadata": {
    "pycharm": {
     "name": "#%%\n"
    }
   },
   "outputs": [
    {
     "data": {
      "text/html": [
       "<div>\n",
       "<style scoped>\n",
       "    .dataframe tbody tr th:only-of-type {\n",
       "        vertical-align: middle;\n",
       "    }\n",
       "\n",
       "    .dataframe tbody tr th {\n",
       "        vertical-align: top;\n",
       "    }\n",
       "\n",
       "    .dataframe thead th {\n",
       "        text-align: right;\n",
       "    }\n",
       "</style>\n",
       "<table border=\"1\" class=\"dataframe\">\n",
       "  <thead>\n",
       "    <tr style=\"text-align: right;\">\n",
       "      <th></th>\n",
       "      <th>Entity</th>\n",
       "      <th>Code</th>\n",
       "      <th>Year</th>\n",
       "      <th>Capture fisheries production (metric tons)</th>\n",
       "    </tr>\n",
       "  </thead>\n",
       "  <tbody>\n",
       "    <tr>\n",
       "      <th>5971</th>\n",
       "      <td>IDA &amp; IBRD total</td>\n",
       "      <td>NaN</td>\n",
       "      <td>2018</td>\n",
       "      <td>7.490545e+07</td>\n",
       "    </tr>\n",
       "    <tr>\n",
       "      <th>7855</th>\n",
       "      <td>Low &amp; middle income</td>\n",
       "      <td>NaN</td>\n",
       "      <td>2018</td>\n",
       "      <td>7.192948e+07</td>\n",
       "    </tr>\n",
       "    <tr>\n",
       "      <th>8966</th>\n",
       "      <td>Middle income</td>\n",
       "      <td>NaN</td>\n",
       "      <td>2018</td>\n",
       "      <td>6.909678e+07</td>\n",
       "    </tr>\n",
       "    <tr>\n",
       "      <th>5912</th>\n",
       "      <td>IBRD only</td>\n",
       "      <td>NaN</td>\n",
       "      <td>2018</td>\n",
       "      <td>6.191940e+07</td>\n",
       "    </tr>\n",
       "    <tr>\n",
       "      <th>3531</th>\n",
       "      <td>East Asia &amp; Pacific</td>\n",
       "      <td>NaN</td>\n",
       "      <td>2018</td>\n",
       "      <td>4.069175e+07</td>\n",
       "    </tr>\n",
       "    <tr>\n",
       "      <th>14015</th>\n",
       "      <td>Upper middle income</td>\n",
       "      <td>NaN</td>\n",
       "      <td>2018</td>\n",
       "      <td>3.690120e+07</td>\n",
       "    </tr>\n",
       "    <tr>\n",
       "      <th>3472</th>\n",
       "      <td>Early-demographic dividend</td>\n",
       "      <td>NaN</td>\n",
       "      <td>2018</td>\n",
       "      <td>3.570830e+07</td>\n",
       "    </tr>\n",
       "    <tr>\n",
       "      <th>7213</th>\n",
       "      <td>Late-demographic dividend</td>\n",
       "      <td>NaN</td>\n",
       "      <td>2018</td>\n",
       "      <td>3.527528e+07</td>\n",
       "    </tr>\n",
       "    <tr>\n",
       "      <th>3649</th>\n",
       "      <td>East Asia &amp; Pacific (excluding high income)</td>\n",
       "      <td>NaN</td>\n",
       "      <td>2018</td>\n",
       "      <td>3.452770e+07</td>\n",
       "    </tr>\n",
       "    <tr>\n",
       "      <th>3590</th>\n",
       "      <td>East Asia &amp; Pacific (IDA &amp; IBRD)</td>\n",
       "      <td>NaN</td>\n",
       "      <td>2018</td>\n",
       "      <td>3.431727e+07</td>\n",
       "    </tr>\n",
       "    <tr>\n",
       "      <th>7973</th>\n",
       "      <td>Lower middle income</td>\n",
       "      <td>NaN</td>\n",
       "      <td>2018</td>\n",
       "      <td>3.219558e+07</td>\n",
       "    </tr>\n",
       "    <tr>\n",
       "      <th>5676</th>\n",
       "      <td>High income</td>\n",
       "      <td>NaN</td>\n",
       "      <td>2018</td>\n",
       "      <td>2.625360e+07</td>\n",
       "    </tr>\n",
       "    <tr>\n",
       "      <th>10147</th>\n",
       "      <td>OECD members</td>\n",
       "      <td>NaN</td>\n",
       "      <td>2018</td>\n",
       "      <td>2.533079e+07</td>\n",
       "    </tr>\n",
       "    <tr>\n",
       "      <th>10938</th>\n",
       "      <td>Post-demographic dividend</td>\n",
       "      <td>NaN</td>\n",
       "      <td>2018</td>\n",
       "      <td>1.911689e+07</td>\n",
       "    </tr>\n",
       "    <tr>\n",
       "      <th>4170</th>\n",
       "      <td>Europe &amp; Central Asia</td>\n",
       "      <td>NaN</td>\n",
       "      <td>2018</td>\n",
       "      <td>1.629405e+07</td>\n",
       "    </tr>\n",
       "    <tr>\n",
       "      <th>7272</th>\n",
       "      <td>Latin America &amp; Caribbean</td>\n",
       "      <td>NaN</td>\n",
       "      <td>2018</td>\n",
       "      <td>1.480914e+07</td>\n",
       "    </tr>\n",
       "    <tr>\n",
       "      <th>7331</th>\n",
       "      <td>Latin America &amp; Caribbean (IDA &amp; IBRD)</td>\n",
       "      <td>NaN</td>\n",
       "      <td>2018</td>\n",
       "      <td>1.472990e+07</td>\n",
       "    </tr>\n",
       "    <tr>\n",
       "      <th>6148</th>\n",
       "      <td>IDA total</td>\n",
       "      <td>NaN</td>\n",
       "      <td>2018</td>\n",
       "      <td>1.298605e+07</td>\n",
       "    </tr>\n",
       "    <tr>\n",
       "      <th>7390</th>\n",
       "      <td>Latin America &amp; Caribbean (excluding high income)</td>\n",
       "      <td>NaN</td>\n",
       "      <td>2018</td>\n",
       "      <td>1.197918e+07</td>\n",
       "    </tr>\n",
       "    <tr>\n",
       "      <th>6089</th>\n",
       "      <td>IDA only</td>\n",
       "      <td>NaN</td>\n",
       "      <td>2018</td>\n",
       "      <td>1.060288e+07</td>\n",
       "    </tr>\n",
       "    <tr>\n",
       "      <th>7480</th>\n",
       "      <td>Least developed countries: UN classification</td>\n",
       "      <td>NaN</td>\n",
       "      <td>2018</td>\n",
       "      <td>1.007305e+07</td>\n",
       "    </tr>\n",
       "    <tr>\n",
       "      <th>12343</th>\n",
       "      <td>South Asia (IDA &amp; IBRD)</td>\n",
       "      <td>NaN</td>\n",
       "      <td>2018</td>\n",
       "      <td>8.404608e+06</td>\n",
       "    </tr>\n",
       "    <tr>\n",
       "      <th>12284</th>\n",
       "      <td>South Asia</td>\n",
       "      <td>NaN</td>\n",
       "      <td>2018</td>\n",
       "      <td>8.404608e+06</td>\n",
       "    </tr>\n",
       "    <tr>\n",
       "      <th>12645</th>\n",
       "      <td>Sub-Saharan Africa (IDA &amp; IBRD)</td>\n",
       "      <td>NaN</td>\n",
       "      <td>2018</td>\n",
       "      <td>8.293956e+06</td>\n",
       "    </tr>\n",
       "    <tr>\n",
       "      <th>12586</th>\n",
       "      <td>Sub-Saharan Africa</td>\n",
       "      <td>NaN</td>\n",
       "      <td>2018</td>\n",
       "      <td>8.293956e+06</td>\n",
       "    </tr>\n",
       "    <tr>\n",
       "      <th>12704</th>\n",
       "      <td>Sub-Saharan Africa (excluding high income)</td>\n",
       "      <td>NaN</td>\n",
       "      <td>2018</td>\n",
       "      <td>8.148342e+06</td>\n",
       "    </tr>\n",
       "    <tr>\n",
       "      <th>10997</th>\n",
       "      <td>Pre-demographic dividend</td>\n",
       "      <td>NaN</td>\n",
       "      <td>2018</td>\n",
       "      <td>6.399883e+06</td>\n",
       "    </tr>\n",
       "    <tr>\n",
       "      <th>9884</th>\n",
       "      <td>North America</td>\n",
       "      <td>NaN</td>\n",
       "      <td>2018</td>\n",
       "      <td>6.252438e+06</td>\n",
       "    </tr>\n",
       "    <tr>\n",
       "      <th>4229</th>\n",
       "      <td>Europe &amp; Central Asia (IDA &amp; IBRD)</td>\n",
       "      <td>NaN</td>\n",
       "      <td>2018</td>\n",
       "      <td>6.139055e+06</td>\n",
       "    </tr>\n",
       "    <tr>\n",
       "      <th>4288</th>\n",
       "      <td>Europe &amp; Central Asia (excluding high income)</td>\n",
       "      <td>NaN</td>\n",
       "      <td>2018</td>\n",
       "      <td>5.845794e+06</td>\n",
       "    </tr>\n",
       "    <tr>\n",
       "      <th>4583</th>\n",
       "      <td>Fragile and conflict affected situations</td>\n",
       "      <td>NaN</td>\n",
       "      <td>2018</td>\n",
       "      <td>5.792833e+06</td>\n",
       "    </tr>\n",
       "    <tr>\n",
       "      <th>5617</th>\n",
       "      <td>Heavily indebted poor countries (HIPC)</td>\n",
       "      <td>NaN</td>\n",
       "      <td>2018</td>\n",
       "      <td>5.508567e+06</td>\n",
       "    </tr>\n",
       "    <tr>\n",
       "      <th>4347</th>\n",
       "      <td>European Union</td>\n",
       "      <td>NaN</td>\n",
       "      <td>2018</td>\n",
       "      <td>4.789539e+06</td>\n",
       "    </tr>\n",
       "    <tr>\n",
       "      <th>176</th>\n",
       "      <td>Africa Western and Central</td>\n",
       "      <td>NaN</td>\n",
       "      <td>2018</td>\n",
       "      <td>4.178921e+06</td>\n",
       "    </tr>\n",
       "    <tr>\n",
       "      <th>117</th>\n",
       "      <td>Africa Eastern and Southern</td>\n",
       "      <td>NaN</td>\n",
       "      <td>2018</td>\n",
       "      <td>4.115035e+06</td>\n",
       "    </tr>\n",
       "    <tr>\n",
       "      <th>579</th>\n",
       "      <td>Arab World</td>\n",
       "      <td>NaN</td>\n",
       "      <td>2018</td>\n",
       "      <td>3.974589e+06</td>\n",
       "    </tr>\n",
       "    <tr>\n",
       "      <th>8789</th>\n",
       "      <td>Middle East &amp; North Africa</td>\n",
       "      <td>NaN</td>\n",
       "      <td>2018</td>\n",
       "      <td>3.756411e+06</td>\n",
       "    </tr>\n",
       "    <tr>\n",
       "      <th>4111</th>\n",
       "      <td>Euro area</td>\n",
       "      <td>NaN</td>\n",
       "      <td>2018</td>\n",
       "      <td>3.456669e+06</td>\n",
       "    </tr>\n",
       "    <tr>\n",
       "      <th>12048</th>\n",
       "      <td>Small states</td>\n",
       "      <td>NaN</td>\n",
       "      <td>2018</td>\n",
       "      <td>3.312277e+06</td>\n",
       "    </tr>\n",
       "    <tr>\n",
       "      <th>8907</th>\n",
       "      <td>Middle East &amp; North Africa (excluding high inc...</td>\n",
       "      <td>NaN</td>\n",
       "      <td>2018</td>\n",
       "      <td>3.023863e+06</td>\n",
       "    </tr>\n",
       "    <tr>\n",
       "      <th>8848</th>\n",
       "      <td>Middle East &amp; North Africa (IDA &amp; IBRD)</td>\n",
       "      <td>NaN</td>\n",
       "      <td>2018</td>\n",
       "      <td>3.020662e+06</td>\n",
       "    </tr>\n",
       "    <tr>\n",
       "      <th>7914</th>\n",
       "      <td>Low income</td>\n",
       "      <td>NaN</td>\n",
       "      <td>2018</td>\n",
       "      <td>2.832704e+06</td>\n",
       "    </tr>\n",
       "    <tr>\n",
       "      <th>10265</th>\n",
       "      <td>Other small states</td>\n",
       "      <td>NaN</td>\n",
       "      <td>2018</td>\n",
       "      <td>2.398280e+06</td>\n",
       "    </tr>\n",
       "    <tr>\n",
       "      <th>6030</th>\n",
       "      <td>IDA blend</td>\n",
       "      <td>NaN</td>\n",
       "      <td>2018</td>\n",
       "      <td>2.383167e+06</td>\n",
       "    </tr>\n",
       "    <tr>\n",
       "      <th>2410</th>\n",
       "      <td>Central Europe and the Baltics</td>\n",
       "      <td>NaN</td>\n",
       "      <td>2018</td>\n",
       "      <td>6.214361e+05</td>\n",
       "    </tr>\n",
       "    <tr>\n",
       "      <th>10324</th>\n",
       "      <td>Pacific island small states</td>\n",
       "      <td>NaN</td>\n",
       "      <td>2018</td>\n",
       "      <td>5.450430e+05</td>\n",
       "    </tr>\n",
       "    <tr>\n",
       "      <th>2233</th>\n",
       "      <td>Caribbean Small States</td>\n",
       "      <td>NaN</td>\n",
       "      <td>2018</td>\n",
       "      <td>3.689547e+05</td>\n",
       "    </tr>\n",
       "  </tbody>\n",
       "</table>\n",
       "</div>"
      ],
      "text/plain": [
       "                                                  Entity Code  Year  \\\n",
       "5971                                    IDA & IBRD total  NaN  2018   \n",
       "7855                                 Low & middle income  NaN  2018   \n",
       "8966                                       Middle income  NaN  2018   \n",
       "5912                                           IBRD only  NaN  2018   \n",
       "3531                                 East Asia & Pacific  NaN  2018   \n",
       "14015                                Upper middle income  NaN  2018   \n",
       "3472                          Early-demographic dividend  NaN  2018   \n",
       "7213                           Late-demographic dividend  NaN  2018   \n",
       "3649         East Asia & Pacific (excluding high income)  NaN  2018   \n",
       "3590                    East Asia & Pacific (IDA & IBRD)  NaN  2018   \n",
       "7973                                 Lower middle income  NaN  2018   \n",
       "5676                                         High income  NaN  2018   \n",
       "10147                                       OECD members  NaN  2018   \n",
       "10938                          Post-demographic dividend  NaN  2018   \n",
       "4170                               Europe & Central Asia  NaN  2018   \n",
       "7272                           Latin America & Caribbean  NaN  2018   \n",
       "7331              Latin America & Caribbean (IDA & IBRD)  NaN  2018   \n",
       "6148                                           IDA total  NaN  2018   \n",
       "7390   Latin America & Caribbean (excluding high income)  NaN  2018   \n",
       "6089                                            IDA only  NaN  2018   \n",
       "7480        Least developed countries: UN classification  NaN  2018   \n",
       "12343                            South Asia (IDA & IBRD)  NaN  2018   \n",
       "12284                                         South Asia  NaN  2018   \n",
       "12645                    Sub-Saharan Africa (IDA & IBRD)  NaN  2018   \n",
       "12586                                 Sub-Saharan Africa  NaN  2018   \n",
       "12704         Sub-Saharan Africa (excluding high income)  NaN  2018   \n",
       "10997                           Pre-demographic dividend  NaN  2018   \n",
       "9884                                       North America  NaN  2018   \n",
       "4229                  Europe & Central Asia (IDA & IBRD)  NaN  2018   \n",
       "4288       Europe & Central Asia (excluding high income)  NaN  2018   \n",
       "4583            Fragile and conflict affected situations  NaN  2018   \n",
       "5617              Heavily indebted poor countries (HIPC)  NaN  2018   \n",
       "4347                                      European Union  NaN  2018   \n",
       "176                           Africa Western and Central  NaN  2018   \n",
       "117                          Africa Eastern and Southern  NaN  2018   \n",
       "579                                           Arab World  NaN  2018   \n",
       "8789                          Middle East & North Africa  NaN  2018   \n",
       "4111                                           Euro area  NaN  2018   \n",
       "12048                                       Small states  NaN  2018   \n",
       "8907   Middle East & North Africa (excluding high inc...  NaN  2018   \n",
       "8848             Middle East & North Africa (IDA & IBRD)  NaN  2018   \n",
       "7914                                          Low income  NaN  2018   \n",
       "10265                                 Other small states  NaN  2018   \n",
       "6030                                           IDA blend  NaN  2018   \n",
       "2410                      Central Europe and the Baltics  NaN  2018   \n",
       "10324                        Pacific island small states  NaN  2018   \n",
       "2233                              Caribbean Small States  NaN  2018   \n",
       "\n",
       "       Capture fisheries production (metric tons)  \n",
       "5971                                 7.490545e+07  \n",
       "7855                                 7.192948e+07  \n",
       "8966                                 6.909678e+07  \n",
       "5912                                 6.191940e+07  \n",
       "3531                                 4.069175e+07  \n",
       "14015                                3.690120e+07  \n",
       "3472                                 3.570830e+07  \n",
       "7213                                 3.527528e+07  \n",
       "3649                                 3.452770e+07  \n",
       "3590                                 3.431727e+07  \n",
       "7973                                 3.219558e+07  \n",
       "5676                                 2.625360e+07  \n",
       "10147                                2.533079e+07  \n",
       "10938                                1.911689e+07  \n",
       "4170                                 1.629405e+07  \n",
       "7272                                 1.480914e+07  \n",
       "7331                                 1.472990e+07  \n",
       "6148                                 1.298605e+07  \n",
       "7390                                 1.197918e+07  \n",
       "6089                                 1.060288e+07  \n",
       "7480                                 1.007305e+07  \n",
       "12343                                8.404608e+06  \n",
       "12284                                8.404608e+06  \n",
       "12645                                8.293956e+06  \n",
       "12586                                8.293956e+06  \n",
       "12704                                8.148342e+06  \n",
       "10997                                6.399883e+06  \n",
       "9884                                 6.252438e+06  \n",
       "4229                                 6.139055e+06  \n",
       "4288                                 5.845794e+06  \n",
       "4583                                 5.792833e+06  \n",
       "5617                                 5.508567e+06  \n",
       "4347                                 4.789539e+06  \n",
       "176                                  4.178921e+06  \n",
       "117                                  4.115035e+06  \n",
       "579                                  3.974589e+06  \n",
       "8789                                 3.756411e+06  \n",
       "4111                                 3.456669e+06  \n",
       "12048                                3.312277e+06  \n",
       "8907                                 3.023863e+06  \n",
       "8848                                 3.020662e+06  \n",
       "7914                                 2.832704e+06  \n",
       "10265                                2.398280e+06  \n",
       "6030                                 2.383167e+06  \n",
       "2410                                 6.214361e+05  \n",
       "10324                                5.450430e+05  \n",
       "2233                                 3.689547e+05  "
      ]
     },
     "execution_count": 84,
     "metadata": {},
     "output_type": "execute_result"
    }
   ],
   "source": [
    "fish_prod_lastyear_other"
   ]
  },
  {
   "cell_type": "code",
   "execution_count": 89,
   "id": "1b76a0f6",
   "metadata": {
    "scrolled": false,
    "pycharm": {
     "name": "#%%\n"
    }
   },
   "outputs": [
    {
     "data": {
      "image/png": "[encoded data removed]",
      "text/plain": [
       "<Figure size 500x825.581 with 1 Axes>"
      ]
     },
     "metadata": {},
     "output_type": "display_data"
    }
   ],
   "source": [
    "# show only the top N countries (set 215 for all)\n",
    "N = 10\n",
    "\n",
    "plt.rcParams['figure.figsize'] = [5, 5 + (N*70/215)]\n",
    "\n",
    "fig = plt.figure( )\n",
    "\n",
    "y_axis = fish_prod_lastyear_country[\"Entity\"][0:N]\n",
    "x_axis = fish_prod_lastyear_country[\"Capture fisheries production (metric tons)\"][0:N]\n",
    "plt.barh(y_axis, x_axis, height=0.8)\n",
    "\n",
    "\n",
    "plt.xlabel( \"Metric tons\" )\n",
    "plt.ylabel( \"Country\" )\n",
    "plt.title( \"\" , fontdict = {'fontsize': 14} )\n",
    "\n",
    "# to show highest at the top\n",
    "plt.gca().invert_yaxis()\n",
    "\n",
    "plt.show()"
   ]
  },
  {
   "cell_type": "markdown",
   "id": "a9a9c0b8",
   "metadata": {
    "pycharm": {
     "name": "#%% md\n"
    }
   },
   "source": [
    "Yufan was already working on this so nevermind. Although she should filter out the regions by sorting on \"Code\" and maybe look at the projects included in the figures."
   ]
  },
  {
   "cell_type": "code",
   "execution_count": null,
   "id": "4dc5b72b",
   "metadata": {
    "pycharm": {
     "name": "#%%\n"
    }
   },
   "outputs": [],
   "source": []
  }
 ],
 "metadata": {
  "hide_input": false,
  "kernelspec": {
   "display_name": "Python 3",
   "language": "python",
   "name": "python3"
  },
  "language_info": {
   "codemirror_mode": {
    "name": "ipython",
    "version": 3
   },
   "file_extension": ".py",
   "mimetype": "text/x-python",
   "name": "python",
   "nbconvert_exporter": "python",
   "pygments_lexer": "ipython3",
   "version": "3.8.8"
  },
  "varInspector": {
   "cols": {
    "lenName": 16,
    "lenType": 16,
    "lenVar": 40
   },
   "kernels_config": {
    "python": {
     "delete_cmd_postfix": "",
     "delete_cmd_prefix": "del ",
     "library": "var_list.py",
     "varRefreshCmd": "print(var_dic_list())"
    },
    "r": {
     "delete_cmd_postfix": ") ",
     "delete_cmd_prefix": "rm(",
     "library": "var_list.r",
     "varRefreshCmd": "cat(var_dic_list()) "
    }
   },
   "types_to_exclude": [
    "module",
    "function",
    "builtin_function_or_method",
    "instance",
    "_Feature"
   ],
   "window_display": false
  }
 },
 "nbformat": 4,
 "nbformat_minor": 5
}