{
 "cells": [
  {
   "cell_type": "markdown",
   "metadata": {
    "pycharm": {
     "name": "#%% md\n",
     "is_executing": true
    }
   },
   "source": [
    "# Choropleth maps"
   ],
   "outputs": []
  },
  {
   "cell_type": "code",
   "execution_count": null,
   "metadata": {
    "ExecuteTime": {
     "end_time": "2022-04-19T14:47:24.124288Z",
     "start_time": "2022-04-19T14:47:23.023107Z"
    },
    "pycharm": {
     "name": "#%%\n"
    }
   },
   "outputs": [],
   "source": [
    "from urllib.request import urlopen\n",
    "import json\n",
    "import pandas as pd\n",
    "import plotly.express as px\n",
    "from plotly.offline import init_notebook_mode, iplot\n",
    "\n",
    "init_notebook_mode(connected=True)"
   ]
  },
  {
   "cell_type": "code",
   "execution_count": null,
   "metadata": {
    "ExecuteTime": {
     "end_time": "2022-04-19T14:47:24.155288Z",
     "start_time": "2022-04-19T14:47:24.125788Z"
    },
    "pycharm": {
     "name": "#%%\n"
    }
   },
   "outputs": [],
   "source": [
    "with open('../data/countries-simplified.json') as response:\n",
    "    countries = json.load(response)\n",
    "\n",
    "countries['features'][0]"
   ]
  },
  {
   "cell_type": "code",
   "execution_count": null,
   "metadata": {
    "ExecuteTime": {
     "end_time": "2022-04-19T14:47:24.170787Z",
     "start_time": "2022-04-19T14:47:24.156788Z"
    },
    "pycharm": {
     "name": "#%%\n"
    }
   },
   "outputs": [],
   "source": [
    "df = pd.read_csv(\"../data/fish-and-seafood-consumption-per-capita.csv\")\n",
    "\n",
    "df = df.rename({'Fish, Seafood- Food supply quantity (kg/capita/yr) (FAO, 2020)': 'consumption',\n",
    "               'Entity': 'country'}, axis=1)"
   ]
  },
  {
   "cell_type": "code",
   "execution_count": null,
   "metadata": {
    "ExecuteTime": {
     "end_time": "2022-04-19T14:47:24.186288Z",
     "start_time": "2022-04-19T14:47:24.171788Z"
    },
    "pycharm": {
     "name": "#%%\n"
    }
   },
   "outputs": [],
   "source": [
    "range_color = (0, df.consumption.quantile(0.99))"
   ]
  },
  {
   "cell_type": "code",
   "execution_count": null,
   "metadata": {
    "ExecuteTime": {
     "end_time": "2022-04-19T14:47:24.201787Z",
     "start_time": "2022-04-19T14:47:24.187288Z"
    },
    "pycharm": {
     "name": "#%%\n"
    }
   },
   "outputs": [],
   "source": [
    "map_args = dict(\n",
    "    geojson=countries,\n",
    "    featureidkey='properties.ISO_A3',\n",
    "    locations=\"Code\",\n",
    "    color=\"consumption\", # lifeExp is a column of gapminder\n",
    "    hover_name=\"country\", # column to add to hover information\n",
    "    animation_frame='Year',\n",
    "    mapbox_style=\"carto-positron\",\n",
    "    color_continuous_scale='Plasma',\n",
    "    range_color=range_color,\n",
    "    height=600\n",
    ")"
   ]
  },
  {
   "cell_type": "code",
   "execution_count": null,
   "metadata": {
    "ExecuteTime": {
     "end_time": "2022-04-19T14:47:38.177500Z",
     "start_time": "2022-04-19T14:47:24.202791Z"
    },
    "pycharm": {
     "name": "#%%\n"
    },
    "scrolled": false
   },
   "outputs": [],
   "source": [
    "fig = px.choropleth_mapbox(df,\n",
    "                           zoom=0,\n",
    "                           **map_args\n",
    ")\n",
    "\n",
    "fig"
   ]
  },
  {
   "cell_type": "code",
   "execution_count": null,
   "metadata": {
    "ExecuteTime": {
     "end_time": "2022-04-19T14:47:38.210500Z",
     "start_time": "2022-04-19T14:47:38.178500Z"
    },
    "pycharm": {
     "name": "#%%\n"
    }
   },
   "outputs": [],
   "source": [
    "code_mapping = df[['country', 'Code']].drop_duplicates('Code').set_index('Code').to_dict('index')\n",
    "\n",
    "df_cons_agg = df.groupby('Code')['consumption'].mean().reset_index()\n",
    "df_cons_agg['country'] = df_cons_agg.apply(lambda x: code_mapping[x['Code']]['country'], axis=1)\n",
    "\n",
    "df_cons_agg.sort_values('consumption', ascending=False).head(20)"
   ]
  },
  {
   "cell_type": "code",
   "execution_count": null,
   "metadata": {
    "ExecuteTime": {
     "end_time": "2022-04-19T14:47:48.564499Z",
     "start_time": "2022-04-19T14:47:38.213000Z"
    },
    "pycharm": {
     "name": "#%%\n"
    }
   },
   "outputs": [],
   "source": [
    "fig = px.choropleth_mapbox(df.query('country == \"Maldives\"'),\n",
    "                           center={'lon': 73.5093, 'lat': 4.1755},\n",
    "                           zoom=8,\n",
    "                           **map_args\n",
    ")\n",
    "\n",
    "fig"
   ]
  }
 ],
 "metadata": {
  "kernelspec": {
   "display_name": "Python 3",
   "language": "python",
   "name": "python3"
  },
  "language_info": {
   "codemirror_mode": {
    "name": "ipython",
    "version": 3
   },
   "file_extension": ".py",
   "mimetype": "text/x-python",
   "name": "python",
   "nbconvert_exporter": "python",
   "pygments_lexer": "ipython3",
   "version": "3.8.8"
  },
  "toc": {
   "base_numbering": 1,
   "nav_menu": {},
   "number_sections": true,
   "sideBar": true,
   "skip_h1_title": false,
   "title_cell": "Table of Contents",
   "title_sidebar": "Contents",
   "toc_cell": false,
   "toc_position": {},
   "toc_section_display": true,
   "toc_window_display": false
  }
 },
 "nbformat": 4,
 "nbformat_minor": 1
}