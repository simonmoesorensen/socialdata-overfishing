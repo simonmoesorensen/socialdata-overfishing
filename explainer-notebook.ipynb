{
 "cells": [
  {
   "cell_type": "markdown",
   "metadata": {
    "pycharm": {
     "name": "#%% md\n"
    }
   },
   "source": [
    "# Motivation\n",
    "\n",
    "This section will cover the motivation and idea behind choosing the topic of overfishing and explain which datasets are used and why.\n"
   ]
  },
  {
   "cell_type": "markdown",
   "metadata": {
    "pycharm": {
     "name": "#%% md\n"
    }
   },
   "source": [
    "## Problem statement (Goal for end user)\n",
    "\n",
    "People are already aware of the general story on overfishing, even Netflix has jumped the bandwagon and produced documentaries such as _Seaspiracy_. However, such documentaries seem to mislead the audience [ref](https://www.theguardian.com/environment/2021/mar/31/seaspiracy-netflix-documentary-accused-of-misrepresentation-by-participants) due to over-dramatization. Moreover, most people think of fish as bad for the environment and our world sustainability goals, so they tend to avoid them all together, for example by becoming a vegetarian or vegan.\n",
    "\n",
    "\n",
    "> What we aim to show, is a sound and objective analysis of unsustainable fishing activities. Providing insights into the best and worst ways of the fishing industry by analysing two particularly interesting countries: China and Norway. Finally, using our analysis, we discuss whether eating fish is a viable option for steady protein supply.\n",
    "\n"
   ]
  },
  {
   "cell_type": "markdown",
   "metadata": {
    "pycharm": {
     "name": "#%% md\n"
    }
   },
   "source": [
    "## Datasets\n",
    "\n",
    "In terms of datasets, we use a wide variety of different datasets to compose our story.\n",
    "\n",
    "### FAO\n",
    "\n",
    "The **main** source of data is from _Food and Agriculture Organization of the United Nations_ at the url [https://www.fao.org/home/en](https://www.fao.org/home/en). The organization provides access to a massive database with anything related to food and agricultural data in the world.\n",
    "Our requirements for the dataset was to have data for most countries (and further on, only Norway and China), some temporal information (years) and come from a credible source.\n",
    "This yielded the datasets from FAO:\n",
    "\n",
    "- Fishing industry (import, export, supply, production)\n",
    "- Fish and seafood consumption per capita\n",
    "- Sources of consumed protein\n",
    "- Fishing methods\n",
    "\n",
    "### Additional sources\n",
    "\n",
    "Another source of data was the world bank [https://datacatalog.worldbank.org/search/dataset/0037712](https://datacatalog.worldbank.org/search/dataset/0037712)\n",
    "This gave access to the trend and development of open-ocean fishing versus aquacultural fishing.\n",
    "\n",
    "Additionally, we were able to get information on the GHG (Greenhouse Gas) emission of aquacultural fishing from [https://www.nature.com/articles/s41586-021-03889-2](https://www.nature.com/articles/s41586-021-03889-2)\n",
    "### Descriptive data\n",
    "\n",
    "Finally, we also made use of other third-party datasets that made it easier for us to gather information on a country's GDP and population each year.\n",
    "\n",
    "In order to join this descriptive data with the main datasets, we had to find a common connection between them. Going by just the country name is risky as some countries go by more than one name and others simply have different spellings. Therefore, we used the country ISO-3 code that is _the_ standard for identifying countries. By merging this mapping onto any dataset using the country name (and making a few manual changes). We were able to get an ISO-3 standardized country code for each dataset that needed to be merged with other data.\n",
    "\n",
    "Another addition to the descriptive data is the use of a **geojson** file that is used for the choropleth maps. However, the original file was too complex (too many polygons) and therefore took a lot of time to plot and render. We therefore decided to simplify the geojson using an online tool such that we ensure that we maintain interpretability and a high enough resolution for the polygons to overlap correctly with the country borders."
   ]
  },
  {
   "cell_type": "markdown",
   "metadata": {
    "pycharm": {
     "name": "#%% md\n"
    }
   },
   "source": [
    "## Why did we choose these datasets\n",
    "\n",
    "Choosing datasets for this project was not easy as it's difficult to find data that covers information on specific fishing related topics such as fishing gear, emission of aquacultural fish, protein supply for each country and so on. Even more so, it was painful to find data with a temporal aspect over multiple years. This resulted in us fetching data from many different sources after searching through a large amount of infeasible datasets.\n",
    "\n",
    "We find that the selected datasets are useful because they are a combination of being rich in information (covers many metrics over many countries with few NaN values), covering multiple years of data, cover extremely niche or rare data.\n",
    "\n",
    "The combination of the datasets provide us with an opportunity to explore overfishing on a global scope as well as diving into the specific methods of China and Norway. Moreover, they also contain information on eating habits in terms of protein supply which helps in analysing both the behaviour of the population and the demand of fish."
   ]
  },
  {
   "cell_type": "markdown",
   "metadata": {
    "pycharm": {
     "name": "#%% md\n"
    }
   },
   "source": [
    "# Basic Stats\n",
    "\n",
    "This section will cover the steps we took in terms of processing the data. Much of the code will be from snippets of the functions in `plots/data`. For brevity's sake, we will try to summarize the key points (across datasets) instead of going into extreme detail for each of the 11 different datasets."
   ]
  },
  {
   "cell_type": "markdown",
   "metadata": {
    "pycharm": {
     "name": "#%% md\n"
    }
   },
   "source": [
    "## Choices in data cleaning and preprocessing\n",
    "\n"
   ]
  },
  {
   "cell_type": "markdown",
   "metadata": {
    "pycharm": {
     "name": "#%% md\n"
    }
   },
   "source": [
    "### Creating a common key across datasets\n",
    "\n",
    "As mentioned previously, since we use many different datasets. It's important to have a common key when joining the data together on both countries and year.\n",
    "\n",
    "For this reason we used the `country_code_map.csv` file."
   ]
  },
  {
   "cell_type": "code",
   "execution_count": 1,
   "metadata": {
    "pycharm": {
     "name": "#%%\n"
    }
   },
   "outputs": [],
   "source": [
    "import pandas as pd"
   ]
  },
  {
   "cell_type": "code",
   "execution_count": 2,
   "metadata": {
    "pycharm": {
     "name": "#%%\n"
    }
   },
   "outputs": [
    {
     "data": {
      "text/html": [
       "<div>\n",
       "<style scoped>\n",
       "    .dataframe tbody tr th:only-of-type {\n",
       "        vertical-align: middle;\n",
       "    }\n",
       "\n",
       "    .dataframe tbody tr th {\n",
       "        vertical-align: top;\n",
       "    }\n",
       "\n",
       "    .dataframe thead th {\n",
       "        text-align: right;\n",
       "    }\n",
       "</style>\n",
       "<table border=\"1\" class=\"dataframe\">\n",
       "  <thead>\n",
       "    <tr style=\"text-align: right;\">\n",
       "      <th></th>\n",
       "      <th>Country</th>\n",
       "      <th>Alpha-2 code</th>\n",
       "      <th>Alpha-3 code</th>\n",
       "      <th>Numeric code</th>\n",
       "      <th>Latitude (average)</th>\n",
       "      <th>Longitude (average)</th>\n",
       "    </tr>\n",
       "  </thead>\n",
       "  <tbody>\n",
       "    <tr>\n",
       "      <th>0</th>\n",
       "      <td>Afghanistan</td>\n",
       "      <td>\"AF\"</td>\n",
       "      <td>\"AFG\"</td>\n",
       "      <td>\"4\"</td>\n",
       "      <td>\"33\"</td>\n",
       "      <td>\"65\"</td>\n",
       "    </tr>\n",
       "    <tr>\n",
       "      <th>1</th>\n",
       "      <td>Albania</td>\n",
       "      <td>\"AL\"</td>\n",
       "      <td>\"ALB\"</td>\n",
       "      <td>\"8\"</td>\n",
       "      <td>\"41\"</td>\n",
       "      <td>\"20\"</td>\n",
       "    </tr>\n",
       "  </tbody>\n",
       "</table>\n",
       "</div>"
      ],
      "text/plain": [
       "       Country Alpha-2 code Alpha-3 code Numeric code Latitude (average)  \\\n",
       "0  Afghanistan         \"AF\"        \"AFG\"          \"4\"               \"33\"   \n",
       "1      Albania         \"AL\"        \"ALB\"          \"8\"               \"41\"   \n",
       "\n",
       "  Longitude (average)  \n",
       "0                \"65\"  \n",
       "1                \"20\"  "
      ]
     },
     "execution_count": 2,
     "metadata": {},
     "output_type": "execute_result"
    }
   ],
   "source": [
    "pd.read_csv('data/country_code_map.csv').head(2)"
   ]
  },
  {
   "cell_type": "markdown",
   "metadata": {
    "pycharm": {
     "name": "#%% md\n"
    }
   },
   "source": [
    "Using the `Country` and the `Alpha-3 Code` (ISO-3) we are able to map country names to country codes. We usually make use of the function below to retrieve the data."
   ]
  },
  {
   "cell_type": "code",
   "execution_count": 3,
   "metadata": {
    "pycharm": {
     "name": "#%%\n"
    }
   },
   "outputs": [
    {
     "name": "stdout",
     "output_type": "stream",
     "text": [
      "Country to code map 'Denmark': {'Alpha-3 code': 'DNK'}\n",
      "Map to country map 'DNK': Denmark\n"
     ]
    }
   ],
   "source": [
    "# Defining the country code map. For this case, we over-comment the code for the purpose of the explainer notebook.\n",
    "def get_country_code_map():\n",
    "    \"\"\"\n",
    "    Retrieve the mapping between country names to country codes and vice versa\n",
    "\n",
    "    \"\"\"\n",
    "    # Select only the relevant columns\n",
    "    country_code_map = pd.read_csv('data/country_code_map.csv')[['Country', 'Alpha-3 code']]\n",
    "\n",
    "    # Remove double quotes from the code\n",
    "    country_code_map['Alpha-3 code'] = country_code_map['Alpha-3 code'].apply(lambda x: x.split('\"')[1])\n",
    "\n",
    "    # Set country as index and convert to dictionary in form of [index] -> [{column: value}]\n",
    "    country_code_map = country_code_map.set_index('Country').to_dict(orient='index')\n",
    "\n",
    "    # Reverse dictionary\n",
    "    country_code_to_country = {value['Alpha-3 code']: key for key, value in country_code_map.items()}\n",
    "    return country_code_map, country_code_to_country\n",
    "\n",
    "\n",
    "country_code_map, country_code_to_country = get_country_code_map()\n",
    "print(f\"Country to code map 'Denmark': {country_code_map['Denmark']}\")\n",
    "print(f\"Map to country map 'DNK': {country_code_to_country['DNK']}\")"
   ]
  },
  {
   "cell_type": "markdown",
   "metadata": {
    "pycharm": {
     "name": "#%% md\n"
    }
   },
   "source": [
    "After retrieving the mapping, we add the keys to the dataset. Some datasets have only country names but no codes, and others the otherway around. For the datasets with only country names, we had to manually map some of the country names to the equivalent name in the mapping dictionary. An example of such is seen below. We will comment the special cases but not more than once."
   ]
  },
  {
   "cell_type": "code",
   "execution_count": 4,
   "metadata": {
    "pycharm": {
     "name": "#%%\n"
    }
   },
   "outputs": [],
   "source": [
    "def get_industry_data():\n",
    "    df = pd.read_csv('data/FAOSTAT_country_supply_production_import_export.csv')\n",
    "    df.loc[df['Area'] == \"China, mainland\", 'Area'] = 'China'  # Generalize to China\n",
    "    df.loc[df['Area'] == 'China, Hong Kong SAR', 'Area'] = 'China'\n",
    "    df.loc[df['Area'] == 'China, Macao SAR', 'Area'] = 'China'\n",
    "    df.loc[df['Area'] == \"China, Taiwan Province of\", 'Area'] = 'Taiwan'  # Taiwan on it's own\n",
    "    df.loc[df['Area'] == \"C?te d'Ivoire\", 'Area'] = \"Côte d'Ivoire\"  # Special characters\n",
    "    df.loc[df['Area'] == \"Netherlands Antilles (former)\", 'Area'] = \"Netherlands\"  # Longer names\n",
    "    df.loc[df['Area'] == 'Bolivia (Plurinational State of)', 'Area'] = \"Bolivia\"  # No parenthesis\n",
    "    df.loc[df['Area'] == 'Cabo Verde', 'Area'] = \"Cape Verde\"  # Different names for one country\n",
    "    df.loc[df['Area'] == 'Czechia', 'Area'] = \"Czech Republic\"\n",
    "    df.loc[df['Area'] == \"Democratic People's Republic of Korea\", 'Area'] = \"South Korea\"  # Common name rather than formal name\n",
    "    df.loc[df['Area'] == 'Democratic Republic of the Congo', 'Area'] = \"Congo\"\n",
    "    df.loc[df['Area'] == 'Eswatini', 'Area'] = \"Swaziland\"\n",
    "    df.loc[df['Area'] == 'Iran (Islamic Republic of)', 'Area'] = \"Iran, Islamic Republic of\"\n",
    "    df.loc[df['Area'] == 'North Macedonia', 'Area'] = \"Macedonia, the former Yugoslav Republic of\"\n",
    "    df.loc[df['Area'] == 'Republic of Korea', 'Area'] = \"Korea, Republic of\"  # Reverse naming. Country name before title: country, title\n",
    "    df.loc[df['Area'] == 'United Kingdom of Great Britain and Northern Ireland', 'Area'] = \"United Kingdom\"\n",
    "    df.loc[df['Area'] == 'Republic of Moldova', 'Area'] = \"Moldova, Republic of\"\n",
    "    df.loc[df['Area'] == 'United Republic of Tanzania', 'Area'] = \"Tanzania, United Republic of\"\n",
    "    df.loc[df['Area'] == 'United States of America', 'Area'] = 'United States'\n",
    "    df.loc[df['Area'] == 'Venezuela (Bolivarian Republic of)', 'Area'] = 'Venezuela, Bolivarian Republic of'\n",
    "\n",
    "    # df = add_population(df)   # Out commented for explainer-notebook purposes\n",
    "    return df"
   ]
  },
  {
   "cell_type": "markdown",
   "metadata": {
    "pycharm": {
     "name": "#%% md\n"
    }
   },
   "source": [
    "### Adding population data\n",
    "\n",
    "After finding common keys across datasets, we add the population data for a given year which enables us to calculate any metric per capita: $metric\\_per\\_capita = \\frac{metric}{population}$"
   ]
  },
  {
   "cell_type": "code",
   "execution_count": 5,
   "metadata": {
    "pycharm": {
     "name": "#%%\n"
    }
   },
   "outputs": [],
   "source": [
    "def get_population():\n",
    "    return pd.read_csv('data/population_total.csv')"
   ]
  },
  {
   "cell_type": "code",
   "execution_count": 6,
   "metadata": {
    "pycharm": {
     "name": "#%%\n"
    }
   },
   "outputs": [],
   "source": [
    "def add_population(df, country_col='Area'):\n",
    "    # Get data\n",
    "    df_population = get_population()\n",
    "    country_code_map, country_code_to_country = get_country_code_map()\n",
    "\n",
    "    # Add the country code if it's not present in the dataframe\n",
    "    if 'Country Code' not in df.columns:\n",
    "        df['Country Code'] = df.apply(lambda x: country_code_map[x[country_col]]['Alpha-3 code'], axis=1)\n",
    "\n",
    "    # Kind of advanced data wrangling operation, inspired from the Tidy data paradigm.\n",
    "    # We give a brief introduction, but please look up the proper documentation if you don't understand the function.\n",
    "    # Melting a dataframe is useful when we have a variable, such as 'Year' expanded over multiple columns.\n",
    "    # For example the columns in a dataframe could be: [Country Name, Country Code, 2010, 2011, 2012, ... 2022]\n",
    "    # Where each value in the 'Year' columns is a variable such as 'population'.\n",
    "    # Melting the dataframe takes all the columns NAMES defined in 'value_vars' and assigns them to a single column\n",
    "    # with the name: 'var_name' which in this case is 'Year'. Example var_name = pd.Series([2010, 2011, 2012, ..., 2022])\n",
    "    # The corresponding value in that column is then assigned to another column in 'value_name'. The pairs of\n",
    "    # [var_name, value_name] are then identical to what was previously in column format, however it is now only in row format.\n",
    "    melted = pd.melt(df_population, id_vars=['Country Name', 'Country Code'], value_vars=df_population.columns[2:],\n",
    "                     var_name='Year',\n",
    "                     value_name='population')\n",
    "\n",
    "    # Set year as integer to make them joinable\n",
    "    melted.Year = melted.Year.astype(int)\n",
    "\n",
    "    # Final merge operatoin\n",
    "    df = pd.merge(melted, df, on=['Country Code', 'Year'])\n",
    "    return df"
   ]
  },
  {
   "cell_type": "markdown",
   "metadata": {
    "pycharm": {
     "name": "#%% md\n"
    }
   },
   "source": [
    "After running the above function, there is a value of population for each country on each year."
   ]
  },
  {
   "cell_type": "code",
   "execution_count": 7,
   "metadata": {
    "pycharm": {
     "name": "#%%\n"
    }
   },
   "outputs": [
    {
     "data": {
      "text/html": [
       "<div>\n",
       "<style scoped>\n",
       "    .dataframe tbody tr th:only-of-type {\n",
       "        vertical-align: middle;\n",
       "    }\n",
       "\n",
       "    .dataframe tbody tr th {\n",
       "        vertical-align: top;\n",
       "    }\n",
       "\n",
       "    .dataframe thead th {\n",
       "        text-align: right;\n",
       "    }\n",
       "</style>\n",
       "<table border=\"1\" class=\"dataframe\">\n",
       "  <thead>\n",
       "    <tr style=\"text-align: right;\">\n",
       "      <th></th>\n",
       "      <th>Country Name</th>\n",
       "      <th>Country Code</th>\n",
       "      <th>Year</th>\n",
       "      <th>population</th>\n",
       "    </tr>\n",
       "  </thead>\n",
       "  <tbody>\n",
       "    <tr>\n",
       "      <th>26929</th>\n",
       "      <td>Niger</td>\n",
       "      <td>NER</td>\n",
       "      <td>2014</td>\n",
       "      <td>19240182.0</td>\n",
       "    </tr>\n",
       "    <tr>\n",
       "      <th>30364</th>\n",
       "      <td>Algeria</td>\n",
       "      <td>DZA</td>\n",
       "      <td>2015</td>\n",
       "      <td>39728020.0</td>\n",
       "    </tr>\n",
       "    <tr>\n",
       "      <th>54665</th>\n",
       "      <td>Kazakhstan</td>\n",
       "      <td>KAZ</td>\n",
       "      <td>2019</td>\n",
       "      <td>18513673.0</td>\n",
       "    </tr>\n",
       "    <tr>\n",
       "      <th>21040</th>\n",
       "      <td>Malaysia</td>\n",
       "      <td>MYS</td>\n",
       "      <td>2013</td>\n",
       "      <td>29468923.0</td>\n",
       "    </tr>\n",
       "  </tbody>\n",
       "</table>\n",
       "</div>"
      ],
      "text/plain": [
       "      Country Name Country Code  Year  population\n",
       "26929        Niger          NER  2014  19240182.0\n",
       "30364      Algeria          DZA  2015  39728020.0\n",
       "54665   Kazakhstan          KAZ  2019  18513673.0\n",
       "21040     Malaysia          MYS  2013  29468923.0"
      ]
     },
     "execution_count": 7,
     "metadata": {},
     "output_type": "execute_result"
    }
   ],
   "source": [
    "df = get_industry_data()\n",
    "add_population(df, country_col='Area').sample(4).iloc[:, :4]"
   ]
  },
  {
   "cell_type": "markdown",
   "metadata": {
    "pycharm": {
     "name": "#%% md\n"
    }
   },
   "source": [
    "### Data quality (NaN values and outliers)\n",
    "\n",
    "#### Missing values\n",
    "Missing values were investigated for all datasets. However, most of the datasets luckily did not show significant signs of poor quality in terms of NaN values.\n",
    "In cases where there were NaN values, it was often in context of a visualization such as when plotting the consumption map. However, when plotting the map with NaN values,\n",
    "it is a benefit as the countries are **kept out** of the map which is the same as dropping that particular row. If we would have imputed the value with for example: 0, it would've been manipulated data and perhaps lead to misinterpretations."
   ]
  },
  {
   "cell_type": "code",
   "execution_count": 8,
   "metadata": {
    "pycharm": {
     "name": "#%%\n"
    }
   },
   "outputs": [
    {
     "data": {
      "text/html": [
       "<div>\n",
       "<style scoped>\n",
       "    .dataframe tbody tr th:only-of-type {\n",
       "        vertical-align: middle;\n",
       "    }\n",
       "\n",
       "    .dataframe tbody tr th {\n",
       "        vertical-align: top;\n",
       "    }\n",
       "\n",
       "    .dataframe thead th {\n",
       "        text-align: right;\n",
       "    }\n",
       "</style>\n",
       "<table border=\"1\" class=\"dataframe\">\n",
       "  <thead>\n",
       "    <tr style=\"text-align: right;\">\n",
       "      <th></th>\n",
       "      <th>country</th>\n",
       "      <th>Code</th>\n",
       "      <th>Year</th>\n",
       "      <th>consumption</th>\n",
       "    </tr>\n",
       "  </thead>\n",
       "  <tbody>\n",
       "    <tr>\n",
       "      <th>7623</th>\n",
       "      <td>Oceania</td>\n",
       "      <td>NaN</td>\n",
       "      <td>2001</td>\n",
       "      <td>23.51</td>\n",
       "    </tr>\n",
       "    <tr>\n",
       "      <th>8826</th>\n",
       "      <td>Small island developing States</td>\n",
       "      <td>NaN</td>\n",
       "      <td>1998</td>\n",
       "      <td>13.08</td>\n",
       "    </tr>\n",
       "    <tr>\n",
       "      <th>483</th>\n",
       "      <td>Asia</td>\n",
       "      <td>NaN</td>\n",
       "      <td>1970</td>\n",
       "      <td>8.89</td>\n",
       "    </tr>\n",
       "    <tr>\n",
       "      <th>2843</th>\n",
       "      <td>Eastern Asia</td>\n",
       "      <td>NaN</td>\n",
       "      <td>2009</td>\n",
       "      <td>33.56</td>\n",
       "    </tr>\n",
       "    <tr>\n",
       "      <th>9175</th>\n",
       "      <td>Southern Asia</td>\n",
       "      <td>NaN</td>\n",
       "      <td>1964</td>\n",
       "      <td>3.12</td>\n",
       "    </tr>\n",
       "  </tbody>\n",
       "</table>\n",
       "</div>"
      ],
      "text/plain": [
       "                             country Code  Year  consumption\n",
       "7623                         Oceania  NaN  2001        23.51\n",
       "8826  Small island developing States  NaN  1998        13.08\n",
       "483                             Asia  NaN  1970         8.89\n",
       "2843                    Eastern Asia  NaN  2009        33.56\n",
       "9175                   Southern Asia  NaN  1964         3.12"
      ]
     },
     "execution_count": 8,
     "metadata": {},
     "output_type": "execute_result"
    }
   ],
   "source": [
    "from plots.data import get_consumption\n",
    "\n",
    "df = get_consumption()\n",
    "df.drop('TotalC', axis=1, inplace=True)\n",
    "df[df.isna().any(axis=1)].sample(5)"
   ]
  },
  {
   "cell_type": "code",
   "execution_count": 9,
   "metadata": {
    "pycharm": {
     "name": "#%%\n"
    }
   },
   "outputs": [
    {
     "data": {
      "text/plain": [
       "array(['Africa', 'Americas', 'Asia', 'Asia, Central',\n",
       "       'Australia & New Zealand', 'Belgium-Luxembourg', 'Caribbean',\n",
       "       'Central America', 'Eastern Africa', 'Eastern Asia'], dtype=object)"
      ]
     },
     "execution_count": 9,
     "metadata": {},
     "output_type": "execute_result"
    }
   ],
   "source": [
    "df[df.isna().any(axis=1)].country.unique()[:10]"
   ]
  },
  {
   "cell_type": "markdown",
   "source": [
    "It's seen that there are some countries that have missing country codes, but this is no issue for plotting. Moreover, we use a custom _geojson_ to plot the maps, meaning that the regions such as (Africa, Americas, Asia, Europe, ...) will be left out as they aren't in the geojson."
   ],
   "metadata": {
    "collapsed": false,
    "pycharm": {
     "name": "#%% md\n"
    }
   }
  },
  {
   "cell_type": "code",
   "execution_count": null,
   "outputs": [],
   "source": [
    "import json\n",
    "\n",
    "with open('data/countries-simplified.json') as response:\n",
    "    countries = json.load(response)\n",
    "\n",
    "countries['features'][0]['properties']"
   ],
   "metadata": {
    "collapsed": false,
    "pycharm": {
     "name": "#%%\n"
    }
   }
  },
  {
   "cell_type": "markdown",
   "source": [
    "As you can see, we use the ISO_A3 (ISO Alpha 3) code to map countries and the geojson together. The ISO3 codes are in the consumption dataset, but _not_ in the industry dataset, which is why we add the country codes to it using the mapping. As without any country codes, we wouldn't be able to plot a choropleth map of the fishing industry"
   ],
   "metadata": {
    "collapsed": false,
    "pycharm": {
     "name": "#%% md\n"
    }
   }
  },
  {
   "cell_type": "markdown",
   "source": [
    "#### Outliers\n",
    "\n",
    "Outliers didn't cause much trouble either. Except for one place when working with the scale of the colorbar in the consumption map. Let's take a look at the code. We WON'T plot the map here as it takes up 150 Mb in the offline version."
   ],
   "metadata": {
    "collapsed": false,
    "pycharm": {
     "name": "#%% md\n"
    }
   }
  },
  {
   "cell_type": "code",
   "execution_count": null,
   "outputs": [],
   "source": [
    "from utils.decorator import style_plot\n",
    "import plotly.express as px\n",
    "\n",
    "\n",
    "def plot_consumption_map(df):\n",
    "    with open('data/countries-simplified.json') as response:\n",
    "        countries = json.load(response)\n",
    "\n",
    "    # OUTLIERS!\n",
    "    range_color = (0, df.consumption.quantile(0.99))\n",
    "    # OUTLIERS!\n",
    "\n",
    "    map_args = dict(\n",
    "        geojson=countries,\n",
    "        featureidkey='properties.ISO_A3',\n",
    "        locations=\"Code\",\n",
    "        color=\"consumption\",  # lifeExp is a column of gapminder\n",
    "        hover_name=\"country\",  # column to add to hover information\n",
    "        animation_frame='Year',\n",
    "        mapbox_style=\"carto-positron\",\n",
    "        color_continuous_scale='YlOrRd',\n",
    "        range_color=range_color,\n",
    "        title='Fish consumption (kg / capita) from 1961 to 2017',\n",
    "        center={'lat': 12, 'lon': 5}\n",
    "    )\n",
    "\n",
    "    fig = px.choropleth_mapbox(df, zoom=0.5, **map_args)\n",
    "    # More styling code below but it's been left out for brevity's sake."
   ],
   "metadata": {
    "collapsed": false,
    "pycharm": {
     "name": "#%%\n"
    }
   }
  },
  {
   "cell_type": "markdown",
   "source": [
    "As seen in line 10 of the cell above, we have adjusted the color of the range from 0 to 99% quantile. This is due to few extreme outliers that make identifying other high-consumption countries difficult. Let's take a look at the outliers."
   ],
   "metadata": {
    "collapsed": false,
    "pycharm": {
     "name": "#%% md\n"
    }
   }
  },
  {
   "cell_type": "code",
   "execution_count": null,
   "outputs": [],
   "source": [
    "df = get_consumption()\n",
    "\n",
    "df.consumption.describe()"
   ],
   "metadata": {
    "collapsed": false,
    "pycharm": {
     "name": "#%%\n"
    }
   }
  },
  {
   "cell_type": "markdown",
   "source": [
    "The maximum value is 191 whilst the 75% quantile is only 22.5!! The data is clearly skewed."
   ],
   "metadata": {
    "collapsed": false,
    "pycharm": {
     "name": "#%% md\n"
    }
   }
  },
  {
   "cell_type": "code",
   "execution_count": null,
   "outputs": [],
   "source": [
    "# Very simple plot for illustrative purposes.\n",
    "df.consumption.hist(bins=40)"
   ],
   "metadata": {
    "collapsed": false,
    "pycharm": {
     "name": "#%%\n"
    }
   }
  },
  {
   "cell_type": "code",
   "execution_count": null,
   "outputs": [],
   "source": [
    "df.boxplot(column='consumption')"
   ],
   "metadata": {
    "collapsed": false,
    "pycharm": {
     "name": "#%%\n"
    }
   }
  },
  {
   "cell_type": "markdown",
   "source": [
    "The 99% quantile is then"
   ],
   "metadata": {
    "collapsed": false,
    "pycharm": {
     "name": "#%% md\n"
    }
   }
  },
  {
   "cell_type": "code",
   "execution_count": null,
   "outputs": [],
   "source": [
    "df.consumption.quantile(0.99)"
   ],
   "metadata": {
    "collapsed": false,
    "pycharm": {
     "name": "#%%\n"
    }
   }
  },
  {
   "cell_type": "markdown",
   "source": [
    "Which is MUCH more reasonable when looking at the plots above as well.\n",
    "\n",
    "**Industry dataset outliers**\n",
    "\n",
    "We replicated the method above for the Industry dataset (import, export, production and supply) as well, however we don't find the need to replicate the whole process and analysis again (as it's copy pasted with a different dataset).\n",
    "The resulting relevant quantile for the Industry dataset turned out to be 0.975 due to the same reasons above (extreme outliers).\n",
    "\n",
    "**Other datasets**\n",
    "\n",
    "With respect to the other datasets we didn't find any significant outliers that hindered the analysis or visualization."
   ],
   "metadata": {
    "collapsed": false,
    "pycharm": {
     "name": "#%% md\n"
    }
   }
  },
  {
   "cell_type": "markdown",
   "source": [
    "## Dataset stats and key points\n",
    "\n",
    "We have already touched upon the outlier and NaN value detection and corresponding mitigation techniques.\n",
    "\n",
    "Here we will go over some descriptive statistics on our datasets, and present some key points of the exploratory analysis that lead us to the final visualizations found on the website.\n",
    "\n",
    "Since we are working with multiple datasets, we will focus on the ones that have the highest data quality and information.\n",
    "\n",
    "> Note: From now we will use some of our functions to get data and perform the plotting. We do this to save space and focus on plots and text rather than code. You can always find the code by following the import path (or use an IDE)."
   ],
   "metadata": {
    "collapsed": false,
    "pycharm": {
     "name": "#%% md\n"
    }
   }
  },
  {
   "cell_type": "markdown",
   "source": [
    "### Data summary and Descriptive statistics\n",
    "\n",
    "In this section we will provide insights and examples from the datasets and\n",
    "also perform some descriptive statistics.\n",
    "\n",
    "Generally, we will keep the analysis brief as there are a lot of datasets to cover.\n",
    "This is the only time we'll be showcasing all 11 datasets.\n",
    "\n",
    "This section is meant to give the reader a quick overview of what each dataset used in this project contains."
   ],
   "metadata": {
    "collapsed": false,
    "pycharm": {
     "name": "#%% md\n"
    }
   }
  },
  {
   "cell_type": "markdown",
   "source": [
    "#### Country Code Mappings"
   ],
   "metadata": {
    "collapsed": false,
    "pycharm": {
     "name": "#%% md\n"
    }
   }
  },
  {
   "cell_type": "code",
   "execution_count": null,
   "outputs": [],
   "source": [
    "country_code_map = pd.read_csv('data/country_code_map.csv')[['Country', 'Alpha-3 code']]\n",
    "country_code_map.describe()"
   ],
   "metadata": {
    "collapsed": false,
    "pycharm": {
     "name": "#%%\n"
    }
   }
  },
  {
   "cell_type": "code",
   "execution_count": null,
   "outputs": [],
   "source": [
    "country_code_map.head()"
   ],
   "metadata": {
    "collapsed": false,
    "pycharm": {
     "name": "#%%\n"
    }
   }
  },
  {
   "cell_type": "code",
   "execution_count": null,
   "outputs": [],
   "source": [
    "country_code_map.Country.unique().tolist()[:10]"
   ],
   "metadata": {
    "collapsed": false,
    "pycharm": {
     "name": "#%%\n"
    }
   }
  },
  {
   "cell_type": "markdown",
   "source": [
    "As we can see, the country code mapping is almost what one would expect. Given the country name there is a corresponding country code.\n",
    "\n",
    "One interesting thing to look at is the fact that there are `256` unique countries but only `244` unique country codes. Meaning some countries map to the same country code. Let's have a look"
   ],
   "metadata": {
    "collapsed": false,
    "pycharm": {
     "name": "#%% md\n"
    }
   }
  },
  {
   "cell_type": "code",
   "execution_count": null,
   "outputs": [],
   "source": [
    "country_code_map[country_code_map['Alpha-3 code'].duplicated()]"
   ],
   "metadata": {
    "collapsed": false,
    "pycharm": {
     "name": "#%%\n"
    }
   }
  },
  {
   "cell_type": "code",
   "execution_count": null,
   "outputs": [],
   "source": [
    "country_code_map[country_code_map['Alpha-3 code'] == ' \"BOL\"']"
   ],
   "metadata": {
    "collapsed": false,
    "pycharm": {
     "name": "#%%\n"
    }
   }
  },
  {
   "cell_type": "code",
   "execution_count": null,
   "outputs": [],
   "source": [
    "country_code_map[country_code_map['Alpha-3 code'] == ' \"MMR\"']"
   ],
   "metadata": {
    "collapsed": false,
    "pycharm": {
     "name": "#%%\n"
    }
   }
  },
  {
   "cell_type": "markdown",
   "source": [
    "It seems that it is just multiple names for a country that maps to the Alpha-3 code. The case of Bolivia is quite obvious.\n",
    "The case of Myanmar is not so much. The significant difference in name is due to the country being occupied by the British empire which gave the name _Burma_.\n",
    "After becoming independent, they decided to change the name to _Myanmar_ for cultural reasons [ref](https://en.wikipedia.org/wiki/Names_of_Myanmar)"
   ],
   "metadata": {
    "collapsed": false,
    "pycharm": {
     "name": "#%% md\n"
    }
   }
  },
  {
   "cell_type": "markdown",
   "source": [
    "#### Population"
   ],
   "metadata": {
    "collapsed": false,
    "pycharm": {
     "name": "#%% md\n"
    }
   }
  },
  {
   "cell_type": "code",
   "execution_count": null,
   "outputs": [],
   "source": [
    "df_pop = get_population()\n",
    "df_pop.columns"
   ],
   "metadata": {
    "collapsed": false,
    "pycharm": {
     "name": "#%%\n"
    }
   }
  },
  {
   "cell_type": "code",
   "execution_count": null,
   "outputs": [],
   "source": [
    "df_pop.describe()"
   ],
   "metadata": {
    "collapsed": false,
    "pycharm": {
     "name": "#%%\n"
    }
   }
  },
  {
   "cell_type": "code",
   "execution_count": null,
   "outputs": [],
   "source": [
    "df_pop[['Country Name', 'Country Code']]"
   ],
   "metadata": {
    "collapsed": false,
    "pycharm": {
     "name": "#%%\n"
    }
   }
  },
  {
   "cell_type": "markdown",
   "source": [
    "As we can see, the population is just the population of a country in a given year. Strangely enough, the year variable is expanded over columns. This gave rise to the data preprocessing detailed above."
   ],
   "metadata": {
    "collapsed": false,
    "pycharm": {
     "name": "#%% md\n"
    }
   }
  },
  {
   "cell_type": "markdown",
   "source": [
    "#### Industry data"
   ],
   "metadata": {
    "collapsed": false,
    "pycharm": {
     "name": "#%% md\n"
    }
   }
  },
  {
   "cell_type": "code",
   "execution_count": null,
   "outputs": [],
   "source": [
    "df_industry = pd.read_csv('data/FAOSTAT_country_supply_production_import_export.csv')\n",
    "df_industry.columns"
   ],
   "metadata": {
    "collapsed": false,
    "pycharm": {
     "name": "#%%\n"
    }
   }
  },
  {
   "cell_type": "code",
   "execution_count": null,
   "outputs": [],
   "source": [
    "df_industry['Element'].unique()"
   ],
   "metadata": {
    "collapsed": false,
    "pycharm": {
     "name": "#%%\n"
    }
   }
  },
  {
   "cell_type": "markdown",
   "source": [
    "The industry data contains information on the Production, Import Quantity, Domestic supply quantity, and Export Quantity.\n",
    "\n",
    "The four quantities are related by:\n",
    "\n",
    "$$\n",
    "\\text{production} + \\text{import} = \\text{supply} + \\text{export}\n",
    "$$\n",
    "\n",
    "The Domestric supply quantity is what's left over in the country after exporting"
   ],
   "metadata": {
    "collapsed": false,
    "pycharm": {
     "name": "#%% md\n"
    }
   }
  },
  {
   "cell_type": "code",
   "execution_count": null,
   "outputs": [],
   "source": [
    "df_industry.describe()"
   ],
   "metadata": {
    "collapsed": false,
    "pycharm": {
     "name": "#%%\n"
    }
   }
  },
  {
   "cell_type": "markdown",
   "source": [
    "Interestingly, the `Value` column seems to have an incredibly large standard deviation (`1842`) wrt the mean (`202`). Let's investigate"
   ],
   "metadata": {
    "collapsed": false,
    "pycharm": {
     "name": "#%% md\n"
    }
   }
  },
  {
   "cell_type": "code",
   "execution_count": null,
   "outputs": [],
   "source": [
    "df_industry['Value'].hist(bins=50, figsize=(10, 5))"
   ],
   "metadata": {
    "collapsed": false,
    "pycharm": {
     "name": "#%%\n"
    }
   }
  },
  {
   "cell_type": "code",
   "execution_count": null,
   "outputs": [],
   "source": [
    "df_industry[df_industry.Value <= df_industry['Value'].quantile(0.95)]['Value'].hist(bins=50, figsize=(10, 5))"
   ],
   "metadata": {
    "collapsed": false,
    "pycharm": {
     "name": "#%%\n"
    }
   }
  },
  {
   "cell_type": "markdown",
   "source": [
    "As we can see, the value column is extremely skewed, even when only looking at the $95\\%$ percentile.\n",
    "\n",
    "This should be kept in mind if modelling this value as some, for example linear, models assume normal distribution of residuals, which will be difficult in this case for linear regression."
   ],
   "metadata": {
    "collapsed": false,
    "pycharm": {
     "name": "#%% md\n"
    }
   }
  },
  {
   "cell_type": "markdown",
   "source": [
    "#### Consumption\n"
   ],
   "metadata": {
    "collapsed": false,
    "pycharm": {
     "name": "#%% md\n"
    }
   }
  },
  {
   "cell_type": "code",
   "execution_count": null,
   "outputs": [],
   "source": [
    "df_consumption = pd.read_csv(\"data/fish-and-seafood-consumption-per-capita.csv\")\n",
    "df_consumption.drop('TotalC', axis=1, inplace=True)\n",
    "df_consumption.columns"
   ],
   "metadata": {
    "collapsed": false,
    "pycharm": {
     "name": "#%%\n"
    }
   }
  },
  {
   "cell_type": "code",
   "execution_count": null,
   "outputs": [],
   "source": [
    "df_consumption.describe()"
   ],
   "metadata": {
    "collapsed": false,
    "pycharm": {
     "name": "#%%\n"
    }
   }
  },
  {
   "cell_type": "markdown",
   "source": [
    "We have seen this table before and will refer to section on **Basic Stats > Choices in data cleaning and preprocessing > Data quality > Outliers** for a detailed analysis."
   ],
   "metadata": {
    "collapsed": false,
    "pycharm": {
     "name": "#%% md\n"
    }
   }
  },
  {
   "cell_type": "markdown",
   "source": [
    "#### Sustainability levels"
   ],
   "metadata": {
    "collapsed": false,
    "pycharm": {
     "name": "#%% md\n"
    }
   }
  },
  {
   "cell_type": "code",
   "execution_count": null,
   "outputs": [],
   "source": [
    "sustainable = pd.read_csv('data/fish-stocks-within-sustainable-levels.csv')\n",
    "sustainable.columns"
   ],
   "metadata": {
    "collapsed": false,
    "pycharm": {
     "name": "#%%\n"
    }
   }
  },
  {
   "cell_type": "code",
   "execution_count": null,
   "outputs": [],
   "source": [
    "sustainable.Entity.unique().tolist()"
   ],
   "metadata": {
    "collapsed": false,
    "pycharm": {
     "name": "#%%\n"
    }
   }
  },
  {
   "cell_type": "markdown",
   "source": [
    "We see that the unique entities are not countries but regions and the whole world on aggregate."
   ],
   "metadata": {
    "collapsed": false,
    "pycharm": {
     "name": "#%% md\n"
    }
   }
  },
  {
   "cell_type": "code",
   "execution_count": null,
   "outputs": [],
   "source": [
    "sustainable.value_counts('Entity')"
   ],
   "metadata": {
    "collapsed": false,
    "pycharm": {
     "name": "#%%\n"
    }
   }
  },
  {
   "cell_type": "markdown",
   "source": [
    "However, we only have enough records over the years from the whole world on aggregate and not individual regions.\n",
    "That is a shame as it would've been an interesting analysis to compare the regions across years."
   ],
   "metadata": {
    "collapsed": false,
    "pycharm": {
     "name": "#%% md\n"
    }
   }
  },
  {
   "cell_type": "code",
   "execution_count": null,
   "outputs": [],
   "source": [
    "sustainable.describe()"
   ],
   "metadata": {
    "collapsed": false,
    "pycharm": {
     "name": "#%%\n"
    }
   }
  },
  {
   "cell_type": "markdown",
   "source": [
    "This is a very simple dataset that contains information on fish stocks within biologically sustainable levels and those that are overexploited.\n",
    "From a statistics point of view, we don't find that the range, mean or standard deviation deviate significantly from each other."
   ],
   "metadata": {
    "collapsed": false,
    "pycharm": {
     "name": "#%% md\n"
    }
   }
  },
  {
   "cell_type": "markdown",
   "source": [
    "#### Fishing types"
   ],
   "metadata": {
    "collapsed": false,
    "pycharm": {
     "name": "#%% md\n"
    }
   }
  },
  {
   "cell_type": "code",
   "execution_count": null,
   "outputs": [],
   "source": [
    "fish_catch_methods = pd.read_csv('data/fish-catch-gear-type.csv')\n",
    "fish_catch_methods.columns"
   ],
   "metadata": {
    "collapsed": false,
    "pycharm": {
     "name": "#%%\n"
    }
   }
  },
  {
   "cell_type": "code",
   "execution_count": null,
   "outputs": [],
   "source": [
    "fish_catch_methods.describe()"
   ],
   "metadata": {
    "collapsed": false,
    "pycharm": {
     "name": "#%%\n"
    }
   }
  },
  {
   "cell_type": "markdown",
   "source": [
    "The dataset contains information on the 'fishing_types' variable in terms of columns that each represent a method of fishing.\n",
    "The temporal dimension ranges from 1950 to 2018 which gives us a good baseline for plotting historical development."
   ],
   "metadata": {
    "collapsed": false,
    "pycharm": {
     "name": "#%% md\n"
    }
   }
  },
  {
   "cell_type": "markdown",
   "source": [
    "#### Greenhouse gasses from food sources"
   ],
   "metadata": {
    "collapsed": false,
    "pycharm": {
     "name": "#%% md\n"
    }
   }
  },
  {
   "cell_type": "code",
   "execution_count": null,
   "outputs": [],
   "source": [
    "gg = pd.read_csv('data/ghg-per-protein-poore.csv')\n",
    "gg.columns"
   ],
   "metadata": {
    "collapsed": false,
    "pycharm": {
     "name": "#%%\n"
    }
   }
  },
  {
   "cell_type": "code",
   "execution_count": null,
   "outputs": [],
   "source": [
    "gg.Entity.unique().tolist()"
   ],
   "metadata": {
    "collapsed": false,
    "pycharm": {
     "name": "#%%\n"
    }
   }
  },
  {
   "cell_type": "markdown",
   "source": [
    "As we can see, the dataset contains numerical values on the GHG emissions produced during the production of many sources of food. The emissions are measured per 100g of protein. This will give us an overview of how well fish compares to other food sources."
   ],
   "metadata": {
    "collapsed": false,
    "pycharm": {
     "name": "#%% md\n"
    }
   }
  },
  {
   "cell_type": "code",
   "execution_count": null,
   "outputs": [],
   "source": [
    "gg.describe()"
   ],
   "metadata": {
    "collapsed": false,
    "pycharm": {
     "name": "#%%\n"
    }
   }
  },
  {
   "cell_type": "markdown",
   "source": [
    "Here we see that we only have values for year 2010. Moreover, the GHG emissions seem to vary a lot, which makes sense when you have sources such as _Apples_ and _Beef_ in the same dataset."
   ],
   "metadata": {
    "collapsed": false,
    "pycharm": {
     "name": "#%% md\n"
    }
   }
  },
  {
   "cell_type": "markdown",
   "source": [
    "#### GDP"
   ],
   "metadata": {
    "collapsed": false,
    "pycharm": {
     "name": "#%% md\n"
    }
   }
  },
  {
   "cell_type": "code",
   "execution_count": null,
   "outputs": [],
   "source": [
    "df_gdp = pd.read_csv('data/country_gdp.csv')\n",
    "df_gdp.drop('Unnamed: 66', axis=1, inplace=True)\n",
    "df_gdp.columns"
   ],
   "metadata": {
    "collapsed": false,
    "pycharm": {
     "name": "#%%\n"
    }
   }
  },
  {
   "cell_type": "code",
   "execution_count": null,
   "outputs": [],
   "source": [
    "df_gdp.describe()"
   ],
   "metadata": {
    "collapsed": false,
    "pycharm": {
     "name": "#%%\n"
    }
   }
  },
  {
   "cell_type": "markdown",
   "source": [
    "This dataset is the same as the population data in terms of having the variable it's supposed to describe (GDP of every country), spanned over multiple columns for the different years. This then leads to a melting operation later when looking at the global trend."
   ],
   "metadata": {
    "collapsed": false,
    "pycharm": {
     "name": "#%% md\n"
    }
   }
  },
  {
   "cell_type": "markdown",
   "source": [
    "#### Animal protein consumption"
   ],
   "metadata": {
    "collapsed": false,
    "pycharm": {
     "name": "#%% md\n"
    }
   }
  },
  {
   "cell_type": "code",
   "execution_count": null,
   "outputs": [],
   "source": [
    "df_animal = pd.read_csv('data/animal-protein-consumption.csv')\n",
    "df_animal.columns"
   ],
   "metadata": {
    "collapsed": false,
    "pycharm": {
     "name": "#%%\n"
    }
   }
  },
  {
   "cell_type": "code",
   "execution_count": null,
   "outputs": [],
   "source": [
    "df_animal.Entity.unique().tolist()[:10]"
   ],
   "metadata": {
    "collapsed": false,
    "pycharm": {
     "name": "#%%\n"
    }
   }
  },
  {
   "cell_type": "code",
   "execution_count": null,
   "outputs": [],
   "source": [
    "df_animal.describe()"
   ],
   "metadata": {
    "collapsed": false,
    "pycharm": {
     "name": "#%%\n"
    }
   }
  },
  {
   "cell_type": "markdown",
   "source": [
    "This dataset proved very valuable to us as it contained insightful information on how much each country eats of different sources of animal proteins. It helps put the fish consumption mentioned earlier into perspective and highlight unsustainable diets as most of these protein sources are much less efficient then fish."
   ],
   "metadata": {
    "collapsed": false,
    "pycharm": {
     "name": "#%% md\n"
    }
   }
  },
  {
   "cell_type": "markdown",
   "source": [
    "#### Aquaculture vs capture fisheries"
   ],
   "metadata": {
    "collapsed": false,
    "pycharm": {
     "name": "#%% md\n"
    }
   }
  },
  {
   "cell_type": "code",
   "execution_count": null,
   "outputs": [],
   "source": [
    "df_aqua = pd.read_csv('data/capture-fisheries-vs-aquaculture.csv')\n",
    "df_aqua.columns"
   ],
   "metadata": {
    "collapsed": false,
    "pycharm": {
     "name": "#%%\n"
    }
   }
  },
  {
   "cell_type": "code",
   "execution_count": null,
   "outputs": [],
   "source": [
    "df_aqua.Entity.unique().tolist()[:10]"
   ],
   "metadata": {
    "collapsed": false,
    "pycharm": {
     "name": "#%%\n"
    }
   }
  },
  {
   "cell_type": "code",
   "execution_count": null,
   "outputs": [],
   "source": [
    "df_aqua.describe()"
   ],
   "metadata": {
    "collapsed": false,
    "pycharm": {
     "name": "#%%\n"
    }
   }
  },
  {
   "cell_type": "markdown",
   "source": [
    "Again a relatively simple dataset. The year contains information from 1960 to 2018 which is great to show historical development for each country. Interestingly it's also perhaps the first dataset we've used that's truely complete, since the first forms of aquaculture started in the 1960s."
   ],
   "metadata": {
    "collapsed": false,
    "pycharm": {
     "name": "#%% md\n"
    }
   }
  },
  {
   "cell_type": "markdown",
   "source": [
    "#### Aquaculture emissions"
   ],
   "metadata": {
    "collapsed": false,
    "pycharm": {
     "name": "#%% md\n"
    }
   }
  },
  {
   "cell_type": "code",
   "execution_count": null,
   "outputs": [],
   "source": [
    "nitrogen_emissions_seafood = pd.read_csv('data/nitrogen-emissions-seafood.csv')\n",
    "phosphorous_emissions_seafood = pd.read_csv('data/phosphorous-emissions-seafood.csv')\n",
    "\n",
    "df_emissions = pd.merge(nitrogen_emissions_seafood, phosphorous_emissions_seafood)\n",
    "df_emissions = df_emissions.drop(columns=['Code', 'Year'])"
   ],
   "metadata": {
    "collapsed": false,
    "pycharm": {
     "name": "#%%\n"
    }
   }
  },
  {
   "cell_type": "code",
   "execution_count": null,
   "outputs": [],
   "source": [
    "df_emissions.columns"
   ],
   "metadata": {
    "collapsed": false,
    "pycharm": {
     "name": "#%%\n"
    }
   }
  },
  {
   "cell_type": "code",
   "execution_count": null,
   "outputs": [],
   "source": [
    "df_emissions.Entity.unique().tolist()"
   ],
   "metadata": {
    "collapsed": false,
    "pycharm": {
     "name": "#%%\n"
    }
   }
  },
  {
   "cell_type": "markdown",
   "source": [
    "This dataset describes the GHG emissions produced during farmed fish (aquaculture) production, devided over different species. The Chicken entity is included in this dataset to serve as a baseline, since chicken is known to efficient good to produce wrt emissions. And we see that most fish species produce equal or less emmisions then Chicken."
   ],
   "metadata": {
    "collapsed": false,
    "pycharm": {
     "name": "#%% md\n"
    }
   }
  },
  {
   "cell_type": "code",
   "execution_count": null,
   "outputs": [],
   "source": [
    "df_emissions.describe()"
   ],
   "metadata": {
    "collapsed": false,
    "pycharm": {
     "name": "#%%\n"
    }
   }
  },
  {
   "cell_type": "markdown",
   "source": [
    "The emissions are noted in Nitrogen and Phosphorous. The values seem to vary a lot between different entities. Some entities even have negative values, let's inspect those!"
   ],
   "metadata": {
    "collapsed": false,
    "pycharm": {
     "name": "#%% md\n"
    }
   }
  },
  {
   "cell_type": "code",
   "execution_count": null,
   "outputs": [],
   "source": [
    "df_emissions.query('`Nitrogen (kgN / t edible weight)` < 0')"
   ],
   "metadata": {
    "collapsed": false,
    "pycharm": {
     "name": "#%%\n"
    }
   }
  },
  {
   "cell_type": "markdown",
   "source": [
    "It seems that Bivalves and Seaweed produce negative GHG! This is due to them not requiring feeding [ref](https://set.adelaide.edu.au/news/list/2022/01/27/roadmap-for-a-better-greener-marine-aquaculture-sector#:~:text=%E2%80%9CUnlike%20other%20sources%20of%20protein,require%20feeding%E2%80%9D%20Dr%20Jones%20says.)."
   ],
   "metadata": {
    "collapsed": false,
    "pycharm": {
     "name": "#%% md\n"
    }
   }
  },
  {
   "cell_type": "markdown",
   "source": [
    "### Key points"
   ],
   "metadata": {
    "collapsed": false,
    "pycharm": {
     "name": "#%% md\n"
    }
   }
  },
  {
   "cell_type": "markdown",
   "source": [
    "#### Overexploiting fish\n",
    "\n",
    "After our descriptive analysis, we present some of the initial analysis that lead us to this story."
   ],
   "metadata": {
    "collapsed": false,
    "pycharm": {
     "name": "#%% md\n"
    }
   }
  },
  {
   "cell_type": "code",
   "execution_count": null,
   "outputs": [],
   "source": [
    "sustainable = pd.read_csv('data/fish-stocks-within-sustainable-levels.csv')"
   ],
   "metadata": {
    "collapsed": false,
    "pycharm": {
     "name": "#%%\n"
    }
   }
  },
  {
   "cell_type": "code",
   "execution_count": null,
   "outputs": [],
   "source": [
    "sustainable_world = sustainable[sustainable[\"Entity\"] == \"World\"]"
   ],
   "metadata": {
    "collapsed": false,
    "pycharm": {
     "name": "#%%\n"
    }
   }
  },
  {
   "cell_type": "code",
   "execution_count": null,
   "outputs": [],
   "source": [
    "from operator import truediv\n",
    "\n",
    "sus = sustainable_world['Share of fish stocks within biologically sustainable levels (FAO, 2020)'].tolist()\n",
    "over = sustainable_world['Share of fish stocks that are overexploited'].tolist()\n",
    "index = sustainable_world['Year']\n",
    "df = pd.DataFrame({  'sustainable': sus,\n",
    "    'overexploited': over}, index=index)\n",
    "ax = df.plot.line(figsize=(10, 7))\n",
    "ax.set_xlabel('Year')\n",
    "ax.set_ylabel('%')\n",
    "ax.set_title('Share of world fish stocks within sustainable and overexploited levels');"
   ],
   "metadata": {
    "collapsed": false,
    "pycharm": {
     "name": "#%%\n"
    }
   }
  },
  {
   "cell_type": "markdown",
   "source": [
    "This was one of the first plots we made which clearly highlights the fact that we are on a rising trend of overfishing the oceans significantly."
   ],
   "metadata": {
    "collapsed": false,
    "pycharm": {
     "name": "#%% md\n"
    }
   }
  },
  {
   "cell_type": "markdown",
   "source": [
    "#### Country over-consumption\n",
    "\n",
    "In this section we used a choropleth map to visualize where over consumption was taken place"
   ],
   "metadata": {
    "collapsed": false,
    "pycharm": {
     "name": "#%% md\n"
    }
   }
  },
  {
   "cell_type": "code",
   "execution_count": null,
   "outputs": [],
   "source": [
    "from plotly.offline import init_notebook_mode\n",
    "\n",
    "init_notebook_mode(connected=True)"
   ],
   "metadata": {
    "collapsed": false,
    "pycharm": {
     "name": "#%%\n"
    }
   }
  },
  {
   "cell_type": "code",
   "execution_count": null,
   "outputs": [],
   "source": [
    "df_consumption = get_consumption()"
   ],
   "metadata": {
    "collapsed": false,
    "pycharm": {
     "name": "#%%\n"
    }
   }
  },
  {
   "cell_type": "code",
   "execution_count": null,
   "outputs": [],
   "source": [
    "with open('data/countries-simplified.json') as response:\n",
    "    countries = json.load(response)\n",
    "\n",
    "# Limit output size due to notebook constraints\n",
    "df_plot = df_consumption.query('Year == 2017')\n",
    "\n",
    "range_color = (0, df_plot.consumption.quantile(0.99))\n",
    "map_args = dict(\n",
    "    geojson=countries,\n",
    "    featureidkey='properties.ISO_A3',\n",
    "    locations=\"Code\",\n",
    "    color=\"consumption\",  # lifeExp is a column of gapminder\n",
    "    hover_name=\"country\",  # column to add to hover information\n",
    "    # animation_frame='Year',  # left out due to notebook contraints\n",
    "    mapbox_style=\"carto-positron\",\n",
    "    color_continuous_scale='Plasma',\n",
    "    range_color=range_color,\n",
    "    height=600\n",
    ")\n",
    "fig = px.choropleth_mapbox(df_plot,\n",
    "                           zoom=0,\n",
    "                           **map_args\n",
    "                           )\n",
    "\n",
    "fig"
   ],
   "metadata": {
    "collapsed": false,
    "pycharm": {
     "name": "#%%\n"
    }
   }
  },
  {
   "cell_type": "markdown",
   "source": [
    "From the choropleth plot we got a more visual approach to evaluating which countries did over-consume fish. Here we see that especially the **Nordic** regions and **South East Asia** are regions to look out for. This plot serves as the main inspiration for focusing on these region whilst a more tabular approach helped decide which countries to focus within the two regions."
   ],
   "metadata": {
    "collapsed": false,
    "pycharm": {
     "name": "#%% md\n"
    }
   }
  },
  {
   "cell_type": "markdown",
   "source": [
    "#### Countries with most impact\n",
    "\n",
    "We select countries that have the most impact by finding the top 20 where we take population size into account.\n",
    "By normalizing the values per capita, it becomes more representative of the countries. However, to avoid that the countries we select are too small to have any actual impact. We also take into account the absolute value of this top 20 list.\n",
    "\n",
    "We will focus primarily on *Nordic* and *South East Asia* regions."
   ],
   "metadata": {
    "collapsed": false,
    "pycharm": {
     "name": "#%% md\n"
    }
   }
  },
  {
   "cell_type": "code",
   "execution_count": null,
   "outputs": [],
   "source": [
    "df_population = pd.read_csv('data/population_total.csv')"
   ],
   "metadata": {
    "collapsed": false,
    "pycharm": {
     "name": "#%%\n"
    }
   }
  },
  {
   "cell_type": "code",
   "execution_count": null,
   "outputs": [],
   "source": [
    "df = get_industry_data()"
   ],
   "metadata": {
    "collapsed": false,
    "pycharm": {
     "name": "#%%\n"
    }
   }
  },
  {
   "cell_type": "code",
   "execution_count": null,
   "outputs": [],
   "source": [
    "df = add_population(df)"
   ],
   "metadata": {
    "collapsed": false,
    "pycharm": {
     "name": "#%%\n"
    }
   }
  },
  {
   "cell_type": "code",
   "execution_count": null,
   "outputs": [],
   "source": [
    "year = 2017"
   ],
   "metadata": {
    "collapsed": false,
    "pycharm": {
     "name": "#%%\n"
    }
   }
  },
  {
   "cell_type": "code",
   "execution_count": null,
   "outputs": [],
   "source": [
    "def group_by_elements(elements, year):\n",
    "    df_production = df.query(f'Year == {year}').groupby(['Country Code', 'Element']).sum()['Value']\n",
    "    df_production = df_production.reset_index().query(f'Element in {elements}').groupby('Country Code').sum().reset_index()\n",
    "    df_production = pd.merge(df_population[['Country Code', f'{year}']], df_production, on='Country Code').rename({f'{year}': 'Population'}, axis=1)\n",
    "    df_production[f'value_pr_capita_{year}'] = df_production.Value / df_production.Population * 1000\n",
    "    df_production['Country'] = df_production.apply(lambda x: country_code_to_country[x['Country Code']], axis=1)\n",
    "    df_production = df_production.set_index('Country')[['Country Code', 'Value', f'value_pr_capita_{year}']]\n",
    "    return df_production"
   ],
   "metadata": {
    "collapsed": false,
    "pycharm": {
     "name": "#%%\n"
    }
   }
  },
  {
   "cell_type": "code",
   "execution_count": null,
   "outputs": [],
   "source": [
    "df.Element.unique().tolist()"
   ],
   "metadata": {
    "collapsed": false,
    "pycharm": {
     "name": "#%%\n"
    }
   }
  },
  {
   "cell_type": "code",
   "execution_count": null,
   "outputs": [],
   "source": [
    "df_production = group_by_elements(['Production'], year)\n",
    "df_production.sort_values(by=f'value_pr_capita_{year}', ascending=False).head(20)"
   ],
   "metadata": {
    "collapsed": false,
    "pycharm": {
     "name": "#%%\n"
    }
   }
  },
  {
   "cell_type": "markdown",
   "source": [
    "Iceland tops the charts of production per capita but with much less absolute value compared to Norway. China can be found further down with a significant amount compared to Norway"
   ],
   "metadata": {
    "collapsed": false,
    "pycharm": {
     "name": "#%% md\n"
    }
   }
  },
  {
   "cell_type": "code",
   "execution_count": null,
   "outputs": [],
   "source": [
    "df_import = group_by_elements(['Import Quantity'], year)\n",
    "df_import.sort_values(by=f'value_pr_capita_{year}', ascending=False).head(20)"
   ],
   "metadata": {
    "collapsed": false,
    "pycharm": {
     "name": "#%%\n"
    }
   }
  },
  {
   "cell_type": "markdown",
   "source": [
    "Here we see that Seychelles in Africa tops the import per capita but again with much less compared to Norway, Denmark, Sweden and the Netherlands. China is not even in the top 20 here, with respect to the value per capita."
   ],
   "metadata": {
    "collapsed": false,
    "pycharm": {
     "name": "#%% md\n"
    }
   }
  },
  {
   "cell_type": "code",
   "execution_count": null,
   "outputs": [],
   "source": [
    "df_supply = group_by_elements(['Domestic supply quantity'], year)\n",
    "df_supply.sort_values(by=f'value_pr_capita_{year}', ascending=False).head(20)"
   ],
   "metadata": {
    "collapsed": false,
    "pycharm": {
     "name": "#%%\n"
    }
   }
  },
  {
   "cell_type": "markdown",
   "source": [
    "The supply in a country is highest for China and Norway in absolute value. With some smaller countries such as Saint Kitts and Nevis taking the lead in value per capita."
   ],
   "metadata": {
    "collapsed": false,
    "pycharm": {
     "name": "#%% md\n"
    }
   }
  },
  {
   "cell_type": "code",
   "execution_count": null,
   "outputs": [],
   "source": [
    "df_export = group_by_elements(['Export Quantity'], year)\n",
    "df_export.sort_values(by=f'value_pr_capita_{year}', ascending=False).head(20)"
   ],
   "metadata": {
    "collapsed": false,
    "pycharm": {
     "name": "#%%\n"
    }
   }
  },
  {
   "cell_type": "markdown",
   "source": [
    "Again the small country of Iceland (0.5 mil population) takes the lead in terms of export. However, Norway is still higher in terms of absolute values in the nordic region. China is nowhere to be found in the top 20 of exports."
   ],
   "metadata": {
    "collapsed": false,
    "pycharm": {
     "name": "#%% md\n"
    }
   }
  },
  {
   "cell_type": "markdown",
   "source": [
    "#### Import / Export comparison\n",
    "\n",
    "In this section we visualize the key points of the previous section"
   ],
   "metadata": {
    "collapsed": false,
    "pycharm": {
     "name": "#%% md\n"
    }
   }
  },
  {
   "cell_type": "code",
   "execution_count": null,
   "outputs": [],
   "source": [
    "import matplotlib.pyplot as plt\n",
    "import numpy as np"
   ],
   "metadata": {
    "collapsed": false,
    "pycharm": {
     "name": "#%%\n"
    }
   }
  },
  {
   "cell_type": "code",
   "execution_count": null,
   "outputs": [],
   "source": [
    "fish_Im = pd.read_csv(\"data/FAOSTAT_import.csv\")\n",
    "fish_Ex = pd.read_csv(\"data/FAOSTAT_export.csv\")\n",
    "\n",
    "fish_Im = fish_Im.drop(\n",
    "    [\"Domain Code\", \"Domain\", \"Area Code (FAO)\", \"Element Code\", \"Element\", \"Item Code\", \"Item\", \"Year Code\", \"Unit\", \"Flag\", \"Flag Description\"],\n",
    "    axis=1);\n",
    "# These are not present in export and not notable countries\n",
    "fish_Im = fish_Im.loc[fish_Im[\"Area\"] != \"Tajikistan\"];\n",
    "fish_Im = fish_Im.loc[fish_Im[\"Area\"] != \"Afghanistan\"];\n",
    "\n",
    "fish_Ex = fish_Ex.drop(\n",
    "    [\"Domain Code\", \"Domain\", \"Area Code (FAO)\", \"Element Code\", \"Element\", \"Item Code\", \"Item\", \"Year Code\", \"Unit\", \"Flag\", \"Flag Description\"],\n",
    "    axis=1);"
   ],
   "metadata": {
    "collapsed": false,
    "pycharm": {
     "name": "#%%\n"
    }
   }
  },
  {
   "cell_type": "code",
   "execution_count": null,
   "outputs": [],
   "source": [
    "# Sort on highest import values\n",
    "Im_lastyear = fish_Im.loc[fish_Im[\"Year\"] == 2019].sort_values(\"Value\", axis=0, ignore_index=True, ascending=False)\n",
    "Ex_lastyear = fish_Ex.loc[fish_Ex[\"Year\"] == 2019]\n",
    "\n",
    "Ex_lastyear = Ex_lastyear.set_index('Area');\n",
    "Ex_lastyear = Ex_lastyear.reindex(index=Im_lastyear[\"Area\"]);\n",
    "Ex_lastyear.reset_index();\n",
    "\n",
    "Im_lastyear = Im_lastyear.set_index('Area');"
   ],
   "metadata": {
    "collapsed": false,
    "pycharm": {
     "name": "#%%\n"
    }
   }
  },
  {
   "cell_type": "code",
   "execution_count": null,
   "outputs": [],
   "source": [
    "# ALTERNATIVELY\n",
    "# Sort on highest export values\n",
    "Im_lastyear = fish_Im.loc[fish_Im[\"Year\"] == 2019]\n",
    "Ex_lastyear = fish_Ex.loc[fish_Ex[\"Year\"] == 2019].sort_values(\"Value\", axis=0, ignore_index=True, ascending=False)\n",
    "\n",
    "Im_lastyear = Im_lastyear.set_index('Area');\n",
    "Im_lastyear = Im_lastyear.reindex(index=Ex_lastyear[\"Area\"]);\n",
    "Im_lastyear.reset_index();\n",
    "\n",
    "Ex_lastyear = Ex_lastyear.set_index('Area');"
   ],
   "metadata": {
    "collapsed": false,
    "pycharm": {
     "name": "#%%\n"
    }
   }
  },
  {
   "cell_type": "code",
   "execution_count": null,
   "outputs": [],
   "source": [
    "# show only the top N countries (set 178 for all)\n",
    "N = 20\n",
    "plt.rcParams['figure.figsize'] = [5, 5 + (N * 70 / 178)]\n",
    "y_axis = Im_lastyear[0:N].index\n",
    "x_axis_Im = Im_lastyear[\"Value\"][0:N]\n",
    "x_axis_Ex = Ex_lastyear[\"Value\"][0:N]"
   ],
   "metadata": {
    "collapsed": false,
    "pycharm": {
     "name": "#%%\n"
    }
   }
  },
  {
   "cell_type": "code",
   "execution_count": null,
   "outputs": [],
   "source": [
    "# Visualization\n",
    "fig, ax = plt.subplots()\n",
    "\n",
    "ind = np.arange(N)\n",
    "width = 0.3\n",
    "\n",
    "ax.barh(ind, x_axis_Im, width)  # IMPORT\n",
    "ax.barh(ind + width, x_axis_Ex, width)  # EXPORT\n",
    "\n",
    "ax.set(yticks=ind + width / 2, yticklabels=y_axis, ylim=[2 * width - 1, len(y_axis)])\n",
    "\n",
    "plt.rcParams[\"legend.loc\"] = 'lower right'\n",
    "ax.legend(['Import', 'Export'])\n",
    "\n",
    "plt.xlabel(\"1000 tons\")\n",
    "plt.ylabel(\"Country\")\n",
    "plt.title(\"Fish import/export per country\", fontdict={'fontsize': 14})\n",
    "\n",
    "# to show highest at the top\n",
    "plt.gca().invert_yaxis()\n",
    "\n",
    "plt.show()"
   ],
   "metadata": {
    "collapsed": false,
    "pycharm": {
     "name": "#%%\n"
    }
   }
  },
  {
   "cell_type": "markdown",
   "source": [
    "In terms of impact it is evident that China is a significant contributor to the global import and export. Moreover, in 5th place we have the representative of the nordic region, Norway. Interestingly we find that Norway exports more than they import and vice versa for China."
   ],
   "metadata": {
    "collapsed": false,
    "pycharm": {
     "name": "#%% md\n"
    }
   }
  },
  {
   "cell_type": "markdown",
   "source": [
    "# Data Analysis\n",
    "\n",
    "In this section we will present our more detailed analysis and visualization in terms of fishing methods, correlations, historical trends and eating habits.\n",
    "\n",
    "The key points and describing text will still exist on the website. This section serves to show how the plots \"came alive\""
   ],
   "metadata": {
    "collapsed": false,
    "pycharm": {
     "name": "#%% md\n"
    }
   }
  },
  {
   "cell_type": "markdown",
   "source": [
    "### Capture fishery production and fishing gear\n",
    "\n",
    "First we visualize and try to understand fishing methods in China and Norway better."
   ],
   "metadata": {
    "collapsed": false,
    "pycharm": {
     "name": "#%% md\n"
    }
   }
  },
  {
   "cell_type": "code",
   "execution_count": null,
   "outputs": [],
   "source": [
    "fish_prod = pd.read_csv('data/capture-fisheries-vs-aquaculture.csv')\n",
    "fish_prod = fish_prod.set_index('Year')\n",
    "fish_prod.query('Entity == \"China\"').plot(figsize=(8, 5), title='Capture fisheries and aquaculture in China',ylabel='tons')\n"
   ],
   "metadata": {
    "collapsed": false,
    "pycharm": {
     "name": "#%%\n"
    }
   }
  },
  {
   "cell_type": "code",
   "execution_count": null,
   "outputs": [],
   "source": [
    "fish_prod.query('Entity == \"Norway\"').plot(figsize=(8, 5), title='Capture fisheries and aquaculture in Norway',ylabel='tons')\n"
   ],
   "metadata": {
    "collapsed": false,
    "pycharm": {
     "name": "#%%\n"
    }
   }
  },
  {
   "cell_type": "markdown",
   "source": [
    "Generally, the trend of _aquaculture_ is still much on the rise. And it seems that China is better at focusing on aquaculture rather than capture fisheries. Though we should keep in mind that in terms of absolute numbers, China is still significantly ahead of Norway (10 times more). Norway seems to not focus as much on aquaculture and still has roots in traditional capture fishing methods.\n",
    "\n",
    "Let's take a look at the top 10 capture fishery producers."
   ],
   "metadata": {
    "collapsed": false,
    "pycharm": {
     "name": "#%% md\n"
    }
   }
  },
  {
   "cell_type": "code",
   "execution_count": null,
   "outputs": [],
   "source": [
    "fish_prod_lastyear = fish_prod.query('Year == 2017')\n",
    "fish_prod_lastyear = fish_prod_lastyear.sort_values(\"Capture fisheries production (metric tons)\", axis=0, ascending=False)\n",
    "fish_prod_lastyear.head()"
   ],
   "metadata": {
    "collapsed": false,
    "pycharm": {
     "name": "#%%\n"
    }
   }
  },
  {
   "cell_type": "code",
   "execution_count": null,
   "outputs": [],
   "source": [
    "fish_prod_lastyear_country = fish_prod_lastyear.loc[fish_prod_lastyear[\"Code\"].notnull()]\n",
    "fish_prod_lastyear_other = fish_prod_lastyear.loc[fish_prod_lastyear[\"Code\"].isnull()]"
   ],
   "metadata": {
    "collapsed": false,
    "pycharm": {
     "name": "#%%\n"
    }
   }
  },
  {
   "cell_type": "code",
   "execution_count": null,
   "outputs": [],
   "source": [
    "# show only the top N countries (set 215 for all)\n",
    "N = 10\n",
    "\n",
    "plt.rcParams['figure.figsize'] = [5, 5 + (N * 70 / 215)]\n",
    "\n",
    "fig = plt.figure()\n",
    "\n",
    "y_axis = fish_prod_lastyear_country[\"Entity\"][0:N]\n",
    "x_axis = fish_prod_lastyear_country[\"Capture fisheries production (metric tons)\"][0:N]\n",
    "plt.barh(y_axis, x_axis, height=0.8)\n",
    "\n",
    "plt.xlabel(\"Metric tons\")\n",
    "plt.ylabel(\"Country\")\n",
    "plt.title(\"\", fontdict={'fontsize': 14})\n",
    "\n",
    "# to show highest at the top\n",
    "plt.gca().invert_yaxis()\n",
    "\n",
    "plt.show()"
   ],
   "metadata": {
    "collapsed": false,
    "pycharm": {
     "name": "#%%\n"
    }
   }
  },
  {
   "cell_type": "markdown",
   "source": [
    "Again we see China as a major factor in production through capture fisheries. And yet again, the closest rival in the nordic and european region is Norway.\n",
    "\n",
    "The key problem of capture fisheries isn't that we capture fish in the wild. It's about *how* we do it. Therefore, we further investigate which methods each country uses for capture fishery"
   ],
   "metadata": {
    "collapsed": false,
    "pycharm": {
     "name": "#%% md\n"
    }
   }
  },
  {
   "cell_type": "code",
   "execution_count": null,
   "outputs": [],
   "source": [
    "def plot_fishing_type(df, country):\n",
    "    methods = ['longline', 'gillnet', 'small_scale', 'purse_seine', 'pelagic trawl', 'bottom_trawl', 'gear']\n",
    "\n",
    "    df_plot = pd.melt(df.reset_index(), ['Year', 'Entity'], methods, var_name='Fishing Type', value_name='Tonnes')\n",
    "\n",
    "    fig = px.area(df_plot.query(f'Entity == \"{country}\"'), x='Year', y='Tonnes', color='Fishing Type')\n",
    "\n",
    "    fig.update_layout(\n",
    "        title=dict(\n",
    "            text=f'Amount of fish caught by fishing type from 1950 to 2018<br><sup>{country}</sup>'\n",
    "        ),\n",
    "        xaxis=dict(\n",
    "            showgrid=False\n",
    "        ),\n",
    "        yaxis=dict(\n",
    "            showgrid=False\n",
    "        ),\n",
    "    )\n",
    "\n",
    "    return fig"
   ],
   "metadata": {
    "collapsed": false,
    "pycharm": {
     "name": "#%%\n"
    }
   }
  },
  {
   "cell_type": "code",
   "execution_count": null,
   "outputs": [],
   "source": [
    "from plots.data import get_fishing_types\n",
    "\n",
    "df_fish_methods = get_fishing_types()\n",
    "\n",
    "fig = plot_fishing_type(df_fish_methods, 'Norway')\n",
    "fig.show()\n"
   ],
   "metadata": {
    "collapsed": false,
    "pycharm": {
     "name": "#%%\n"
    }
   }
  },
  {
   "cell_type": "code",
   "execution_count": null,
   "outputs": [],
   "source": [
    "fig = plot_fishing_type(df_fish_methods, 'China')\n",
    "fig.show()"
   ],
   "metadata": {
    "collapsed": false,
    "pycharm": {
     "name": "#%%\n"
    }
   }
  },
  {
   "cell_type": "markdown",
   "source": [
    "It's very clear from these plots that they have a significant proportion of bottom trawling in China compared to Norway. This is a big motivator for our story as our research shows that bottom trawling is one of the methods with the highest impact on the environment. And taking China's numbers into account, this effect is worsened by almost a factor of 10 compared to Norway."
   ],
   "metadata": {
    "collapsed": false,
    "pycharm": {
     "name": "#%% md\n"
    }
   }
  },
  {
   "cell_type": "markdown",
   "source": [
    "## Global consumption trend\n",
    "\n",
    "We wanted to analyse the global trend and make a simple linear regression to describe the current trend."
   ],
   "metadata": {
    "collapsed": false,
    "pycharm": {
     "name": "#%% md\n"
    }
   }
  },
  {
   "cell_type": "code",
   "execution_count": null,
   "outputs": [],
   "source": [
    "df = get_consumption()"
   ],
   "metadata": {
    "collapsed": false,
    "pycharm": {
     "name": "#%%\n"
    }
   }
  },
  {
   "cell_type": "code",
   "execution_count": null,
   "outputs": [],
   "source": [
    "from sklearn.linear_model import LinearRegression\n",
    "import plotly.graph_objects as go\n",
    "\n",
    "df_agg = df.groupby([\"Year\"]).mean().reset_index()\n",
    "\n",
    "lr = LinearRegression()\n",
    "lr.fit(df_agg['Year'].values.reshape(-1, 1), df_agg['consumption'])\n",
    "\n",
    "df_preds = pd.DataFrame(df_agg['Year'].copy())\n",
    "\n",
    "df_preds['consumption'] = lr.predict(df_agg['Year'].values.reshape(-1, 1))\n",
    "\n",
    "fig = go.Figure()\n",
    "\n",
    "fig.add_trace(\n",
    "    go.Scatter(x=df_preds['Year'], y=df_preds['consumption'],\n",
    "               name='Trend')\n",
    ")\n",
    "fig.add_trace(\n",
    "    go.Scatter(x=df_agg['Year'], y=df_agg['consumption'],\n",
    "               name='Consumption')\n",
    ")\n",
    "\n",
    "equation = f\"Consumption = {lr.coef_[0]:.2f} * Year - {abs(lr.intercept_):.2f}\"\n",
    "\n",
    "fig.add_annotation(\n",
    "    x=1994,\n",
    "    y=df_preds.query('Year == 1994')['consumption'].iloc[0],\n",
    "    text=equation,\n",
    "    font=dict(\n",
    "        size=13\n",
    "    ),\n",
    "    ax=-100,\n",
    "    ay=-60,\n",
    "    arrowhead=2,\n",
    "    arrowsize=1,\n",
    "    arrowwidth=2,\n",
    "    borderwidth=2,\n",
    "    bordercolor=\"#c7c7c7\",\n",
    "    borderpad=4,\n",
    "    arrowcolor='#c7c7c7'\n",
    ")\n",
    "\n",
    "fig.update_layout(\n",
    "    title='Average global fish-seafood consumption from 1967 to 2017',\n",
    "    xaxis=dict(\n",
    "        title='Year',\n",
    "        showgrid=False\n",
    "    ),\n",
    "    yaxis=dict(\n",
    "        title='Fish-seafood (kg / capita)',\n",
    "        showgrid=True),\n",
    ")"
   ],
   "metadata": {
    "collapsed": false,
    "pycharm": {
     "name": "#%%\n"
    }
   }
  },
  {
   "cell_type": "markdown",
   "source": [
    "The plot above shows the average global consumption of fish and seafood from 1967 to 2017. Moreover, on top of the consumption line, there's a trend line found with linear regression. The coefficient shows that there is a 0.12 kg / capita increase per year on the global average. It clearly shows that there is a steady increase. Comparing this to the plot on sustainability and over-fishing, we see that the trend in both plots is that eating more results in more overexploitation of fish."
   ],
   "metadata": {
    "collapsed": false,
    "pycharm": {
     "name": "#%% md\n"
    }
   }
  },
  {
   "cell_type": "markdown",
   "source": [
    "## GDP vs Consumption\n",
    "\n",
    "Finally, we analyse the relationships between a country's GDP and it's consumption"
   ],
   "metadata": {
    "collapsed": false,
    "pycharm": {
     "name": "#%% md\n"
    }
   }
  },
  {
   "cell_type": "code",
   "execution_count": null,
   "outputs": [],
   "source": [
    "from plots.data import get_gdp\n",
    "\n",
    "df_gdp = get_gdp()"
   ],
   "metadata": {
    "collapsed": false,
    "pycharm": {
     "name": "#%%\n"
    }
   }
  },
  {
   "cell_type": "code",
   "execution_count": null,
   "outputs": [],
   "source": [
    "df_gdp = df_gdp.query('[\"Norway\", \"China\"] in `Country Name`')\n",
    "\n",
    "df_plot = pd.merge(df_gdp,\n",
    "                   df_consumption.rename({'Code': 'Country Code'}, axis=1)[['consumption', 'Country Code', 'Year']],\n",
    "                   on=['Country Code', 'Year'])"
   ],
   "metadata": {
    "collapsed": false,
    "pycharm": {
     "name": "#%%\n"
    }
   }
  },
  {
   "cell_type": "markdown",
   "source": [
    "After merging the GDP and consumption data, we plot an inital plot."
   ],
   "metadata": {
    "collapsed": false,
    "pycharm": {
     "name": "#%% md\n"
    }
   }
  },
  {
   "cell_type": "code",
   "execution_count": null,
   "outputs": [],
   "source": [
    "fig = px.scatter(df_plot,\n",
    "                 x='gdp_pr_capita',\n",
    "                 y='consumption',\n",
    "                 color='Country Code',\n",
    "                 hover_name='Year')\n",
    "\n",
    "fig.show()"
   ],
   "metadata": {
    "collapsed": false,
    "pycharm": {
     "name": "#%%\n"
    }
   }
  },
  {
   "cell_type": "markdown",
   "source": [
    "The x-axis is definitely out of proportion. It looks like there's some kind of log(x) relation. Let's try to log the x axis."
   ],
   "metadata": {
    "collapsed": false,
    "pycharm": {
     "name": "#%% md\n"
    }
   }
  },
  {
   "cell_type": "code",
   "execution_count": null,
   "outputs": [],
   "source": [
    "fig = px.scatter(df_plot,\n",
    "                 x='gdp_pr_capita',\n",
    "                 y='consumption',\n",
    "                 color='Country Code',\n",
    "                 log_x=True,\n",
    "                 hover_name='Year')\n",
    "fig.update_layout(\n",
    "    xaxis=dict(\n",
    "        title='log(gdp_pr_capita)'\n",
    "    )\n",
    ")\n",
    "fig.show()"
   ],
   "metadata": {
    "collapsed": false,
    "pycharm": {
     "name": "#%%\n"
    }
   }
  },
  {
   "cell_type": "markdown",
   "source": [
    "Here we get a much more linear line! Great, this we can use for fitting a linear trendline."
   ],
   "metadata": {
    "collapsed": false,
    "pycharm": {
     "name": "#%% md\n"
    }
   }
  },
  {
   "cell_type": "code",
   "execution_count": null,
   "outputs": [],
   "source": [
    "fig = px.scatter(df_plot,\n",
    "                 x='gdp_pr_capita',\n",
    "                 y='consumption',\n",
    "                 color='Country Code',\n",
    "                 log_x=True,\n",
    "                 hover_name='Year',\n",
    "                 trendline='ols',\n",
    "                 trendline_options=dict(log_x=True),\n",
    "                 trendline_scope='overall')\n",
    "\n",
    "df_plot['gdp_pr_capita_log'] = np.log(df_plot['gdp_pr_capita'])\n",
    "corr = df_plot[['gdp_pr_capita_log', 'consumption']].corr().iloc[0, 1]\n",
    "\n",
    "fig.add_annotation(text=f\"Pearson-Spearman correlation: {corr:.2f}\",\n",
    "                   xref=\"paper\", yref=\"paper\",\n",
    "                   x=0.1, y=0.95,\n",
    "                   showarrow=False,\n",
    "                   bordercolor=\"#c7c7c7\",\n",
    "                   borderwidth=2,\n",
    "                   borderpad=10,\n",
    "                   font=dict(\n",
    "                       size=15\n",
    "                   )\n",
    "                   )\n",
    "\n",
    "fig.update_layout(\n",
    "    title=dict(\n",
    "        text='Consumption vs GDP pr capita from 1961 to 2017'\n",
    "    ),\n",
    "    xaxis=dict(\n",
    "        title='Log(GDP / capita)'\n",
    "    ),\n",
    "    yaxis=dict(\n",
    "        title='Fish-seafood (kg / capita)'\n",
    "    )\n",
    ")\n"
   ],
   "metadata": {
    "collapsed": false,
    "pycharm": {
     "name": "#%%\n"
    }
   }
  },
  {
   "cell_type": "markdown",
   "source": [
    "It's quite clear that when looking at a country's log(GDP) and their fish-seafood consumption, that the higher GDP you have, the more likely it is that you will consume more fish and seafood in the country. There is a slight overlap between the two countries at log(GDP) = [2 - 3] but generally the trendline follows the points closely and the Pearson-Spearman correlation shows a strong correlation between the two variables, consumption and GDP"
   ],
   "metadata": {
    "collapsed": false,
    "pycharm": {
     "name": "#%% md\n"
    }
   }
  },
  {
   "cell_type": "markdown",
   "source": [
    "## Protein supply and emissions\n",
    "\n",
    "In this section, we will cover our analysis for the protein supply and emissions in Norway and China"
   ],
   "metadata": {
    "collapsed": false,
    "pycharm": {
     "name": "#%% md\n"
    }
   }
  },
  {
   "cell_type": "code",
   "execution_count": null,
   "outputs": [],
   "source": [
    "from plots.data import get_protein\n",
    "\n",
    "protein = get_protein()"
   ],
   "metadata": {
    "collapsed": false,
    "pycharm": {
     "name": "#%%\n"
    }
   }
  },
  {
   "cell_type": "code",
   "execution_count": null,
   "outputs": [],
   "source": [
    "protein_sum = protein.sum(axis=1)\n",
    "\n",
    "protein_cds = {'countries': list(protein.index.values)}\n",
    "\n",
    "# Calculate fraction so we get range from 0 to 100%\n",
    "for food in list(protein.columns):\n",
    "    protein_cds[food] = list((protein[food].values / protein_sum) * 100)\n",
    "\n",
    "df_plot = pd.DataFrame.from_dict(protein_cds)\n",
    "df_plot = pd.melt(df_plot, ['countries'], df_plot.columns[1:],\n",
    "                  var_name='Protein source',\n",
    "                  value_name='Protein amount')\n",
    "df_plot = df_plot.sort_values('Protein source', ascending=False)\n",
    "\n",
    "fig = px.bar(df_plot,\n",
    "             x='Protein amount',\n",
    "             y='countries',\n",
    "             color='Protein source',\n",
    "             orientation='h')\n",
    "\n",
    "fig.update_layout(\n",
    "    title='Distribution of protein sources<br><sup>China vs Norway</sup>',\n",
    "    xaxis=dict(\n",
    "        title='Protein distribution (%)',\n",
    "        showgrid=True\n",
    "    ),\n",
    "    yaxis=dict(\n",
    "        title='Country'\n",
    "    ),\n",
    "    width=1200\n",
    ")"
   ],
   "metadata": {
    "collapsed": false,
    "pycharm": {
     "name": "#%%\n"
    }
   }
  },
  {
   "cell_type": "markdown",
   "source": [
    "In general, it's clear that there are cultural differences in terms of where the two countries get their protein from. The first thing we notice, is that they eat much more pork in China than Norway. And since people in Asia tend to be lactose intolerant, it's no surprise that they drink more milk in Norway than China. However, the most interesting thing is that they eat the _same_ amount of fish and seafood with respect to their population size and protein intake.\n",
    "\n",
    "Let's take a look at the GHG emissions from eating these types of food."
   ],
   "metadata": {
    "collapsed": false,
    "pycharm": {
     "name": "#%% md\n"
    }
   }
  },
  {
   "cell_type": "code",
   "execution_count": null,
   "outputs": [],
   "source": [
    "from plots.data import get_protein_ghg\n",
    "\n",
    "df_ghg = get_protein_ghg()"
   ],
   "metadata": {
    "collapsed": false,
    "pycharm": {
     "name": "#%%\n"
    }
   }
  },
  {
   "cell_type": "code",
   "execution_count": null,
   "outputs": [],
   "source": [
    "df_ghg = df_ghg.sort_values('Protein source', ascending=False)\n",
    "\n",
    "fig = px.bar(df_ghg,\n",
    "             x='Protein source',\n",
    "             y='Emissions',\n",
    "             color='Protein source',\n",
    "             )\n",
    "\n",
    "fig.update_layout(\n",
    "    title='Protein source GHG emissions per 100g protein from 2017',\n",
    "    xaxis=dict(\n",
    "        title='Protein source'\n",
    "    ),\n",
    "    yaxis=dict(\n",
    "        title='GHG emissions pr 100g protein'\n",
    "    )\n",
    ")\n"
   ],
   "metadata": {
    "collapsed": false,
    "pycharm": {
     "name": "#%%\n"
    }
   }
  },
  {
   "cell_type": "markdown",
   "source": [
    "It's very clear that eating \"Beef\" and \"Lamb & Goat\" produces a lot of Greenhouse Gasses. Compared to Fish and Seafood, Beef emits 20 times more GHG and \"Lamb & Goat\" emits 4 times more. Out of all the options, Fish and Seafood is only beaten by Poultry (slightly) and Eggs.\n",
    "\n",
    "This motivates a shift towards more Fish and Seafood as a primary protein source. But are there specific types of fish that we should eat, in order to still be considerate towards the environment?"
   ],
   "metadata": {
    "collapsed": false,
    "pycharm": {
     "name": "#%% md\n"
    }
   }
  },
  {
   "cell_type": "code",
   "execution_count": null,
   "outputs": [],
   "source": [
    "from plots.data import get_aquaculture_emissions\n",
    "\n",
    "df_aqua_emissions = get_aquaculture_emissions()"
   ],
   "metadata": {
    "collapsed": false,
    "pycharm": {
     "name": "#%%\n"
    }
   }
  },
  {
   "cell_type": "code",
   "execution_count": null,
   "outputs": [],
   "source": [
    "fig = px.bar(df_aqua_emissions,\n",
    "                 x='Amount',\n",
    "                 y='Entity',\n",
    "                 color='Emission Types',\n",
    "                 orientation='h',\n",
    "                 )\n",
    "\n",
    "fig.update_layout(\n",
    "    title='Emissions from aquaculture farming different species',\n",
    "    xaxis=dict(\n",
    "        title='Amount (kg / tonne edible weight)'\n",
    "    ),\n",
    "    yaxis=dict(\n",
    "        title='Farmed species'\n",
    "    ),\n",
    "    width=800,\n",
    ")"
   ],
   "metadata": {
    "collapsed": false,
    "pycharm": {
     "name": "#%%\n"
    }
   }
  },
  {
   "cell_type": "markdown",
   "source": [
    "Nitrogen and phosphorus nutrients are the main sources of pollution in aquaculture. As we can see, except seaweed and blvalves, other aquaculture speices can increase the level of total nitrogen and phosphorus in aquaculture water. Once the self-purification capacity of the water is exceeded, eutrophication will be formed. Although farming seaweed and bivales are environmentally friendly species, they are not the main food source. Furthermore, these tend not to provide enough protein, fats and vitamins as traditional fish. Hence, if we do aquaculture in an unsustainable way, it will seriously affect the ecological environment."
   ],
   "metadata": {
    "collapsed": false,
    "pycharm": {
     "name": "#%% md\n"
    }
   }
  },
  {
   "cell_type": "markdown",
   "source": [
    "# Genre\n",
    "\n",
    "This section will cover how we followed the philosophy of [Segal and Heer](http://vis.stanford.edu/files/2010-Narrative-InfoVis.pdf) on _Narrative Visualization_"
   ],
   "metadata": {
    "collapsed": false,
    "pycharm": {
     "name": "#%% md\n"
    }
   }
  },
  {
   "cell_type": "markdown",
   "source": [
    "## Which genre\n",
    "\n",
    "The authors present seven genres:\n",
    "\n",
    "* Magazine Style\n",
    "* Annotated Chart\n",
    "* Partitioned Poster\n",
    "* Flow Chart\n",
    "* Comic Strip\n",
    "* Slide Show\n",
    "* Film/Video/Animation\n",
    "\n",
    "From these, our paper mainly follows the **Magazine Style** genre. However, as the authors emphasize, these are basic genres and the tradeoffs between author-driven and reader-driven stories require context-specific consideration and judgement.\n",
    "\n",
    "Our story is told through a sequence of topics that each contribute to a developing story where initially the reader is presented to a broad subject but guided towards a specific conclusion towards the end. This way of telling a story is primarily author-driven and fits the magazine style genre. Due to the author-driven nature of this genre, we realized that we had to make the layout of the website pleasing to look at whilst communicating the results efficiently and keeping the reader engaged. This shifted our focus to adopting some more reader-driven approaches.\n",
    "\n",
    "Moreover, our data is indeed very complex as it originates from 11 different files and covers a wide variety of perspectives all from global fishing industries to greenhouse gas emissions from farmed agricultural fish. Therefore, to balance the author-driven and reader-driven aspects, we have taken inspiration from the \"Interactive Slideshow\" which emphasizes that complex datasets is often well-suited for this format, as _it allows the author to draw discrete boundaries between story segments_.\n"
   ],
   "metadata": {
    "collapsed": false,
    "pycharm": {
     "name": "#%% md\n"
    }
   }
  },
  {
   "cell_type": "markdown",
   "source": [
    "## Visual Narrative\n",
    "\n",
    "The visual narrative is split into three main components\n",
    "\n",
    "1) Visual Structuring\n",
    "2) Highlighting\n",
    "3) Transition Guidance\n",
    "\n",
    "Each component contributes to different parts of the visual narrative. The visual structuring (1) refers to mechanisms that communicate the overall structure of the narrative to the reader. The highlighting (2) draws attention to specific components of a narrative through use of color, motion, framing, size and more. Finally, transition guidance (3) touches upon how the reader is guided from one part of a visualization to either another part or entirely different visualization, without disorienting the reader."
   ],
   "metadata": {
    "collapsed": false,
    "pycharm": {
     "name": "#%% md\n"
    }
   }
  },
  {
   "cell_type": "markdown",
   "source": [
    "\n",
    "We make use of the following techniques from the visual narrative:\n",
    "\n",
    "### Visual Structuring\n",
    "* **Progress Bar / Timebar**\n",
    "* **Consistent Visual Platform**\n",
    "\n",
    "We made use of the progress bar as it gives the reader a nice way of interacting with the graph and seeing the development over time. We chose to go with a consistent visual platform to make the aesthetics feel more connected and in a flow, which would also help guide the flow of the content (story). This can be seen in using the same color scheme across all plots and also using the same plotting backend (plotly). Having too many inconsistencies can result in disorientation.\n",
    "\n",
    "### Highlighting\n",
    "* **Feature Distinction**\n",
    "\n",
    "We make use of feature distinction because it clearly showcases where and what the reader should be trying to look at or interact with. For example, the reader is initially met with\n",
    "a section of \"Tabs\" that indicate a slight blue color when hovered over, telling the reader to click each tab. Then under the \"Industry\" tab, colors are used to highlight four buttons that describe different areas of the fishing industry.\n",
    "\n",
    "### Transition Guidance\n",
    "* **Familiar Objects**\n",
    "* **Object Continuity**\n",
    "\n",
    "The transition guidance is important to make sure the reader feels compelled to continue reading the story. There are a bunch of strategies that one can use, for example encourage the use of reader-driven designs. Another strategy is to make the transition between content smooth and seamless. Since the magazine style genre is inherently linear, we try our best to create a more encouring journey through our story by using the transition guidance principles. For this reason, we chose to focus a lot on Familiar Objects and Object Continuity. We ensure this by creating plots that originate from the same backend (plotly), using the same color schemes (`\n",
    "_plot` decorator), and roughly the same font and sizes. Whilst all being structured in the familiar two column layout with a few exceptions to keep the design from being too repetitive."
   ],
   "metadata": {
    "collapsed": false,
    "pycharm": {
     "name": "#%% md\n"
    }
   }
  },
  {
   "cell_type": "markdown",
   "source": [
    "## Narrative Structure\n",
    "\n",
    "The narrative structure of a visualization is more concerned about the content and message that each visualization brings to the narrative. This division is broken into three parts:\n",
    "\n",
    "1. Ordering\n",
    "2. Interactivity\n",
    "3. Messaging\n",
    "\n",
    "The ordering (1) is concerned on which path the reader can take through the narrative, such as a linear (author-driven) path, user-chosen or a random path. The interactivity (2) is concerned about ways that the reader can select, search and navigate each visualization, and also how the reader learns about these interactions. The final section, messaging (3) is about the ways a visualization communicates observations and results to the reader."
   ],
   "metadata": {
    "collapsed": false,
    "pycharm": {
     "name": "#%% md\n"
    }
   }
  },
  {
   "cell_type": "markdown",
   "source": [
    "We have structured our story according to the following categories:\n",
    "\n",
    "### Ordering\n",
    "* **Linear**\n",
    "\n",
    "As the story tries to follow the Interactive Slideshow format, it is primarily a linear path that the reader is forced to take. However, in the absolute beginning of the story we try to let the reader make some choices by viewing the different tabs. Each tab will then present some accompanying text to describe the plot. This will make the path seem less linear whilst still ensuring that the reader will progress naturally to the next chapter below once all tabs have been explored.\n",
    "\n",
    "### Interactivity\n",
    "* **Hover Highlighting**\n",
    "* **Filtering / Selection / Search**\n",
    "\n",
    "In terms of interactivty, all the plots have the option to provide more detailed information when hovering. Moreover, the filtering and selection functionalities have been implemented as the reader can optionally add or remove groups from plots, and also zoom in / select specific points of the plots that they want to further enhance. This ensures that each chapter has some sort of depth to it (additional information can be retrieved by interacting with the plots), and in turn reduces the static feel of the magazine genre. However, this is hard to enforce when we also have to make sure that the reader does not get lost in the different datasets.\n",
    "\n",
    "### Messaging\n",
    "* **Captions / Headlines**\n",
    "* **Annotations**\n",
    "* **Accompanying Article**\n",
    "\n",
    "In terms of messaging, we try as much as possible to keep the visualizations informative on their own. However, the reader must be guided to some extent as the authors argue is a property of an \"Interactive Slideshow\". Therefore, we provide captions and headlines for each section while annotating some plots where necessary (trend lines). Moreover, every plot has an accompanying article as much of the information can only be explained by associating the plots with our research, such as what effect Phosphorous and Nitrogen has on the ocean environments.\n"
   ],
   "metadata": {
    "collapsed": false,
    "pycharm": {
     "name": "#%% md\n"
    }
   }
  },
  {
   "cell_type": "markdown",
   "source": [
    "# Visualizations\n",
    "\n",
    "This section will cover the visualization techniques we used on the website and why"
   ],
   "metadata": {
    "collapsed": false,
    "pycharm": {
     "name": "#%% md\n"
    }
   }
  },
  {
   "cell_type": "markdown",
   "source": [
    "## Choropleth maps\n",
    "\n",
    "The two main choropleth maps: global fish consumption and global fishing industry (has four parts) are some of the first plots that are presented to the reader. Our story starts from a birds-eye view of the problem and has yet to dive into Norway and China specifically. The best way to give the reader this birds-eye overview is to do exactly that: give them a birds-eye overview. This is best done as a choropleth map that enables a high level of interactivity whilst still giving plenty of information in terms of hover actions and colors aligned by a colorbar.\n",
    "\n",
    "Moreover, one of the first topics that we communicate to the reader is the historical development. This goes well with having a multi-dimensional choropleth map of consumption, that shows the progression over time from 1961 to 2017."
   ],
   "metadata": {
    "collapsed": false,
    "pycharm": {
     "name": "#%% md\n"
    }
   }
  },
  {
   "cell_type": "markdown",
   "source": [
    "## Line and trendline plots\n",
    "\n",
    "Line and trendline plots are used to show how factors such as average global fish consumption and fish production types develop over time, either individually or by comparing development across groups. Given the nature of line plots, it's intuitive for the reader to have time as an x-axis component and a variable on the y-axis. Different colors on the graph can indicate multiple groups within the same year, or the existence of a trend such as the average global fish consumption trend.\n",
    "\n",
    "Interestingly, the GDP vs consumption plot differs from the other line and trendline plots in terms of what is on the axis. In this plot, we use the two variables: GDP per capita and consumption (kg / capita) as axes. Moreover, an overall trend is used along with a textbox of the Pearson-Spearman correlation to truly emphasise and communicate the correlation between GDP and seafood consumption. Finally, we separate the points by nation (China vs Norway) to further show where the two countries lie on the trend.\n",
    "\n",
    "Overall, the line and trendline plots shows both development over time and how variables correlate with one another."
   ],
   "metadata": {
    "collapsed": false,
    "pycharm": {
     "name": "#%% md\n"
    }
   }
  },
  {
   "cell_type": "markdown",
   "source": [
    "## Area plots\n",
    "\n",
    "We make use of area plots when we want to show how one metric is separated into smaller components. The first example is the 'Overfishing' tab which shows an area plot of global overexploited fishing vs sustainable fishing. Of course the sum of those should always be 100% which is why we use the area beneath the curve to show that the sum across variables add to 100%.\n",
    "\n",
    "This method is repeated for the 'Fishing Methods' section where the two area plots show the proportion of each fishing method. The area plots are similar to line plots in the way that they are both essentially lines and has an intuitive interpretation with time on the x-axis. However, the area plots are better at showing proportions of groups. Which is very similar to a vertical stacked bar chart. We chose to maintain the area plot for the fishing methods as it has good aesthetics without losing the message (clearly more bottom trawling in China) and most importantly; we are able to intuitively add a time-dimension."
   ],
   "metadata": {
    "collapsed": false,
    "pycharm": {
     "name": "#%% md\n"
    }
   }
  },
  {
   "cell_type": "markdown",
   "source": [
    "## Bar plots\n",
    "Bar plots are excellent at comparing two or more groups against each other as the scale of the bar often make is much easier to understand how groups compare in terms of size. There are multiple ways of utilizing this feature. We chose to plot both vertical and horizontal bar plots.\n",
    "\n",
    "### Vertical\n",
    "\n",
    "The only vertical bar plot we have is the one on Protein source GHG emissions. This plot highlights the worst protein sources in terms of GHG emissions by showing how Beef and Lamb & Goat compare to other protein sources. Moreover, it also shows how little Fish and Seafood emits compared to the other sources. And due to plotly's interactivity, the reader can deselect the Beef group and look at how the groups compare without such a significant outlier. We deem that these insights are best communicated in a vertical bar plot.\n",
    "\n",
    "### Horizontal\n",
    "\n",
    "There are two, although different, bar plots in the story.\n",
    "\n",
    "The first is the distribution of protein sources between Norway and China. It shows the distribution of protein from 0% to 100%, and since it's important to highlight how the countries compare, we chose to make the plot horizontal, as that will lead to a more natural direction of reading (left to right). In addition, by having the bars stacked on top of each other it is visually much easier to compare them. We believe that this layout makes the reader infer the differences between two countrys' protein sources, as seamlessly as possible.\n",
    "\n",
    "The second horizontal bar plot is slightly different as there are more groups to compare and the fact that they do not function as smaller components of one whole. Instead, the plots highlights how much GHG each farmed species emits per kg of edible weight. Chicken is included here as a baseline comparison, as it's known to be more environmental friendly than most alternatives. This plot is horizontal due to us wanting to highlight _negative_ emissions from the Seaweed and Bivalves species, this is yet again best shown horizontally, as we should find the negative values first due to reading left to right. Moreover, each bar consists of both the Nitrogen and Phosphorous emissions which serves as an extra comparison between which GHG each species emits."
   ],
   "metadata": {
    "collapsed": false,
    "pycharm": {
     "name": "#%% md\n"
    }
   }
  },
  {
   "cell_type": "markdown",
   "source": [
    "# Discussion\n",
    "\n",
    "Finally, we discuss the overall process and the final product.\n",
    "\n",
    "Let's start with the things that went well. Considering the vast amount of data, we believe that the true key points have been extracted from each dataset to create a story that teaches the reader something about where overfishing takes place, how it damages the environment and how the industry can be more sustainable. The plots used in the website all follow the same theme, are easy to read and have a general aesthetic pleasing look to them. Moreover, the website itself is filled with small details such as a nice but subtle background with a turtle (:turtle:), a navigation bar that follows you around the page so you can always jump around, and other things such as making use of markdown language to highlight quotes, create titles and mark words in bold or italic. Moreover, given that the topic is difficult to generate something novel from, we find that the angle on emissions with respect to what they eat, and also how the two countries farm the fish, provides insights that have not been discussed much before.\n",
    "\n",
    "Now to what could've been improved. First of all, if not obvious by now, we would've chosen a smaller dataset, preferably 1 or 2 with many columns that can be engineered in different ways to create novel insights or facilitate some more advanced machine learning that fitting a regression line. Moreover, the many datasets come as a consequence of having a very broad topic that was initially difficult to narrow down to a completely clear story. Much of our time was spent jumping through datasets and spending hours analysing them only to find out that they were not really valuable.\n",
    "\n",
    "By having a more narrow scope and smaller dataset, it would've been easier to guide the reader and create a seamless flow in the story. Perhaps less complexity in the story would have lead to more creative plotting techniques that would not require accompanying text.\n"
   ],
   "metadata": {
    "collapsed": false,
    "pycharm": {
     "name": "#%% md\n"
    }
   }
  },
  {
   "cell_type": "markdown",
   "source": [
    "# Website (Optional)\n",
    "\n",
    "As this section is not required, we will just briefly go over the basics behind the website for interested readers."
   ],
   "metadata": {
    "collapsed": false,
    "pycharm": {
     "name": "#%% md\n"
    }
   }
  },
  {
   "cell_type": "markdown",
   "source": [
    "The website is written using the plotly `Dash` framework and is hosted on the 'Heroku' cloud.\n",
    "\n",
    "Dash is a framework that enables python users (with some html and css knowledge) to create website that seamlessly integrate with a Python backend to perform tasks on callbacks (callbacks often occur after user-interaction).\n",
    "\n",
    "The website structure is done using simple HTML components and a `style.css` stylesheet. For the plotting features, the integrated dash components are used to render them."
   ],
   "metadata": {
    "collapsed": false,
    "pycharm": {
     "name": "#%% md\n"
    }
   }
  },
  {
   "cell_type": "markdown",
   "source": [
    "# Contributions\n",
    "\n",
    "## Website\n",
    "\n",
    "| **Responsibility**                 | **Responsible** |\n",
    "|------------------------------------|-----------------|\n",
    "| Introduction                       | Yufan           |\n",
    "| GDP and Consumption                | Niels           |\n",
    "| Protein Intake                     | Niels           |\n",
    "| Fishing Methods                    | Simon           |\n",
    "| Aquaculture and Capture production | Yufan           |\n",
    "| Aquaculture Emissions              | Niels           |\n",
    "| Conclusion                         | Simon           |\n",
    "| Website code                       | Simon           |\n",
    "\n",
    "## Explainer notebook\n",
    "\n",
    "| **Responsibility** | **Responsible** |\n",
    "|--------------------|-----------------|\n",
    "| Motivation         | Niels           |\n",
    "| Basic Stats        | Yufan           |\n",
    "| Data Analysis      | Simon           |\n",
    "| Genre              | Simon           |\n",
    "| Visualizations     | Yufan           |\n",
    "| Discussion         | Niels           |\n",
    "\n"
   ],
   "metadata": {
    "collapsed": false,
    "pycharm": {
     "name": "#%% md\n"
    }
   }
  }
 ],
 "metadata": {
  "kernelspec": {
   "display_name": "Python 3",
   "language": "python",
   "name": "python3"
  },
  "language_info": {
   "codemirror_mode": {
    "name": "ipython",
    "version": 3
   },
   "file_extension": ".py",
   "mimetype": "text/x-python",
   "name": "python",
   "nbconvert_exporter": "python",
   "pygments_lexer": "ipython3",
   "version": "3.8.8"
  },
  "toc": {
   "base_numbering": 1,
   "nav_menu": {},
   "number_sections": true,
   "sideBar": true,
   "skip_h1_title": false,
   "title_cell": "Table of Contents",
   "title_sidebar": "Contents",
   "toc_cell": false,
   "toc_position": {},
   "toc_section_display": true,
   "toc_window_display": false
  }
 },
 "nbformat": 4,
 "nbformat_minor": 1
}