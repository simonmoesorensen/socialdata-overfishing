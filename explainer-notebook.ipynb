{
 "cells": [
  {
   "cell_type": "markdown",
   "source": [
    "# Motivation\n",
    "\n",
    "This section will cover the motivation and idea behind choosing the topic of overfishing and explain which datasets are used and why.\n"
   ],
   "metadata": {
    "collapsed": false,
    "pycharm": {
     "name": "#%% md\n"
    }
   }
  },
  {
   "cell_type": "markdown",
   "source": [
    "## Problem statement (Goal for end user)\n",
    "\n",
    "People are already aware of the general story on overfishing, even Netflix has jumped the bandwagon and produced documentaries such as _Seaspiracy_. However, such documentaries seem to mislead the audience [ref](https://www.theguardian.com/environment/2021/mar/31/seaspiracy-netflix-documentary-accused-of-misrepresentation-by-participants) due to over-dramatization. Moreover, most people think of fish as bad for the environment and our world sustainability goals, so they tend to avoid them all together, for example by becoming a vegetarian or vegan.\n",
    "\n",
    "\n",
    "> What we aim to show, is a sound and objective analysis of unsustainable fishing activities. Providing insights into the best and worst ways of the fishing industry by analysing two particularly interesting countries: China and Norway. Finally, using our analysis, we discuss whether eating fish is a viable option for steady protein supply.\n",
    "\n"
   ],
   "metadata": {
    "collapsed": false,
    "pycharm": {
     "name": "#%% md\n"
    }
   }
  },
  {
   "cell_type": "markdown",
   "source": [
    "## Datasets\n",
    "\n",
    "In terms of datasets, we use a wide variety of different datasets to compose our story.\n",
    "\n",
    "### FAO\n",
    "\n",
    "The **main** source of data is from _Food and Agriculture Organization of the United Nations_ at the url [https://www.fao.org/home/en](https://www.fao.org/home/en). The organization provides access to a massive database with anything related to food and agricultural data in the world.\n",
    "Our requirements for the dataset was to have data for most countries (and further on, only Norway and China), some temporal information (years) and come from a credible source.\n",
    "This yielded the datasets from FAO:\n",
    "\n",
    "- Fishing industry (import, export, supply, production)\n",
    "- Fish and seafood consumption per capita\n",
    "- Sources of consumed protein\n",
    "- Fishing methods\n",
    "\n",
    "### Additional sources\n",
    "\n",
    "Another source of data was the world bank [https://datacatalog.worldbank.org/search/dataset/0037712](https://datacatalog.worldbank.org/search/dataset/0037712)\n",
    "This gave access to the trend and development of open-ocean fishing versus aquacultural fishing.\n",
    "\n",
    "Additionally, we were able to get information on the GHG (Greenhouse Gas) emission of aquacultural fishing from [https://www.nature.com/articles/s41586-021-03889-2](https://www.nature.com/articles/s41586-021-03889-2)\n",
    "### Descriptive data\n",
    "\n",
    "Finally, we also made use of other third-party datasets that made it easier for us to gather information on a country's GDP and population each year.\n",
    "\n",
    "In order to join this descriptive data with the main datasets, we had to find a common connection between them. Going by just the country name is risky as some countries go by more than one name and others simply have different spellings. Therefore, we used the country ISO-3 code that is _the_ standard for identifying countries. By merging this mapping onto any dataset using the country name (and making a few manual changes). We were able to get an ISO-3 standardized country code for each dataset that needed to be merged with other data.\n",
    "\n",
    "Another addition to the descriptive data is the use of a **geojson** file that is used for the choropleth maps. However, the original file was too complex (too many polygons) and therefore took a lot of time to plot and render. We therefore decided to simplify the geojson using an online tool such that we ensure that we maintain interpretability and a high enough resolution for the polygons to overlap correctly with the country borders."
   ],
   "metadata": {
    "collapsed": false,
    "pycharm": {
     "name": "#%% md\n"
    }
   }
  },
  {
   "cell_type": "markdown",
   "source": [
    "## Why did we choose these datasets\n",
    "\n",
    "Choosing datasets for this project was not easy as it's difficult to find data that covers information on specific fishing related topics such as fishing gear, emission of aquacultural fish, protein supply for each country and so on. Even more so, it was painful to find data with a temporal aspect over multiple years. This resulted in us fetching data from many different sources after searching through a large amount of infeasible datasets.\n",
    "\n",
    "We find that the selected datasets are useful because they are a combination of being rich in information (covers many metrics over many countries with few NaN values), covering multiple years of data, cover extremely niche or rare data.\n",
    "\n",
    "The combination of the datasets provide us with an opportunity to explore overfishing on a global scope as well as diving into the specific methods of China and Norway. Moreover, they also contain information on eating habits in terms of protein supply which helps in analysing both the behaviour of the population and the demand of fish."
   ],
   "metadata": {
    "collapsed": false,
    "pycharm": {
     "name": "#%% md\n"
    }
   }
  },
  {
   "cell_type": "markdown",
   "source": [
    "# Basic Stats\n",
    "\n",
    "This section will cover the steps we took in terms of processing the data. Much of the code will be from snippets of the functions in `plots/data`. For brevity's sake, we will try to summarize the key points (across datasets) instead of going into extreme detail for each of the 11 different datasets."
   ],
   "metadata": {
    "collapsed": false,
    "pycharm": {
     "name": "#%% md\n"
    }
   }
  },
  {
   "cell_type": "markdown",
   "source": [
    "## Choices in data cleaning and preprocessing\n",
    "\n"
   ],
   "metadata": {
    "collapsed": false,
    "pycharm": {
     "name": "#%% md\n"
    }
   }
  },
  {
   "cell_type": "markdown",
   "source": [
    "### Creating a common key across datasets\n",
    "\n",
    "As mentioned previously, since we use many different datasets. It's important to have a common key when joining the data together on both countries and year.\n",
    "\n",
    "For this reason we used the `country_code_map.csv` file."
   ],
   "metadata": {
    "collapsed": false,
    "pycharm": {
     "name": "#%% md\n"
    }
   }
  },
  {
   "cell_type": "code",
   "execution_count": 133,
   "outputs": [],
   "source": [
    "import pandas as pd"
   ],
   "metadata": {
    "collapsed": false,
    "pycharm": {
     "name": "#%%\n"
    }
   }
  },
  {
   "cell_type": "code",
   "execution_count": 134,
   "outputs": [
    {
     "data": {
      "text/plain": "       Country Alpha-2 code Alpha-3 code Numeric code Latitude (average)  \\\n0  Afghanistan         \"AF\"        \"AFG\"          \"4\"               \"33\"   \n1      Albania         \"AL\"        \"ALB\"          \"8\"               \"41\"   \n\n  Longitude (average)  \n0                \"65\"  \n1                \"20\"  ",
      "text/html": "<div>\n<style scoped>\n    .dataframe tbody tr th:only-of-type {\n        vertical-align: middle;\n    }\n\n    .dataframe tbody tr th {\n        vertical-align: top;\n    }\n\n    .dataframe thead th {\n        text-align: right;\n    }\n</style>\n<table border=\"1\" class=\"dataframe\">\n  <thead>\n    <tr style=\"text-align: right;\">\n      <th></th>\n      <th>Country</th>\n      <th>Alpha-2 code</th>\n      <th>Alpha-3 code</th>\n      <th>Numeric code</th>\n      <th>Latitude (average)</th>\n      <th>Longitude (average)</th>\n    </tr>\n  </thead>\n  <tbody>\n    <tr>\n      <th>0</th>\n      <td>Afghanistan</td>\n      <td>\"AF\"</td>\n      <td>\"AFG\"</td>\n      <td>\"4\"</td>\n      <td>\"33\"</td>\n      <td>\"65\"</td>\n    </tr>\n    <tr>\n      <th>1</th>\n      <td>Albania</td>\n      <td>\"AL\"</td>\n      <td>\"ALB\"</td>\n      <td>\"8\"</td>\n      <td>\"41\"</td>\n      <td>\"20\"</td>\n    </tr>\n  </tbody>\n</table>\n</div>"
     },
     "execution_count": 134,
     "metadata": {},
     "output_type": "execute_result"
    }
   ],
   "source": [
    "pd.read_csv('data/country_code_map.csv').head(2)"
   ],
   "metadata": {
    "collapsed": false,
    "pycharm": {
     "name": "#%%\n"
    }
   }
  },
  {
   "cell_type": "markdown",
   "source": [
    "Using the `Country` and the `Alpha-3 Code` (ISO-3) we are able to map country names to country codes. We usually make use of the function below to retrieve the data."
   ],
   "metadata": {
    "collapsed": false,
    "pycharm": {
     "name": "#%% md\n"
    }
   }
  },
  {
   "cell_type": "code",
   "execution_count": 135,
   "outputs": [
    {
     "name": "stdout",
     "output_type": "stream",
     "text": [
      "Country to code map 'Denmark': {'Alpha-3 code': 'DNK'}\n",
      "Map to country map 'DNK': Denmark\n"
     ]
    }
   ],
   "source": [
    "# Defining the country code map. For this case, we over-comment the code for the purpose of the explainer notebook.\n",
    "def get_country_code_map():\n",
    "    \"\"\"\n",
    "    Retrieve the mapping between country names to country codes and vice versa\n",
    "\n",
    "    \"\"\"\n",
    "    # Select only the relevant columns\n",
    "    country_code_map = pd.read_csv('data/country_code_map.csv')[['Country', 'Alpha-3 code']]\n",
    "\n",
    "    # Remove double quotes from the code\n",
    "    country_code_map['Alpha-3 code'] = country_code_map['Alpha-3 code'].apply(lambda x: x.split('\"')[1])\n",
    "\n",
    "    # Set country as index and convert to dictionary in form of [index] -> [{column: value}]\n",
    "    country_code_map = country_code_map.set_index('Country').to_dict(orient='index')\n",
    "\n",
    "    # Reverse dictionary\n",
    "    country_code_to_country = {value['Alpha-3 code']: key for key, value in country_code_map.items()}\n",
    "    return country_code_map, country_code_to_country\n",
    "\n",
    "\n",
    "country_code_map, country_code_to_country = get_country_code_map()\n",
    "print(f\"Country to code map 'Denmark': {country_code_map['Denmark']}\")\n",
    "print(f\"Map to country map 'DNK': {country_code_to_country['DNK']}\")"
   ],
   "metadata": {
    "collapsed": false,
    "pycharm": {
     "name": "#%%\n"
    }
   }
  },
  {
   "cell_type": "markdown",
   "source": [
    "After retrieving the mapping, we add the keys to the dataset. Some datasets have only country names but no codes, and others the otherway around. For the datasets with only country names, we had to manually map some of the country names to the equivalent name in the mapping dictionary. An example of such is seen below. We will comment the special cases but not more than once."
   ],
   "metadata": {
    "collapsed": false,
    "pycharm": {
     "name": "#%% md\n"
    }
   }
  },
  {
   "cell_type": "code",
   "execution_count": 136,
   "outputs": [],
   "source": [
    "def get_industry_data():\n",
    "    df = pd.read_csv('data/FAOSTAT_country_supply_production_import_export.csv')\n",
    "    df.loc[df['Area'] == \"China, mainland\", 'Area'] = 'China'  # Generalize to China\n",
    "    df.loc[df['Area'] == 'China, Hong Kong SAR', 'Area'] = 'China'\n",
    "    df.loc[df['Area'] == 'China, Macao SAR', 'Area'] = 'China'\n",
    "    df.loc[df['Area'] == \"China, Taiwan Province of\", 'Area'] = 'Taiwan'  # Taiwan on it's own\n",
    "    df.loc[df['Area'] == \"C?te d'Ivoire\", 'Area'] = \"Côte d'Ivoire\"  # Special characters\n",
    "    df.loc[df['Area'] == \"Netherlands Antilles (former)\", 'Area'] = \"Netherlands\"  # Longer names\n",
    "    df.loc[df['Area'] == 'Bolivia (Plurinational State of)', 'Area'] = \"Bolivia\"  # No parenthesis\n",
    "    df.loc[df['Area'] == 'Cabo Verde', 'Area'] = \"Cape Verde\"  # Different names for one country\n",
    "    df.loc[df['Area'] == 'Czechia', 'Area'] = \"Czech Republic\"\n",
    "    df.loc[df['Area'] == \"Democratic People's Republic of Korea\", 'Area'] = \"South Korea\"  # Common name rather than formal name\n",
    "    df.loc[df['Area'] == 'Democratic Republic of the Congo', 'Area'] = \"Congo\"\n",
    "    df.loc[df['Area'] == 'Eswatini', 'Area'] = \"Swaziland\"\n",
    "    df.loc[df['Area'] == 'Iran (Islamic Republic of)', 'Area'] = \"Iran, Islamic Republic of\"\n",
    "    df.loc[df['Area'] == 'North Macedonia', 'Area'] = \"Macedonia, the former Yugoslav Republic of\"\n",
    "    df.loc[df['Area'] == 'Republic of Korea', 'Area'] = \"Korea, Republic of\"  # Reverse naming. Country name before title: country, title\n",
    "    df.loc[df['Area'] == 'United Kingdom of Great Britain and Northern Ireland', 'Area'] = \"United Kingdom\"\n",
    "    df.loc[df['Area'] == 'Republic of Moldova', 'Area'] = \"Moldova, Republic of\"\n",
    "    df.loc[df['Area'] == 'United Republic of Tanzania', 'Area'] = \"Tanzania, United Republic of\"\n",
    "    df.loc[df['Area'] == 'United States of America', 'Area'] = 'United States'\n",
    "    df.loc[df['Area'] == 'Venezuela (Bolivarian Republic of)', 'Area'] = 'Venezuela, Bolivarian Republic of'\n",
    "\n",
    "    # df = add_population(df)   # Out commented for explainer-notebook purposes\n",
    "    return df"
   ],
   "metadata": {
    "collapsed": false,
    "pycharm": {
     "name": "#%%\n"
    }
   }
  },
  {
   "cell_type": "markdown",
   "source": [
    "### Adding population data\n",
    "\n",
    "After finding common keys across datasets, we add the population data for a given year which enables us to calculate any metric per capita: $metric\\_per\\_capita = \\frac{metric}{population}$"
   ],
   "metadata": {
    "collapsed": false,
    "pycharm": {
     "name": "#%% md\n"
    }
   }
  },
  {
   "cell_type": "code",
   "execution_count": 137,
   "outputs": [],
   "source": [
    "def get_population():\n",
    "    return pd.read_csv('data/population_total.csv')"
   ],
   "metadata": {
    "collapsed": false,
    "pycharm": {
     "name": "#%%\n"
    }
   }
  },
  {
   "cell_type": "code",
   "execution_count": 138,
   "outputs": [],
   "source": [
    "def add_population(df, country_col='Area'):\n",
    "    # Get data\n",
    "    df_population = get_population()\n",
    "    country_code_map, country_code_to_country = get_country_code_map()\n",
    "\n",
    "    # Add the country code if it's not present in the dataframe\n",
    "    if 'Country Code' not in df.columns:\n",
    "        df['Country Code'] = df.apply(lambda x: country_code_map[x[country_col]]['Alpha-3 code'], axis=1)\n",
    "\n",
    "    # Kind of advanced data wrangling operation, inspired from the Tidy data paradigm.\n",
    "    # We give a brief introduction, but please look up the proper documentation if you don't understand the function.\n",
    "    # Melting a dataframe is useful when we have a variable, such as 'Year' expanded over multiple columns.\n",
    "    # For example the columns in a dataframe could be: [Country Name, Country Code, 2010, 2011, 2012, ... 2022]\n",
    "    # Where each value in the 'Year' columns is a variable such as 'population'.\n",
    "    # Melting the dataframe takes all the columns NAMES defined in 'value_vars' and assigns them to a single column\n",
    "    # with the name: 'var_name' which in this case is 'Year'. Example var_name = pd.Series([2010, 2011, 2012, ..., 2022])\n",
    "    # The corresponding value in that column is then assigned to another column in 'value_name'. The pairs of\n",
    "    # [var_name, value_name] are then identical to what was previously in column format, however it is now only in row format.\n",
    "    melted = pd.melt(df_population, id_vars=['Country Name', 'Country Code'], value_vars=df_population.columns[2:],\n",
    "                     var_name='Year',\n",
    "                     value_name='population')\n",
    "\n",
    "    # Set year as integer to make them joinable\n",
    "    melted.Year = melted.Year.astype(int)\n",
    "\n",
    "    # Final merge operatoin\n",
    "    df = pd.merge(melted, df, on=['Country Code', 'Year'])\n",
    "    return df"
   ],
   "metadata": {
    "collapsed": false,
    "pycharm": {
     "name": "#%%\n"
    }
   }
  },
  {
   "cell_type": "markdown",
   "source": [
    "After running the above function, there is a value of population for each country on each year."
   ],
   "metadata": {
    "collapsed": false,
    "pycharm": {
     "name": "#%% md\n"
    }
   }
  },
  {
   "cell_type": "code",
   "execution_count": 139,
   "outputs": [
    {
     "data": {
      "text/plain": "      Country Name Country Code  Year  population\n55504        Malta          MLT  2019    504062.0\n33754     Eswatini          SWZ  2015   1104038.0\n28638      Vanuatu          VUT  2014    263888.0\n32176   Madagascar          MDG  2015  24234080.0",
      "text/html": "<div>\n<style scoped>\n    .dataframe tbody tr th:only-of-type {\n        vertical-align: middle;\n    }\n\n    .dataframe tbody tr th {\n        vertical-align: top;\n    }\n\n    .dataframe thead th {\n        text-align: right;\n    }\n</style>\n<table border=\"1\" class=\"dataframe\">\n  <thead>\n    <tr style=\"text-align: right;\">\n      <th></th>\n      <th>Country Name</th>\n      <th>Country Code</th>\n      <th>Year</th>\n      <th>population</th>\n    </tr>\n  </thead>\n  <tbody>\n    <tr>\n      <th>55504</th>\n      <td>Malta</td>\n      <td>MLT</td>\n      <td>2019</td>\n      <td>504062.0</td>\n    </tr>\n    <tr>\n      <th>33754</th>\n      <td>Eswatini</td>\n      <td>SWZ</td>\n      <td>2015</td>\n      <td>1104038.0</td>\n    </tr>\n    <tr>\n      <th>28638</th>\n      <td>Vanuatu</td>\n      <td>VUT</td>\n      <td>2014</td>\n      <td>263888.0</td>\n    </tr>\n    <tr>\n      <th>32176</th>\n      <td>Madagascar</td>\n      <td>MDG</td>\n      <td>2015</td>\n      <td>24234080.0</td>\n    </tr>\n  </tbody>\n</table>\n</div>"
     },
     "execution_count": 139,
     "metadata": {},
     "output_type": "execute_result"
    }
   ],
   "source": [
    "df = get_industry_data()\n",
    "add_population(df, country_col='Area').sample(4).iloc[:, :4]"
   ],
   "metadata": {
    "collapsed": false,
    "pycharm": {
     "name": "#%%\n"
    }
   }
  },
  {
   "cell_type": "markdown",
   "source": [
    "### Data quality (NaN values and outliers)\n",
    "\n",
    "#### Missing values\n",
    "Missing values were investigated for all datasets. However, most of the datasets luckily did not show significant signs of poor quality in terms of NaN values.\n",
    "In cases where there were NaN values, it was often in context of a visualization such as when plotting the consumption map. However, when plotting the map with NaN values,\n",
    "it is a benefit as the countries are **kept out** of the map which is the same as dropping that particular row. If we would have imputed the value with for example: 0, it would've been manipulated data and perhaps lead to misinterpretations."
   ],
   "metadata": {
    "collapsed": false,
    "pycharm": {
     "name": "#%% md\n"
    }
   }
  },
  {
   "cell_type": "code",
   "execution_count": 140,
   "outputs": [
    {
     "data": {
      "text/plain": "               country Code  Year  consumption\n1792         Caribbean  NaN  1998         9.77\n9137   Southern Africa  NaN  1979         8.54\n1782         Caribbean  NaN  1988        13.31\n7461  Northern America  NaN  2002        22.79\n1790         Caribbean  NaN  1996         9.87",
      "text/html": "<div>\n<style scoped>\n    .dataframe tbody tr th:only-of-type {\n        vertical-align: middle;\n    }\n\n    .dataframe tbody tr th {\n        vertical-align: top;\n    }\n\n    .dataframe thead th {\n        text-align: right;\n    }\n</style>\n<table border=\"1\" class=\"dataframe\">\n  <thead>\n    <tr style=\"text-align: right;\">\n      <th></th>\n      <th>country</th>\n      <th>Code</th>\n      <th>Year</th>\n      <th>consumption</th>\n    </tr>\n  </thead>\n  <tbody>\n    <tr>\n      <th>1792</th>\n      <td>Caribbean</td>\n      <td>NaN</td>\n      <td>1998</td>\n      <td>9.77</td>\n    </tr>\n    <tr>\n      <th>9137</th>\n      <td>Southern Africa</td>\n      <td>NaN</td>\n      <td>1979</td>\n      <td>8.54</td>\n    </tr>\n    <tr>\n      <th>1782</th>\n      <td>Caribbean</td>\n      <td>NaN</td>\n      <td>1988</td>\n      <td>13.31</td>\n    </tr>\n    <tr>\n      <th>7461</th>\n      <td>Northern America</td>\n      <td>NaN</td>\n      <td>2002</td>\n      <td>22.79</td>\n    </tr>\n    <tr>\n      <th>1790</th>\n      <td>Caribbean</td>\n      <td>NaN</td>\n      <td>1996</td>\n      <td>9.87</td>\n    </tr>\n  </tbody>\n</table>\n</div>"
     },
     "execution_count": 140,
     "metadata": {},
     "output_type": "execute_result"
    }
   ],
   "source": [
    "from plots.data import get_consumption\n",
    "\n",
    "df = get_consumption()\n",
    "df.drop('TotalC', axis=1, inplace=True)\n",
    "df[df.isna().any(axis=1)].sample(5)"
   ],
   "metadata": {
    "collapsed": false,
    "pycharm": {
     "name": "#%%\n"
    }
   }
  },
  {
   "cell_type": "code",
   "execution_count": 141,
   "outputs": [
    {
     "data": {
      "text/plain": "['Africa',\n 'Americas',\n 'Asia',\n 'Asia, Central',\n 'Australia & New Zealand',\n 'Belgium-Luxembourg',\n 'Caribbean',\n 'Central America',\n 'Eastern Africa',\n 'Eastern Asia',\n 'Eastern Europe',\n 'Ethiopia PDR',\n 'Europe',\n 'Europe, Western',\n 'European Union',\n 'Land Locked Developing Countries',\n 'Least Developed Countries',\n 'Low Income Food Deficit Countries',\n 'Micronesia (region)',\n 'Middle Africa',\n 'Net Food Importing Developing Countries',\n 'Northern Africa',\n 'Northern America',\n 'Northern Europe',\n 'Oceania',\n 'Small island developing States',\n 'South America',\n 'South Eastern Asia',\n 'Southern Africa',\n 'Southern Asia',\n 'Southern Europe',\n 'Sudan (former)',\n 'Western Africa',\n 'Western Asia']"
     },
     "execution_count": 141,
     "metadata": {},
     "output_type": "execute_result"
    }
   ],
   "source": [
    "df[df.isna().any(axis=1)].country.unique().tolist()"
   ],
   "metadata": {
    "collapsed": false,
    "pycharm": {
     "name": "#%%\n"
    }
   }
  },
  {
   "cell_type": "markdown",
   "source": [
    "It's seen that there are some countries that have missing country codes, but this is no issue for plotting. Moreover, we use the a custom _geojson_ to plot the maps, meaning that the regions such as (Africa, Americas, Asia, Europe, ...) will be left out as they aren't in the geojson."
   ],
   "metadata": {
    "collapsed": false,
    "pycharm": {
     "name": "#%% md\n"
    }
   }
  },
  {
   "cell_type": "code",
   "execution_count": 142,
   "outputs": [
    {
     "data": {
      "text/plain": "{'ADMIN': 'Aruba', 'ISO_A3': 'ABW', 'ISO_A2': 'AW'}"
     },
     "execution_count": 142,
     "metadata": {},
     "output_type": "execute_result"
    }
   ],
   "source": [
    "import json\n",
    "\n",
    "with open('data/countries-simplified.json') as response:\n",
    "    countries = json.load(response)\n",
    "\n",
    "countries['features'][0]['properties']"
   ],
   "metadata": {
    "collapsed": false,
    "pycharm": {
     "name": "#%%\n"
    }
   }
  },
  {
   "cell_type": "markdown",
   "source": [
    "As you can see, we use the ISO_A3 (ISO Alpha 3) code to map countries and the geojson together. The ISO3 codes are in the consumption dataset, but _not_ in the industry dataset, which is why we add the country codes to it using the mapping. As without any country codes, we wouldn't be able to plot a choropleth map of the fishing industry"
   ],
   "metadata": {
    "collapsed": false,
    "pycharm": {
     "name": "#%% md\n"
    }
   }
  },
  {
   "cell_type": "markdown",
   "source": [
    "#### Outliers\n",
    "\n",
    "Outliers didn't cause much trouble either. Except for one place when working with the scale of the colorbar in the consumption map. Let's take a look at the code. We WONT plot the map here as it takes up 150 Mb in the offline version."
   ],
   "metadata": {
    "collapsed": false,
    "pycharm": {
     "name": "#%% md\n"
    }
   }
  },
  {
   "cell_type": "code",
   "execution_count": 143,
   "outputs": [],
   "source": [
    "from utils.decorator import style_plot\n",
    "import plotly.express as px\n",
    "\n",
    "\n",
    "@style_plot\n",
    "def plot_consumption_map(df):\n",
    "    with open('data/countries-simplified.json') as response:\n",
    "        countries = json.load(response)\n",
    "\n",
    "    # OUTLIERS!\n",
    "    range_color = (0, df.consumption.quantile(0.99))\n",
    "    # OUTLIERS!\n",
    "\n",
    "    map_args = dict(\n",
    "        geojson=countries,\n",
    "        featureidkey='properties.ISO_A3',\n",
    "        locations=\"Code\",\n",
    "        color=\"consumption\",  # lifeExp is a column of gapminder\n",
    "        hover_name=\"country\",  # column to add to hover information\n",
    "        animation_frame='Year',\n",
    "        mapbox_style=\"carto-positron\",\n",
    "        color_continuous_scale='YlOrRd',\n",
    "        range_color=range_color,\n",
    "        title='Fish consumption (kg / capita) from 1961 to 2017',\n",
    "        center={'lat': 12, 'lon': 5}\n",
    "    )\n",
    "\n",
    "    fig = px.choropleth_mapbox(df, zoom=0.5, **map_args)\n",
    "    # More styling code below but it's been left out for brevity's sake."
   ],
   "metadata": {
    "collapsed": false,
    "pycharm": {
     "name": "#%%\n"
    }
   }
  },
  {
   "cell_type": "markdown",
   "source": [
    "As seen in line 10 of the cell above, we have adjusted the color of the range from 0 to 99% quantile. This is due to few extreme outliers that make identifying other high-consumption countries difficult. Let's take a look at the outliers."
   ],
   "metadata": {
    "collapsed": false,
    "pycharm": {
     "name": "#%% md\n"
    }
   }
  },
  {
   "cell_type": "code",
   "execution_count": 144,
   "outputs": [
    {
     "data": {
      "text/plain": "count    11028.000000\nmean        16.670872\nstd         17.056281\nmin          0.000000\n25%          5.340000\n50%         11.995000\n75%         22.512500\nmax        191.750000\nName: consumption, dtype: float64"
     },
     "execution_count": 144,
     "metadata": {},
     "output_type": "execute_result"
    }
   ],
   "source": [
    "df = get_consumption()\n",
    "\n",
    "df.consumption.describe()"
   ],
   "metadata": {
    "collapsed": false,
    "pycharm": {
     "name": "#%%\n"
    }
   }
  },
  {
   "cell_type": "markdown",
   "source": [
    "The maximum value is 191 whilst the 75% quantile is only 22.5!! The data is clearly skewed."
   ],
   "metadata": {
    "collapsed": false,
    "pycharm": {
     "name": "#%% md\n"
    }
   }
  },
  {
   "cell_type": "code",
   "execution_count": 145,
   "outputs": [
    {
     "data": {
      "text/plain": "<AxesSubplot:>"
     },
     "execution_count": 145,
     "metadata": {},
     "output_type": "execute_result"
    },
    {
     "data": {
      "text/plain": "<Figure size 360x594.419 with 1 Axes>",
      "image/png": "[encoded data removed]"
     },
     "metadata": {
      "needs_background": "light"
     },
     "output_type": "display_data"
    }
   ],
   "source": [
    "# Very simple plot for illustrative purposes.\n",
    "df.consumption.hist(bins=40)"
   ],
   "metadata": {
    "collapsed": false,
    "pycharm": {
     "name": "#%%\n"
    }
   }
  },
  {
   "cell_type": "code",
   "execution_count": 146,
   "outputs": [
    {
     "data": {
      "text/plain": "<AxesSubplot:>"
     },
     "execution_count": 146,
     "metadata": {},
     "output_type": "execute_result"
    },
    {
     "data": {
      "text/plain": "<Figure size 360x594.419 with 1 Axes>",
      "image/png": "[encoded data removed]"
     },
     "metadata": {
      "needs_background": "light"
     },
     "output_type": "display_data"
    }
   ],
   "source": [
    "df.boxplot(column='consumption')"
   ],
   "metadata": {
    "collapsed": false,
    "pycharm": {
     "name": "#%%\n"
    }
   }
  },
  {
   "cell_type": "markdown",
   "source": [
    "The 99% quantile is then"
   ],
   "metadata": {
    "collapsed": false,
    "pycharm": {
     "name": "#%% md\n"
    }
   }
  },
  {
   "cell_type": "code",
   "execution_count": 147,
   "outputs": [
    {
     "data": {
      "text/plain": "75.34459999999999"
     },
     "execution_count": 147,
     "metadata": {},
     "output_type": "execute_result"
    }
   ],
   "source": [
    "df.consumption.quantile(0.99)"
   ],
   "metadata": {
    "collapsed": false,
    "pycharm": {
     "name": "#%%\n"
    }
   }
  },
  {
   "cell_type": "markdown",
   "source": [
    "Which is MUCH more reasonable when looking at the plots above as well.\n",
    "\n",
    "**Industry dataset outliers**\n",
    "\n",
    "We replicated the method above for the Industry dataset (import, export, production and supply) as well, however we don't find the need to replicate the whole process and analysis again (as it's copy paste with different a different dataset).\n",
    "The resulting relevant quantile for the Industry dataset turned out to be 0.975 due to the same reasons above (extreme outliers).\n",
    "\n",
    "**Other datasets**\n",
    "\n",
    "With respect to the other datasets we didn't find any significant outliers that hindered the analysis or visualization."
   ],
   "metadata": {
    "collapsed": false,
    "pycharm": {
     "name": "#%% md\n"
    }
   }
  },
  {
   "cell_type": "markdown",
   "source": [
    "## Dataset stats and key points\n",
    "\n",
    "We have already touched upon the outlier and NaN value detection and corresponding mitigation techniques.\n",
    "\n",
    "Here we will go over some descriptive statistics on our datasets, and present some key points of the exploratory analysis that lead us to the final visualizations found on the website.\n",
    "\n",
    "Since we are working with multiple datasets, we will focus on the ones that have the highest data quality and information."
   ],
   "metadata": {
    "collapsed": false,
    "pycharm": {
     "name": "#%% md\n"
    }
   }
  },
  {
   "cell_type": "markdown",
   "source": [
    "### Data summary and Descriptive statistics\n",
    "\n",
    "In this section we will provide insights and examples from the datasets and\n",
    "also perform some descriptive statistics.\n",
    "\n",
    "Generally, we will keep the analysis brief as there are a lot of datasets to cover.\n",
    "This is the only time we'll be showcasing all 11 datasets.\n",
    "\n",
    "This section is meant to give the reader a quick overview of what each dataset used in this project contains."
   ],
   "metadata": {
    "collapsed": false,
    "pycharm": {
     "name": "#%% md\n"
    }
   }
  },
  {
   "cell_type": "markdown",
   "source": [
    "#### Country Code Mappings"
   ],
   "metadata": {
    "collapsed": false,
    "pycharm": {
     "name": "#%% md\n"
    }
   }
  },
  {
   "cell_type": "code",
   "execution_count": 148,
   "outputs": [
    {
     "data": {
      "text/plain": "            Country Alpha-3 code\ncount           256          256\nunique          256          244\ntop     Afghanistan        \"VCT\"\nfreq              1            3",
      "text/html": "<div>\n<style scoped>\n    .dataframe tbody tr th:only-of-type {\n        vertical-align: middle;\n    }\n\n    .dataframe tbody tr th {\n        vertical-align: top;\n    }\n\n    .dataframe thead th {\n        text-align: right;\n    }\n</style>\n<table border=\"1\" class=\"dataframe\">\n  <thead>\n    <tr style=\"text-align: right;\">\n      <th></th>\n      <th>Country</th>\n      <th>Alpha-3 code</th>\n    </tr>\n  </thead>\n  <tbody>\n    <tr>\n      <th>count</th>\n      <td>256</td>\n      <td>256</td>\n    </tr>\n    <tr>\n      <th>unique</th>\n      <td>256</td>\n      <td>244</td>\n    </tr>\n    <tr>\n      <th>top</th>\n      <td>Afghanistan</td>\n      <td>\"VCT\"</td>\n    </tr>\n    <tr>\n      <th>freq</th>\n      <td>1</td>\n      <td>3</td>\n    </tr>\n  </tbody>\n</table>\n</div>"
     },
     "execution_count": 148,
     "metadata": {},
     "output_type": "execute_result"
    }
   ],
   "source": [
    "country_code_map = pd.read_csv('data/country_code_map.csv')[['Country', 'Alpha-3 code']]\n",
    "country_code_map.describe()"
   ],
   "metadata": {
    "collapsed": false,
    "pycharm": {
     "name": "#%%\n"
    }
   }
  },
  {
   "cell_type": "code",
   "execution_count": 149,
   "outputs": [
    {
     "data": {
      "text/plain": "          Country Alpha-3 code\n0     Afghanistan        \"AFG\"\n1         Albania        \"ALB\"\n2         Algeria        \"DZA\"\n3  American Samoa        \"ASM\"\n4         Andorra        \"AND\"",
      "text/html": "<div>\n<style scoped>\n    .dataframe tbody tr th:only-of-type {\n        vertical-align: middle;\n    }\n\n    .dataframe tbody tr th {\n        vertical-align: top;\n    }\n\n    .dataframe thead th {\n        text-align: right;\n    }\n</style>\n<table border=\"1\" class=\"dataframe\">\n  <thead>\n    <tr style=\"text-align: right;\">\n      <th></th>\n      <th>Country</th>\n      <th>Alpha-3 code</th>\n    </tr>\n  </thead>\n  <tbody>\n    <tr>\n      <th>0</th>\n      <td>Afghanistan</td>\n      <td>\"AFG\"</td>\n    </tr>\n    <tr>\n      <th>1</th>\n      <td>Albania</td>\n      <td>\"ALB\"</td>\n    </tr>\n    <tr>\n      <th>2</th>\n      <td>Algeria</td>\n      <td>\"DZA\"</td>\n    </tr>\n    <tr>\n      <th>3</th>\n      <td>American Samoa</td>\n      <td>\"ASM\"</td>\n    </tr>\n    <tr>\n      <th>4</th>\n      <td>Andorra</td>\n      <td>\"AND\"</td>\n    </tr>\n  </tbody>\n</table>\n</div>"
     },
     "execution_count": 149,
     "metadata": {},
     "output_type": "execute_result"
    }
   ],
   "source": [
    "country_code_map.head()"
   ],
   "metadata": {
    "collapsed": false,
    "pycharm": {
     "name": "#%%\n"
    }
   }
  },
  {
   "cell_type": "code",
   "execution_count": 150,
   "outputs": [
    {
     "data": {
      "text/plain": "['Afghanistan',\n 'Albania',\n 'Algeria',\n 'American Samoa',\n 'Andorra',\n 'Angola',\n 'Anguilla',\n 'Antarctica',\n 'Antigua and Barbuda',\n 'Argentina',\n 'Armenia',\n 'Aruba',\n 'Australia',\n 'Austria',\n 'Azerbaijan',\n 'Bahamas',\n 'Bahrain',\n 'Bangladesh',\n 'Barbados',\n 'Belarus',\n 'Belgium',\n 'Belize',\n 'Benin',\n 'Bermuda',\n 'Bhutan',\n 'Bolivia, Plurinational State of',\n 'Bolivia',\n 'Bosnia and Herzegovina',\n 'Botswana',\n 'Bouvet Island',\n 'Brazil',\n 'British Indian Ocean Territory',\n 'Brunei Darussalam',\n 'Brunei',\n 'Bulgaria',\n 'Burkina Faso',\n 'Burundi',\n 'Cambodia',\n 'Cameroon',\n 'Canada',\n 'Cape Verde',\n 'Cayman Islands',\n 'Central African Republic',\n 'Chad',\n 'Chile',\n 'China',\n 'Christmas Island',\n 'Cocos (Keeling) Islands',\n 'Colombia',\n 'Comoros',\n 'Congo',\n 'Congo, the Democratic Republic of the',\n 'Cook Islands',\n 'Costa Rica',\n \"Côte d'Ivoire\",\n 'Ivory Coast',\n 'Croatia',\n 'Cuba',\n 'Cyprus',\n 'Czech Republic',\n 'Denmark',\n 'Djibouti',\n 'Dominica',\n 'Dominican Republic',\n 'Ecuador',\n 'Egypt',\n 'El Salvador',\n 'Equatorial Guinea',\n 'Eritrea',\n 'Estonia',\n 'Ethiopia',\n 'Falkland Islands (Malvinas)',\n 'Faroe Islands',\n 'Fiji',\n 'Finland',\n 'France',\n 'French Guiana',\n 'French Polynesia',\n 'French Southern Territories',\n 'Gabon',\n 'Gambia',\n 'Georgia',\n 'Germany',\n 'Ghana',\n 'Gibraltar',\n 'Greece',\n 'Greenland',\n 'Grenada',\n 'Guadeloupe',\n 'Guam',\n 'Guatemala',\n 'Guernsey',\n 'Guinea',\n 'Guinea-Bissau',\n 'Guyana',\n 'Haiti',\n 'Heard Island and McDonald Islands',\n 'Holy See (Vatican City State)',\n 'Honduras',\n 'Hong Kong',\n 'Hungary',\n 'Iceland',\n 'India',\n 'Indonesia',\n 'Iran, Islamic Republic of',\n 'Iraq',\n 'Ireland',\n 'Isle of Man',\n 'Israel',\n 'Italy',\n 'Jamaica',\n 'Japan',\n 'Jersey',\n 'Jordan',\n 'Kazakhstan',\n 'Kenya',\n 'Kiribati',\n \"Korea, Democratic People's Republic of\",\n 'Korea, Republic of',\n 'South Korea',\n 'Kuwait',\n 'Kyrgyzstan',\n \"Lao People's Democratic Republic\",\n 'Latvia',\n 'Lebanon',\n 'Lesotho',\n 'Liberia',\n 'Libyan Arab Jamahiriya',\n 'Libya',\n 'Liechtenstein',\n 'Lithuania',\n 'Luxembourg',\n 'Macao',\n 'Macedonia, the former Yugoslav Republic of',\n 'Madagascar',\n 'Malawi',\n 'Malaysia',\n 'Maldives',\n 'Mali',\n 'Malta',\n 'Marshall Islands',\n 'Martinique',\n 'Mauritania',\n 'Mauritius',\n 'Mayotte',\n 'Mexico',\n 'Micronesia, Federated States of',\n 'Moldova, Republic of',\n 'Monaco',\n 'Mongolia',\n 'Montenegro',\n 'Montserrat',\n 'Morocco',\n 'Mozambique',\n 'Myanmar',\n 'Burma',\n 'Namibia',\n 'Nauru',\n 'Nepal',\n 'Netherlands',\n 'Netherlands Antilles',\n 'New Caledonia',\n 'New Zealand',\n 'Nicaragua',\n 'Niger',\n 'Nigeria',\n 'Niue',\n 'Norfolk Island',\n 'Northern Mariana Islands',\n 'Norway',\n 'Oman',\n 'Pakistan',\n 'Palau',\n 'Palestinian Territory, Occupied',\n 'Panama',\n 'Papua New Guinea',\n 'Paraguay',\n 'Peru',\n 'Philippines',\n 'Pitcairn',\n 'Poland',\n 'Portugal',\n 'Puerto Rico',\n 'Qatar',\n 'Réunion',\n 'Romania',\n 'Russian Federation',\n 'Russia',\n 'Rwanda',\n 'Saint Helena, Ascension and Tristan da Cunha',\n 'Saint Kitts and Nevis',\n 'Saint Lucia',\n 'Saint Pierre and Miquelon',\n 'Saint Vincent and the Grenadines',\n 'Saint Vincent & the Grenadines',\n 'St. Vincent and the Grenadines',\n 'Samoa',\n 'San Marino',\n 'Sao Tome and Principe',\n 'Saudi Arabia',\n 'Senegal',\n 'Serbia',\n 'Seychelles',\n 'Sierra Leone',\n 'Singapore',\n 'Slovakia',\n 'Slovenia',\n 'Solomon Islands',\n 'Somalia',\n 'South Africa',\n 'South Georgia and the South Sandwich Islands',\n 'South Sudan',\n 'Spain',\n 'Sri Lanka',\n 'Sudan',\n 'Suriname',\n 'Svalbard and Jan Mayen',\n 'Swaziland',\n 'Sweden',\n 'Switzerland',\n 'Syrian Arab Republic',\n 'Taiwan, Province of China',\n 'Taiwan',\n 'Tajikistan',\n 'Tanzania, United Republic of',\n 'Thailand',\n 'Timor-Leste',\n 'Togo',\n 'Tokelau',\n 'Tonga',\n 'Trinidad and Tobago',\n 'Tunisia',\n 'Turkey',\n 'Turkmenistan',\n 'Turks and Caicos Islands',\n 'Tuvalu',\n 'Uganda',\n 'Ukraine',\n 'United Arab Emirates',\n 'United Kingdom',\n 'United States',\n 'United States Minor Outlying Islands',\n 'Uruguay',\n 'Uzbekistan',\n 'Vanuatu',\n 'Venezuela, Bolivarian Republic of',\n 'Venezuela',\n 'Viet Nam',\n 'Vietnam',\n 'Virgin Islands, British',\n 'Virgin Islands, U.S.',\n 'Wallis and Futuna',\n 'Western Sahara',\n 'Yemen',\n 'Zambia',\n 'Zimbabwe']"
     },
     "execution_count": 150,
     "metadata": {},
     "output_type": "execute_result"
    }
   ],
   "source": [
    "country_code_map.Country.unique().tolist()"
   ],
   "metadata": {
    "collapsed": false,
    "pycharm": {
     "name": "#%%\n"
    }
   }
  },
  {
   "cell_type": "markdown",
   "source": [
    "As we can see, the country code mapping is almost what one would expect. Given the country name there is a corresponding country code.\n",
    "\n",
    "One interesting thing to look at is the fact that there are `256` unique countries but only `244` unique country codes. Meaning some countries map to the same country code. Let's have a look"
   ],
   "metadata": {
    "collapsed": false,
    "pycharm": {
     "name": "#%% md\n"
    }
   }
  },
  {
   "cell_type": "code",
   "execution_count": 151,
   "outputs": [
    {
     "data": {
      "text/plain": "                            Country Alpha-3 code\n26                          Bolivia        \"BOL\"\n33                           Brunei        \"BRN\"\n55                      Ivory Coast        \"CIV\"\n119                     South Korea        \"KOR\"\n128                           Libya        \"LBY\"\n155                           Burma        \"MMR\"\n187                          Russia        \"RUS\"\n194  Saint Vincent & the Grenadines        \"VCT\"\n195  St. Vincent and the Grenadines        \"VCT\"\n222                          Taiwan        \"TWN\"\n246                       Venezuela        \"VEN\"\n248                         Vietnam        \"VNM\"",
      "text/html": "<div>\n<style scoped>\n    .dataframe tbody tr th:only-of-type {\n        vertical-align: middle;\n    }\n\n    .dataframe tbody tr th {\n        vertical-align: top;\n    }\n\n    .dataframe thead th {\n        text-align: right;\n    }\n</style>\n<table border=\"1\" class=\"dataframe\">\n  <thead>\n    <tr style=\"text-align: right;\">\n      <th></th>\n      <th>Country</th>\n      <th>Alpha-3 code</th>\n    </tr>\n  </thead>\n  <tbody>\n    <tr>\n      <th>26</th>\n      <td>Bolivia</td>\n      <td>\"BOL\"</td>\n    </tr>\n    <tr>\n      <th>33</th>\n      <td>Brunei</td>\n      <td>\"BRN\"</td>\n    </tr>\n    <tr>\n      <th>55</th>\n      <td>Ivory Coast</td>\n      <td>\"CIV\"</td>\n    </tr>\n    <tr>\n      <th>119</th>\n      <td>South Korea</td>\n      <td>\"KOR\"</td>\n    </tr>\n    <tr>\n      <th>128</th>\n      <td>Libya</td>\n      <td>\"LBY\"</td>\n    </tr>\n    <tr>\n      <th>155</th>\n      <td>Burma</td>\n      <td>\"MMR\"</td>\n    </tr>\n    <tr>\n      <th>187</th>\n      <td>Russia</td>\n      <td>\"RUS\"</td>\n    </tr>\n    <tr>\n      <th>194</th>\n      <td>Saint Vincent &amp; the Grenadines</td>\n      <td>\"VCT\"</td>\n    </tr>\n    <tr>\n      <th>195</th>\n      <td>St. Vincent and the Grenadines</td>\n      <td>\"VCT\"</td>\n    </tr>\n    <tr>\n      <th>222</th>\n      <td>Taiwan</td>\n      <td>\"TWN\"</td>\n    </tr>\n    <tr>\n      <th>246</th>\n      <td>Venezuela</td>\n      <td>\"VEN\"</td>\n    </tr>\n    <tr>\n      <th>248</th>\n      <td>Vietnam</td>\n      <td>\"VNM\"</td>\n    </tr>\n  </tbody>\n</table>\n</div>"
     },
     "execution_count": 151,
     "metadata": {},
     "output_type": "execute_result"
    }
   ],
   "source": [
    "country_code_map[country_code_map['Alpha-3 code'].duplicated()]"
   ],
   "metadata": {
    "collapsed": false,
    "pycharm": {
     "name": "#%%\n"
    }
   }
  },
  {
   "cell_type": "code",
   "execution_count": 152,
   "outputs": [
    {
     "data": {
      "text/plain": "                            Country Alpha-3 code\n25  Bolivia, Plurinational State of        \"BOL\"\n26                          Bolivia        \"BOL\"",
      "text/html": "<div>\n<style scoped>\n    .dataframe tbody tr th:only-of-type {\n        vertical-align: middle;\n    }\n\n    .dataframe tbody tr th {\n        vertical-align: top;\n    }\n\n    .dataframe thead th {\n        text-align: right;\n    }\n</style>\n<table border=\"1\" class=\"dataframe\">\n  <thead>\n    <tr style=\"text-align: right;\">\n      <th></th>\n      <th>Country</th>\n      <th>Alpha-3 code</th>\n    </tr>\n  </thead>\n  <tbody>\n    <tr>\n      <th>25</th>\n      <td>Bolivia, Plurinational State of</td>\n      <td>\"BOL\"</td>\n    </tr>\n    <tr>\n      <th>26</th>\n      <td>Bolivia</td>\n      <td>\"BOL\"</td>\n    </tr>\n  </tbody>\n</table>\n</div>"
     },
     "execution_count": 152,
     "metadata": {},
     "output_type": "execute_result"
    }
   ],
   "source": [
    "country_code_map[country_code_map['Alpha-3 code'] == ' \"BOL\"']"
   ],
   "metadata": {
    "collapsed": false,
    "pycharm": {
     "name": "#%%\n"
    }
   }
  },
  {
   "cell_type": "code",
   "execution_count": 153,
   "outputs": [
    {
     "data": {
      "text/plain": "     Country Alpha-3 code\n154  Myanmar        \"MMR\"\n155    Burma        \"MMR\"",
      "text/html": "<div>\n<style scoped>\n    .dataframe tbody tr th:only-of-type {\n        vertical-align: middle;\n    }\n\n    .dataframe tbody tr th {\n        vertical-align: top;\n    }\n\n    .dataframe thead th {\n        text-align: right;\n    }\n</style>\n<table border=\"1\" class=\"dataframe\">\n  <thead>\n    <tr style=\"text-align: right;\">\n      <th></th>\n      <th>Country</th>\n      <th>Alpha-3 code</th>\n    </tr>\n  </thead>\n  <tbody>\n    <tr>\n      <th>154</th>\n      <td>Myanmar</td>\n      <td>\"MMR\"</td>\n    </tr>\n    <tr>\n      <th>155</th>\n      <td>Burma</td>\n      <td>\"MMR\"</td>\n    </tr>\n  </tbody>\n</table>\n</div>"
     },
     "execution_count": 153,
     "metadata": {},
     "output_type": "execute_result"
    }
   ],
   "source": [
    "country_code_map[country_code_map['Alpha-3 code'] == ' \"MMR\"']"
   ],
   "metadata": {
    "collapsed": false,
    "pycharm": {
     "name": "#%%\n"
    }
   }
  },
  {
   "cell_type": "markdown",
   "source": [
    "It seems that it is just multiple names for a country that maps to the Alpha-3 code. The case of Bolivia is quite obvious.\n",
    "The case of Myanmar is not so much. The significant difference in name is due to the country being occupied by the British empire which gave the name _Burma_.\n",
    "After becoming independent, they decided to change the name to _Myanmar_ for cultural reasons [ref](https://en.wikipedia.org/wiki/Names_of_Myanmar)"
   ],
   "metadata": {
    "collapsed": false,
    "pycharm": {
     "name": "#%% md\n"
    }
   }
  },
  {
   "cell_type": "markdown",
   "source": [
    "#### Population"
   ],
   "metadata": {
    "collapsed": false,
    "pycharm": {
     "name": "#%% md\n"
    }
   }
  },
  {
   "cell_type": "code",
   "execution_count": 154,
   "outputs": [
    {
     "data": {
      "text/plain": "Index(['Country Name', 'Country Code', '1960', '1961', '1962', '1963', '1964',\n       '1965', '1966', '1967', '1968', '1969', '1970', '1971', '1972', '1973',\n       '1974', '1975', '1976', '1977', '1978', '1979', '1980', '1981', '1982',\n       '1983', '1984', '1985', '1986', '1987', '1988', '1989', '1990', '1991',\n       '1992', '1993', '1994', '1995', '1996', '1997', '1998', '1999', '2000',\n       '2001', '2002', '2003', '2004', '2005', '2006', '2007', '2008', '2009',\n       '2010', '2011', '2012', '2013', '2014', '2015', '2016', '2017', '2018',\n       '2019', '2020'],\n      dtype='object')"
     },
     "execution_count": 154,
     "metadata": {},
     "output_type": "execute_result"
    }
   ],
   "source": [
    "df_pop = get_population()\n",
    "df_pop.columns"
   ],
   "metadata": {
    "collapsed": false,
    "pycharm": {
     "name": "#%%\n"
    }
   }
  },
  {
   "cell_type": "code",
   "execution_count": 155,
   "outputs": [
    {
     "data": {
      "text/plain": "               1960          1961          1962          1963          1964  \\\ncount  2.640000e+02  2.640000e+02  2.640000e+02  2.640000e+02  2.640000e+02   \nmean   1.173116e+08  1.188586e+08  1.209679e+08  1.235882e+08  1.262297e+08   \nstd    3.705555e+08  3.749081e+08  3.814322e+08  3.899277e+08  3.984666e+08   \nmin    2.833000e+03  3.077000e+03  3.367000e+03  3.703000e+03  4.063000e+03   \n25%    5.022802e+05  5.109642e+05  5.206540e+05  5.311622e+05  5.421252e+05   \n50%    3.718330e+06  3.826398e+06  3.929109e+06  4.015834e+06  4.124521e+06   \n75%    2.636053e+07  2.721235e+07  2.808607e+07  2.890669e+07  2.972333e+07   \nmax    3.032156e+09  3.071596e+09  3.124561e+09  3.189656e+09  3.255146e+09   \n\n               1965          1966          1967          1968          1969  \\\ncount  2.640000e+02  2.640000e+02  2.640000e+02  2.640000e+02  2.640000e+02   \nmean   1.289366e+08  1.317868e+08  1.346309e+08  1.375436e+08  1.405603e+08   \nstd    4.072394e+08  4.165735e+08  4.258523e+08  4.353820e+08  4.452976e+08   \nmin    4.460000e+03  4.675000e+03  4.922000e+03  5.194000e+03  5.461000e+03   \n25%    5.533362e+05  5.647475e+05  5.823645e+05  5.981078e+05  6.100030e+05   \n50%    4.242788e+06  4.326013e+06  4.387887e+06  4.474171e+06  4.550402e+06   \n75%    3.055227e+07  3.134845e+07  3.200449e+07  3.244145e+07  3.277149e+07   \nmax    3.322047e+09  3.392098e+09  3.461620e+09  3.532783e+09  3.606554e+09   \n\n       ...          2011          2012          2013          2014  \\\ncount  ...  2.650000e+02  2.650000e+02  2.650000e+02  2.650000e+02   \nmean   ...  2.828664e+08  2.866170e+08  2.904120e+08  2.942198e+08   \nstd    ...  8.906976e+08  9.017794e+08  9.129557e+08  9.241202e+08   \nmin    ...  1.006900e+04  1.013600e+04  1.020800e+04  1.028900e+04   \n25%    ...  1.562996e+06  1.604981e+06  1.648259e+06  1.692433e+06   \n50%    ...  9.461643e+06  9.729254e+06  9.893082e+06  9.866468e+06   \n75%    ...  5.937945e+07  5.953972e+07  6.023395e+07  6.078914e+07   \nmax    ...  7.003760e+09  7.089255e+09  7.175500e+09  7.261847e+09   \n\n               2015          2016          2017          2018          2019  \\\ncount  2.650000e+02  2.650000e+02  2.650000e+02  2.650000e+02  2.650000e+02   \nmean   2.980198e+08  3.018343e+08  3.056619e+08  3.094099e+08  3.130784e+08   \nstd    9.352185e+08  9.463293e+08  9.574907e+08  9.683242e+08  9.788601e+08   \nmin    1.037400e+04  1.047400e+04  1.057700e+04  1.067800e+04  1.076400e+04   \n25%    1.737207e+06  1.777557e+06  1.791003e+06  1.797085e+06  1.788878e+06   \n50%    1.016003e+07  1.032545e+07  1.030030e+07  1.028382e+07  1.028626e+07   \n75%    6.073058e+07  6.062750e+07  6.053671e+07  6.042176e+07  5.972908e+07   \nmax    7.347679e+09  7.433569e+09  7.519183e+09  7.602454e+09  7.683372e+09   \n\n               2020  \ncount  2.650000e+02  \nmean   3.166573e+08  \nstd    9.890355e+08  \nmin    1.083400e+04  \n25%    1.775378e+06  \n50%    1.035344e+07  \n75%    5.973421e+07  \nmax    7.761620e+09  \n\n[8 rows x 61 columns]",
      "text/html": "<div>\n<style scoped>\n    .dataframe tbody tr th:only-of-type {\n        vertical-align: middle;\n    }\n\n    .dataframe tbody tr th {\n        vertical-align: top;\n    }\n\n    .dataframe thead th {\n        text-align: right;\n    }\n</style>\n<table border=\"1\" class=\"dataframe\">\n  <thead>\n    <tr style=\"text-align: right;\">\n      <th></th>\n      <th>1960</th>\n      <th>1961</th>\n      <th>1962</th>\n      <th>1963</th>\n      <th>1964</th>\n      <th>1965</th>\n      <th>1966</th>\n      <th>1967</th>\n      <th>1968</th>\n      <th>1969</th>\n      <th>...</th>\n      <th>2011</th>\n      <th>2012</th>\n      <th>2013</th>\n      <th>2014</th>\n      <th>2015</th>\n      <th>2016</th>\n      <th>2017</th>\n      <th>2018</th>\n      <th>2019</th>\n      <th>2020</th>\n    </tr>\n  </thead>\n  <tbody>\n    <tr>\n      <th>count</th>\n      <td>2.640000e+02</td>\n      <td>2.640000e+02</td>\n      <td>2.640000e+02</td>\n      <td>2.640000e+02</td>\n      <td>2.640000e+02</td>\n      <td>2.640000e+02</td>\n      <td>2.640000e+02</td>\n      <td>2.640000e+02</td>\n      <td>2.640000e+02</td>\n      <td>2.640000e+02</td>\n      <td>...</td>\n      <td>2.650000e+02</td>\n      <td>2.650000e+02</td>\n      <td>2.650000e+02</td>\n      <td>2.650000e+02</td>\n      <td>2.650000e+02</td>\n      <td>2.650000e+02</td>\n      <td>2.650000e+02</td>\n      <td>2.650000e+02</td>\n      <td>2.650000e+02</td>\n      <td>2.650000e+02</td>\n    </tr>\n    <tr>\n      <th>mean</th>\n      <td>1.173116e+08</td>\n      <td>1.188586e+08</td>\n      <td>1.209679e+08</td>\n      <td>1.235882e+08</td>\n      <td>1.262297e+08</td>\n      <td>1.289366e+08</td>\n      <td>1.317868e+08</td>\n      <td>1.346309e+08</td>\n      <td>1.375436e+08</td>\n      <td>1.405603e+08</td>\n      <td>...</td>\n      <td>2.828664e+08</td>\n      <td>2.866170e+08</td>\n      <td>2.904120e+08</td>\n      <td>2.942198e+08</td>\n      <td>2.980198e+08</td>\n      <td>3.018343e+08</td>\n      <td>3.056619e+08</td>\n      <td>3.094099e+08</td>\n      <td>3.130784e+08</td>\n      <td>3.166573e+08</td>\n    </tr>\n    <tr>\n      <th>std</th>\n      <td>3.705555e+08</td>\n      <td>3.749081e+08</td>\n      <td>3.814322e+08</td>\n      <td>3.899277e+08</td>\n      <td>3.984666e+08</td>\n      <td>4.072394e+08</td>\n      <td>4.165735e+08</td>\n      <td>4.258523e+08</td>\n      <td>4.353820e+08</td>\n      <td>4.452976e+08</td>\n      <td>...</td>\n      <td>8.906976e+08</td>\n      <td>9.017794e+08</td>\n      <td>9.129557e+08</td>\n      <td>9.241202e+08</td>\n      <td>9.352185e+08</td>\n      <td>9.463293e+08</td>\n      <td>9.574907e+08</td>\n      <td>9.683242e+08</td>\n      <td>9.788601e+08</td>\n      <td>9.890355e+08</td>\n    </tr>\n    <tr>\n      <th>min</th>\n      <td>2.833000e+03</td>\n      <td>3.077000e+03</td>\n      <td>3.367000e+03</td>\n      <td>3.703000e+03</td>\n      <td>4.063000e+03</td>\n      <td>4.460000e+03</td>\n      <td>4.675000e+03</td>\n      <td>4.922000e+03</td>\n      <td>5.194000e+03</td>\n      <td>5.461000e+03</td>\n      <td>...</td>\n      <td>1.006900e+04</td>\n      <td>1.013600e+04</td>\n      <td>1.020800e+04</td>\n      <td>1.028900e+04</td>\n      <td>1.037400e+04</td>\n      <td>1.047400e+04</td>\n      <td>1.057700e+04</td>\n      <td>1.067800e+04</td>\n      <td>1.076400e+04</td>\n      <td>1.083400e+04</td>\n    </tr>\n    <tr>\n      <th>25%</th>\n      <td>5.022802e+05</td>\n      <td>5.109642e+05</td>\n      <td>5.206540e+05</td>\n      <td>5.311622e+05</td>\n      <td>5.421252e+05</td>\n      <td>5.533362e+05</td>\n      <td>5.647475e+05</td>\n      <td>5.823645e+05</td>\n      <td>5.981078e+05</td>\n      <td>6.100030e+05</td>\n      <td>...</td>\n      <td>1.562996e+06</td>\n      <td>1.604981e+06</td>\n      <td>1.648259e+06</td>\n      <td>1.692433e+06</td>\n      <td>1.737207e+06</td>\n      <td>1.777557e+06</td>\n      <td>1.791003e+06</td>\n      <td>1.797085e+06</td>\n      <td>1.788878e+06</td>\n      <td>1.775378e+06</td>\n    </tr>\n    <tr>\n      <th>50%</th>\n      <td>3.718330e+06</td>\n      <td>3.826398e+06</td>\n      <td>3.929109e+06</td>\n      <td>4.015834e+06</td>\n      <td>4.124521e+06</td>\n      <td>4.242788e+06</td>\n      <td>4.326013e+06</td>\n      <td>4.387887e+06</td>\n      <td>4.474171e+06</td>\n      <td>4.550402e+06</td>\n      <td>...</td>\n      <td>9.461643e+06</td>\n      <td>9.729254e+06</td>\n      <td>9.893082e+06</td>\n      <td>9.866468e+06</td>\n      <td>1.016003e+07</td>\n      <td>1.032545e+07</td>\n      <td>1.030030e+07</td>\n      <td>1.028382e+07</td>\n      <td>1.028626e+07</td>\n      <td>1.035344e+07</td>\n    </tr>\n    <tr>\n      <th>75%</th>\n      <td>2.636053e+07</td>\n      <td>2.721235e+07</td>\n      <td>2.808607e+07</td>\n      <td>2.890669e+07</td>\n      <td>2.972333e+07</td>\n      <td>3.055227e+07</td>\n      <td>3.134845e+07</td>\n      <td>3.200449e+07</td>\n      <td>3.244145e+07</td>\n      <td>3.277149e+07</td>\n      <td>...</td>\n      <td>5.937945e+07</td>\n      <td>5.953972e+07</td>\n      <td>6.023395e+07</td>\n      <td>6.078914e+07</td>\n      <td>6.073058e+07</td>\n      <td>6.062750e+07</td>\n      <td>6.053671e+07</td>\n      <td>6.042176e+07</td>\n      <td>5.972908e+07</td>\n      <td>5.973421e+07</td>\n    </tr>\n    <tr>\n      <th>max</th>\n      <td>3.032156e+09</td>\n      <td>3.071596e+09</td>\n      <td>3.124561e+09</td>\n      <td>3.189656e+09</td>\n      <td>3.255146e+09</td>\n      <td>3.322047e+09</td>\n      <td>3.392098e+09</td>\n      <td>3.461620e+09</td>\n      <td>3.532783e+09</td>\n      <td>3.606554e+09</td>\n      <td>...</td>\n      <td>7.003760e+09</td>\n      <td>7.089255e+09</td>\n      <td>7.175500e+09</td>\n      <td>7.261847e+09</td>\n      <td>7.347679e+09</td>\n      <td>7.433569e+09</td>\n      <td>7.519183e+09</td>\n      <td>7.602454e+09</td>\n      <td>7.683372e+09</td>\n      <td>7.761620e+09</td>\n    </tr>\n  </tbody>\n</table>\n<p>8 rows × 61 columns</p>\n</div>"
     },
     "execution_count": 155,
     "metadata": {},
     "output_type": "execute_result"
    }
   ],
   "source": [
    "df_pop.describe()"
   ],
   "metadata": {
    "collapsed": false,
    "pycharm": {
     "name": "#%%\n"
    }
   }
  },
  {
   "cell_type": "code",
   "execution_count": 156,
   "outputs": [
    {
     "data": {
      "text/plain": "                    Country Name Country Code\n0                          Aruba          ABW\n1    Africa Eastern and Southern          AFE\n2                    Afghanistan          AFG\n3     Africa Western and Central          AFW\n4                         Angola          AGO\n..                           ...          ...\n261                       Kosovo          XKX\n262                  Yemen, Rep.          YEM\n263                 South Africa          ZAF\n264                       Zambia          ZMB\n265                     Zimbabwe          ZWE\n\n[266 rows x 2 columns]",
      "text/html": "<div>\n<style scoped>\n    .dataframe tbody tr th:only-of-type {\n        vertical-align: middle;\n    }\n\n    .dataframe tbody tr th {\n        vertical-align: top;\n    }\n\n    .dataframe thead th {\n        text-align: right;\n    }\n</style>\n<table border=\"1\" class=\"dataframe\">\n  <thead>\n    <tr style=\"text-align: right;\">\n      <th></th>\n      <th>Country Name</th>\n      <th>Country Code</th>\n    </tr>\n  </thead>\n  <tbody>\n    <tr>\n      <th>0</th>\n      <td>Aruba</td>\n      <td>ABW</td>\n    </tr>\n    <tr>\n      <th>1</th>\n      <td>Africa Eastern and Southern</td>\n      <td>AFE</td>\n    </tr>\n    <tr>\n      <th>2</th>\n      <td>Afghanistan</td>\n      <td>AFG</td>\n    </tr>\n    <tr>\n      <th>3</th>\n      <td>Africa Western and Central</td>\n      <td>AFW</td>\n    </tr>\n    <tr>\n      <th>4</th>\n      <td>Angola</td>\n      <td>AGO</td>\n    </tr>\n    <tr>\n      <th>...</th>\n      <td>...</td>\n      <td>...</td>\n    </tr>\n    <tr>\n      <th>261</th>\n      <td>Kosovo</td>\n      <td>XKX</td>\n    </tr>\n    <tr>\n      <th>262</th>\n      <td>Yemen, Rep.</td>\n      <td>YEM</td>\n    </tr>\n    <tr>\n      <th>263</th>\n      <td>South Africa</td>\n      <td>ZAF</td>\n    </tr>\n    <tr>\n      <th>264</th>\n      <td>Zambia</td>\n      <td>ZMB</td>\n    </tr>\n    <tr>\n      <th>265</th>\n      <td>Zimbabwe</td>\n      <td>ZWE</td>\n    </tr>\n  </tbody>\n</table>\n<p>266 rows × 2 columns</p>\n</div>"
     },
     "execution_count": 156,
     "metadata": {},
     "output_type": "execute_result"
    }
   ],
   "source": [
    "df_pop[['Country Name', 'Country Code']]"
   ],
   "metadata": {
    "collapsed": false,
    "pycharm": {
     "name": "#%%\n"
    }
   }
  },
  {
   "cell_type": "markdown",
   "source": [
    "As we can see, the population is just the population of a country in a given year. Strangely enough, the year variable is expanded over columns. This gave rise to the data preprocessing detailed above."
   ],
   "metadata": {
    "collapsed": false,
    "pycharm": {
     "name": "#%% md\n"
    }
   }
  },
  {
   "cell_type": "markdown",
   "source": [
    "#### Industry data"
   ],
   "metadata": {
    "collapsed": false,
    "pycharm": {
     "name": "#%% md\n"
    }
   }
  },
  {
   "cell_type": "code",
   "execution_count": 157,
   "outputs": [
    {
     "data": {
      "text/plain": "Index(['Domain Code', 'Domain', 'Area Code (FAO)', 'Area', 'Element Code',\n       'Element', 'Item Code', 'Item', 'Year Code', 'Year', 'Unit', 'Value',\n       'Flag', 'Flag Description'],\n      dtype='object')"
     },
     "execution_count": 157,
     "metadata": {},
     "output_type": "execute_result"
    }
   ],
   "source": [
    "df_industry = pd.read_csv('data/FAOSTAT_country_supply_production_import_export.csv')\n",
    "df_industry.columns"
   ],
   "metadata": {
    "collapsed": false,
    "pycharm": {
     "name": "#%%\n"
    }
   }
  },
  {
   "cell_type": "code",
   "execution_count": 158,
   "outputs": [
    {
     "data": {
      "text/plain": "array(['Production', 'Import Quantity', 'Domestic supply quantity',\n       'Export Quantity'], dtype=object)"
     },
     "execution_count": 158,
     "metadata": {},
     "output_type": "execute_result"
    }
   ],
   "source": [
    "df_industry['Element'].unique()"
   ],
   "metadata": {
    "collapsed": false,
    "pycharm": {
     "name": "#%%\n"
    }
   }
  },
  {
   "cell_type": "markdown",
   "source": [
    "The industry data contains information on the Production, Import Quantity, Domestic supply quantity, and Export Quantity.\n",
    "\n",
    "The four quantities are related by:\n",
    "\n",
    "$$\n",
    "\\text{production} + \\text{import} = \\text{supply} + \\text{export}\n",
    "$$\n",
    "\n",
    "The Domestric supply quantity is what's left over in the country after exporting"
   ],
   "metadata": {
    "collapsed": false,
    "pycharm": {
     "name": "#%% md\n"
    }
   }
  },
  {
   "cell_type": "code",
   "execution_count": 159,
   "outputs": [
    {
     "data": {
      "text/plain": "       Area Code (FAO)  Element Code     Item Code     Year Code  \\\ncount     58100.000000  58100.000000  58100.000000  58100.000000   \nmean        128.613253   5577.241824   2788.507470   2014.505938   \nstd          73.994864    221.571138     64.284051      2.871461   \nmin           1.000000   5301.000000   2761.000000   2010.000000   \n25%          67.000000   5301.000000   2763.000000   2012.000000   \n50%         123.000000   5611.000000   2765.000000   2015.000000   \n75%         191.000000   5611.000000   2767.000000   2017.000000   \nmax         351.000000   5911.000000   2960.000000   2019.000000   \n\n               Year         Value  \ncount  58100.000000  58100.000000  \nmean    2014.505938    201.714659  \nstd        2.871461   1842.178378  \nmin     2010.000000      0.000000  \n25%     2012.000000      0.090000  \n50%     2015.000000      2.520000  \n75%     2017.000000     34.930000  \nmax     2019.000000  67902.890000  ",
      "text/html": "<div>\n<style scoped>\n    .dataframe tbody tr th:only-of-type {\n        vertical-align: middle;\n    }\n\n    .dataframe tbody tr th {\n        vertical-align: top;\n    }\n\n    .dataframe thead th {\n        text-align: right;\n    }\n</style>\n<table border=\"1\" class=\"dataframe\">\n  <thead>\n    <tr style=\"text-align: right;\">\n      <th></th>\n      <th>Area Code (FAO)</th>\n      <th>Element Code</th>\n      <th>Item Code</th>\n      <th>Year Code</th>\n      <th>Year</th>\n      <th>Value</th>\n    </tr>\n  </thead>\n  <tbody>\n    <tr>\n      <th>count</th>\n      <td>58100.000000</td>\n      <td>58100.000000</td>\n      <td>58100.000000</td>\n      <td>58100.000000</td>\n      <td>58100.000000</td>\n      <td>58100.000000</td>\n    </tr>\n    <tr>\n      <th>mean</th>\n      <td>128.613253</td>\n      <td>5577.241824</td>\n      <td>2788.507470</td>\n      <td>2014.505938</td>\n      <td>2014.505938</td>\n      <td>201.714659</td>\n    </tr>\n    <tr>\n      <th>std</th>\n      <td>73.994864</td>\n      <td>221.571138</td>\n      <td>64.284051</td>\n      <td>2.871461</td>\n      <td>2.871461</td>\n      <td>1842.178378</td>\n    </tr>\n    <tr>\n      <th>min</th>\n      <td>1.000000</td>\n      <td>5301.000000</td>\n      <td>2761.000000</td>\n      <td>2010.000000</td>\n      <td>2010.000000</td>\n      <td>0.000000</td>\n    </tr>\n    <tr>\n      <th>25%</th>\n      <td>67.000000</td>\n      <td>5301.000000</td>\n      <td>2763.000000</td>\n      <td>2012.000000</td>\n      <td>2012.000000</td>\n      <td>0.090000</td>\n    </tr>\n    <tr>\n      <th>50%</th>\n      <td>123.000000</td>\n      <td>5611.000000</td>\n      <td>2765.000000</td>\n      <td>2015.000000</td>\n      <td>2015.000000</td>\n      <td>2.520000</td>\n    </tr>\n    <tr>\n      <th>75%</th>\n      <td>191.000000</td>\n      <td>5611.000000</td>\n      <td>2767.000000</td>\n      <td>2017.000000</td>\n      <td>2017.000000</td>\n      <td>34.930000</td>\n    </tr>\n    <tr>\n      <th>max</th>\n      <td>351.000000</td>\n      <td>5911.000000</td>\n      <td>2960.000000</td>\n      <td>2019.000000</td>\n      <td>2019.000000</td>\n      <td>67902.890000</td>\n    </tr>\n  </tbody>\n</table>\n</div>"
     },
     "execution_count": 159,
     "metadata": {},
     "output_type": "execute_result"
    }
   ],
   "source": [
    "df_industry.describe()"
   ],
   "metadata": {
    "collapsed": false,
    "pycharm": {
     "name": "#%%\n"
    }
   }
  },
  {
   "cell_type": "markdown",
   "source": [
    "Interestingly, the `Value` column seems to have an incredibly large standard deviation (`1842`) wrt the mean (`202`). Let's investigate"
   ],
   "metadata": {
    "collapsed": false,
    "pycharm": {
     "name": "#%% md\n"
    }
   }
  },
  {
   "cell_type": "code",
   "execution_count": 160,
   "outputs": [
    {
     "data": {
      "text/plain": "<AxesSubplot:>"
     },
     "execution_count": 160,
     "metadata": {},
     "output_type": "execute_result"
    },
    {
     "data": {
      "text/plain": "<Figure size 720x360 with 1 Axes>",
      "image/png": "[encoded data removed]"
     },
     "metadata": {
      "needs_background": "light"
     },
     "output_type": "display_data"
    }
   ],
   "source": [
    "df_industry['Value'].hist(bins=50, figsize=(10, 5))"
   ],
   "metadata": {
    "collapsed": false,
    "pycharm": {
     "name": "#%%\n"
    }
   }
  },
  {
   "cell_type": "code",
   "execution_count": 161,
   "outputs": [
    {
     "data": {
      "text/plain": "<AxesSubplot:>"
     },
     "execution_count": 161,
     "metadata": {},
     "output_type": "execute_result"
    },
    {
     "data": {
      "text/plain": "<Figure size 720x360 with 1 Axes>",
      "image/png": "[encoded data removed]"
     },
     "metadata": {
      "needs_background": "light"
     },
     "output_type": "display_data"
    }
   ],
   "source": [
    "df_industry[df_industry.Value <= df_industry['Value'].quantile(0.95)]['Value'].hist(bins=50, figsize=(10, 5))"
   ],
   "metadata": {
    "collapsed": false,
    "pycharm": {
     "name": "#%%\n"
    }
   }
  },
  {
   "cell_type": "markdown",
   "source": [
    "As we can see, the value column is extremely skewed, even when only looking at the $95\\%$ percentile.\n",
    "\n",
    "This should be kept in mind if modelling this value as some, for example linear, models assume normal distribution of residuals, which will be difficult in this case for linear regression."
   ],
   "metadata": {
    "collapsed": false,
    "pycharm": {
     "name": "#%% md\n"
    }
   }
  },
  {
   "cell_type": "markdown",
   "source": [
    "#### Consumption\n"
   ],
   "metadata": {
    "collapsed": false,
    "pycharm": {
     "name": "#%% md\n"
    }
   }
  },
  {
   "cell_type": "code",
   "execution_count": 162,
   "outputs": [
    {
     "data": {
      "text/plain": "Index(['Entity', 'Code', 'Year',\n       'Fish, Seafood- Food supply quantity (kg/capita/yr) (FAO, 2020)'],\n      dtype='object')"
     },
     "execution_count": 162,
     "metadata": {},
     "output_type": "execute_result"
    }
   ],
   "source": [
    "df_consumption = pd.read_csv(\"data/fish-and-seafood-consumption-per-capita.csv\")\n",
    "df_consumption.drop('TotalC', axis=1, inplace=True)\n",
    "df_consumption.columns"
   ],
   "metadata": {
    "collapsed": false,
    "pycharm": {
     "name": "#%%\n"
    }
   }
  },
  {
   "cell_type": "code",
   "execution_count": 163,
   "outputs": [
    {
     "data": {
      "text/plain": "               Year  \\\ncount  11028.000000   \nmean    1989.461824   \nstd       16.320065   \nmin     1961.000000   \n25%     1975.000000   \n50%     1990.000000   \n75%     2004.000000   \nmax     2017.000000   \n\n       Fish, Seafood- Food supply quantity (kg/capita/yr) (FAO, 2020)  \ncount                                       11028.000000               \nmean                                           16.670872               \nstd                                            17.056281               \nmin                                             0.000000               \n25%                                             5.340000               \n50%                                            11.995000               \n75%                                            22.512500               \nmax                                           191.750000               ",
      "text/html": "<div>\n<style scoped>\n    .dataframe tbody tr th:only-of-type {\n        vertical-align: middle;\n    }\n\n    .dataframe tbody tr th {\n        vertical-align: top;\n    }\n\n    .dataframe thead th {\n        text-align: right;\n    }\n</style>\n<table border=\"1\" class=\"dataframe\">\n  <thead>\n    <tr style=\"text-align: right;\">\n      <th></th>\n      <th>Year</th>\n      <th>Fish, Seafood- Food supply quantity (kg/capita/yr) (FAO, 2020)</th>\n    </tr>\n  </thead>\n  <tbody>\n    <tr>\n      <th>count</th>\n      <td>11028.000000</td>\n      <td>11028.000000</td>\n    </tr>\n    <tr>\n      <th>mean</th>\n      <td>1989.461824</td>\n      <td>16.670872</td>\n    </tr>\n    <tr>\n      <th>std</th>\n      <td>16.320065</td>\n      <td>17.056281</td>\n    </tr>\n    <tr>\n      <th>min</th>\n      <td>1961.000000</td>\n      <td>0.000000</td>\n    </tr>\n    <tr>\n      <th>25%</th>\n      <td>1975.000000</td>\n      <td>5.340000</td>\n    </tr>\n    <tr>\n      <th>50%</th>\n      <td>1990.000000</td>\n      <td>11.995000</td>\n    </tr>\n    <tr>\n      <th>75%</th>\n      <td>2004.000000</td>\n      <td>22.512500</td>\n    </tr>\n    <tr>\n      <th>max</th>\n      <td>2017.000000</td>\n      <td>191.750000</td>\n    </tr>\n  </tbody>\n</table>\n</div>"
     },
     "execution_count": 163,
     "metadata": {},
     "output_type": "execute_result"
    }
   ],
   "source": [
    "df_consumption.describe()"
   ],
   "metadata": {
    "collapsed": false,
    "pycharm": {
     "name": "#%%\n"
    }
   }
  },
  {
   "cell_type": "markdown",
   "source": [
    "We have seen this table before and will refer to section on **Basic Stats > Choices in data cleaning and preprocessing > Data quality > Outliers** for a detailed analysis."
   ],
   "metadata": {
    "collapsed": false,
    "pycharm": {
     "name": "#%% md\n"
    }
   }
  },
  {
   "cell_type": "markdown",
   "source": [
    "#### Sustainability levels"
   ],
   "metadata": {
    "collapsed": false,
    "pycharm": {
     "name": "#%% md\n"
    }
   }
  },
  {
   "cell_type": "code",
   "execution_count": 164,
   "outputs": [
    {
     "data": {
      "text/plain": "Index(['Entity', 'Code', 'Year',\n       'Share of fish stocks within biologically sustainable levels (FAO, 2020)',\n       'Share of fish stocks that are overexploited'],\n      dtype='object')"
     },
     "execution_count": 164,
     "metadata": {},
     "output_type": "execute_result"
    }
   ],
   "source": [
    "sustainable = pd.read_csv('data/fish-stocks-within-sustainable-levels.csv')\n",
    "sustainable.columns"
   ],
   "metadata": {
    "collapsed": false,
    "pycharm": {
     "name": "#%%\n"
    }
   }
  },
  {
   "cell_type": "code",
   "execution_count": 165,
   "outputs": [
    {
     "data": {
      "text/plain": "['Eastern Central Atlantic',\n 'Eastern Central Pacific',\n 'Eastern Indian Ocean',\n 'Mediterranean and Black Sea',\n 'Northeast Central Atlantic',\n 'Northeast Pacific',\n 'Northwest Central Atlantic',\n 'Northwest Pacific',\n 'Southeast Central Atlantic',\n 'Southeast Pacific',\n 'Southwest Atlantic',\n 'Southwest Pacific',\n 'Western Central Atlantic',\n 'Western Central Pacific',\n 'Western Indian Ocean',\n 'World']"
     },
     "execution_count": 165,
     "metadata": {},
     "output_type": "execute_result"
    }
   ],
   "source": [
    "sustainable.Entity.unique().tolist()"
   ],
   "metadata": {
    "collapsed": false,
    "pycharm": {
     "name": "#%%\n"
    }
   }
  },
  {
   "cell_type": "markdown",
   "source": [
    "We see that the unique entities are not countries but regions and the whole world on aggregate."
   ],
   "metadata": {
    "collapsed": false,
    "pycharm": {
     "name": "#%% md\n"
    }
   }
  },
  {
   "cell_type": "code",
   "execution_count": 166,
   "outputs": [
    {
     "data": {
      "text/plain": "Entity\nWorld                          21\nEastern Central Atlantic        2\nEastern Central Pacific         2\nEastern Indian Ocean            2\nMediterranean and Black Sea     2\nNortheast Central Atlantic      2\nNortheast Pacific               2\nNorthwest Central Atlantic      2\nNorthwest Pacific               2\nSoutheast Central Atlantic      2\nSoutheast Pacific               2\nSouthwest Atlantic              2\nSouthwest Pacific               2\nWestern Central Atlantic        2\nWestern Central Pacific         2\nWestern Indian Ocean            2\ndtype: int64"
     },
     "execution_count": 166,
     "metadata": {},
     "output_type": "execute_result"
    }
   ],
   "source": [
    "sustainable.value_counts('Entity')"
   ],
   "metadata": {
    "collapsed": false,
    "pycharm": {
     "name": "#%%\n"
    }
   }
  },
  {
   "cell_type": "markdown",
   "source": [
    "However, we only have enough records over the years from the whole world on aggregate and not individual regions.\n",
    "That is a shame as it would've been an interesting analysis to compare the regions across years."
   ],
   "metadata": {
    "collapsed": false,
    "pycharm": {
     "name": "#%% md\n"
    }
   }
  },
  {
   "cell_type": "code",
   "execution_count": 167,
   "outputs": [
    {
     "data": {
      "text/plain": "              Year  \\\ncount    51.000000   \nmean   2007.705882   \nstd      13.150352   \nmin    1974.000000   \n25%    2002.000000   \n50%    2015.000000   \n75%    2017.000000   \nmax    2017.000000   \n\n       Share of fish stocks within biologically sustainable levels (FAO, 2020)  \\\ncount                                          51.000000                         \nmean                                           70.521579                         \nstd                                            13.885635                         \nmin                                            37.500000                         \n25%                                            66.257862                         \n50%                                            73.076920                         \n75%                                            81.843157                         \nmax                                            91.463415                         \n\n       Share of fish stocks that are overexploited  \ncount                                    51.000000  \nmean                                     29.478421  \nstd                                      13.885635  \nmin                                       8.536585  \n25%                                      18.156843  \n50%                                      26.923080  \n75%                                      33.742138  \nmax                                      62.500000  ",
      "text/html": "<div>\n<style scoped>\n    .dataframe tbody tr th:only-of-type {\n        vertical-align: middle;\n    }\n\n    .dataframe tbody tr th {\n        vertical-align: top;\n    }\n\n    .dataframe thead th {\n        text-align: right;\n    }\n</style>\n<table border=\"1\" class=\"dataframe\">\n  <thead>\n    <tr style=\"text-align: right;\">\n      <th></th>\n      <th>Year</th>\n      <th>Share of fish stocks within biologically sustainable levels (FAO, 2020)</th>\n      <th>Share of fish stocks that are overexploited</th>\n    </tr>\n  </thead>\n  <tbody>\n    <tr>\n      <th>count</th>\n      <td>51.000000</td>\n      <td>51.000000</td>\n      <td>51.000000</td>\n    </tr>\n    <tr>\n      <th>mean</th>\n      <td>2007.705882</td>\n      <td>70.521579</td>\n      <td>29.478421</td>\n    </tr>\n    <tr>\n      <th>std</th>\n      <td>13.150352</td>\n      <td>13.885635</td>\n      <td>13.885635</td>\n    </tr>\n    <tr>\n      <th>min</th>\n      <td>1974.000000</td>\n      <td>37.500000</td>\n      <td>8.536585</td>\n    </tr>\n    <tr>\n      <th>25%</th>\n      <td>2002.000000</td>\n      <td>66.257862</td>\n      <td>18.156843</td>\n    </tr>\n    <tr>\n      <th>50%</th>\n      <td>2015.000000</td>\n      <td>73.076920</td>\n      <td>26.923080</td>\n    </tr>\n    <tr>\n      <th>75%</th>\n      <td>2017.000000</td>\n      <td>81.843157</td>\n      <td>33.742138</td>\n    </tr>\n    <tr>\n      <th>max</th>\n      <td>2017.000000</td>\n      <td>91.463415</td>\n      <td>62.500000</td>\n    </tr>\n  </tbody>\n</table>\n</div>"
     },
     "execution_count": 167,
     "metadata": {},
     "output_type": "execute_result"
    }
   ],
   "source": [
    "sustainable.describe()"
   ],
   "metadata": {
    "collapsed": false,
    "pycharm": {
     "name": "#%%\n"
    }
   }
  },
  {
   "cell_type": "markdown",
   "source": [
    "This is a very simple dataset that contains information on fish stocks within biologically sustainable levels and those that are overexploited.\n",
    "From a statistics point of view, we don't find that the range, mean or standard deviation deviate significantly from each other."
   ],
   "metadata": {
    "collapsed": false,
    "pycharm": {
     "name": "#%% md\n"
    }
   }
  },
  {
   "cell_type": "markdown",
   "source": [
    "#### Fishing types"
   ],
   "metadata": {
    "collapsed": false,
    "pycharm": {
     "name": "#%% md\n"
    }
   }
  },
  {
   "cell_type": "code",
   "execution_count": 168,
   "outputs": [
    {
     "data": {
      "text/plain": "Index(['Entity', 'Code', 'Year', 'unknown_gear', 'other_gear', 'longline',\n       'gillnet', 'small_scale', 'purse_seine', 'pelagic trawl',\n       'bottom_trawl'],\n      dtype='object')"
     },
     "execution_count": 168,
     "metadata": {},
     "output_type": "execute_result"
    }
   ],
   "source": [
    "fish_catch_methods = pd.read_csv('data/fish-catch-gear-type.csv')\n",
    "fish_catch_methods.columns"
   ],
   "metadata": {
    "collapsed": false,
    "pycharm": {
     "name": "#%%\n"
    }
   }
  },
  {
   "cell_type": "code",
   "execution_count": 169,
   "outputs": [
    {
     "data": {
      "text/plain": "               Year  unknown_gear    other_gear      longline       gillnet  \\\ncount  13730.000000  5.888000e+03  1.326200e+04  4.741000e+03  2.644000e+03   \nmean    1983.997524  1.224957e+05  1.045311e+05  6.749434e+04  1.146527e+05   \nstd       19.915829  6.486284e+05  7.575254e+05  3.088369e+05  4.306811e+05   \nmin     1950.000000  4.777330e-04  2.316511e-03  0.000000e+00  1.878924e-03   \n25%     1967.000000  1.538425e+02  2.142967e+02  2.508726e+02  4.001844e+02   \n50%     1984.000000  2.866114e+03  2.435931e+03  2.299492e+03  4.055886e+03   \n75%     2001.000000  3.130528e+04  2.660862e+04  1.601166e+04  5.109389e+04   \nmax     2018.000000  1.067776e+07  1.442334e+07  3.585876e+06  4.326715e+06   \n\n        small_scale   purse_seine  pelagic trawl  bottom_trawl  \ncount  1.362100e+04  5.353000e+03   3.207000e+03  6.452000e+03  \nmean   1.591695e+05  6.046160e+05   3.660685e+05  4.955176e+05  \nstd    1.165515e+06  3.027294e+06   1.504896e+06  2.545924e+06  \nmin    3.125000e-02  1.095000e-05   1.536633e-02  4.814493e-02  \n25%    1.215442e+03  3.106388e+03   5.160324e+03  6.600340e+03  \n50%    8.231333e+03  2.967633e+04   5.117854e+04  4.739002e+04  \n75%    4.737938e+04  1.702555e+05   1.885561e+05  2.157852e+05  \nmax    2.138083e+07  4.088014e+07   1.658761e+07  3.329230e+07  ",
      "text/html": "<div>\n<style scoped>\n    .dataframe tbody tr th:only-of-type {\n        vertical-align: middle;\n    }\n\n    .dataframe tbody tr th {\n        vertical-align: top;\n    }\n\n    .dataframe thead th {\n        text-align: right;\n    }\n</style>\n<table border=\"1\" class=\"dataframe\">\n  <thead>\n    <tr style=\"text-align: right;\">\n      <th></th>\n      <th>Year</th>\n      <th>unknown_gear</th>\n      <th>other_gear</th>\n      <th>longline</th>\n      <th>gillnet</th>\n      <th>small_scale</th>\n      <th>purse_seine</th>\n      <th>pelagic trawl</th>\n      <th>bottom_trawl</th>\n    </tr>\n  </thead>\n  <tbody>\n    <tr>\n      <th>count</th>\n      <td>13730.000000</td>\n      <td>5.888000e+03</td>\n      <td>1.326200e+04</td>\n      <td>4.741000e+03</td>\n      <td>2.644000e+03</td>\n      <td>1.362100e+04</td>\n      <td>5.353000e+03</td>\n      <td>3.207000e+03</td>\n      <td>6.452000e+03</td>\n    </tr>\n    <tr>\n      <th>mean</th>\n      <td>1983.997524</td>\n      <td>1.224957e+05</td>\n      <td>1.045311e+05</td>\n      <td>6.749434e+04</td>\n      <td>1.146527e+05</td>\n      <td>1.591695e+05</td>\n      <td>6.046160e+05</td>\n      <td>3.660685e+05</td>\n      <td>4.955176e+05</td>\n    </tr>\n    <tr>\n      <th>std</th>\n      <td>19.915829</td>\n      <td>6.486284e+05</td>\n      <td>7.575254e+05</td>\n      <td>3.088369e+05</td>\n      <td>4.306811e+05</td>\n      <td>1.165515e+06</td>\n      <td>3.027294e+06</td>\n      <td>1.504896e+06</td>\n      <td>2.545924e+06</td>\n    </tr>\n    <tr>\n      <th>min</th>\n      <td>1950.000000</td>\n      <td>4.777330e-04</td>\n      <td>2.316511e-03</td>\n      <td>0.000000e+00</td>\n      <td>1.878924e-03</td>\n      <td>3.125000e-02</td>\n      <td>1.095000e-05</td>\n      <td>1.536633e-02</td>\n      <td>4.814493e-02</td>\n    </tr>\n    <tr>\n      <th>25%</th>\n      <td>1967.000000</td>\n      <td>1.538425e+02</td>\n      <td>2.142967e+02</td>\n      <td>2.508726e+02</td>\n      <td>4.001844e+02</td>\n      <td>1.215442e+03</td>\n      <td>3.106388e+03</td>\n      <td>5.160324e+03</td>\n      <td>6.600340e+03</td>\n    </tr>\n    <tr>\n      <th>50%</th>\n      <td>1984.000000</td>\n      <td>2.866114e+03</td>\n      <td>2.435931e+03</td>\n      <td>2.299492e+03</td>\n      <td>4.055886e+03</td>\n      <td>8.231333e+03</td>\n      <td>2.967633e+04</td>\n      <td>5.117854e+04</td>\n      <td>4.739002e+04</td>\n    </tr>\n    <tr>\n      <th>75%</th>\n      <td>2001.000000</td>\n      <td>3.130528e+04</td>\n      <td>2.660862e+04</td>\n      <td>1.601166e+04</td>\n      <td>5.109389e+04</td>\n      <td>4.737938e+04</td>\n      <td>1.702555e+05</td>\n      <td>1.885561e+05</td>\n      <td>2.157852e+05</td>\n    </tr>\n    <tr>\n      <th>max</th>\n      <td>2018.000000</td>\n      <td>1.067776e+07</td>\n      <td>1.442334e+07</td>\n      <td>3.585876e+06</td>\n      <td>4.326715e+06</td>\n      <td>2.138083e+07</td>\n      <td>4.088014e+07</td>\n      <td>1.658761e+07</td>\n      <td>3.329230e+07</td>\n    </tr>\n  </tbody>\n</table>\n</div>"
     },
     "execution_count": 169,
     "metadata": {},
     "output_type": "execute_result"
    }
   ],
   "source": [
    "fish_catch_methods.describe()"
   ],
   "metadata": {
    "collapsed": false,
    "pycharm": {
     "name": "#%%\n"
    }
   }
  },
  {
   "cell_type": "markdown",
   "source": [
    "The dataset contains information on the 'fishing_types' variable in terms of columns that each represent a method of fishing.\n",
    "The temporal dimension ranges from 1950 to 2018 which gives us a good baseline for plotting historical development."
   ],
   "metadata": {
    "collapsed": false,
    "pycharm": {
     "name": "#%% md\n"
    }
   }
  },
  {
   "cell_type": "markdown",
   "source": [
    "#### Greenhouse gasses from food sources"
   ],
   "metadata": {
    "collapsed": false,
    "pycharm": {
     "name": "#%% md\n"
    }
   }
  },
  {
   "cell_type": "code",
   "execution_count": 170,
   "outputs": [
    {
     "data": {
      "text/plain": "Index(['Entity', 'Code', 'Year',\n       'GHG emissions per 100g protein (Poore & Nemecek, 2018)'],\n      dtype='object')"
     },
     "execution_count": 170,
     "metadata": {},
     "output_type": "execute_result"
    }
   ],
   "source": [
    "gg = pd.read_csv('data/ghg-per-protein-poore.csv')\n",
    "gg.columns"
   ],
   "metadata": {
    "collapsed": false,
    "pycharm": {
     "name": "#%%\n"
    }
   }
  },
  {
   "cell_type": "code",
   "execution_count": 171,
   "outputs": [
    {
     "data": {
      "text/plain": "['Apples',\n 'Bananas',\n 'Beef',\n 'Beef (dairy herd)',\n 'Berries & Grapes',\n 'Brassicas',\n 'Cassava',\n 'Cheese',\n 'Citrus Fruit',\n 'Coffee',\n 'Dark Chocolate',\n 'Eggs',\n 'Fish, Seafood',\n 'Grains',\n 'Groundnuts',\n 'Lamb & goat',\n 'Maize',\n 'Milk',\n 'Nuts',\n 'Oatmeal',\n 'Onions & Leeks',\n 'Other Pulses',\n 'Peas',\n 'Pork',\n 'Potatoes',\n 'Poultry',\n 'Prawns (farmed)',\n 'Rice',\n 'Root Vegetables',\n 'Tofu (soybeans)',\n 'Tomatoes',\n 'Wheat & Rye']"
     },
     "execution_count": 171,
     "metadata": {},
     "output_type": "execute_result"
    }
   ],
   "source": [
    "gg.Entity.unique().tolist()"
   ],
   "metadata": {
    "collapsed": false,
    "pycharm": {
     "name": "#%%\n"
    }
   }
  },
  {
   "cell_type": "markdown",
   "source": [
    "As we can see, the dataset contains GHG emissions from many sources of food. The emissions are measured per 100g of protein."
   ],
   "metadata": {
    "collapsed": false,
    "pycharm": {
     "name": "#%% md\n"
    }
   }
  },
  {
   "cell_type": "code",
   "execution_count": 172,
   "outputs": [
    {
     "data": {
      "text/plain": "       Code    Year  GHG emissions per 100g protein (Poore & Nemecek, 2018)\ncount   0.0    32.0                                          32.000000     \nmean    NaN  2010.0                                          12.222378     \nstd     NaN     0.0                                          18.244438     \nmin     NaN  2010.0                                           0.263319     \n25%     NaN  2010.0                                           2.518750     \n50%     NaN  2010.0                                           6.122183     \n75%     NaN  2010.0                                          14.825000     \nmax     NaN  2010.0                                          93.300000     ",
      "text/html": "<div>\n<style scoped>\n    .dataframe tbody tr th:only-of-type {\n        vertical-align: middle;\n    }\n\n    .dataframe tbody tr th {\n        vertical-align: top;\n    }\n\n    .dataframe thead th {\n        text-align: right;\n    }\n</style>\n<table border=\"1\" class=\"dataframe\">\n  <thead>\n    <tr style=\"text-align: right;\">\n      <th></th>\n      <th>Code</th>\n      <th>Year</th>\n      <th>GHG emissions per 100g protein (Poore &amp; Nemecek, 2018)</th>\n    </tr>\n  </thead>\n  <tbody>\n    <tr>\n      <th>count</th>\n      <td>0.0</td>\n      <td>32.0</td>\n      <td>32.000000</td>\n    </tr>\n    <tr>\n      <th>mean</th>\n      <td>NaN</td>\n      <td>2010.0</td>\n      <td>12.222378</td>\n    </tr>\n    <tr>\n      <th>std</th>\n      <td>NaN</td>\n      <td>0.0</td>\n      <td>18.244438</td>\n    </tr>\n    <tr>\n      <th>min</th>\n      <td>NaN</td>\n      <td>2010.0</td>\n      <td>0.263319</td>\n    </tr>\n    <tr>\n      <th>25%</th>\n      <td>NaN</td>\n      <td>2010.0</td>\n      <td>2.518750</td>\n    </tr>\n    <tr>\n      <th>50%</th>\n      <td>NaN</td>\n      <td>2010.0</td>\n      <td>6.122183</td>\n    </tr>\n    <tr>\n      <th>75%</th>\n      <td>NaN</td>\n      <td>2010.0</td>\n      <td>14.825000</td>\n    </tr>\n    <tr>\n      <th>max</th>\n      <td>NaN</td>\n      <td>2010.0</td>\n      <td>93.300000</td>\n    </tr>\n  </tbody>\n</table>\n</div>"
     },
     "execution_count": 172,
     "metadata": {},
     "output_type": "execute_result"
    }
   ],
   "source": [
    "gg.describe()"
   ],
   "metadata": {
    "collapsed": false,
    "pycharm": {
     "name": "#%%\n"
    }
   }
  },
  {
   "cell_type": "markdown",
   "source": [
    "Here we see that we only have values for year 2010. Moreover, the ghg emissions seem to vary a lot, which makes sense when you have sources such as _Apples_ and _Beef_ in the same dataset."
   ],
   "metadata": {
    "collapsed": false,
    "pycharm": {
     "name": "#%% md\n"
    }
   }
  },
  {
   "cell_type": "markdown",
   "source": [
    "#### GDP"
   ],
   "metadata": {
    "collapsed": false,
    "pycharm": {
     "name": "#%% md\n"
    }
   }
  },
  {
   "cell_type": "code",
   "execution_count": 173,
   "outputs": [
    {
     "data": {
      "text/plain": "Index(['Country Name', 'Country Code', 'Indicator Name', 'Indicator Code',\n       '1960', '1961', '1962', '1963', '1964', '1965', '1966', '1967', '1968',\n       '1969', '1970', '1971', '1972', '1973', '1974', '1975', '1976', '1977',\n       '1978', '1979', '1980', '1981', '1982', '1983', '1984', '1985', '1986',\n       '1987', '1988', '1989', '1990', '1991', '1992', '1993', '1994', '1995',\n       '1996', '1997', '1998', '1999', '2000', '2001', '2002', '2003', '2004',\n       '2005', '2006', '2007', '2008', '2009', '2010', '2011', '2012', '2013',\n       '2014', '2015', '2016', '2017', '2018', '2019', '2020', '2021'],\n      dtype='object')"
     },
     "execution_count": 173,
     "metadata": {},
     "output_type": "execute_result"
    }
   ],
   "source": [
    "df_gdp = pd.read_csv('data/country_gdp.csv')\n",
    "df_gdp.drop('Unnamed: 66', axis=1, inplace=True)\n",
    "df_gdp.columns"
   ],
   "metadata": {
    "collapsed": false,
    "pycharm": {
     "name": "#%%\n"
    }
   }
  },
  {
   "cell_type": "code",
   "execution_count": 174,
   "outputs": [
    {
     "data": {
      "text/plain": "               1960          1961          1962          1963          1964  \\\ncount  1.320000e+02  1.340000e+02  1.370000e+02  1.370000e+02  1.370000e+02   \nmean   7.186024e+10  7.266395e+10  7.577239e+10  8.171949e+10  8.975553e+10   \nstd    2.144733e+11  2.220896e+11  2.359301e+11  2.538169e+11  2.775807e+11   \nmin    1.201201e+07  1.159201e+07  9.122751e+06  1.084010e+07  1.271247e+07   \n25%    5.081293e+08  5.007338e+08  5.317365e+08  5.161478e+08  5.425784e+08   \n50%    2.976974e+09  2.966849e+09  2.814319e+09  3.540403e+09  3.405333e+09   \n75%    2.994976e+10  3.010542e+10  2.929229e+10  3.395604e+10  3.122632e+10   \nmax    1.390298e+12  1.446418e+12  1.548223e+12  1.669094e+12  1.827514e+12   \n\n               1965          1966          1967          1968          1969  \\\ncount  1.480000e+02  1.510000e+02  1.540000e+02  1.590000e+02  1.590000e+02   \nmean   9.113823e+10  1.014153e+11  1.052055e+11  1.102810e+11  1.219512e+11   \nstd    2.915236e+11  3.191881e+11  3.375833e+11  3.595171e+11  3.957017e+11   \nmin    1.359393e+07  1.446908e+07  1.583518e+07  1.460000e+07  1.585000e+07   \n25%    5.863716e+08  6.380995e+08  6.238584e+08  6.440071e+08  6.834820e+08   \n50%    3.038595e+09  3.170500e+09  3.377453e+09  3.941700e+09  4.485778e+09   \n75%    2.799538e+10  2.951745e+10  3.092595e+10  3.405882e+10  3.770401e+10   \nmax    1.990867e+12  2.160633e+12  2.298980e+12  2.481355e+12  2.736896e+12   \n\n       ...          2012          2013          2014          2015  \\\ncount  ...  2.570000e+02  2.580000e+02  2.580000e+02  2.570000e+02   \nmean   ...  2.404985e+12  2.482656e+12  2.553926e+12  2.407636e+12   \nstd    ...  8.162875e+12  8.388884e+12  8.618353e+12  8.171895e+12   \nmin    ...  3.767177e+07  3.750908e+07  3.729061e+07  3.549207e+07   \n25%    ...  8.709165e+09  8.747774e+09  9.297231e+09  8.738203e+09   \n50%    ...  4.657779e+10  4.981676e+10  5.114388e+10  5.006595e+10   \n75%    ...  5.524837e+11  5.447092e+11  5.456266e+11  5.051038e+11   \nmax    ...  7.531156e+13  7.744323e+13  7.957553e+13  7.511714e+13   \n\n               2016          2017          2018          2019          2020  \\\ncount  2.560000e+02  2.560000e+02  2.560000e+02  2.530000e+02  2.420000e+02   \nmean   2.447651e+12  2.621670e+12  2.787111e+12  2.864960e+12  2.892663e+12   \nstd    8.322936e+12  8.856136e+12  9.425990e+12  9.620595e+12  9.530219e+12   \nmin    3.654780e+07  4.061925e+07  4.258816e+07  4.727146e+07  4.885555e+07   \n25%    8.666853e+09  9.565595e+09  1.046233e+10  1.131495e+10  1.204996e+10   \n50%    4.886913e+10  5.332271e+10  5.614404e+10  6.113687e+10  6.212830e+10   \n75%    5.261238e+11  5.666712e+11  5.634445e+11  5.972806e+11  7.441747e+11   \nmax    7.631320e+13  8.122464e+13  8.627430e+13  8.756805e+13  8.474698e+13   \n\n       2021  \ncount   0.0  \nmean    NaN  \nstd     NaN  \nmin     NaN  \n25%     NaN  \n50%     NaN  \n75%     NaN  \nmax     NaN  \n\n[8 rows x 62 columns]",
      "text/html": "<div>\n<style scoped>\n    .dataframe tbody tr th:only-of-type {\n        vertical-align: middle;\n    }\n\n    .dataframe tbody tr th {\n        vertical-align: top;\n    }\n\n    .dataframe thead th {\n        text-align: right;\n    }\n</style>\n<table border=\"1\" class=\"dataframe\">\n  <thead>\n    <tr style=\"text-align: right;\">\n      <th></th>\n      <th>1960</th>\n      <th>1961</th>\n      <th>1962</th>\n      <th>1963</th>\n      <th>1964</th>\n      <th>1965</th>\n      <th>1966</th>\n      <th>1967</th>\n      <th>1968</th>\n      <th>1969</th>\n      <th>...</th>\n      <th>2012</th>\n      <th>2013</th>\n      <th>2014</th>\n      <th>2015</th>\n      <th>2016</th>\n      <th>2017</th>\n      <th>2018</th>\n      <th>2019</th>\n      <th>2020</th>\n      <th>2021</th>\n    </tr>\n  </thead>\n  <tbody>\n    <tr>\n      <th>count</th>\n      <td>1.320000e+02</td>\n      <td>1.340000e+02</td>\n      <td>1.370000e+02</td>\n      <td>1.370000e+02</td>\n      <td>1.370000e+02</td>\n      <td>1.480000e+02</td>\n      <td>1.510000e+02</td>\n      <td>1.540000e+02</td>\n      <td>1.590000e+02</td>\n      <td>1.590000e+02</td>\n      <td>...</td>\n      <td>2.570000e+02</td>\n      <td>2.580000e+02</td>\n      <td>2.580000e+02</td>\n      <td>2.570000e+02</td>\n      <td>2.560000e+02</td>\n      <td>2.560000e+02</td>\n      <td>2.560000e+02</td>\n      <td>2.530000e+02</td>\n      <td>2.420000e+02</td>\n      <td>0.0</td>\n    </tr>\n    <tr>\n      <th>mean</th>\n      <td>7.186024e+10</td>\n      <td>7.266395e+10</td>\n      <td>7.577239e+10</td>\n      <td>8.171949e+10</td>\n      <td>8.975553e+10</td>\n      <td>9.113823e+10</td>\n      <td>1.014153e+11</td>\n      <td>1.052055e+11</td>\n      <td>1.102810e+11</td>\n      <td>1.219512e+11</td>\n      <td>...</td>\n      <td>2.404985e+12</td>\n      <td>2.482656e+12</td>\n      <td>2.553926e+12</td>\n      <td>2.407636e+12</td>\n      <td>2.447651e+12</td>\n      <td>2.621670e+12</td>\n      <td>2.787111e+12</td>\n      <td>2.864960e+12</td>\n      <td>2.892663e+12</td>\n      <td>NaN</td>\n    </tr>\n    <tr>\n      <th>std</th>\n      <td>2.144733e+11</td>\n      <td>2.220896e+11</td>\n      <td>2.359301e+11</td>\n      <td>2.538169e+11</td>\n      <td>2.775807e+11</td>\n      <td>2.915236e+11</td>\n      <td>3.191881e+11</td>\n      <td>3.375833e+11</td>\n      <td>3.595171e+11</td>\n      <td>3.957017e+11</td>\n      <td>...</td>\n      <td>8.162875e+12</td>\n      <td>8.388884e+12</td>\n      <td>8.618353e+12</td>\n      <td>8.171895e+12</td>\n      <td>8.322936e+12</td>\n      <td>8.856136e+12</td>\n      <td>9.425990e+12</td>\n      <td>9.620595e+12</td>\n      <td>9.530219e+12</td>\n      <td>NaN</td>\n    </tr>\n    <tr>\n      <th>min</th>\n      <td>1.201201e+07</td>\n      <td>1.159201e+07</td>\n      <td>9.122751e+06</td>\n      <td>1.084010e+07</td>\n      <td>1.271247e+07</td>\n      <td>1.359393e+07</td>\n      <td>1.446908e+07</td>\n      <td>1.583518e+07</td>\n      <td>1.460000e+07</td>\n      <td>1.585000e+07</td>\n      <td>...</td>\n      <td>3.767177e+07</td>\n      <td>3.750908e+07</td>\n      <td>3.729061e+07</td>\n      <td>3.549207e+07</td>\n      <td>3.654780e+07</td>\n      <td>4.061925e+07</td>\n      <td>4.258816e+07</td>\n      <td>4.727146e+07</td>\n      <td>4.885555e+07</td>\n      <td>NaN</td>\n    </tr>\n    <tr>\n      <th>25%</th>\n      <td>5.081293e+08</td>\n      <td>5.007338e+08</td>\n      <td>5.317365e+08</td>\n      <td>5.161478e+08</td>\n      <td>5.425784e+08</td>\n      <td>5.863716e+08</td>\n      <td>6.380995e+08</td>\n      <td>6.238584e+08</td>\n      <td>6.440071e+08</td>\n      <td>6.834820e+08</td>\n      <td>...</td>\n      <td>8.709165e+09</td>\n      <td>8.747774e+09</td>\n      <td>9.297231e+09</td>\n      <td>8.738203e+09</td>\n      <td>8.666853e+09</td>\n      <td>9.565595e+09</td>\n      <td>1.046233e+10</td>\n      <td>1.131495e+10</td>\n      <td>1.204996e+10</td>\n      <td>NaN</td>\n    </tr>\n    <tr>\n      <th>50%</th>\n      <td>2.976974e+09</td>\n      <td>2.966849e+09</td>\n      <td>2.814319e+09</td>\n      <td>3.540403e+09</td>\n      <td>3.405333e+09</td>\n      <td>3.038595e+09</td>\n      <td>3.170500e+09</td>\n      <td>3.377453e+09</td>\n      <td>3.941700e+09</td>\n      <td>4.485778e+09</td>\n      <td>...</td>\n      <td>4.657779e+10</td>\n      <td>4.981676e+10</td>\n      <td>5.114388e+10</td>\n      <td>5.006595e+10</td>\n      <td>4.886913e+10</td>\n      <td>5.332271e+10</td>\n      <td>5.614404e+10</td>\n      <td>6.113687e+10</td>\n      <td>6.212830e+10</td>\n      <td>NaN</td>\n    </tr>\n    <tr>\n      <th>75%</th>\n      <td>2.994976e+10</td>\n      <td>3.010542e+10</td>\n      <td>2.929229e+10</td>\n      <td>3.395604e+10</td>\n      <td>3.122632e+10</td>\n      <td>2.799538e+10</td>\n      <td>2.951745e+10</td>\n      <td>3.092595e+10</td>\n      <td>3.405882e+10</td>\n      <td>3.770401e+10</td>\n      <td>...</td>\n      <td>5.524837e+11</td>\n      <td>5.447092e+11</td>\n      <td>5.456266e+11</td>\n      <td>5.051038e+11</td>\n      <td>5.261238e+11</td>\n      <td>5.666712e+11</td>\n      <td>5.634445e+11</td>\n      <td>5.972806e+11</td>\n      <td>7.441747e+11</td>\n      <td>NaN</td>\n    </tr>\n    <tr>\n      <th>max</th>\n      <td>1.390298e+12</td>\n      <td>1.446418e+12</td>\n      <td>1.548223e+12</td>\n      <td>1.669094e+12</td>\n      <td>1.827514e+12</td>\n      <td>1.990867e+12</td>\n      <td>2.160633e+12</td>\n      <td>2.298980e+12</td>\n      <td>2.481355e+12</td>\n      <td>2.736896e+12</td>\n      <td>...</td>\n      <td>7.531156e+13</td>\n      <td>7.744323e+13</td>\n      <td>7.957553e+13</td>\n      <td>7.511714e+13</td>\n      <td>7.631320e+13</td>\n      <td>8.122464e+13</td>\n      <td>8.627430e+13</td>\n      <td>8.756805e+13</td>\n      <td>8.474698e+13</td>\n      <td>NaN</td>\n    </tr>\n  </tbody>\n</table>\n<p>8 rows × 62 columns</p>\n</div>"
     },
     "execution_count": 174,
     "metadata": {},
     "output_type": "execute_result"
    }
   ],
   "source": [
    "df_gdp.describe()"
   ],
   "metadata": {
    "collapsed": false,
    "pycharm": {
     "name": "#%%\n"
    }
   }
  },
  {
   "cell_type": "markdown",
   "source": [
    "This dataset is the same as the population data in terms of having the variable it's supposed to describe (gdp), spanned over multiple columns, which then leads to a melting operation later."
   ],
   "metadata": {
    "collapsed": false,
    "pycharm": {
     "name": "#%% md\n"
    }
   }
  },
  {
   "cell_type": "markdown",
   "source": [
    "#### Animal protein consumption"
   ],
   "metadata": {
    "collapsed": false,
    "pycharm": {
     "name": "#%% md\n"
    }
   }
  },
  {
   "cell_type": "code",
   "execution_count": 175,
   "outputs": [
    {
     "data": {
      "text/plain": "Index(['Entity', 'Code', 'Year', 'Poultry', 'Pork', 'Beef', 'Lamb & goat',\n       'Other meat', 'Eggs', 'Milk', 'Fish, Seafood'],\n      dtype='object')"
     },
     "execution_count": 175,
     "metadata": {},
     "output_type": "execute_result"
    }
   ],
   "source": [
    "df_animal = pd.read_csv('data/animal-protein-consumption.csv')\n",
    "df_animal.columns"
   ],
   "metadata": {
    "collapsed": false,
    "pycharm": {
     "name": "#%%\n"
    }
   }
  },
  {
   "cell_type": "code",
   "execution_count": 176,
   "outputs": [
    {
     "data": {
      "text/plain": "['Afghanistan',\n 'Albania',\n 'Algeria',\n 'Angola',\n 'Antigua and Barbuda',\n 'Argentina',\n 'Armenia',\n 'Australia',\n 'Austria',\n 'Azerbaijan',\n 'Bahamas',\n 'Bangladesh',\n 'Barbados',\n 'Belarus',\n 'Belgium',\n 'Belize',\n 'Benin',\n 'Bolivia',\n 'Bosnia and Herzegovina',\n 'Botswana',\n 'Brazil',\n 'Bulgaria',\n 'Burkina Faso',\n 'Cambodia',\n 'Cameroon',\n 'Canada',\n 'Cape Verde',\n 'Central African Republic',\n 'Chad',\n 'Chile',\n 'China',\n 'Colombia',\n 'Congo',\n 'Costa Rica',\n \"Cote d'Ivoire\",\n 'Croatia',\n 'Cuba',\n 'Cyprus',\n 'Czechia',\n 'Denmark',\n 'Djibouti',\n 'Dominica',\n 'Dominican Republic',\n 'Ecuador',\n 'Egypt',\n 'El Salvador',\n 'Estonia',\n 'Eswatini',\n 'Ethiopia',\n 'Fiji',\n 'Finland',\n 'France',\n 'French Polynesia',\n 'Gabon',\n 'Gambia',\n 'Georgia',\n 'Germany',\n 'Ghana',\n 'Greece',\n 'Grenada',\n 'Guatemala',\n 'Guinea',\n 'Guinea-Bissau',\n 'Guyana',\n 'Haiti',\n 'Honduras',\n 'Hong Kong',\n 'Hungary',\n 'Iceland',\n 'India',\n 'Indonesia',\n 'Iran',\n 'Iraq',\n 'Ireland',\n 'Israel',\n 'Italy',\n 'Jamaica',\n 'Japan',\n 'Jordan',\n 'Kazakhstan',\n 'Kenya',\n 'Kiribati',\n 'Kuwait',\n 'Kyrgyzstan',\n 'Laos',\n 'Latvia',\n 'Lebanon',\n 'Lesotho',\n 'Liberia',\n 'Lithuania',\n 'Luxembourg',\n 'Macao',\n 'Madagascar',\n 'Malawi',\n 'Malaysia',\n 'Maldives',\n 'Mali',\n 'Malta',\n 'Mauritania',\n 'Mauritius',\n 'Mexico',\n 'Moldova',\n 'Mongolia',\n 'Montenegro',\n 'Morocco',\n 'Mozambique',\n 'Myanmar',\n 'Namibia',\n 'Nepal',\n 'Netherlands',\n 'New Caledonia',\n 'New Zealand',\n 'Nicaragua',\n 'Niger',\n 'Nigeria',\n 'North Korea',\n 'North Macedonia',\n 'Norway',\n 'Oman',\n 'Pakistan',\n 'Panama',\n 'Paraguay',\n 'Peru',\n 'Philippines',\n 'Poland',\n 'Portugal',\n 'Romania',\n 'Russia',\n 'Rwanda',\n 'Saint Kitts and Nevis',\n 'Saint Lucia',\n 'Saint Vincent and the Grenadines',\n 'Samoa',\n 'Sao Tome and Principe',\n 'Saudi Arabia',\n 'Senegal',\n 'Serbia',\n 'Sierra Leone',\n 'Slovakia',\n 'Slovenia',\n 'Solomon Islands',\n 'South Africa',\n 'South Korea',\n 'Spain',\n 'Sri Lanka',\n 'Sudan',\n 'Suriname',\n 'Sweden',\n 'Switzerland',\n 'Taiwan',\n 'Tajikistan',\n 'Tanzania',\n 'Thailand',\n 'Timor',\n 'Togo',\n 'Trinidad and Tobago',\n 'Tunisia',\n 'Turkey',\n 'Turkmenistan',\n 'Uganda',\n 'Ukraine',\n 'United Arab Emirates',\n 'United Kingdom',\n 'United States',\n 'Uruguay',\n 'Uzbekistan',\n 'Vanuatu',\n 'Venezuela',\n 'Vietnam',\n 'Yemen',\n 'Zambia',\n 'Zimbabwe']"
     },
     "execution_count": 176,
     "metadata": {},
     "output_type": "execute_result"
    }
   ],
   "source": [
    "df_animal.Entity.unique().tolist()"
   ],
   "metadata": {
    "collapsed": false,
    "pycharm": {
     "name": "#%%\n"
    }
   }
  },
  {
   "cell_type": "code",
   "execution_count": 177,
   "outputs": [
    {
     "data": {
      "text/plain": "              Year     Poultry        Pork        Beef  Lamb & goat  \\\ncount   688.000000  688.000000  678.000000  688.000000   688.000000   \nmean   2015.500000    7.028401    4.073496    4.244927     1.080741   \nstd       1.118847    5.569785    4.421778    3.516461     1.875403   \nmin    2014.000000    0.040000    0.000000    0.240000     0.000000   \n25%    2014.750000    2.000000    0.412500    1.785000     0.200000   \n50%    2015.500000    6.330000    2.445000    3.075000     0.520000   \n75%    2016.250000   10.125000    6.570000    5.990000     1.162500   \nmax    2017.000000   27.870000   20.250000   26.660000    17.970000   \n\n       Other meat        Eggs        Milk  Fish, Seafood  \ncount  688.000000  688.000000  688.000000     688.000000  \nmean     0.727878    2.053169   10.525480       5.616105  \nstd      1.235963    1.549441    8.524803       5.358499  \nmin      0.000000    0.070000    0.260000       0.060000  \n25%      0.040000    0.577500    3.220000       1.900000  \n50%      0.280000    1.820000    8.450000       4.235000  \n75%      0.860000    3.200000   15.530000       7.942500  \nmax      8.260000    7.130000   39.390000      48.120000  ",
      "text/html": "<div>\n<style scoped>\n    .dataframe tbody tr th:only-of-type {\n        vertical-align: middle;\n    }\n\n    .dataframe tbody tr th {\n        vertical-align: top;\n    }\n\n    .dataframe thead th {\n        text-align: right;\n    }\n</style>\n<table border=\"1\" class=\"dataframe\">\n  <thead>\n    <tr style=\"text-align: right;\">\n      <th></th>\n      <th>Year</th>\n      <th>Poultry</th>\n      <th>Pork</th>\n      <th>Beef</th>\n      <th>Lamb &amp; goat</th>\n      <th>Other meat</th>\n      <th>Eggs</th>\n      <th>Milk</th>\n      <th>Fish, Seafood</th>\n    </tr>\n  </thead>\n  <tbody>\n    <tr>\n      <th>count</th>\n      <td>688.000000</td>\n      <td>688.000000</td>\n      <td>678.000000</td>\n      <td>688.000000</td>\n      <td>688.000000</td>\n      <td>688.000000</td>\n      <td>688.000000</td>\n      <td>688.000000</td>\n      <td>688.000000</td>\n    </tr>\n    <tr>\n      <th>mean</th>\n      <td>2015.500000</td>\n      <td>7.028401</td>\n      <td>4.073496</td>\n      <td>4.244927</td>\n      <td>1.080741</td>\n      <td>0.727878</td>\n      <td>2.053169</td>\n      <td>10.525480</td>\n      <td>5.616105</td>\n    </tr>\n    <tr>\n      <th>std</th>\n      <td>1.118847</td>\n      <td>5.569785</td>\n      <td>4.421778</td>\n      <td>3.516461</td>\n      <td>1.875403</td>\n      <td>1.235963</td>\n      <td>1.549441</td>\n      <td>8.524803</td>\n      <td>5.358499</td>\n    </tr>\n    <tr>\n      <th>min</th>\n      <td>2014.000000</td>\n      <td>0.040000</td>\n      <td>0.000000</td>\n      <td>0.240000</td>\n      <td>0.000000</td>\n      <td>0.000000</td>\n      <td>0.070000</td>\n      <td>0.260000</td>\n      <td>0.060000</td>\n    </tr>\n    <tr>\n      <th>25%</th>\n      <td>2014.750000</td>\n      <td>2.000000</td>\n      <td>0.412500</td>\n      <td>1.785000</td>\n      <td>0.200000</td>\n      <td>0.040000</td>\n      <td>0.577500</td>\n      <td>3.220000</td>\n      <td>1.900000</td>\n    </tr>\n    <tr>\n      <th>50%</th>\n      <td>2015.500000</td>\n      <td>6.330000</td>\n      <td>2.445000</td>\n      <td>3.075000</td>\n      <td>0.520000</td>\n      <td>0.280000</td>\n      <td>1.820000</td>\n      <td>8.450000</td>\n      <td>4.235000</td>\n    </tr>\n    <tr>\n      <th>75%</th>\n      <td>2016.250000</td>\n      <td>10.125000</td>\n      <td>6.570000</td>\n      <td>5.990000</td>\n      <td>1.162500</td>\n      <td>0.860000</td>\n      <td>3.200000</td>\n      <td>15.530000</td>\n      <td>7.942500</td>\n    </tr>\n    <tr>\n      <th>max</th>\n      <td>2017.000000</td>\n      <td>27.870000</td>\n      <td>20.250000</td>\n      <td>26.660000</td>\n      <td>17.970000</td>\n      <td>8.260000</td>\n      <td>7.130000</td>\n      <td>39.390000</td>\n      <td>48.120000</td>\n    </tr>\n  </tbody>\n</table>\n</div>"
     },
     "execution_count": 177,
     "metadata": {},
     "output_type": "execute_result"
    }
   ],
   "source": [
    "df_animal.describe()"
   ],
   "metadata": {
    "collapsed": false,
    "pycharm": {
     "name": "#%%\n"
    }
   }
  },
  {
   "cell_type": "markdown",
   "source": [
    "This dataset proved very valuable to us as it contained insightful information on how much each country eats of different sources of meat-protein."
   ],
   "metadata": {
    "collapsed": false,
    "pycharm": {
     "name": "#%% md\n"
    }
   }
  },
  {
   "cell_type": "markdown",
   "source": [
    "#### Aquaculture vs capture fisheries"
   ],
   "metadata": {
    "collapsed": false,
    "pycharm": {
     "name": "#%% md\n"
    }
   }
  },
  {
   "cell_type": "code",
   "execution_count": 178,
   "outputs": [
    {
     "data": {
      "text/plain": "Index(['Entity', 'Code', 'Year', 'Aquaculture production (metric tons)',\n       'Capture fisheries production (metric tons)'],\n      dtype='object')"
     },
     "execution_count": 178,
     "metadata": {},
     "output_type": "execute_result"
    }
   ],
   "source": [
    "df_aqua = pd.read_csv('data/capture-fisheries-vs-aquaculture.csv')\n",
    "df_aqua.columns"
   ],
   "metadata": {
    "collapsed": false,
    "pycharm": {
     "name": "#%%\n"
    }
   }
  },
  {
   "cell_type": "code",
   "execution_count": 179,
   "outputs": [
    {
     "data": {
      "text/plain": "['Afghanistan',\n 'Africa Eastern and Southern',\n 'Africa Western and Central',\n 'Albania',\n 'Algeria',\n 'American Samoa',\n 'Andorra',\n 'Angola',\n 'Antigua and Barbuda',\n 'Arab World',\n 'Argentina',\n 'Armenia',\n 'Aruba',\n 'Australia',\n 'Austria',\n 'Azerbaijan',\n 'Bahamas',\n 'Bahrain',\n 'Bangladesh',\n 'Barbados',\n 'Belarus',\n 'Belgium',\n 'Belize',\n 'Benin',\n 'Bermuda',\n 'Bhutan',\n 'Bolivia',\n 'Bosnia and Herzegovina',\n 'Botswana',\n 'Brazil',\n 'British Virgin Islands',\n 'Brunei',\n 'Bulgaria',\n 'Burkina Faso',\n 'Burundi',\n 'Cambodia',\n 'Cameroon',\n 'Canada',\n 'Cape Verde',\n 'Caribbean Small States',\n 'Cayman Islands',\n 'Central African Republic',\n 'Central Europe and the Baltics',\n 'Chad',\n 'Channel Islands',\n 'Chile',\n 'China',\n 'Colombia',\n 'Comoros',\n 'Congo',\n 'Costa Rica',\n \"Cote d'Ivoire\",\n 'Croatia',\n 'Cuba',\n 'Curacao',\n 'Cyprus',\n 'Czechia',\n 'Democratic Republic of Congo',\n 'Denmark',\n 'Djibouti',\n 'Dominica',\n 'Dominican Republic',\n 'Early-demographic dividend',\n 'East Asia & Pacific',\n 'East Asia & Pacific (IDA & IBRD)',\n 'East Asia & Pacific (excluding high income)',\n 'Ecuador',\n 'Egypt',\n 'El Salvador',\n 'Equatorial Guinea',\n 'Eritrea',\n 'Estonia',\n 'Eswatini',\n 'Ethiopia',\n 'Euro area',\n 'Europe & Central Asia',\n 'Europe & Central Asia (IDA & IBRD)',\n 'Europe & Central Asia (excluding high income)',\n 'European Union',\n 'Faeroe Islands',\n 'Fiji',\n 'Finland',\n 'Fragile and conflict affected situations',\n 'France',\n 'French Polynesia',\n 'Gabon',\n 'Gambia',\n 'Georgia',\n 'Germany',\n 'Ghana',\n 'Gibraltar',\n 'Greece',\n 'Greenland',\n 'Grenada',\n 'Guam',\n 'Guatemala',\n 'Guinea',\n 'Guinea-Bissau',\n 'Guyana',\n 'Haiti',\n 'Heavily indebted poor countries (HIPC)',\n 'High income',\n 'Honduras',\n 'Hong Kong',\n 'Hungary',\n 'IBRD only',\n 'IDA & IBRD total',\n 'IDA blend',\n 'IDA only',\n 'IDA total',\n 'Iceland',\n 'India',\n 'Indonesia',\n 'Iran',\n 'Iraq',\n 'Ireland',\n 'Isle of Man',\n 'Israel',\n 'Italy',\n 'Jamaica',\n 'Japan',\n 'Jordan',\n 'Kazakhstan',\n 'Kenya',\n 'Kiribati',\n 'Kuwait',\n 'Kyrgyzstan',\n 'Laos',\n 'Late-demographic dividend',\n 'Latin America & Caribbean',\n 'Latin America & Caribbean (IDA & IBRD)',\n 'Latin America & Caribbean (excluding high income)',\n 'Latvia',\n 'Least developed countries: UN classification',\n 'Lebanon',\n 'Lesotho',\n 'Liberia',\n 'Libya',\n 'Liechtenstein',\n 'Lithuania',\n 'Low & middle income',\n 'Low income',\n 'Lower middle income',\n 'Luxembourg',\n 'Macao',\n 'Madagascar',\n 'Malawi',\n 'Malaysia',\n 'Maldives',\n 'Mali',\n 'Malta',\n 'Marshall Islands',\n 'Mauritania',\n 'Mauritius',\n 'Mexico',\n 'Micronesia (country)',\n 'Middle East & North Africa',\n 'Middle East & North Africa (IDA & IBRD)',\n 'Middle East & North Africa (excluding high income)',\n 'Middle income',\n 'Moldova',\n 'Monaco',\n 'Mongolia',\n 'Montenegro',\n 'Morocco',\n 'Mozambique',\n 'Myanmar',\n 'Namibia',\n 'Nauru',\n 'Nepal',\n 'Netherlands',\n 'New Caledonia',\n 'New Zealand',\n 'Nicaragua',\n 'Niger',\n 'Nigeria',\n 'North America',\n 'North Korea',\n 'North Macedonia',\n 'Northern Mariana Islands',\n 'Norway',\n 'OECD members',\n 'Oman',\n 'Other small states',\n 'Pacific island small states',\n 'Pakistan',\n 'Palau',\n 'Palestine',\n 'Panama',\n 'Papua New Guinea',\n 'Paraguay',\n 'Peru',\n 'Philippines',\n 'Poland',\n 'Portugal',\n 'Post-demographic dividend',\n 'Pre-demographic dividend',\n 'Puerto Rico',\n 'Qatar',\n 'Romania',\n 'Russia',\n 'Rwanda',\n 'Saint Kitts and Nevis',\n 'Saint Lucia',\n 'Saint Martin (French part)',\n 'Saint Vincent and the Grenadines',\n 'Samoa',\n 'San Marino',\n 'Sao Tome and Principe',\n 'Saudi Arabia',\n 'Senegal',\n 'Serbia',\n 'Seychelles',\n 'Sierra Leone',\n 'Singapore',\n 'Sint Maarten (Dutch part)',\n 'Slovakia',\n 'Slovenia',\n 'Small states',\n 'Solomon Islands',\n 'Somalia',\n 'South Africa',\n 'South Asia',\n 'South Asia (IDA & IBRD)',\n 'South Korea',\n 'South Sudan',\n 'Spain',\n 'Sri Lanka',\n 'Sub-Saharan Africa',\n 'Sub-Saharan Africa (IDA & IBRD)',\n 'Sub-Saharan Africa (excluding high income)',\n 'Sudan',\n 'Suriname',\n 'Sweden',\n 'Switzerland',\n 'Syria',\n 'Tajikistan',\n 'Tanzania',\n 'Thailand',\n 'Timor',\n 'Togo',\n 'Tonga',\n 'Trinidad and Tobago',\n 'Tunisia',\n 'Turkey',\n 'Turkmenistan',\n 'Turks and Caicos Islands',\n 'Tuvalu',\n 'Uganda',\n 'Ukraine',\n 'United Arab Emirates',\n 'United Kingdom',\n 'United States',\n 'United States Virgin Islands',\n 'Upper middle income',\n 'Uruguay',\n 'Uzbekistan',\n 'Vanuatu',\n 'Venezuela',\n 'Vietnam',\n 'World',\n 'Yemen',\n 'Zambia',\n 'Zimbabwe']"
     },
     "execution_count": 179,
     "metadata": {},
     "output_type": "execute_result"
    }
   ],
   "source": [
    "df_aqua.Entity.unique().tolist()"
   ],
   "metadata": {
    "collapsed": false,
    "pycharm": {
     "name": "#%%\n"
    }
   }
  },
  {
   "cell_type": "code",
   "execution_count": 180,
   "outputs": [
    {
     "data": {
      "text/plain": "               Year  Aquaculture production (metric tons)  \\\ncount  14674.000000                          1.171600e+04   \nmean    1989.737427                          1.693644e+06   \nstd       17.002855                          8.953273e+06   \nmin     1960.000000                          0.000000e+00   \n25%     1975.000000                          5.700000e+01   \n50%     1990.000000                          3.631000e+03   \n75%     2004.000000                          9.229200e+04   \nmax     2018.000000                          1.064513e+08   \n\n       Capture fisheries production (metric tons)  \ncount                                1.451600e+04  \nmean                                 2.842715e+06  \nstd                                  9.232678e+06  \nmin                                  0.000000e+00  \n25%                                  4.105000e+03  \n50%                                  6.348800e+04  \n75%                                  8.569651e+05  \nmax                                  9.515958e+07  ",
      "text/html": "<div>\n<style scoped>\n    .dataframe tbody tr th:only-of-type {\n        vertical-align: middle;\n    }\n\n    .dataframe tbody tr th {\n        vertical-align: top;\n    }\n\n    .dataframe thead th {\n        text-align: right;\n    }\n</style>\n<table border=\"1\" class=\"dataframe\">\n  <thead>\n    <tr style=\"text-align: right;\">\n      <th></th>\n      <th>Year</th>\n      <th>Aquaculture production (metric tons)</th>\n      <th>Capture fisheries production (metric tons)</th>\n    </tr>\n  </thead>\n  <tbody>\n    <tr>\n      <th>count</th>\n      <td>14674.000000</td>\n      <td>1.171600e+04</td>\n      <td>1.451600e+04</td>\n    </tr>\n    <tr>\n      <th>mean</th>\n      <td>1989.737427</td>\n      <td>1.693644e+06</td>\n      <td>2.842715e+06</td>\n    </tr>\n    <tr>\n      <th>std</th>\n      <td>17.002855</td>\n      <td>8.953273e+06</td>\n      <td>9.232678e+06</td>\n    </tr>\n    <tr>\n      <th>min</th>\n      <td>1960.000000</td>\n      <td>0.000000e+00</td>\n      <td>0.000000e+00</td>\n    </tr>\n    <tr>\n      <th>25%</th>\n      <td>1975.000000</td>\n      <td>5.700000e+01</td>\n      <td>4.105000e+03</td>\n    </tr>\n    <tr>\n      <th>50%</th>\n      <td>1990.000000</td>\n      <td>3.631000e+03</td>\n      <td>6.348800e+04</td>\n    </tr>\n    <tr>\n      <th>75%</th>\n      <td>2004.000000</td>\n      <td>9.229200e+04</td>\n      <td>8.569651e+05</td>\n    </tr>\n    <tr>\n      <th>max</th>\n      <td>2018.000000</td>\n      <td>1.064513e+08</td>\n      <td>9.515958e+07</td>\n    </tr>\n  </tbody>\n</table>\n</div>"
     },
     "execution_count": 180,
     "metadata": {},
     "output_type": "execute_result"
    }
   ],
   "source": [
    "df_aqua.describe()"
   ],
   "metadata": {
    "collapsed": false,
    "pycharm": {
     "name": "#%%\n"
    }
   }
  },
  {
   "cell_type": "markdown",
   "source": [
    "Again a relatively simple dataset. The year contains information from 1960 to 2018 which is great to show historical development for each country."
   ],
   "metadata": {
    "collapsed": false,
    "pycharm": {
     "name": "#%% md\n"
    }
   }
  },
  {
   "cell_type": "markdown",
   "source": [
    "#### Aquaculture emissions"
   ],
   "metadata": {
    "collapsed": false,
    "pycharm": {
     "name": "#%% md\n"
    }
   }
  },
  {
   "cell_type": "code",
   "execution_count": 181,
   "outputs": [],
   "source": [
    "nitrogen_emissions_seafood = pd.read_csv('data/nitrogen-emissions-seafood.csv')\n",
    "phosphorous_emissions_seafood = pd.read_csv('data/phosphorous-emissions-seafood.csv')\n",
    "\n",
    "df_emissions = pd.merge(nitrogen_emissions_seafood, phosphorous_emissions_seafood)\n",
    "df_emissions = df_emissions.drop(columns=['Code', 'Year'])"
   ],
   "metadata": {
    "collapsed": false,
    "pycharm": {
     "name": "#%%\n"
    }
   }
  },
  {
   "cell_type": "code",
   "execution_count": 182,
   "outputs": [
    {
     "data": {
      "text/plain": "Index(['Entity', 'Nitrogen (kgN / t edible weight)',\n       'Phosphorous (kgP / t edible weight)'],\n      dtype='object')"
     },
     "execution_count": 182,
     "metadata": {},
     "output_type": "execute_result"
    }
   ],
   "source": [
    "df_emissions.columns"
   ],
   "metadata": {
    "collapsed": false,
    "pycharm": {
     "name": "#%%\n"
    }
   }
  },
  {
   "cell_type": "code",
   "execution_count": 183,
   "outputs": [
    {
     "data": {
      "text/plain": "['Bivalves (farmed)',\n 'Carp (farmed)',\n 'Catfish (farmed)',\n 'Chicken',\n 'Milkfish (farmed)',\n 'Other freshwater fish (farmed)',\n 'Other marine fish (farmed)',\n 'Salmon (farmed)',\n 'Seaweed (farmed)',\n 'Shrimp (farmed)',\n 'Silver/bighead (farmed)',\n 'Tilapia (farmed)',\n 'Trout (farmed)']"
     },
     "execution_count": 183,
     "metadata": {},
     "output_type": "execute_result"
    }
   ],
   "source": [
    "df_emissions.Entity.unique().tolist()"
   ],
   "metadata": {
    "collapsed": false,
    "pycharm": {
     "name": "#%%\n"
    }
   }
  },
  {
   "cell_type": "markdown",
   "source": [
    "The emissions data is from farmed fish (aquaculture). The Chicken entity is in this dataset to serve as a comparison since chicken is known to be good to produce wrt emissions."
   ],
   "metadata": {
    "collapsed": false,
    "pycharm": {
     "name": "#%% md\n"
    }
   }
  },
  {
   "cell_type": "code",
   "execution_count": 184,
   "outputs": [
    {
     "data": {
      "text/plain": "       Nitrogen (kgN / t edible weight)  Phosphorous (kgP / t edible weight)\ncount                         13.000000                            13.000000\nmean                         111.772132                            19.504249\nstd                           98.151610                            19.320555\nmin                         -129.826851                           -24.279077\n25%                           98.889040                            20.260490\n50%                          132.881697                            23.921392\n75%                          156.052190                            26.619691\nmax                          234.552923                            50.176161",
      "text/html": "<div>\n<style scoped>\n    .dataframe tbody tr th:only-of-type {\n        vertical-align: middle;\n    }\n\n    .dataframe tbody tr th {\n        vertical-align: top;\n    }\n\n    .dataframe thead th {\n        text-align: right;\n    }\n</style>\n<table border=\"1\" class=\"dataframe\">\n  <thead>\n    <tr style=\"text-align: right;\">\n      <th></th>\n      <th>Nitrogen (kgN / t edible weight)</th>\n      <th>Phosphorous (kgP / t edible weight)</th>\n    </tr>\n  </thead>\n  <tbody>\n    <tr>\n      <th>count</th>\n      <td>13.000000</td>\n      <td>13.000000</td>\n    </tr>\n    <tr>\n      <th>mean</th>\n      <td>111.772132</td>\n      <td>19.504249</td>\n    </tr>\n    <tr>\n      <th>std</th>\n      <td>98.151610</td>\n      <td>19.320555</td>\n    </tr>\n    <tr>\n      <th>min</th>\n      <td>-129.826851</td>\n      <td>-24.279077</td>\n    </tr>\n    <tr>\n      <th>25%</th>\n      <td>98.889040</td>\n      <td>20.260490</td>\n    </tr>\n    <tr>\n      <th>50%</th>\n      <td>132.881697</td>\n      <td>23.921392</td>\n    </tr>\n    <tr>\n      <th>75%</th>\n      <td>156.052190</td>\n      <td>26.619691</td>\n    </tr>\n    <tr>\n      <th>max</th>\n      <td>234.552923</td>\n      <td>50.176161</td>\n    </tr>\n  </tbody>\n</table>\n</div>"
     },
     "execution_count": 184,
     "metadata": {},
     "output_type": "execute_result"
    }
   ],
   "source": [
    "df_emissions.describe()"
   ],
   "metadata": {
    "collapsed": false,
    "pycharm": {
     "name": "#%%\n"
    }
   }
  },
  {
   "cell_type": "markdown",
   "source": [
    "The emissions are noted in Nitrogen and Phosphorous. The values seem to vary a lot between different entities. Some entities even have negative values, let's inspect those!"
   ],
   "metadata": {
    "collapsed": false,
    "pycharm": {
     "name": "#%% md\n"
    }
   }
  },
  {
   "cell_type": "code",
   "execution_count": 185,
   "outputs": [
    {
     "data": {
      "text/plain": "              Entity  Nitrogen (kgN / t edible weight)  \\\n0  Bivalves (farmed)                       -129.826851   \n8   Seaweed (farmed)                        -14.652885   \n\n   Phosphorous (kgP / t edible weight)  \n0                           -24.279077  \n8                           -10.142461  ",
      "text/html": "<div>\n<style scoped>\n    .dataframe tbody tr th:only-of-type {\n        vertical-align: middle;\n    }\n\n    .dataframe tbody tr th {\n        vertical-align: top;\n    }\n\n    .dataframe thead th {\n        text-align: right;\n    }\n</style>\n<table border=\"1\" class=\"dataframe\">\n  <thead>\n    <tr style=\"text-align: right;\">\n      <th></th>\n      <th>Entity</th>\n      <th>Nitrogen (kgN / t edible weight)</th>\n      <th>Phosphorous (kgP / t edible weight)</th>\n    </tr>\n  </thead>\n  <tbody>\n    <tr>\n      <th>0</th>\n      <td>Bivalves (farmed)</td>\n      <td>-129.826851</td>\n      <td>-24.279077</td>\n    </tr>\n    <tr>\n      <th>8</th>\n      <td>Seaweed (farmed)</td>\n      <td>-14.652885</td>\n      <td>-10.142461</td>\n    </tr>\n  </tbody>\n</table>\n</div>"
     },
     "execution_count": 185,
     "metadata": {},
     "output_type": "execute_result"
    }
   ],
   "source": [
    "df_emissions.query('`Nitrogen (kgN / t edible weight)` < 0')"
   ],
   "metadata": {
    "collapsed": false,
    "pycharm": {
     "name": "#%%\n"
    }
   }
  },
  {
   "cell_type": "markdown",
   "source": [
    "It seems that Bivalves and Seaweed produce negative GHG! This is due to them not requiring feeding [ref](https://set.adelaide.edu.au/news/list/2022/01/27/roadmap-for-a-better-greener-marine-aquaculture-sector#:~:text=%E2%80%9CUnlike%20other%20sources%20of%20protein,require%20feeding%E2%80%9D%20Dr%20Jones%20says.)"
   ],
   "metadata": {
    "collapsed": false,
    "pycharm": {
     "name": "#%% md\n"
    }
   }
  },
  {
   "cell_type": "markdown",
   "source": [
    "### Overexploiting fish\n",
    "\n",
    "After our descriptive analysis, we present some of the initial analysis that lead us to this story."
   ],
   "metadata": {
    "collapsed": false,
    "pycharm": {
     "name": "#%% md\n"
    }
   }
  },
  {
   "cell_type": "code",
   "execution_count": 186,
   "outputs": [],
   "source": [
    "sustainable = pd.read_csv('data/fish-stocks-within-sustainable-levels.csv')"
   ],
   "metadata": {
    "collapsed": false,
    "pycharm": {
     "name": "#%%\n"
    }
   }
  },
  {
   "cell_type": "code",
   "execution_count": 187,
   "outputs": [],
   "source": [
    "sustainable_world = sustainable[sustainable[\"Entity\"] == \"World\"]"
   ],
   "metadata": {
    "collapsed": false,
    "pycharm": {
     "name": "#%%\n"
    }
   }
  },
  {
   "cell_type": "code",
   "execution_count": 188,
   "outputs": [
    {
     "data": {
      "text/plain": "<Figure size 720x504 with 1 Axes>",
      "image/png": "[encoded data removed]"
     },
     "metadata": {
      "needs_background": "light"
     },
     "output_type": "display_data"
    }
   ],
   "source": [
    "from operator import truediv\n",
    "\n",
    "sus = sustainable_world['Share of fish stocks within biologically sustainable levels (FAO, 2020)'].tolist()\n",
    "over = sustainable_world['Share of fish stocks that are overexploited'].tolist()\n",
    "index = sustainable_world['Year']\n",
    "df = pd.DataFrame({  'sustainable': sus,\n",
    "    'overexploited': over}, index=index)\n",
    "ax = df.plot.line(figsize=(10, 7))\n",
    "ax.set_xlabel('Year')\n",
    "ax.set_ylabel('%')\n",
    "ax.set_title('Share of world fish stocks within sustainable and overexploited levels');"
   ],
   "metadata": {
    "collapsed": false,
    "pycharm": {
     "name": "#%%\n"
    }
   }
  },
  {
   "cell_type": "markdown",
   "source": [
    "This was one of the first plots we made which clearly highlights the fact that we are on a rising trend of overfishing the oceans significantly"
   ],
   "metadata": {
    "collapsed": false,
    "pycharm": {
     "name": "#%% md\n"
    }
   }
  },
  {
   "cell_type": "markdown",
   "source": [
    "### Biggest culprits"
   ],
   "metadata": {
    "collapsed": false,
    "pycharm": {
     "name": "#%% md\n"
    }
   }
  },
  {
   "cell_type": "code",
   "execution_count": 188,
   "outputs": [],
   "source": [],
   "metadata": {
    "collapsed": false,
    "pycharm": {
     "name": "#%%\n"
    }
   }
  },
  {
   "cell_type": "markdown",
   "source": [
    "# Data Analysis"
   ],
   "metadata": {
    "collapsed": false,
    "pycharm": {
     "name": "#%% md\n"
    }
   }
  },
  {
   "cell_type": "code",
   "execution_count": 188,
   "outputs": [],
   "source": [],
   "metadata": {
    "collapsed": false,
    "pycharm": {
     "name": "#%%\n"
    }
   }
  },
  {
   "cell_type": "markdown",
   "source": [
    "### Import / Export comparison"
   ],
   "metadata": {
    "collapsed": false,
    "pycharm": {
     "name": "#%% md\n"
    }
   }
  },
  {
   "cell_type": "code",
   "execution_count": 189,
   "outputs": [],
   "source": [
    "import matplotlib.pyplot as plt\n",
    "import numpy as np"
   ],
   "metadata": {
    "collapsed": false,
    "pycharm": {
     "name": "#%%\n"
    }
   }
  },
  {
   "cell_type": "code",
   "execution_count": 190,
   "outputs": [],
   "source": [
    "fish_Im = pd.read_csv(\"data/FAOSTAT_import.csv\")\n",
    "fish_Ex = pd.read_csv(\"data/FAOSTAT_export.csv\")\n",
    "\n",
    "fish_Im = fish_Im.drop(\n",
    "    [\"Domain Code\", \"Domain\", \"Area Code (FAO)\", \"Element Code\", \"Element\", \"Item Code\", \"Item\", \"Year Code\", \"Unit\", \"Flag\", \"Flag Description\"],\n",
    "    axis=1);\n",
    "# These are not present in export and not notable countries\n",
    "fish_Im = fish_Im.loc[fish_Im[\"Area\"] != \"Tajikistan\"];\n",
    "fish_Im = fish_Im.loc[fish_Im[\"Area\"] != \"Afghanistan\"];\n",
    "\n",
    "fish_Ex = fish_Ex.drop(\n",
    "    [\"Domain Code\", \"Domain\", \"Area Code (FAO)\", \"Element Code\", \"Element\", \"Item Code\", \"Item\", \"Year Code\", \"Unit\", \"Flag\", \"Flag Description\"],\n",
    "    axis=1);"
   ],
   "metadata": {
    "collapsed": false,
    "pycharm": {
     "name": "#%%\n"
    }
   }
  },
  {
   "cell_type": "code",
   "execution_count": 191,
   "outputs": [],
   "source": [
    "# Sort on highest import values\n",
    "Im_lastyear = fish_Im.loc[fish_Im[\"Year\"] == 2019].sort_values(\"Value\", axis=0, ignore_index=True, ascending=False)\n",
    "Ex_lastyear = fish_Ex.loc[fish_Ex[\"Year\"] == 2019]\n",
    "\n",
    "Ex_lastyear = Ex_lastyear.set_index('Area');\n",
    "Ex_lastyear = Ex_lastyear.reindex(index=Im_lastyear[\"Area\"]);\n",
    "Ex_lastyear.reset_index();\n",
    "\n",
    "Im_lastyear = Im_lastyear.set_index('Area');"
   ],
   "metadata": {
    "collapsed": false,
    "pycharm": {
     "name": "#%%\n"
    }
   }
  },
  {
   "cell_type": "code",
   "execution_count": 192,
   "outputs": [],
   "source": [
    "# ALTERNATIVELY\n",
    "# Sort on highest export values\n",
    "Im_lastyear = fish_Im.loc[fish_Im[\"Year\"] == 2019]\n",
    "Ex_lastyear = fish_Ex.loc[fish_Ex[\"Year\"] == 2019].sort_values(\"Value\", axis=0, ignore_index=True, ascending=False)\n",
    "\n",
    "Im_lastyear = Im_lastyear.set_index('Area');\n",
    "Im_lastyear = Im_lastyear.reindex(index=Ex_lastyear[\"Area\"]);\n",
    "Im_lastyear.reset_index();\n",
    "\n",
    "Ex_lastyear = Ex_lastyear.set_index('Area');"
   ],
   "metadata": {
    "collapsed": false,
    "pycharm": {
     "name": "#%%\n"
    }
   }
  },
  {
   "cell_type": "code",
   "execution_count": 193,
   "outputs": [],
   "source": [
    "# show only the top N countries (set 178 for all)\n",
    "N = 20\n",
    "plt.rcParams['figure.figsize'] = [5, 5 + (N * 70 / 178)]\n",
    "y_axis = Im_lastyear[0:N].index\n",
    "x_axis_Im = Im_lastyear[\"Value\"][0:N]\n",
    "x_axis_Ex = Ex_lastyear[\"Value\"][0:N]"
   ],
   "metadata": {
    "collapsed": false,
    "pycharm": {
     "name": "#%%\n"
    }
   }
  },
  {
   "cell_type": "code",
   "execution_count": 194,
   "outputs": [
    {
     "data": {
      "text/plain": "<Figure size 360x926.292 with 1 Axes>",
      "image/png": "[encoded data removed]"
     },
     "metadata": {
      "needs_background": "light"
     },
     "output_type": "display_data"
    }
   ],
   "source": [
    "# Visualization\n",
    "fig, ax = plt.subplots()\n",
    "\n",
    "ind = np.arange(N)\n",
    "width = 0.3\n",
    "\n",
    "ax.barh(ind, x_axis_Im, width)  # IMPORT\n",
    "ax.barh(ind + width, x_axis_Ex, width)  # EXPORT\n",
    "\n",
    "ax.set(yticks=ind + width / 2, yticklabels=y_axis, ylim=[2 * width - 1, len(y_axis)])\n",
    "\n",
    "plt.rcParams[\"legend.loc\"] = 'lower right'\n",
    "ax.legend(['Import', 'Export'])\n",
    "\n",
    "plt.xlabel(\"1000 tons\")\n",
    "plt.ylabel(\"Country\")\n",
    "plt.title(\"Fish import/export per country\", fontdict={'fontsize': 14})\n",
    "\n",
    "# to show highest at the top\n",
    "plt.gca().invert_yaxis()\n",
    "\n",
    "plt.show()"
   ],
   "metadata": {
    "collapsed": false,
    "pycharm": {
     "name": "#%%\n"
    }
   }
  },
  {
   "cell_type": "markdown",
   "source": [
    "In terms of impact it is evident that China is a significant contributor to the global import and export. Moreover, on 5th place we have the representative of the nordic region, Norway. Interestingly we find that Norway exports more than they import and vice versa for China."
   ],
   "metadata": {
    "collapsed": false,
    "pycharm": {
     "name": "#%% md\n"
    }
   }
  },
  {
   "cell_type": "markdown",
   "source": [
    "### Capture fishery production"
   ],
   "metadata": {
    "collapsed": false,
    "pycharm": {
     "name": "#%% md\n"
    }
   }
  },
  {
   "cell_type": "code",
   "execution_count": 195,
   "outputs": [
    {
     "data": {
      "text/plain": "<AxesSubplot:xlabel='Year'>"
     },
     "execution_count": 195,
     "metadata": {},
     "output_type": "execute_result"
    },
    {
     "data": {
      "text/plain": "<Figure size 576x360 with 1 Axes>",
      "image/png": "[encoded data removed]"
     },
     "metadata": {
      "needs_background": "light"
     },
     "output_type": "display_data"
    }
   ],
   "source": [
    "fish_prod = pd.read_csv('data/capture-fisheries-vs-aquaculture.csv')\n",
    "fish_prod = fish_prod.set_index('Year')\n",
    "fish_prod.query('Entity == \"Nigeria\" and Year >= 2010').plot(figsize=(8, 5))\n"
   ],
   "metadata": {
    "collapsed": false,
    "pycharm": {
     "name": "#%%\n"
    }
   }
  },
  {
   "cell_type": "code",
   "execution_count": 196,
   "outputs": [
    {
     "data": {
      "text/plain": "                   Entity Code  Aquaculture production (metric tons)  \\\nYear                                                                   \n2017     IDA & IBRD total  NaN                          1.041922e+08   \n2017  Low & middle income  NaN                          1.035454e+08   \n2017        Middle income  NaN                          1.027325e+08   \n2017            IBRD only  NaN                          9.950129e+07   \n2017  East Asia & Pacific  NaN                          9.373206e+07   \n...                   ...  ...                                   ...   \n2017            Gibraltar  GIB                                   NaN   \n2017        Liechtenstein  LIE                                   NaN   \n2017           San Marino  SMR                                   NaN   \n2017              Andorra  AND                                   NaN   \n2017           Luxembourg  LUX                                   NaN   \n\n      Capture fisheries production (metric tons)  \nYear                                              \n2017                                 71952300.38  \n2017                                 68944889.73  \n2017                                 66044865.73  \n2017                                 58935921.38  \n2017                                 40718597.78  \n...                                          ...  \n2017                                        1.00  \n2017                                        0.00  \n2017                                        0.00  \n2017                                        0.00  \n2017                                        0.00  \n\n[262 rows x 4 columns]",
      "text/html": "<div>\n<style scoped>\n    .dataframe tbody tr th:only-of-type {\n        vertical-align: middle;\n    }\n\n    .dataframe tbody tr th {\n        vertical-align: top;\n    }\n\n    .dataframe thead th {\n        text-align: right;\n    }\n</style>\n<table border=\"1\" class=\"dataframe\">\n  <thead>\n    <tr style=\"text-align: right;\">\n      <th></th>\n      <th>Entity</th>\n      <th>Code</th>\n      <th>Aquaculture production (metric tons)</th>\n      <th>Capture fisheries production (metric tons)</th>\n    </tr>\n    <tr>\n      <th>Year</th>\n      <th></th>\n      <th></th>\n      <th></th>\n      <th></th>\n    </tr>\n  </thead>\n  <tbody>\n    <tr>\n      <th>2017</th>\n      <td>IDA &amp; IBRD total</td>\n      <td>NaN</td>\n      <td>1.041922e+08</td>\n      <td>71952300.38</td>\n    </tr>\n    <tr>\n      <th>2017</th>\n      <td>Low &amp; middle income</td>\n      <td>NaN</td>\n      <td>1.035454e+08</td>\n      <td>68944889.73</td>\n    </tr>\n    <tr>\n      <th>2017</th>\n      <td>Middle income</td>\n      <td>NaN</td>\n      <td>1.027325e+08</td>\n      <td>66044865.73</td>\n    </tr>\n    <tr>\n      <th>2017</th>\n      <td>IBRD only</td>\n      <td>NaN</td>\n      <td>9.950129e+07</td>\n      <td>58935921.38</td>\n    </tr>\n    <tr>\n      <th>2017</th>\n      <td>East Asia &amp; Pacific</td>\n      <td>NaN</td>\n      <td>9.373206e+07</td>\n      <td>40718597.78</td>\n    </tr>\n    <tr>\n      <th>...</th>\n      <td>...</td>\n      <td>...</td>\n      <td>...</td>\n      <td>...</td>\n    </tr>\n    <tr>\n      <th>2017</th>\n      <td>Gibraltar</td>\n      <td>GIB</td>\n      <td>NaN</td>\n      <td>1.00</td>\n    </tr>\n    <tr>\n      <th>2017</th>\n      <td>Liechtenstein</td>\n      <td>LIE</td>\n      <td>NaN</td>\n      <td>0.00</td>\n    </tr>\n    <tr>\n      <th>2017</th>\n      <td>San Marino</td>\n      <td>SMR</td>\n      <td>NaN</td>\n      <td>0.00</td>\n    </tr>\n    <tr>\n      <th>2017</th>\n      <td>Andorra</td>\n      <td>AND</td>\n      <td>NaN</td>\n      <td>0.00</td>\n    </tr>\n    <tr>\n      <th>2017</th>\n      <td>Luxembourg</td>\n      <td>LUX</td>\n      <td>NaN</td>\n      <td>0.00</td>\n    </tr>\n  </tbody>\n</table>\n<p>262 rows × 4 columns</p>\n</div>"
     },
     "execution_count": 196,
     "metadata": {},
     "output_type": "execute_result"
    }
   ],
   "source": [
    "fish_prod_lastyear = fish_prod.query('Year == 2017')\n",
    "fish_prod_lastyear = fish_prod_lastyear.sort_values(\"Capture fisheries production (metric tons)\", axis=0, ascending=False)\n",
    "fish_prod_lastyear"
   ],
   "metadata": {
    "collapsed": false,
    "pycharm": {
     "name": "#%%\n"
    }
   }
  },
  {
   "cell_type": "markdown",
   "source": [
    " Let's split them up next. Which can be done by checking for a country code. I though we might need `pip install pycountry`, but we don't."
   ],
   "metadata": {
    "collapsed": false,
    "pycharm": {
     "name": "#%% md\n"
    }
   }
  },
  {
   "cell_type": "code",
   "execution_count": 197,
   "outputs": [],
   "source": [
    "fish_prod_lastyear_country = fish_prod_lastyear.loc[fish_prod_lastyear[\"Code\"].notnull()]\n",
    "fish_prod_lastyear_other = fish_prod_lastyear.loc[fish_prod_lastyear[\"Code\"].isnull()]"
   ],
   "metadata": {
    "collapsed": false,
    "pycharm": {
     "name": "#%%\n"
    }
   }
  },
  {
   "cell_type": "code",
   "execution_count": 198,
   "outputs": [
    {
     "data": {
      "text/plain": "<Figure size 360x594.419 with 1 Axes>",
      "image/png": "[encoded data removed]"
     },
     "metadata": {
      "needs_background": "light"
     },
     "output_type": "display_data"
    }
   ],
   "source": [
    "# show only the top N countries (set 215 for all)\n",
    "N = 10\n",
    "\n",
    "plt.rcParams['figure.figsize'] = [5, 5 + (N * 70 / 215)]\n",
    "\n",
    "fig = plt.figure()\n",
    "\n",
    "y_axis = fish_prod_lastyear_country[\"Entity\"][0:N]\n",
    "x_axis = fish_prod_lastyear_country[\"Capture fisheries production (metric tons)\"][0:N]\n",
    "plt.barh(y_axis, x_axis, height=0.8)\n",
    "\n",
    "plt.xlabel(\"Metric tons\")\n",
    "plt.ylabel(\"Country\")\n",
    "plt.title(\"\", fontdict={'fontsize': 14})\n",
    "\n",
    "# to show highest at the top\n",
    "plt.gca().invert_yaxis()\n",
    "\n",
    "plt.show()"
   ],
   "metadata": {
    "collapsed": false,
    "pycharm": {
     "name": "#%%\n"
    }
   }
  },
  {
   "cell_type": "markdown",
   "source": [
    "Again we see China as a major factor in production through capture fisheries. And yet again, the closest rival in the nordic and european region is Norway"
   ],
   "metadata": {
    "collapsed": false,
    "pycharm": {
     "name": "#%% md\n"
    }
   }
  },
  {
   "cell_type": "markdown",
   "source": [
    "## Global consumption trend"
   ],
   "metadata": {
    "collapsed": false,
    "pycharm": {
     "name": "#%% md\n"
    }
   }
  },
  {
   "cell_type": "code",
   "execution_count": null,
   "outputs": [],
   "source": [],
   "metadata": {
    "collapsed": false,
    "pycharm": {
     "name": "#%%\n"
    }
   }
  },
  {
   "cell_type": "markdown",
   "source": [
    "## GDP vs Consumption"
   ],
   "metadata": {
    "collapsed": false,
    "pycharm": {
     "name": "#%% md\n"
    }
   }
  },
  {
   "cell_type": "code",
   "execution_count": 198,
   "outputs": [],
   "source": [],
   "metadata": {
    "collapsed": false,
    "pycharm": {
     "name": "#%%\n"
    }
   }
  },
  {
   "cell_type": "markdown",
   "source": [
    "After retrieving the mapping, we add the keys to the dataset. Some datasets have only country names but no codes, and others the otherway around. For the datasets with only country names, we had to manually map some of the country names to the equivalent name in the mapping dictionary. An example of such is seen below. We will comment the special cases but not more than once."
   ],
   "metadata": {
    "collapsed": false,
    "pycharm": {
     "name": "#%% md\n"
    }
   }
  },
  {
   "cell_type": "code",
   "execution_count": 198,
   "outputs": [],
   "source": [
    "def get_industry_data():\n",
    "    df = pd.read_csv('data/FAOSTAT_country_supply_production_import_export.csv')\n",
    "    df.loc[df['Area'] == \"China, mainland\", 'Area'] = 'China'  # Generalize to China\n",
    "    df.loc[df['Area'] == 'China, Hong Kong SAR', 'Area'] = 'China'\n",
    "    df.loc[df['Area'] == 'China, Macao SAR', 'Area'] = 'China'\n",
    "    df.loc[df['Area'] == \"China, Taiwan Province of\", 'Area'] = 'Taiwan'  # Taiwan on it's own\n",
    "    df.loc[df['Area'] == \"C?te d'Ivoire\", 'Area'] = \"Côte d'Ivoire\"  # Special characters\n",
    "    df.loc[df['Area'] == \"Netherlands Antilles (former)\", 'Area'] = \"Netherlands\"  # Longer names\n",
    "    df.loc[df['Area'] == 'Bolivia (Plurinational State of)', 'Area'] = \"Bolivia\"  # No parenthesis\n",
    "    df.loc[df['Area'] == 'Cabo Verde', 'Area'] = \"Cape Verde\"  # Different names for one country\n",
    "    df.loc[df['Area'] == 'Czechia', 'Area'] = \"Czech Republic\"\n",
    "    df.loc[df['Area'] == \"Democratic People's Republic of Korea\", 'Area'] = \"South Korea\"  # Common name rather than formal name\n",
    "    df.loc[df['Area'] == 'Democratic Republic of the Congo', 'Area'] = \"Congo\"\n",
    "    df.loc[df['Area'] == 'Eswatini', 'Area'] = \"Swaziland\"\n",
    "    df.loc[df['Area'] == 'Iran (Islamic Republic of)', 'Area'] = \"Iran, Islamic Republic of\"\n",
    "    df.loc[df['Area'] == 'North Macedonia', 'Area'] = \"Macedonia, the former Yugoslav Republic of\"\n",
    "    df.loc[df['Area'] == 'Republic of Korea', 'Area'] = \"Korea, Republic of\"  # Reverse naming. Country name before title: country, title\n",
    "    df.loc[df['Area'] == 'United Kingdom of Great Britain and Northern Ireland', 'Area'] = \"United Kingdom\"\n",
    "    df.loc[df['Area'] == 'Republic of Moldova', 'Area'] = \"Moldova, Republic of\"\n",
    "    df.loc[df['Area'] == 'United Republic of Tanzania', 'Area'] = \"Tanzania, United Republic of\"\n",
    "    df.loc[df['Area'] == 'United States of America', 'Area'] = 'United States'\n",
    "    df.loc[df['Area'] == 'Venezuela (Bolivarian Republic of)', 'Area'] = 'Venezuela, Bolivarian Republic of'\n",
    "\n",
    "    # df = add_population(df)   # Out commented for explainer-notebook purposes\n",
    "    return df"
   ],
   "metadata": {
    "collapsed": false,
    "pycharm": {
     "name": "#%%\n"
    }
   }
  },
  {
   "cell_type": "markdown",
   "source": [
    "### Adding population data\n",
    "\n",
    "After finding common keys across datasets, we add the population data for a given year which enables us to calculate any metric per capita: $metric\\_per\\_capita = \\frac{metric}{population}$"
   ],
   "metadata": {
    "collapsed": false,
    "pycharm": {
     "name": "#%% md\n"
    }
   }
  },
  {
   "cell_type": "code",
   "execution_count": 198,
   "outputs": [],
   "source": [
    "def get_population():\n",
    "    return pd.read_csv('data/population_total.csv')"
   ],
   "metadata": {
    "collapsed": false,
    "pycharm": {
     "name": "#%%\n"
    }
   }
  },
  {
   "cell_type": "code",
   "execution_count": 199,
   "outputs": [],
   "source": [
    "def add_population(df, country_col='Area'):\n",
    "    # Get data\n",
    "    df_population = get_population()\n",
    "    country_code_map, country_code_to_country = get_country_code_map()\n",
    "\n",
    "    # Add the country code if it's not present in the dataframe\n",
    "    if 'Country Code' not in df.columns:\n",
    "        df['Country Code'] = df.apply(lambda x: country_code_map[x[country_col]]['Alpha-3 code'], axis=1)\n",
    "\n",
    "    # Kind of advanced data wrangling operation, inspired from the Tidy data paradigm.\n",
    "    # We give a brief introduction, but please look up the proper documentation if you don't understand the function.\n",
    "    # Melting a dataframe is useful when we have a variable, such as 'Year' expanded over multiple columns.\n",
    "    # For example the columns in a dataframe could be: [Country Name, Country Code, 2010, 2011, 2012, ... 2022]\n",
    "    # Where each value in the 'Year' columns is a variable such as 'population'.\n",
    "    # Melting the dataframe takes all the columns NAMES defined in 'value_vars' and assigns them to a single column\n",
    "    # with the name: 'var_name' which in this case is 'Year'. Example var_name = pd.Series([2010, 2011, 2012, ..., 2022])\n",
    "    # The corresponding value in that column is then assigned to another column in 'value_name'. The pairs of\n",
    "    # [var_name, value_name] are then identical to what was previously in column format, however it is now only in row format.\n",
    "    melted = pd.melt(df_population, id_vars=['Country Name', 'Country Code'], value_vars=df_population.columns[2:],\n",
    "                     var_name='Year',\n",
    "                     value_name='population')\n",
    "\n",
    "    # Set year as integer to make them joinable\n",
    "    melted.Year = melted.Year.astype(int)\n",
    "\n",
    "    # Final merge operatoin\n",
    "    df = pd.merge(melted, df, on=['Country Code', 'Year'])\n",
    "    return df"
   ],
   "metadata": {
    "collapsed": false,
    "pycharm": {
     "name": "#%%\n"
    }
   }
  },
  {
   "cell_type": "markdown",
   "source": [
    "After running the above function, there is a value of population for each country on each year."
   ],
   "metadata": {
    "collapsed": false,
    "pycharm": {
     "name": "#%% md\n"
    }
   }
  },
  {
   "cell_type": "code",
   "execution_count": 200,
   "outputs": [],
   "source": [
    "df = get_industry_data()\n",
    "add_population(df, country_col='Area').sample(4).iloc[:, :4]"
   ],
   "metadata": {
    "collapsed": false,
    "pycharm": {
     "name": "#%%\n"
    }
   }
  },
  {
   "cell_type": "markdown",
   "source": [
    "### Data quality (NaN values and outliers)\n",
    "\n",
    "#### Missing values\n",
    "Missing values were investigated for all datasets. However, most of the datasets luckily did not show significant signs of poor quality in terms of NaN values.\n",
    "In cases where there were NaN values, it was often in context of a visualization such as when plotting the consumption map. However, when plotting the map with NaN values,\n",
    "it is a benefit as the countries are **kept out** of the map which is the same as dropping that particular row. If we would have imputed the value with for example: 0, it would've been manipulated data and perhaps lead to misinterpretations."
   ],
   "metadata": {
    "collapsed": false,
    "pycharm": {
     "name": "#%% md\n"
    }
   }
  },
  {
   "cell_type": "code",
   "execution_count": 200,
   "outputs": [],
   "source": [
    "from plots.data import get_consumption\n",
    "\n",
    "df = get_consumption()\n",
    "df.drop('TotalC', axis=1, inplace=True)\n",
    "df[df.isna().any(axis=1)].sample(5)"
   ],
   "metadata": {
    "collapsed": false,
    "pycharm": {
     "name": "#%%\n"
    }
   }
  },
  {
   "cell_type": "code",
   "execution_count": 201,
   "outputs": [],
   "source": [
    "df[df.isna().any(axis=1)].country.unique().tolist()"
   ],
   "metadata": {
    "collapsed": false,
    "pycharm": {
     "name": "#%%\n"
    }
   }
  },
  {
   "cell_type": "markdown",
   "source": [
    "It's seen that there are some countries that have missing country codes, but this is no issue for plotting. Moreover, we use the a custom _geojson_ to plot the maps, meaning that the regions such as (Africa, Americas, Asia, Europe, ...) will be left out as they aren't in the geojson."
   ],
   "metadata": {
    "collapsed": false,
    "pycharm": {
     "name": "#%% md\n"
    }
   }
  },
  {
   "cell_type": "code",
   "execution_count": 202,
   "outputs": [],
   "source": [
    "import json\n",
    "\n",
    "with open('data/countries-simplified.json') as response:\n",
    "    countries = json.load(response)\n",
    "\n",
    "countries['features'][0]['properties']"
   ],
   "metadata": {
    "collapsed": false,
    "pycharm": {
     "name": "#%%\n"
    }
   }
  },
  {
   "cell_type": "markdown",
   "source": [
    "As you can see, we use the ISO_A3 (ISO Alpha 3) code to map countries and the geojson together. The ISO3 codes are in the consumption dataset, but _not_ in the industry dataset, which is why we add the country codes to it using the mapping. As without any country codes, we wouldn't be able to plot a choropleth map of the fishing industry"
   ],
   "metadata": {
    "collapsed": false,
    "pycharm": {
     "name": "#%% md\n"
    }
   }
  },
  {
   "cell_type": "markdown",
   "source": [
    "#### Outliers\n",
    "\n",
    "Outliers didn't cause much trouble either. Except for one place when working with the scale of the colorbar in the consumption map. Let's take a look at the code. We WONT plot the map here as it takes up 150 Mb in the offline version."
   ],
   "metadata": {
    "collapsed": false,
    "pycharm": {
     "name": "#%% md\n"
    }
   }
  },
  {
   "cell_type": "code",
   "execution_count": 202,
   "outputs": [],
   "source": [
    "from utils.decorator import style_plot\n",
    "import plotly.express as px\n",
    "\n",
    "@style_plot\n",
    "def plot_consumption_map(df):\n",
    "    with open('data/countries-simplified.json') as response:\n",
    "        countries = json.load(response)\n",
    "\n",
    "    # OUTLIERS!\n",
    "    range_color = (0, df.consumption.quantile(0.99))\n",
    "    # OUTLIERS!\n",
    "\n",
    "    map_args = dict(\n",
    "        geojson=countries,\n",
    "        featureidkey='properties.ISO_A3',\n",
    "        locations=\"Code\",\n",
    "        color=\"consumption\",  # lifeExp is a column of gapminder\n",
    "        hover_name=\"country\",  # column to add to hover information\n",
    "        animation_frame='Year',\n",
    "        mapbox_style=\"carto-positron\",\n",
    "        color_continuous_scale='YlOrRd',\n",
    "        range_color=range_color,\n",
    "        title='Fish consumption (kg / capita) from 1961 to 2017',\n",
    "        center={'lat': 12, 'lon': 5}\n",
    "    )\n",
    "\n",
    "    fig = px.choropleth_mapbox(df, zoom=0.5, **map_args)\n",
    "    # More styling code below but it's been left out for brevity's sake."
   ],
   "metadata": {
    "collapsed": false,
    "pycharm": {
     "name": "#%%\n"
    }
   }
  },
  {
   "cell_type": "markdown",
   "source": [
    "As seen in line 10 of the cell above, we have adjusted the color of the range from 0 to 99% quantile. This is due to few extreme outliers that make identifying other high-consumption countries difficult. Let's take a look at the outliers."
   ],
   "metadata": {
    "collapsed": false,
    "pycharm": {
     "name": "#%% md\n"
    }
   }
  },
  {
   "cell_type": "code",
   "execution_count": 39,
   "outputs": [
    {
     "data": {
      "text/plain": "count    11028.000000\nmean        16.670872\nstd         17.056281\nmin          0.000000\n25%          5.340000\n50%         11.995000\n75%         22.512500\nmax        191.750000\nName: consumption, dtype: float64"
     },
     "execution_count": 39,
     "metadata": {},
     "output_type": "execute_result"
    }
   ],
   "source": [
    "df = get_consumption()\n",
    "\n",
    "df.consumption.describe()"
   ],
   "metadata": {
    "collapsed": false,
    "pycharm": {
     "name": "#%%\n"
    }
   }
  },
  {
   "cell_type": "markdown",
   "source": [
    "The maximum value is 191 whilst the 75% quantile is only 22.5!! The data is clearly skewed."
   ],
   "metadata": {
    "collapsed": false,
    "pycharm": {
     "name": "#%% md\n"
    }
   }
  },
  {
   "cell_type": "code",
   "execution_count": 43,
   "outputs": [
    {
     "data": {
      "text/plain": "<AxesSubplot:>"
     },
     "execution_count": 43,
     "metadata": {},
     "output_type": "execute_result"
    },
    {
     "data": {
      "text/plain": "<Figure size 432x288 with 1 Axes>",
      "image/png": "[encoded data removed]"
     },
     "metadata": {
      "needs_background": "light"
     },
     "output_type": "display_data"
    }
   ],
   "source": [
    "# Very simple plot for illustrative purposes.\n",
    "df.consumption.hist(bins=40)"
   ],
   "metadata": {
    "collapsed": false,
    "pycharm": {
     "name": "#%%\n"
    }
   }
  },
  {
   "cell_type": "code",
   "execution_count": 47,
   "outputs": [
    {
     "data": {
      "text/plain": "<AxesSubplot:>"
     },
     "execution_count": 47,
     "metadata": {},
     "output_type": "execute_result"
    },
    {
     "data": {
      "text/plain": "<Figure size 432x288 with 1 Axes>",
      "image/png": "[encoded data removed]"
     },
     "metadata": {
      "needs_background": "light"
     },
     "output_type": "display_data"
    }
   ],
   "source": [
    "df.boxplot(column='consumption')"
   ],
   "metadata": {
    "collapsed": false,
    "pycharm": {
     "name": "#%%\n"
    }
   }
  },
  {
   "cell_type": "markdown",
   "source": [
    "The 99% quantile is then"
   ],
   "metadata": {
    "collapsed": false,
    "pycharm": {
     "name": "#%% md\n"
    }
   }
  },
  {
   "cell_type": "code",
   "execution_count": 44,
   "outputs": [
    {
     "data": {
      "text/plain": "75.34459999999999"
     },
     "execution_count": 44,
     "metadata": {},
     "output_type": "execute_result"
    }
   ],
   "source": [
    "df.consumption.quantile(0.99)"
   ],
   "metadata": {
    "collapsed": false,
    "pycharm": {
     "name": "#%%\n"
    }
   }
  },
  {
   "cell_type": "markdown",
   "source": [
    "Which is MUCH more reasonable when looking at the plots above as well.\n",
    "\n",
    "**Industry dataset outliers**\n",
    "\n",
    "We replicated the method above for the Industry dataset (import, export, production and supply) as well, however we don't find the need to replicate the whole process and analysis again (as it's copy paste with different a different dataset).\n",
    "The resulting relevant quantile for the Industry dataset turned out to be 0.975 due to the same reasons above (extreme outliers).\n",
    "\n",
    "**Other datasets**\n",
    "\n",
    "With respect to the other datasets we didn't find any significant outliers that hindered the analysis or visualization."
   ],
   "metadata": {
    "collapsed": false,
    "pycharm": {
     "name": "#%% md\n"
    }
   }
  },
  {
   "cell_type": "markdown",
   "source": [
    "## Dataset stats and key points\n",
    "\n",
    "We have already touched upon the outlier and NaN value detection and corresponding mitigation techniques.\n",
    "\n",
    "Here we will go over some key points of the exploratory analysis that lead us to the final visualizations found on the website."
   ],
   "metadata": {
    "collapsed": false,
    "pycharm": {
     "name": "#%% md\n"
    }
   }
  },
  {
   "cell_type": "markdown",
   "source": [
    "### Overexploiting fish"
   ],
   "metadata": {
    "collapsed": false,
    "pycharm": {
     "name": "#%% md\n"
    }
   }
  },
  {
   "cell_type": "code",
   "execution_count": 73,
   "outputs": [],
   "source": [
    "sustainable = pd.read_csv('data/fish-stocks-within-sustainable-levels.csv')"
   ],
   "metadata": {
    "collapsed": false,
    "pycharm": {
     "name": "#%%\n"
    }
   }
  },
  {
   "cell_type": "code",
   "execution_count": 74,
   "outputs": [],
   "source": [
    "sustainable_world = sustainable[sustainable[\"Entity\"]==\"World\"]"
   ],
   "metadata": {
    "collapsed": false,
    "pycharm": {
     "name": "#%%\n"
    }
   }
  },
  {
   "cell_type": "code",
   "execution_count": 77,
   "outputs": [
    {
     "data": {
      "text/plain": "<Figure size 720x504 with 1 Axes>",
      "image/png": "[encoded data removed]"
     },
     "metadata": {
      "needs_background": "light"
     },
     "output_type": "display_data"
    }
   ],
   "source": [
    "from operator import truediv\n",
    "\n",
    "sus = sustainable_world['Share of fish stocks within biologically sustainable levels (FAO, 2020)'].tolist()\n",
    "over = sustainable_world['Share of fish stocks that are overexploited'].tolist()\n",
    "#sus = sus/sus\n",
    "sus_map = list(map(truediv, sus, sus))\n",
    "#over = over/sus\n",
    "over_map = list(map(truediv, over, sus))\n",
    "\n",
    "index = sustainable_world['Year']\n",
    "df = pd.DataFrame({#'sustainable': sus_map,\n",
    "                   'overexploited': over_map}, index=index)\n",
    "ax = df.plot.line(figsize=(10,7))\n",
    "ax.set_xlabel('Year')\n",
    "ax.set_ylabel('%')\n",
    "ax.set_title('Share of world fish stocks within sustainable and overexploited levels');"
   ],
   "metadata": {
    "collapsed": false,
    "pycharm": {
     "name": "#%%\n"
    }
   }
  },
  {
   "cell_type": "markdown",
   "source": [
    "This was one of the first plots we made which clearly highlights the fact that we are on a rising trend of overfishing the oceans significantly"
   ],
   "metadata": {
    "collapsed": false,
    "pycharm": {
     "name": "#%% md\n"
    }
   }
  },
  {
   "cell_type": "markdown",
   "source": [
    "### Import / Export comparison"
   ],
   "metadata": {
    "collapsed": false,
    "pycharm": {
     "name": "#%% md\n"
    }
   }
  },
  {
   "cell_type": "code",
   "execution_count": 55,
   "outputs": [],
   "source": [
    "import matplotlib.pyplot as plt\n",
    "import numpy as np"
   ],
   "metadata": {
    "collapsed": false,
    "pycharm": {
     "name": "#%%\n"
    }
   }
  },
  {
   "cell_type": "code",
   "execution_count": 49,
   "outputs": [],
   "source": [
    "fish_Im = pd.read_csv(\"data/FAOSTAT_import.csv\")\n",
    "fish_Ex = pd.read_csv(\"data/FAOSTAT_export.csv\")\n",
    "\n",
    "fish_Im = fish_Im.drop([\"Domain Code\", \"Domain\", \"Area Code (FAO)\", \"Element Code\", \"Element\", \"Item Code\", \"Item\", \"Year Code\", \"Unit\", \"Flag\", \"Flag Description\"], axis=1);\n",
    "# These are not present in export and not notable countries\n",
    "fish_Im = fish_Im.loc[ fish_Im[\"Area\"] != \"Tajikistan\" ];\n",
    "fish_Im = fish_Im.loc[ fish_Im[\"Area\"] != \"Afghanistan\" ];\n",
    "\n",
    "fish_Ex = fish_Ex.drop([\"Domain Code\", \"Domain\", \"Area Code (FAO)\", \"Element Code\", \"Element\", \"Item Code\", \"Item\", \"Year Code\", \"Unit\", \"Flag\", \"Flag Description\"], axis=1);"
   ],
   "metadata": {
    "collapsed": false,
    "pycharm": {
     "name": "#%%\n"
    }
   }
  },
  {
   "cell_type": "code",
   "execution_count": 50,
   "outputs": [],
   "source": [
    "# Sort on highest import values\n",
    "Im_lastyear = fish_Im.loc[ fish_Im[\"Year\"] == 2019 ].sort_values(\"Value\", axis=0, ignore_index=True, ascending=False)\n",
    "Ex_lastyear = fish_Ex.loc[ fish_Ex[\"Year\"] == 2019 ]\n",
    "\n",
    "Ex_lastyear = Ex_lastyear.set_index('Area');\n",
    "Ex_lastyear = Ex_lastyear.reindex(index=Im_lastyear[\"Area\"]);\n",
    "Ex_lastyear.reset_index();\n",
    "\n",
    "Im_lastyear = Im_lastyear.set_index('Area');"
   ],
   "metadata": {
    "collapsed": false,
    "pycharm": {
     "name": "#%%\n"
    }
   }
  },
  {
   "cell_type": "code",
   "execution_count": 51,
   "outputs": [],
   "source": [
    "# ALTERNATIVELY\n",
    "# Sort on highest export values\n",
    "Im_lastyear = fish_Im.loc[ fish_Im[\"Year\"] == 2019 ]\n",
    "Ex_lastyear = fish_Ex.loc[ fish_Ex[\"Year\"] == 2019 ].sort_values(\"Value\", axis=0, ignore_index=True, ascending=False)\n",
    "\n",
    "Im_lastyear = Im_lastyear.set_index('Area');\n",
    "Im_lastyear = Im_lastyear.reindex(index=Ex_lastyear[\"Area\"]);\n",
    "Im_lastyear.reset_index();\n",
    "\n",
    "Ex_lastyear = Ex_lastyear.set_index('Area');"
   ],
   "metadata": {
    "collapsed": false,
    "pycharm": {
     "name": "#%%\n"
    }
   }
  },
  {
   "cell_type": "code",
   "execution_count": 54,
   "outputs": [],
   "source": [
    "# show only the top N countries (set 178 for all)\n",
    "N = 20\n",
    "plt.rcParams['figure.figsize'] = [5, 5 + (N*70/178)]\n",
    "y_axis = Im_lastyear[0:N].index\n",
    "x_axis_Im = Im_lastyear[\"Value\"][0:N]\n",
    "x_axis_Ex = Ex_lastyear[\"Value\"][0:N]"
   ],
   "metadata": {
    "collapsed": false,
    "pycharm": {
     "name": "#%%\n"
    }
   }
  },
  {
   "cell_type": "code",
   "execution_count": 56,
   "outputs": [
    {
     "data": {
      "text/plain": "<Figure size 360x926.292 with 1 Axes>",
      "image/png": "[encoded data removed]"
     },
     "metadata": {
      "needs_background": "light"
     },
     "output_type": "display_data"
    }
   ],
   "source": [
    "# Visualization\n",
    "fig, ax = plt.subplots( )\n",
    "\n",
    "ind = np.arange(N)\n",
    "width = 0.3\n",
    "\n",
    "ax.barh(ind, x_axis_Im, width) # IMPORT\n",
    "ax.barh(ind + width, x_axis_Ex, width) # EXPORT\n",
    "\n",
    "ax.set(yticks=ind + width/2, yticklabels=y_axis, ylim=[2*width - 1, len(y_axis)])\n",
    "\n",
    "plt.rcParams[\"legend.loc\"] = 'lower right'\n",
    "ax.legend(['Import', 'Export'])\n",
    "\n",
    "plt.xlabel( \"1000 tons\" )\n",
    "plt.ylabel( \"Country\" )\n",
    "plt.title( \"Fish import/export per country\" , fontdict = {'fontsize': 14} )\n",
    "\n",
    "# to show highest at the top\n",
    "plt.gca().invert_yaxis()\n",
    "\n",
    "plt.show()"
   ],
   "metadata": {
    "collapsed": false,
    "pycharm": {
     "name": "#%%\n"
    }
   }
  },
  {
   "cell_type": "markdown",
   "source": [
    "In terms of impact it is evident that China is a significant contributor to the global import and export. Moreover, on 5th place we have the representative of the nordic region, Norway. Interestingly we find that Norway exports more than they import and vice versa for China."
   ],
   "metadata": {
    "collapsed": false,
    "pycharm": {
     "name": "#%% md\n"
    }
   }
  },
  {
   "cell_type": "markdown",
   "source": [
    "### Capture fishery production"
   ],
   "metadata": {
    "collapsed": false,
    "pycharm": {
     "name": "#%% md\n"
    }
   }
  },
  {
   "cell_type": "code",
   "execution_count": 61,
   "outputs": [
    {
     "data": {
      "text/plain": "<AxesSubplot:xlabel='Year'>"
     },
     "execution_count": 61,
     "metadata": {},
     "output_type": "execute_result"
    },
    {
     "data": {
      "text/plain": "<Figure size 576x360 with 1 Axes>",
      "image/png": "[encoded data removed]"
     },
     "metadata": {
      "needs_background": "light"
     },
     "output_type": "display_data"
    }
   ],
   "source": [
    "fish_prod = pd.read_csv('data/capture-fisheries-vs-aquaculture.csv')\n",
    "fish_prod = fish_prod.set_index('Year')\n",
    "fish_prod.query('Entity == \"Nigeria\" and Year >= 2010').plot(figsize=(8,5))\n"
   ],
   "metadata": {
    "collapsed": false,
    "pycharm": {
     "name": "#%%\n"
    }
   }
  },
  {
   "cell_type": "code",
   "execution_count": 68,
   "outputs": [
    {
     "data": {
      "text/plain": "                   Entity Code  Aquaculture production (metric tons)  \\\nYear                                                                   \n2017     IDA & IBRD total  NaN                          1.041922e+08   \n2017  Low & middle income  NaN                          1.035454e+08   \n2017        Middle income  NaN                          1.027325e+08   \n2017            IBRD only  NaN                          9.950129e+07   \n2017  East Asia & Pacific  NaN                          9.373206e+07   \n...                   ...  ...                                   ...   \n2017            Gibraltar  GIB                                   NaN   \n2017        Liechtenstein  LIE                                   NaN   \n2017           San Marino  SMR                                   NaN   \n2017              Andorra  AND                                   NaN   \n2017           Luxembourg  LUX                                   NaN   \n\n      Capture fisheries production (metric tons)  \nYear                                              \n2017                                 71952300.38  \n2017                                 68944889.73  \n2017                                 66044865.73  \n2017                                 58935921.38  \n2017                                 40718597.78  \n...                                          ...  \n2017                                        1.00  \n2017                                        0.00  \n2017                                        0.00  \n2017                                        0.00  \n2017                                        0.00  \n\n[262 rows x 4 columns]",
      "text/html": "<div>\n<style scoped>\n    .dataframe tbody tr th:only-of-type {\n        vertical-align: middle;\n    }\n\n    .dataframe tbody tr th {\n        vertical-align: top;\n    }\n\n    .dataframe thead th {\n        text-align: right;\n    }\n</style>\n<table border=\"1\" class=\"dataframe\">\n  <thead>\n    <tr style=\"text-align: right;\">\n      <th></th>\n      <th>Entity</th>\n      <th>Code</th>\n      <th>Aquaculture production (metric tons)</th>\n      <th>Capture fisheries production (metric tons)</th>\n    </tr>\n    <tr>\n      <th>Year</th>\n      <th></th>\n      <th></th>\n      <th></th>\n      <th></th>\n    </tr>\n  </thead>\n  <tbody>\n    <tr>\n      <th>2017</th>\n      <td>IDA &amp; IBRD total</td>\n      <td>NaN</td>\n      <td>1.041922e+08</td>\n      <td>71952300.38</td>\n    </tr>\n    <tr>\n      <th>2017</th>\n      <td>Low &amp; middle income</td>\n      <td>NaN</td>\n      <td>1.035454e+08</td>\n      <td>68944889.73</td>\n    </tr>\n    <tr>\n      <th>2017</th>\n      <td>Middle income</td>\n      <td>NaN</td>\n      <td>1.027325e+08</td>\n      <td>66044865.73</td>\n    </tr>\n    <tr>\n      <th>2017</th>\n      <td>IBRD only</td>\n      <td>NaN</td>\n      <td>9.950129e+07</td>\n      <td>58935921.38</td>\n    </tr>\n    <tr>\n      <th>2017</th>\n      <td>East Asia &amp; Pacific</td>\n      <td>NaN</td>\n      <td>9.373206e+07</td>\n      <td>40718597.78</td>\n    </tr>\n    <tr>\n      <th>...</th>\n      <td>...</td>\n      <td>...</td>\n      <td>...</td>\n      <td>...</td>\n    </tr>\n    <tr>\n      <th>2017</th>\n      <td>Gibraltar</td>\n      <td>GIB</td>\n      <td>NaN</td>\n      <td>1.00</td>\n    </tr>\n    <tr>\n      <th>2017</th>\n      <td>Liechtenstein</td>\n      <td>LIE</td>\n      <td>NaN</td>\n      <td>0.00</td>\n    </tr>\n    <tr>\n      <th>2017</th>\n      <td>San Marino</td>\n      <td>SMR</td>\n      <td>NaN</td>\n      <td>0.00</td>\n    </tr>\n    <tr>\n      <th>2017</th>\n      <td>Andorra</td>\n      <td>AND</td>\n      <td>NaN</td>\n      <td>0.00</td>\n    </tr>\n    <tr>\n      <th>2017</th>\n      <td>Luxembourg</td>\n      <td>LUX</td>\n      <td>NaN</td>\n      <td>0.00</td>\n    </tr>\n  </tbody>\n</table>\n<p>262 rows × 4 columns</p>\n</div>"
     },
     "execution_count": 68,
     "metadata": {},
     "output_type": "execute_result"
    }
   ],
   "source": [
    "fish_prod_lastyear = fish_prod.query('Year == 2017')\n",
    "fish_prod_lastyear = fish_prod_lastyear.sort_values(\"Capture fisheries production (metric tons)\", axis=0, ascending=False)\n",
    "fish_prod_lastyear"
   ],
   "metadata": {
    "collapsed": false,
    "pycharm": {
     "name": "#%%\n"
    }
   }
  },
  {
   "cell_type": "markdown",
   "source": [
    " Let's split them up next. Which can be done by checking for a country code. I though we might need `pip install pycountry`, but we don't."
   ],
   "metadata": {
    "collapsed": false,
    "pycharm": {
     "name": "#%% md\n"
    }
   }
  },
  {
   "cell_type": "code",
   "execution_count": 71,
   "outputs": [],
   "source": [
    "fish_prod_lastyear_country = fish_prod_lastyear.loc[ fish_prod_lastyear[\"Code\"].notnull() ]\n",
    "fish_prod_lastyear_other = fish_prod_lastyear.loc[ fish_prod_lastyear[\"Code\"].isnull() ]"
   ],
   "metadata": {
    "collapsed": false,
    "pycharm": {
     "name": "#%%\n"
    }
   }
  },
  {
   "cell_type": "code",
   "execution_count": 72,
   "outputs": [
    {
     "data": {
      "text/plain": "<Figure size 360x594.419 with 1 Axes>",
      "image/png": "[encoded data removed]"
     },
     "metadata": {
      "needs_background": "light"
     },
     "output_type": "display_data"
    }
   ],
   "source": [
    "# show only the top N countries (set 215 for all)\n",
    "N = 10\n",
    "\n",
    "plt.rcParams['figure.figsize'] = [5, 5 + (N*70/215)]\n",
    "\n",
    "fig = plt.figure( )\n",
    "\n",
    "y_axis = fish_prod_lastyear_country[\"Entity\"][0:N]\n",
    "x_axis = fish_prod_lastyear_country[\"Capture fisheries production (metric tons)\"][0:N]\n",
    "plt.barh(y_axis, x_axis, height=0.8)\n",
    "\n",
    "\n",
    "plt.xlabel( \"Metric tons\" )\n",
    "plt.ylabel( \"Country\" )\n",
    "plt.title( \"\" , fontdict = {'fontsize': 14} )\n",
    "\n",
    "# to show highest at the top\n",
    "plt.gca().invert_yaxis()\n",
    "\n",
    "plt.show()"
   ],
   "metadata": {
    "collapsed": false,
    "pycharm": {
     "name": "#%%\n"
    }
   }
  },
  {
   "cell_type": "markdown",
   "source": [
    "Again we see China as a major factor in production through capture fisheries. And yet again, the closest rival in the nordic and european region is Norway"
   ],
   "metadata": {
    "collapsed": false,
    "pycharm": {
     "name": "#%% md\n"
    }
   }
  },
  {
   "cell_type": "code",
   "execution_count": null,
   "outputs": [],
   "source": [],
   "metadata": {
    "collapsed": false,
    "pycharm": {
     "name": "#%%\n"
    }
   }
  },
  {
   "cell_type": "markdown",
   "source": [
    "# Data Analysis"
   ],
   "metadata": {
    "collapsed": false,
    "pycharm": {
     "name": "#%% md\n"
    }
   }
  },
  {
   "cell_type": "code",
   "execution_count": null,
   "outputs": [],
   "source": [],
   "metadata": {
    "collapsed": false,
    "pycharm": {
     "name": "#%%\n"
    }
   }
  },
  {
   "cell_type": "markdown",
   "source": [
    "# Genre"
   ],
   "metadata": {
    "collapsed": false,
    "pycharm": {
     "name": "#%% md\n"
    }
   }
  },
  {
   "cell_type": "code",
   "execution_count": null,
   "outputs": [],
   "source": [],
   "metadata": {
    "collapsed": false,
    "pycharm": {
     "name": "#%%\n"
    }
   }
  },
  {
   "cell_type": "markdown",
   "source": [
    "## Which genre"
   ],
   "metadata": {
    "collapsed": false,
    "pycharm": {
     "name": "#%% md\n"
    }
   }
  },
  {
   "cell_type": "code",
   "execution_count": null,
   "outputs": [],
   "source": [],
   "metadata": {
    "collapsed": false,
    "pycharm": {
     "name": "#%%\n"
    }
   }
  },
  {
   "cell_type": "markdown",
   "source": [
    "## Visual Narrative"
   ],
   "metadata": {
    "collapsed": false,
    "pycharm": {
     "name": "#%% md\n"
    }
   }
  },
  {
   "cell_type": "code",
   "execution_count": null,
   "outputs": [],
   "source": [],
   "metadata": {
    "collapsed": false,
    "pycharm": {
     "name": "#%%\n"
    }
   }
  },
  {
   "cell_type": "markdown",
   "source": [
    "## Narrative Structure"
   ],
   "metadata": {
    "collapsed": false,
    "pycharm": {
     "name": "#%% md\n"
    }
   }
  },
  {
   "cell_type": "markdown",
   "source": [
    "# Visualizations"
   ],
   "metadata": {
    "collapsed": false,
    "pycharm": {
     "name": "#%% md\n"
    }
   }
  },
  {
   "cell_type": "code",
   "execution_count": null,
   "outputs": [],
   "source": [],
   "metadata": {
    "collapsed": false,
    "pycharm": {
     "name": "#%%\n"
    }
   }
  },
  {
   "cell_type": "markdown",
   "source": [
    "# Website"
   ],
   "metadata": {
    "collapsed": false,
    "pycharm": {
     "name": "#%% md\n"
    }
   }
  },
  {
   "cell_type": "code",
   "execution_count": null,
   "outputs": [],
   "source": [],
   "metadata": {
    "collapsed": false,
    "pycharm": {
     "name": "#%%\n"
    }
   }
  },
  {
   "cell_type": "markdown",
   "source": [
    "# Discussion"
   ],
   "metadata": {
    "collapsed": false,
    "pycharm": {
     "name": "#%% md\n"
    }
   }
  },
  {
   "cell_type": "code",
   "execution_count": null,
   "outputs": [],
   "source": [],
   "metadata": {
    "collapsed": false,
    "pycharm": {
     "name": "#%%\n"
    }
   }
  },
  {
   "cell_type": "markdown",
   "source": [
    "# Contributions"
   ],
   "metadata": {
    "collapsed": false,
    "pycharm": {
     "name": "#%% md\n"
    }
   }
  },
  {
   "cell_type": "code",
   "execution_count": null,
   "outputs": [],
   "source": [],
   "metadata": {
    "collapsed": false,
    "pycharm": {
     "name": "#%%\n"
    }
   }
  }
 ],
 "metadata": {
  "kernelspec": {
   "display_name": "Python 3",
   "language": "python",
   "name": "python3"
  },
  "language_info": {
   "codemirror_mode": {
    "name": "ipython",
    "version": 2
   },
   "file_extension": ".py",
   "mimetype": "text/x-python",
   "name": "python",
   "nbconvert_exporter": "python",
   "pygments_lexer": "ipython2",
   "version": "2.7.6"
  }
 },
 "nbformat": 4,
 "nbformat_minor": 0
}