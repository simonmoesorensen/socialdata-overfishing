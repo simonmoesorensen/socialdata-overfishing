{
 "cells": [
  {
   "cell_type": "markdown",
   "source": [
    "# Motivation\n",
    "\n",
    "This section will cover the motivation and idea behind choosing the topic of overfishing and explain which datasets are used and why.\n"
   ],
   "metadata": {
    "collapsed": false,
    "pycharm": {
     "name": "#%% md\n"
    }
   }
  },
  {
   "cell_type": "markdown",
   "source": [
    "## Problem statement (Goal for end user)\n",
    "\n",
    "People are already aware of the general story on overfishing, even Netflix has jumped the bandwagon and produced documentaries such as _Seaspiracy_. However, such documentaries seem to mislead the audience [ref](https://www.theguardian.com/environment/2021/mar/31/seaspiracy-netflix-documentary-accused-of-misrepresentation-by-participants) due to over-dramatization. Moreover, most people think of fish as bad for the environment and our world sustainability goals, so they tend to avoid them all together, for example by becoming a vegetarian or vegan.\n",
    "\n",
    "\n",
    "> What we aim to show, is a sound and objective analysis of overfishing. Providing insights into the best and worst ways of the fishing industry by analysing two particularly interesting countries: China and Norway. Finally, using our analysis, we discuss whether eating fish is a viable option for steady protein supply.\n",
    "\n"
   ],
   "metadata": {
    "collapsed": false,
    "pycharm": {
     "name": "#%% md\n"
    }
   }
  },
  {
   "cell_type": "markdown",
   "source": [
    "## Datasets\n",
    "\n",
    "In terms of datasets, we use a wide variety of different datasets to compose our story.\n",
    "\n",
    "### FAO\n",
    "\n",
    "The **main** source of data is from _Food and Agriculture Organization of the United Nations_ at the url [https://www.fao.org/home/en](https://www.fao.org/home/en). The organization provides access to a massive database with anything related to food and agricultural data in the world.\n",
    "Our requirements for the dataset was to have data for most countries (and further on, only Norway and China), some temporal information (years) and come from a credible source.\n",
    "This yielded the datasets from FAO:\n",
    "\n",
    "- Fishing industry (import, export, supply, production)\n",
    "- Fish and seafood consumption per capita\n",
    "- Sources of consumed protein\n",
    "- Fishing methods\n",
    "\n",
    "### Additional sources\n",
    "\n",
    "Another source of data was the world bank [https://datacatalog.worldbank.org/search/dataset/0037712](https://datacatalog.worldbank.org/search/dataset/0037712)\n",
    "This gave access to the trend and development of open-ocean fishing versus aquacultural fishing.\n",
    "\n",
    "Additionally, we were able to get information on the GHG (Greenhouse Gas) emission of aquacultural fishing from [https://www.nature.com/articles/s41586-021-03889-2](https://www.nature.com/articles/s41586-021-03889-2)\n",
    "### Descriptive data\n",
    "\n",
    "Finally, we also made use of other third-party datasets that made it easier for us to gather information on a country's GDP and population each year.\n",
    "\n",
    "In order to join this descriptive data with the main datasets, we had to find a common connection between them. Going by just the country name is risky as some countries go by more than one name and others simply have different spellings. Therefore, we used the country ISO-3 code that is _the_ standard for identifying countries. By merging this mapping onto any dataset using the country name (and making a few manual changes). We were able to get an ISO-3 standardized country code for each dataset that needed to be merged with other data.\n",
    "\n",
    "Another addition to the descriptive data is the use of a **geojson** file that is used for the choropleth maps. However, the original file was too complex (too many polygons) and therefore took a lot of time to plot and render. We therefore decided to simplify the geojson using an online tool such that we ensure that we maintain interpretability and a high enough resolution for the polygons to overlap correctly with the country borders."
   ],
   "metadata": {
    "collapsed": false,
    "pycharm": {
     "name": "#%% md\n"
    }
   }
  },
  {
   "cell_type": "markdown",
   "source": [
    "## Why did we choose these datasets\n",
    "\n",
    "Choosing datasets for this project was not easy as it's difficult to find data that covers information on specific fishing related topics such as fishing gear, emission of aquacultural fish, protein supply for each country and so on. Even more so, it was painful to find data with a temporal aspect over multiple years. This resulted in us fetching data from many different sources after searching through a large amount of infeasible datasets.\n",
    "\n",
    "We find that the selected datasets are useful because they are a combination of being rich in information (covers many metrics over many countries with few NaN values), covering multiple years of data, cover extremely niche or rare data.\n",
    "\n",
    "The combination of the datasets provide us with an opportunity to explore overfishing on a global scope as well as diving into the specific methods of China and Norway. Moreover, they also contain information on eating habits in terms of protein supply which helps in analysing both the behaviour of the population and the demand of fish."
   ],
   "metadata": {
    "collapsed": false,
    "pycharm": {
     "name": "#%% md\n"
    }
   }
  },
  {
   "cell_type": "markdown",
   "source": [
    "# Basic Stats\n",
    "\n",
    "This section will cover the steps we took in terms of processing the data. Much of the code will be from snippets of the functions in `plots/data`. For brevity's sake, we will try to summarize the key points (across datasets) instead of going into extreme detail for each of the 5-7 different datasets."
   ],
   "metadata": {
    "collapsed": false,
    "pycharm": {
     "name": "#%% md\n"
    }
   }
  },
  {
   "cell_type": "markdown",
   "source": [
    "## Choices in data cleaning and preprocessing\n",
    "\n"
   ],
   "metadata": {
    "collapsed": false,
    "pycharm": {
     "name": "#%% md\n"
    }
   }
  },
  {
   "cell_type": "markdown",
   "source": [
    "### Creating a common key across datasets\n",
    "\n",
    "As mentioned previously, since we use many different datasets. It's important to have a common key when joining the data together on both countries and year.\n",
    "\n",
    "For this reason we used the `country_code_map.csv` file."
   ],
   "metadata": {
    "collapsed": false,
    "pycharm": {
     "name": "#%% md\n"
    }
   }
  },
  {
   "cell_type": "code",
   "execution_count": 2,
   "outputs": [],
   "source": [
    "import pandas as pd"
   ],
   "metadata": {
    "collapsed": false,
    "pycharm": {
     "name": "#%%\n"
    }
   }
  },
  {
   "cell_type": "code",
   "execution_count": 4,
   "outputs": [
    {
     "data": {
      "text/plain": "       Country Alpha-2 code Alpha-3 code Numeric code Latitude (average)  \\\n0  Afghanistan         \"AF\"        \"AFG\"          \"4\"               \"33\"   \n1      Albania         \"AL\"        \"ALB\"          \"8\"               \"41\"   \n\n  Longitude (average)  \n0                \"65\"  \n1                \"20\"  ",
      "text/html": "<div>\n<style scoped>\n    .dataframe tbody tr th:only-of-type {\n        vertical-align: middle;\n    }\n\n    .dataframe tbody tr th {\n        vertical-align: top;\n    }\n\n    .dataframe thead th {\n        text-align: right;\n    }\n</style>\n<table border=\"1\" class=\"dataframe\">\n  <thead>\n    <tr style=\"text-align: right;\">\n      <th></th>\n      <th>Country</th>\n      <th>Alpha-2 code</th>\n      <th>Alpha-3 code</th>\n      <th>Numeric code</th>\n      <th>Latitude (average)</th>\n      <th>Longitude (average)</th>\n    </tr>\n  </thead>\n  <tbody>\n    <tr>\n      <th>0</th>\n      <td>Afghanistan</td>\n      <td>\"AF\"</td>\n      <td>\"AFG\"</td>\n      <td>\"4\"</td>\n      <td>\"33\"</td>\n      <td>\"65\"</td>\n    </tr>\n    <tr>\n      <th>1</th>\n      <td>Albania</td>\n      <td>\"AL\"</td>\n      <td>\"ALB\"</td>\n      <td>\"8\"</td>\n      <td>\"41\"</td>\n      <td>\"20\"</td>\n    </tr>\n  </tbody>\n</table>\n</div>"
     },
     "execution_count": 4,
     "metadata": {},
     "output_type": "execute_result"
    }
   ],
   "source": [
    "pd.read_csv('data/country_code_map.csv').head(2)"
   ],
   "metadata": {
    "collapsed": false,
    "pycharm": {
     "name": "#%%\n"
    }
   }
  },
  {
   "cell_type": "markdown",
   "source": [
    "Using the `Country` and the `Alpha-3 Code` (ISO-3) we are able to map country names to country codes. We usually make use of the function below to retrieve the data."
   ],
   "metadata": {
    "collapsed": false,
    "pycharm": {
     "name": "#%% md\n"
    }
   }
  },
  {
   "cell_type": "code",
   "execution_count": 18,
   "outputs": [
    {
     "name": "stdout",
     "output_type": "stream",
     "text": [
      "Country to code map 'Denmark': {'Alpha-3 code': 'DNK'}\n",
      "Map to country map 'DNK': Denmark\n"
     ]
    }
   ],
   "source": [
    "# Defining the country code map. For this case, we over-comment the code for the purpose of the explainer notebook.\n",
    "def get_country_code_map():\n",
    "    \"\"\"\n",
    "    Retrieve the mapping between country names to country codes and vice versa\n",
    "\n",
    "    \"\"\"\n",
    "    # Select only the relevant columns\n",
    "    country_code_map = pd.read_csv('data/country_code_map.csv')[['Country', 'Alpha-3 code']]\n",
    "\n",
    "    # Remove double quotes from the code\n",
    "    country_code_map['Alpha-3 code'] = country_code_map['Alpha-3 code'].apply(lambda x: x.split('\"')[1])\n",
    "\n",
    "    # Set country as index and convert to dictionary in form of [index] -> [{column: value}]\n",
    "    country_code_map = country_code_map.set_index('Country').to_dict(orient='index')\n",
    "\n",
    "    # Reverse dictionary\n",
    "    country_code_to_country = {value['Alpha-3 code']: key for key, value in country_code_map.items()}\n",
    "    return country_code_map, country_code_to_country\n",
    "\n",
    "country_code_map, country_code_to_country = get_country_code_map()\n",
    "print(f\"Country to code map 'Denmark': {country_code_map['Denmark']}\")\n",
    "print(f\"Map to country map 'DNK': {country_code_to_country['DNK']}\")"
   ],
   "metadata": {
    "collapsed": false,
    "pycharm": {
     "name": "#%%\n"
    }
   }
  },
  {
   "cell_type": "markdown",
   "source": [
    "After retrieving the mapping, we add the keys to the dataset. Some datasets have only country names but no codes, and others the otherway around. For the datasets with only country names, we had to manually map some of the country names to the equivalent name in the mapping dictionary. An example of such is seen below. We will comment the special cases but not more than once."
   ],
   "metadata": {
    "collapsed": false,
    "pycharm": {
     "name": "#%% md\n"
    }
   }
  },
  {
   "cell_type": "code",
   "execution_count": 14,
   "outputs": [],
   "source": [
    "def get_industry_data():\n",
    "    df = pd.read_csv('data/FAOSTAT_country_supply_production_import_export.csv')\n",
    "    df.loc[df['Area'] == \"China, mainland\", 'Area'] = 'China'  # Generalize to China\n",
    "    df.loc[df['Area'] == 'China, Hong Kong SAR', 'Area'] = 'China'\n",
    "    df.loc[df['Area'] == 'China, Macao SAR', 'Area'] = 'China'\n",
    "    df.loc[df['Area'] == \"China, Taiwan Province of\", 'Area'] = 'Taiwan'  # Taiwan on it's own\n",
    "    df.loc[df['Area'] == \"C?te d'Ivoire\", 'Area'] = \"Côte d'Ivoire\"  # Special characters\n",
    "    df.loc[df['Area'] == \"Netherlands Antilles (former)\", 'Area'] = \"Netherlands\"  # Longer names\n",
    "    df.loc[df['Area'] == 'Bolivia (Plurinational State of)', 'Area'] = \"Bolivia\"  # No parenthesis\n",
    "    df.loc[df['Area'] == 'Cabo Verde', 'Area'] = \"Cape Verde\"  # Different names for one country\n",
    "    df.loc[df['Area'] == 'Czechia', 'Area'] = \"Czech Republic\"\n",
    "    df.loc[df['Area'] == \"Democratic People's Republic of Korea\", 'Area'] = \"South Korea\"  # Common name rather than formal name\n",
    "    df.loc[df['Area'] == 'Democratic Republic of the Congo', 'Area'] = \"Congo\"\n",
    "    df.loc[df['Area'] == 'Eswatini', 'Area'] = \"Swaziland\"\n",
    "    df.loc[df['Area'] == 'Iran (Islamic Republic of)', 'Area'] = \"Iran, Islamic Republic of\"\n",
    "    df.loc[df['Area'] == 'North Macedonia', 'Area'] = \"Macedonia, the former Yugoslav Republic of\"\n",
    "    df.loc[df['Area'] == 'Republic of Korea', 'Area'] = \"Korea, Republic of\"  # Reverse naming. Country name before title: country, title\n",
    "    df.loc[df['Area'] == 'United Kingdom of Great Britain and Northern Ireland', 'Area'] = \"United Kingdom\"\n",
    "    df.loc[df['Area'] == 'Republic of Moldova', 'Area'] = \"Moldova, Republic of\"\n",
    "    df.loc[df['Area'] == 'United Republic of Tanzania', 'Area'] = \"Tanzania, United Republic of\"\n",
    "    df.loc[df['Area'] == 'United States of America', 'Area'] = 'United States'\n",
    "    df.loc[df['Area'] == 'Venezuela (Bolivarian Republic of)', 'Area'] = 'Venezuela, Bolivarian Republic of'\n",
    "\n",
    "    # df = add_population(df)   # Out commented for explainer-notebook purposes\n",
    "    return df"
   ],
   "metadata": {
    "collapsed": false,
    "pycharm": {
     "name": "#%%\n"
    }
   }
  },
  {
   "cell_type": "markdown",
   "source": [
    "### Adding population data\n",
    "\n",
    "After finding common keys across datasets, we add the population data for a given year which enables us to calculate any metric per capita: $metric\\_per\\_capita = \\frac{metric}{population}$"
   ],
   "metadata": {
    "collapsed": false,
    "pycharm": {
     "name": "#%% md\n"
    }
   }
  },
  {
   "cell_type": "code",
   "execution_count": 15,
   "outputs": [],
   "source": [
    "def get_population():\n",
    "    return pd.read_csv('data/population_total.csv')"
   ],
   "metadata": {
    "collapsed": false,
    "pycharm": {
     "name": "#%%\n"
    }
   }
  },
  {
   "cell_type": "code",
   "execution_count": 16,
   "outputs": [],
   "source": [
    "def add_population(df, country_col='Area'):\n",
    "    # Get data\n",
    "    df_population = get_population()\n",
    "    country_code_map, country_code_to_country = get_country_code_map()\n",
    "\n",
    "    # Add the country code if it's not present in the dataframe\n",
    "    if 'Country Code' not in df.columns:\n",
    "        df['Country Code'] = df.apply(lambda x: country_code_map[x[country_col]]['Alpha-3 code'], axis=1)\n",
    "\n",
    "    # Kind of advanced data wrangling operation, inspired from the Tidy data paradigm.\n",
    "    # We give a brief introduction, but please look up the proper documentation if you don't understand the function.\n",
    "    # Melting a dataframe is useful when we have a variable, such as 'Year' expanded over multiple columns.\n",
    "    # For example the columns in a dataframe could be: [Country Name, Country Code, 2010, 2011, 2012, ... 2022]\n",
    "    # Where each value in the 'Year' columns is a variable such as 'population'.\n",
    "    # Melting the dataframe takes all the columns NAMES defined in 'value_vars' and assigns them to a single column\n",
    "    # with the name: 'var_name' which in this case is 'Year'. Example var_name = pd.Series([2010, 2011, 2012, ..., 2022])\n",
    "    # The corresponding value in that column is then assigned to another column in 'value_name'. The pairs of\n",
    "    # [var_name, value_name] are then identical to what was previously in column format, however it is now only in row format.\n",
    "    melted = pd.melt(df_population, id_vars=['Country Name', 'Country Code'], value_vars=df_population.columns[2:],\n",
    "                     var_name='Year',\n",
    "                     value_name='population')\n",
    "\n",
    "    # Set year as integer to make them joinable\n",
    "    melted.Year = melted.Year.astype(int)\n",
    "\n",
    "    # Final merge operatoin\n",
    "    df = pd.merge(melted, df, on=['Country Code', 'Year'])\n",
    "    return df"
   ],
   "metadata": {
    "collapsed": false,
    "pycharm": {
     "name": "#%%\n"
    }
   }
  },
  {
   "cell_type": "markdown",
   "source": [
    "After running the above function, there is a value of population for each country on each year."
   ],
   "metadata": {
    "collapsed": false,
    "pycharm": {
     "name": "#%% md\n"
    }
   }
  },
  {
   "cell_type": "code",
   "execution_count": 20,
   "outputs": [
    {
     "data": {
      "text/plain": "      Country Name Country Code  Year    population\n40598    Australia          AUS  2017  2.460186e+07\n23938        China          CHN  2014  1.371860e+09\n20977    Mauritius          MUS  2013  1.258653e+06\n7020          Cuba          CUB  2011  1.123667e+07",
      "text/html": "<div>\n<style scoped>\n    .dataframe tbody tr th:only-of-type {\n        vertical-align: middle;\n    }\n\n    .dataframe tbody tr th {\n        vertical-align: top;\n    }\n\n    .dataframe thead th {\n        text-align: right;\n    }\n</style>\n<table border=\"1\" class=\"dataframe\">\n  <thead>\n    <tr style=\"text-align: right;\">\n      <th></th>\n      <th>Country Name</th>\n      <th>Country Code</th>\n      <th>Year</th>\n      <th>population</th>\n    </tr>\n  </thead>\n  <tbody>\n    <tr>\n      <th>40598</th>\n      <td>Australia</td>\n      <td>AUS</td>\n      <td>2017</td>\n      <td>2.460186e+07</td>\n    </tr>\n    <tr>\n      <th>23938</th>\n      <td>China</td>\n      <td>CHN</td>\n      <td>2014</td>\n      <td>1.371860e+09</td>\n    </tr>\n    <tr>\n      <th>20977</th>\n      <td>Mauritius</td>\n      <td>MUS</td>\n      <td>2013</td>\n      <td>1.258653e+06</td>\n    </tr>\n    <tr>\n      <th>7020</th>\n      <td>Cuba</td>\n      <td>CUB</td>\n      <td>2011</td>\n      <td>1.123667e+07</td>\n    </tr>\n  </tbody>\n</table>\n</div>"
     },
     "execution_count": 20,
     "metadata": {},
     "output_type": "execute_result"
    }
   ],
   "source": [
    "df = get_industry_data()\n",
    "add_population(df, country_col='Area').sample(4).iloc[:, :4]"
   ],
   "metadata": {
    "collapsed": false,
    "pycharm": {
     "name": "#%%\n"
    }
   }
  },
  {
   "cell_type": "markdown",
   "source": [
    "### Data quality (NaN values and outliers)\n",
    "\n",
    "#### Missing values\n",
    "Missing values were investigated for all datasets. However, most of the datasets luckily did not show significant signs of poor quality in terms of NaN values.\n",
    "In cases where there were NaN values, it was often in context of a visualization such as when plotting the consumption map. However, when plotting the map with NaN values,\n",
    "it is a benefit as the countries are **kept out** of the map which is the same as dropping that particular row. If we would have imputed the value with for example: 0, it would've been manipulated data and perhaps lead to misinterpretations."
   ],
   "metadata": {
    "collapsed": false,
    "pycharm": {
     "name": "#%% md\n"
    }
   }
  },
  {
   "cell_type": "code",
   "execution_count": 31,
   "outputs": [
    {
     "data": {
      "text/plain": "                 country Code  Year  consumption\n9025  South Eastern Asia  NaN  1977        16.97\n524                 Asia  NaN  2011        21.25\n8985       South America  NaN  1990         8.09\n3343      European Union  NaN  1986        19.11\n7395     Northern Africa  NaN  1989         5.78",
      "text/html": "<div>\n<style scoped>\n    .dataframe tbody tr th:only-of-type {\n        vertical-align: middle;\n    }\n\n    .dataframe tbody tr th {\n        vertical-align: top;\n    }\n\n    .dataframe thead th {\n        text-align: right;\n    }\n</style>\n<table border=\"1\" class=\"dataframe\">\n  <thead>\n    <tr style=\"text-align: right;\">\n      <th></th>\n      <th>country</th>\n      <th>Code</th>\n      <th>Year</th>\n      <th>consumption</th>\n    </tr>\n  </thead>\n  <tbody>\n    <tr>\n      <th>9025</th>\n      <td>South Eastern Asia</td>\n      <td>NaN</td>\n      <td>1977</td>\n      <td>16.97</td>\n    </tr>\n    <tr>\n      <th>524</th>\n      <td>Asia</td>\n      <td>NaN</td>\n      <td>2011</td>\n      <td>21.25</td>\n    </tr>\n    <tr>\n      <th>8985</th>\n      <td>South America</td>\n      <td>NaN</td>\n      <td>1990</td>\n      <td>8.09</td>\n    </tr>\n    <tr>\n      <th>3343</th>\n      <td>European Union</td>\n      <td>NaN</td>\n      <td>1986</td>\n      <td>19.11</td>\n    </tr>\n    <tr>\n      <th>7395</th>\n      <td>Northern Africa</td>\n      <td>NaN</td>\n      <td>1989</td>\n      <td>5.78</td>\n    </tr>\n  </tbody>\n</table>\n</div>"
     },
     "execution_count": 31,
     "metadata": {},
     "output_type": "execute_result"
    }
   ],
   "source": [
    "from plots.data import get_consumption\n",
    "\n",
    "df = get_consumption()\n",
    "df.drop('TotalC', axis=1, inplace=True)\n",
    "df[df.isna().any(axis=1)].sample(5)"
   ],
   "metadata": {
    "collapsed": false,
    "pycharm": {
     "name": "#%%\n"
    }
   }
  },
  {
   "cell_type": "code",
   "execution_count": 33,
   "outputs": [
    {
     "data": {
      "text/plain": "['Africa',\n 'Americas',\n 'Asia',\n 'Asia, Central',\n 'Australia & New Zealand',\n 'Belgium-Luxembourg',\n 'Caribbean',\n 'Central America',\n 'Eastern Africa',\n 'Eastern Asia',\n 'Eastern Europe',\n 'Ethiopia PDR',\n 'Europe',\n 'Europe, Western',\n 'European Union',\n 'Land Locked Developing Countries',\n 'Least Developed Countries',\n 'Low Income Food Deficit Countries',\n 'Micronesia (region)',\n 'Middle Africa',\n 'Net Food Importing Developing Countries',\n 'Northern Africa',\n 'Northern America',\n 'Northern Europe',\n 'Oceania',\n 'Small island developing States',\n 'South America',\n 'South Eastern Asia',\n 'Southern Africa',\n 'Southern Asia',\n 'Southern Europe',\n 'Sudan (former)',\n 'Western Africa',\n 'Western Asia']"
     },
     "execution_count": 33,
     "metadata": {},
     "output_type": "execute_result"
    }
   ],
   "source": [
    "df[df.isna().any(axis=1)].country.unique().tolist()"
   ],
   "metadata": {
    "collapsed": false,
    "pycharm": {
     "name": "#%%\n"
    }
   }
  },
  {
   "cell_type": "markdown",
   "source": [
    "It's seen that there are some countries that have missing country codes, but this is no issue for plotting. Moreover, we use the a custom _geojson_ to plot the maps, meaning that the regions such as (Africa, Americas, Asia, Europe, ...) will be left out as they aren't in the geojson."
   ],
   "metadata": {
    "collapsed": false,
    "pycharm": {
     "name": "#%% md\n"
    }
   }
  },
  {
   "cell_type": "code",
   "execution_count": 38,
   "outputs": [
    {
     "data": {
      "text/plain": "{'ADMIN': 'Aruba', 'ISO_A3': 'ABW', 'ISO_A2': 'AW'}"
     },
     "execution_count": 38,
     "metadata": {},
     "output_type": "execute_result"
    }
   ],
   "source": [
    "import json\n",
    "\n",
    "with open('data/countries-simplified.json') as response:\n",
    "    countries = json.load(response)\n",
    "\n",
    "countries['features'][0]['properties']"
   ],
   "metadata": {
    "collapsed": false,
    "pycharm": {
     "name": "#%%\n"
    }
   }
  },
  {
   "cell_type": "markdown",
   "source": [
    "As you can see, we use the ISO_A3 (ISO Alpha 3) code to map countries and the geojson together. The ISO3 codes are in the consumption dataset, but _not_ in the industry dataset, which is why we add the country codes to it using the mapping. As without any country codes, we wouldn't be able to plot a choropleth map of the fishing industry"
   ],
   "metadata": {
    "collapsed": false,
    "pycharm": {
     "name": "#%% md\n"
    }
   }
  },
  {
   "cell_type": "markdown",
   "source": [
    "#### Outliers\n",
    "\n",
    "Outliers didn't cause much trouble either. Except for one place when working with the scale of the colorbar in the consumption map. Let's take a look at the code. We WONT plot the map here as it takes up 150 Mb in the offline version."
   ],
   "metadata": {
    "collapsed": false,
    "pycharm": {
     "name": "#%% md\n"
    }
   }
  },
  {
   "cell_type": "code",
   "execution_count": null,
   "outputs": [],
   "source": [
    "from utils.decorator import style_plot\n",
    "import plotly.express as px\n",
    "\n",
    "@style_plot\n",
    "def plot_consumption_map(df):\n",
    "    with open('data/countries-simplified.json') as response:\n",
    "        countries = json.load(response)\n",
    "\n",
    "    # OUTLIERS!\n",
    "    range_color = (0, df.consumption.quantile(0.99))\n",
    "    # OUTLIERS!\n",
    "\n",
    "    map_args = dict(\n",
    "        geojson=countries,\n",
    "        featureidkey='properties.ISO_A3',\n",
    "        locations=\"Code\",\n",
    "        color=\"consumption\",  # lifeExp is a column of gapminder\n",
    "        hover_name=\"country\",  # column to add to hover information\n",
    "        animation_frame='Year',\n",
    "        mapbox_style=\"carto-positron\",\n",
    "        color_continuous_scale='YlOrRd',\n",
    "        range_color=range_color,\n",
    "        title='Fish consumption (kg / capita) from 1961 to 2017',\n",
    "        center={'lat': 12, 'lon': 5}\n",
    "    )\n",
    "\n",
    "    fig = px.choropleth_mapbox(df, zoom=0.5, **map_args)\n",
    "    # More styling code below but it's been left out for brevity's sake."
   ],
   "metadata": {
    "collapsed": false,
    "pycharm": {
     "name": "#%%\n"
    }
   }
  },
  {
   "cell_type": "markdown",
   "source": [
    "As seen in line 10 of the cell above, we have adjusted the color of the range from 0 to 99% quantile. This is due to few extreme outliers that make identifying other high-consumption countries difficult. Let's take a look at the outliers."
   ],
   "metadata": {
    "collapsed": false,
    "pycharm": {
     "name": "#%% md\n"
    }
   }
  },
  {
   "cell_type": "code",
   "execution_count": 39,
   "outputs": [
    {
     "data": {
      "text/plain": "count    11028.000000\nmean        16.670872\nstd         17.056281\nmin          0.000000\n25%          5.340000\n50%         11.995000\n75%         22.512500\nmax        191.750000\nName: consumption, dtype: float64"
     },
     "execution_count": 39,
     "metadata": {},
     "output_type": "execute_result"
    }
   ],
   "source": [
    "df = get_consumption()\n",
    "\n",
    "df.consumption.describe()"
   ],
   "metadata": {
    "collapsed": false,
    "pycharm": {
     "name": "#%%\n"
    }
   }
  },
  {
   "cell_type": "markdown",
   "source": [
    "The maximum value is 191 whilst the 75% quantile is only 22.5!! The data is clearly skewed."
   ],
   "metadata": {
    "collapsed": false,
    "pycharm": {
     "name": "#%% md\n"
    }
   }
  },
  {
   "cell_type": "code",
   "execution_count": 43,
   "outputs": [
    {
     "data": {
      "text/plain": "<AxesSubplot:>"
     },
     "execution_count": 43,
     "metadata": {},
     "output_type": "execute_result"
    },
    {
     "data": {
      "text/plain": "<Figure size 432x288 with 1 Axes>",
      "image/png": "[encoded data removed]"
     },
     "metadata": {
      "needs_background": "light"
     },
     "output_type": "display_data"
    }
   ],
   "source": [
    "# Very simple plot for illustrative purposes.\n",
    "df.consumption.hist(bins=40)"
   ],
   "metadata": {
    "collapsed": false,
    "pycharm": {
     "name": "#%%\n"
    }
   }
  },
  {
   "cell_type": "code",
   "execution_count": 47,
   "outputs": [
    {
     "data": {
      "text/plain": "<AxesSubplot:>"
     },
     "execution_count": 47,
     "metadata": {},
     "output_type": "execute_result"
    },
    {
     "data": {
      "text/plain": "<Figure size 432x288 with 1 Axes>",
      "image/png": "[encoded data removed]"
     },
     "metadata": {
      "needs_background": "light"
     },
     "output_type": "display_data"
    }
   ],
   "source": [
    "df.boxplot(column='consumption')"
   ],
   "metadata": {
    "collapsed": false,
    "pycharm": {
     "name": "#%%\n"
    }
   }
  },
  {
   "cell_type": "markdown",
   "source": [
    "The 99% quantile is then"
   ],
   "metadata": {
    "collapsed": false,
    "pycharm": {
     "name": "#%% md\n"
    }
   }
  },
  {
   "cell_type": "code",
   "execution_count": 44,
   "outputs": [
    {
     "data": {
      "text/plain": "75.34459999999999"
     },
     "execution_count": 44,
     "metadata": {},
     "output_type": "execute_result"
    }
   ],
   "source": [
    "df.consumption.quantile(0.99)"
   ],
   "metadata": {
    "collapsed": false,
    "pycharm": {
     "name": "#%%\n"
    }
   }
  },
  {
   "cell_type": "markdown",
   "source": [
    "Which is MUCH more reasonable when looking at the plots above as well.\n",
    "\n",
    "**Industry dataset outliers**\n",
    "\n",
    "We replicated the method above for the Industry dataset (import, export, production and supply) as well, however we don't find the need to replicate the whole process and analysis again (as it's copy paste with different a different dataset).\n",
    "The resulting relevant quantile for the Industry dataset turned out to be 0.975 due to the same reasons above (extreme outliers).\n",
    "\n",
    "**Other datasets**\n",
    "\n",
    "With respect to the other datasets we didn't find any significant outliers that hindered the analysis or visualization."
   ],
   "metadata": {
    "collapsed": false,
    "pycharm": {
     "name": "#%% md\n"
    }
   }
  },
  {
   "cell_type": "markdown",
   "source": [
    "## Dataset stats and key points\n",
    "\n",
    "We have already touched upon the outlier and NaN value detection and corresponding mitigation techniques.\n",
    "\n",
    "Here we will go over some key points of the exploratory analysis that lead us to the final visualizations found on the website."
   ],
   "metadata": {
    "collapsed": false,
    "pycharm": {
     "name": "#%% md\n"
    }
   }
  },
  {
   "cell_type": "markdown",
   "source": [
    "### Overexploiting fish"
   ],
   "metadata": {
    "collapsed": false,
    "pycharm": {
     "name": "#%% md\n"
    }
   }
  },
  {
   "cell_type": "code",
   "execution_count": 73,
   "outputs": [],
   "source": [
    "sustainable = pd.read_csv('data/fish-stocks-within-sustainable-levels.csv')"
   ],
   "metadata": {
    "collapsed": false,
    "pycharm": {
     "name": "#%%\n"
    }
   }
  },
  {
   "cell_type": "code",
   "execution_count": 74,
   "outputs": [],
   "source": [
    "sustainable_world = sustainable[sustainable[\"Entity\"]==\"World\"]"
   ],
   "metadata": {
    "collapsed": false,
    "pycharm": {
     "name": "#%%\n"
    }
   }
  },
  {
   "cell_type": "code",
   "execution_count": 77,
   "outputs": [
    {
     "data": {
      "text/plain": "<Figure size 720x504 with 1 Axes>",
      "image/png": "[encoded data removed]"
     },
     "metadata": {
      "needs_background": "light"
     },
     "output_type": "display_data"
    }
   ],
   "source": [
    "from operator import truediv\n",
    "\n",
    "sus = sustainable_world['Share of fish stocks within biologically sustainable levels (FAO, 2020)'].tolist()\n",
    "over = sustainable_world['Share of fish stocks that are overexploited'].tolist()\n",
    "#sus = sus/sus\n",
    "sus_map = list(map(truediv, sus, sus))\n",
    "#over = over/sus\n",
    "over_map = list(map(truediv, over, sus))\n",
    "\n",
    "index = sustainable_world['Year']\n",
    "df = pd.DataFrame({#'sustainable': sus_map,\n",
    "                   'overexploited': over_map}, index=index)\n",
    "ax = df.plot.line(figsize=(10,7))\n",
    "ax.set_xlabel('Year')\n",
    "ax.set_ylabel('%')\n",
    "ax.set_title('Share of world fish stocks within sustainable and overexploited levels');"
   ],
   "metadata": {
    "collapsed": false,
    "pycharm": {
     "name": "#%%\n"
    }
   }
  },
  {
   "cell_type": "markdown",
   "source": [
    "This was one of the first plots we made which clearly highlights the fact that we are on a rising trend of overfishing the oceans significantly"
   ],
   "metadata": {
    "collapsed": false,
    "pycharm": {
     "name": "#%% md\n"
    }
   }
  },
  {
   "cell_type": "markdown",
   "source": [
    "### Import / Export comparison"
   ],
   "metadata": {
    "collapsed": false,
    "pycharm": {
     "name": "#%% md\n"
    }
   }
  },
  {
   "cell_type": "code",
   "execution_count": 55,
   "outputs": [],
   "source": [
    "import matplotlib.pyplot as plt\n",
    "import numpy as np"
   ],
   "metadata": {
    "collapsed": false,
    "pycharm": {
     "name": "#%%\n"
    }
   }
  },
  {
   "cell_type": "code",
   "execution_count": 49,
   "outputs": [],
   "source": [
    "fish_Im = pd.read_csv(\"data/FAOSTAT_import.csv\")\n",
    "fish_Ex = pd.read_csv(\"data/FAOSTAT_export.csv\")\n",
    "\n",
    "fish_Im = fish_Im.drop([\"Domain Code\", \"Domain\", \"Area Code (FAO)\", \"Element Code\", \"Element\", \"Item Code\", \"Item\", \"Year Code\", \"Unit\", \"Flag\", \"Flag Description\"], axis=1);\n",
    "# These are not present in export and not notable countries\n",
    "fish_Im = fish_Im.loc[ fish_Im[\"Area\"] != \"Tajikistan\" ];\n",
    "fish_Im = fish_Im.loc[ fish_Im[\"Area\"] != \"Afghanistan\" ];\n",
    "\n",
    "fish_Ex = fish_Ex.drop([\"Domain Code\", \"Domain\", \"Area Code (FAO)\", \"Element Code\", \"Element\", \"Item Code\", \"Item\", \"Year Code\", \"Unit\", \"Flag\", \"Flag Description\"], axis=1);"
   ],
   "metadata": {
    "collapsed": false,
    "pycharm": {
     "name": "#%%\n"
    }
   }
  },
  {
   "cell_type": "code",
   "execution_count": 50,
   "outputs": [],
   "source": [
    "# Sort on highest import values\n",
    "Im_lastyear = fish_Im.loc[ fish_Im[\"Year\"] == 2019 ].sort_values(\"Value\", axis=0, ignore_index=True, ascending=False)\n",
    "Ex_lastyear = fish_Ex.loc[ fish_Ex[\"Year\"] == 2019 ]\n",
    "\n",
    "Ex_lastyear = Ex_lastyear.set_index('Area');\n",
    "Ex_lastyear = Ex_lastyear.reindex(index=Im_lastyear[\"Area\"]);\n",
    "Ex_lastyear.reset_index();\n",
    "\n",
    "Im_lastyear = Im_lastyear.set_index('Area');"
   ],
   "metadata": {
    "collapsed": false,
    "pycharm": {
     "name": "#%%\n"
    }
   }
  },
  {
   "cell_type": "code",
   "execution_count": 51,
   "outputs": [],
   "source": [
    "# ALTERNATIVELY\n",
    "# Sort on highest export values\n",
    "Im_lastyear = fish_Im.loc[ fish_Im[\"Year\"] == 2019 ]\n",
    "Ex_lastyear = fish_Ex.loc[ fish_Ex[\"Year\"] == 2019 ].sort_values(\"Value\", axis=0, ignore_index=True, ascending=False)\n",
    "\n",
    "Im_lastyear = Im_lastyear.set_index('Area');\n",
    "Im_lastyear = Im_lastyear.reindex(index=Ex_lastyear[\"Area\"]);\n",
    "Im_lastyear.reset_index();\n",
    "\n",
    "Ex_lastyear = Ex_lastyear.set_index('Area');"
   ],
   "metadata": {
    "collapsed": false,
    "pycharm": {
     "name": "#%%\n"
    }
   }
  },
  {
   "cell_type": "code",
   "execution_count": 54,
   "outputs": [],
   "source": [
    "# show only the top N countries (set 178 for all)\n",
    "N = 20\n",
    "plt.rcParams['figure.figsize'] = [5, 5 + (N*70/178)]\n",
    "y_axis = Im_lastyear[0:N].index\n",
    "x_axis_Im = Im_lastyear[\"Value\"][0:N]\n",
    "x_axis_Ex = Ex_lastyear[\"Value\"][0:N]"
   ],
   "metadata": {
    "collapsed": false,
    "pycharm": {
     "name": "#%%\n"
    }
   }
  },
  {
   "cell_type": "code",
   "execution_count": 56,
   "outputs": [
    {
     "data": {
      "text/plain": "<Figure size 360x926.292 with 1 Axes>",
      "image/png": "[encoded data removed]"
     },
     "metadata": {
      "needs_background": "light"
     },
     "output_type": "display_data"
    }
   ],
   "source": [
    "# Visualization\n",
    "fig, ax = plt.subplots( )\n",
    "\n",
    "ind = np.arange(N)\n",
    "width = 0.3\n",
    "\n",
    "ax.barh(ind, x_axis_Im, width) # IMPORT\n",
    "ax.barh(ind + width, x_axis_Ex, width) # EXPORT\n",
    "\n",
    "ax.set(yticks=ind + width/2, yticklabels=y_axis, ylim=[2*width - 1, len(y_axis)])\n",
    "\n",
    "plt.rcParams[\"legend.loc\"] = 'lower right'\n",
    "ax.legend(['Import', 'Export'])\n",
    "\n",
    "plt.xlabel( \"1000 tons\" )\n",
    "plt.ylabel( \"Country\" )\n",
    "plt.title( \"Fish import/export per country\" , fontdict = {'fontsize': 14} )\n",
    "\n",
    "# to show highest at the top\n",
    "plt.gca().invert_yaxis()\n",
    "\n",
    "plt.show()"
   ],
   "metadata": {
    "collapsed": false,
    "pycharm": {
     "name": "#%%\n"
    }
   }
  },
  {
   "cell_type": "markdown",
   "source": [
    "In terms of impact it is evident that China is a significant contributor to the global import and export. Moreover, on 5th place we have the representative of the nordic region, Norway. Interestingly we find that Norway exports more than they import and vice versa for China."
   ],
   "metadata": {
    "collapsed": false,
    "pycharm": {
     "name": "#%% md\n"
    }
   }
  },
  {
   "cell_type": "markdown",
   "source": [
    "### Capture fishery production"
   ],
   "metadata": {
    "collapsed": false,
    "pycharm": {
     "name": "#%% md\n"
    }
   }
  },
  {
   "cell_type": "code",
   "execution_count": 61,
   "outputs": [
    {
     "data": {
      "text/plain": "<AxesSubplot:xlabel='Year'>"
     },
     "execution_count": 61,
     "metadata": {},
     "output_type": "execute_result"
    },
    {
     "data": {
      "text/plain": "<Figure size 576x360 with 1 Axes>",
      "image/png": "[encoded data removed]"
     },
     "metadata": {
      "needs_background": "light"
     },
     "output_type": "display_data"
    }
   ],
   "source": [
    "fish_prod = pd.read_csv('data/capture-fisheries-vs-aquaculture.csv')\n",
    "fish_prod = fish_prod.set_index('Year')\n",
    "fish_prod.query('Entity == \"Nigeria\" and Year >= 2010').plot(figsize=(8,5))\n"
   ],
   "metadata": {
    "collapsed": false,
    "pycharm": {
     "name": "#%%\n"
    }
   }
  },
  {
   "cell_type": "code",
   "execution_count": 68,
   "outputs": [
    {
     "data": {
      "text/plain": "                   Entity Code  Aquaculture production (metric tons)  \\\nYear                                                                   \n2017     IDA & IBRD total  NaN                          1.041922e+08   \n2017  Low & middle income  NaN                          1.035454e+08   \n2017        Middle income  NaN                          1.027325e+08   \n2017            IBRD only  NaN                          9.950129e+07   \n2017  East Asia & Pacific  NaN                          9.373206e+07   \n...                   ...  ...                                   ...   \n2017            Gibraltar  GIB                                   NaN   \n2017        Liechtenstein  LIE                                   NaN   \n2017           San Marino  SMR                                   NaN   \n2017              Andorra  AND                                   NaN   \n2017           Luxembourg  LUX                                   NaN   \n\n      Capture fisheries production (metric tons)  \nYear                                              \n2017                                 71952300.38  \n2017                                 68944889.73  \n2017                                 66044865.73  \n2017                                 58935921.38  \n2017                                 40718597.78  \n...                                          ...  \n2017                                        1.00  \n2017                                        0.00  \n2017                                        0.00  \n2017                                        0.00  \n2017                                        0.00  \n\n[262 rows x 4 columns]",
      "text/html": "<div>\n<style scoped>\n    .dataframe tbody tr th:only-of-type {\n        vertical-align: middle;\n    }\n\n    .dataframe tbody tr th {\n        vertical-align: top;\n    }\n\n    .dataframe thead th {\n        text-align: right;\n    }\n</style>\n<table border=\"1\" class=\"dataframe\">\n  <thead>\n    <tr style=\"text-align: right;\">\n      <th></th>\n      <th>Entity</th>\n      <th>Code</th>\n      <th>Aquaculture production (metric tons)</th>\n      <th>Capture fisheries production (metric tons)</th>\n    </tr>\n    <tr>\n      <th>Year</th>\n      <th></th>\n      <th></th>\n      <th></th>\n      <th></th>\n    </tr>\n  </thead>\n  <tbody>\n    <tr>\n      <th>2017</th>\n      <td>IDA &amp; IBRD total</td>\n      <td>NaN</td>\n      <td>1.041922e+08</td>\n      <td>71952300.38</td>\n    </tr>\n    <tr>\n      <th>2017</th>\n      <td>Low &amp; middle income</td>\n      <td>NaN</td>\n      <td>1.035454e+08</td>\n      <td>68944889.73</td>\n    </tr>\n    <tr>\n      <th>2017</th>\n      <td>Middle income</td>\n      <td>NaN</td>\n      <td>1.027325e+08</td>\n      <td>66044865.73</td>\n    </tr>\n    <tr>\n      <th>2017</th>\n      <td>IBRD only</td>\n      <td>NaN</td>\n      <td>9.950129e+07</td>\n      <td>58935921.38</td>\n    </tr>\n    <tr>\n      <th>2017</th>\n      <td>East Asia &amp; Pacific</td>\n      <td>NaN</td>\n      <td>9.373206e+07</td>\n      <td>40718597.78</td>\n    </tr>\n    <tr>\n      <th>...</th>\n      <td>...</td>\n      <td>...</td>\n      <td>...</td>\n      <td>...</td>\n    </tr>\n    <tr>\n      <th>2017</th>\n      <td>Gibraltar</td>\n      <td>GIB</td>\n      <td>NaN</td>\n      <td>1.00</td>\n    </tr>\n    <tr>\n      <th>2017</th>\n      <td>Liechtenstein</td>\n      <td>LIE</td>\n      <td>NaN</td>\n      <td>0.00</td>\n    </tr>\n    <tr>\n      <th>2017</th>\n      <td>San Marino</td>\n      <td>SMR</td>\n      <td>NaN</td>\n      <td>0.00</td>\n    </tr>\n    <tr>\n      <th>2017</th>\n      <td>Andorra</td>\n      <td>AND</td>\n      <td>NaN</td>\n      <td>0.00</td>\n    </tr>\n    <tr>\n      <th>2017</th>\n      <td>Luxembourg</td>\n      <td>LUX</td>\n      <td>NaN</td>\n      <td>0.00</td>\n    </tr>\n  </tbody>\n</table>\n<p>262 rows × 4 columns</p>\n</div>"
     },
     "execution_count": 68,
     "metadata": {},
     "output_type": "execute_result"
    }
   ],
   "source": [
    "fish_prod_lastyear = fish_prod.query('Year == 2017')\n",
    "fish_prod_lastyear = fish_prod_lastyear.sort_values(\"Capture fisheries production (metric tons)\", axis=0, ascending=False)\n",
    "fish_prod_lastyear"
   ],
   "metadata": {
    "collapsed": false,
    "pycharm": {
     "name": "#%%\n"
    }
   }
  },
  {
   "cell_type": "markdown",
   "source": [
    " Let's split them up next. Which can be done by checking for a country code. I though we might need `pip install pycountry`, but we don't."
   ],
   "metadata": {
    "collapsed": false,
    "pycharm": {
     "name": "#%% md\n"
    }
   }
  },
  {
   "cell_type": "code",
   "execution_count": 71,
   "outputs": [],
   "source": [
    "fish_prod_lastyear_country = fish_prod_lastyear.loc[ fish_prod_lastyear[\"Code\"].notnull() ]\n",
    "fish_prod_lastyear_other = fish_prod_lastyear.loc[ fish_prod_lastyear[\"Code\"].isnull() ]"
   ],
   "metadata": {
    "collapsed": false,
    "pycharm": {
     "name": "#%%\n"
    }
   }
  },
  {
   "cell_type": "code",
   "execution_count": 72,
   "outputs": [
    {
     "data": {
      "text/plain": "<Figure size 360x594.419 with 1 Axes>",
      "image/png": "[encoded data removed]"
     },
     "metadata": {
      "needs_background": "light"
     },
     "output_type": "display_data"
    }
   ],
   "source": [
    "# show only the top N countries (set 215 for all)\n",
    "N = 10\n",
    "\n",
    "plt.rcParams['figure.figsize'] = [5, 5 + (N*70/215)]\n",
    "\n",
    "fig = plt.figure( )\n",
    "\n",
    "y_axis = fish_prod_lastyear_country[\"Entity\"][0:N]\n",
    "x_axis = fish_prod_lastyear_country[\"Capture fisheries production (metric tons)\"][0:N]\n",
    "plt.barh(y_axis, x_axis, height=0.8)\n",
    "\n",
    "\n",
    "plt.xlabel( \"Metric tons\" )\n",
    "plt.ylabel( \"Country\" )\n",
    "plt.title( \"\" , fontdict = {'fontsize': 14} )\n",
    "\n",
    "# to show highest at the top\n",
    "plt.gca().invert_yaxis()\n",
    "\n",
    "plt.show()"
   ],
   "metadata": {
    "collapsed": false,
    "pycharm": {
     "name": "#%%\n"
    }
   }
  },
  {
   "cell_type": "markdown",
   "source": [
    "Again we see China as a major factor in production through capture fisheries. And yet again, the closest rival in the nordic and european region is Norway"
   ],
   "metadata": {
    "collapsed": false,
    "pycharm": {
     "name": "#%% md\n"
    }
   }
  },
  {
   "cell_type": "code",
   "execution_count": null,
   "outputs": [],
   "source": [],
   "metadata": {
    "collapsed": false,
    "pycharm": {
     "name": "#%%\n"
    }
   }
  },
  {
   "cell_type": "markdown",
   "source": [
    "# Data Analysis"
   ],
   "metadata": {
    "collapsed": false,
    "pycharm": {
     "name": "#%% md\n"
    }
   }
  },
  {
   "cell_type": "code",
   "execution_count": null,
   "outputs": [],
   "source": [],
   "metadata": {
    "collapsed": false,
    "pycharm": {
     "name": "#%%\n"
    }
   }
  },
  {
   "cell_type": "markdown",
   "source": [
    "# Genre"
   ],
   "metadata": {
    "collapsed": false,
    "pycharm": {
     "name": "#%% md\n"
    }
   }
  },
  {
   "cell_type": "code",
   "execution_count": null,
   "outputs": [],
   "source": [],
   "metadata": {
    "collapsed": false,
    "pycharm": {
     "name": "#%%\n"
    }
   }
  },
  {
   "cell_type": "markdown",
   "source": [
    "## Which genre"
   ],
   "metadata": {
    "collapsed": false,
    "pycharm": {
     "name": "#%% md\n"
    }
   }
  },
  {
   "cell_type": "code",
   "execution_count": null,
   "outputs": [],
   "source": [],
   "metadata": {
    "collapsed": false,
    "pycharm": {
     "name": "#%%\n"
    }
   }
  },
  {
   "cell_type": "markdown",
   "source": [
    "## Visual Narrative"
   ],
   "metadata": {
    "collapsed": false,
    "pycharm": {
     "name": "#%% md\n"
    }
   }
  },
  {
   "cell_type": "code",
   "execution_count": null,
   "outputs": [],
   "source": [],
   "metadata": {
    "collapsed": false,
    "pycharm": {
     "name": "#%%\n"
    }
   }
  },
  {
   "cell_type": "markdown",
   "source": [
    "## Narrative Structure"
   ],
   "metadata": {
    "collapsed": false,
    "pycharm": {
     "name": "#%% md\n"
    }
   }
  },
  {
   "cell_type": "markdown",
   "source": [
    "# Visualizations"
   ],
   "metadata": {
    "collapsed": false,
    "pycharm": {
     "name": "#%% md\n"
    }
   }
  },
  {
   "cell_type": "code",
   "execution_count": null,
   "outputs": [],
   "source": [],
   "metadata": {
    "collapsed": false,
    "pycharm": {
     "name": "#%%\n"
    }
   }
  },
  {
   "cell_type": "markdown",
   "source": [
    "# Website"
   ],
   "metadata": {
    "collapsed": false,
    "pycharm": {
     "name": "#%% md\n"
    }
   }
  },
  {
   "cell_type": "code",
   "execution_count": null,
   "outputs": [],
   "source": [],
   "metadata": {
    "collapsed": false,
    "pycharm": {
     "name": "#%%\n"
    }
   }
  },
  {
   "cell_type": "markdown",
   "source": [
    "# Discussion"
   ],
   "metadata": {
    "collapsed": false,
    "pycharm": {
     "name": "#%% md\n"
    }
   }
  },
  {
   "cell_type": "code",
   "execution_count": null,
   "outputs": [],
   "source": [],
   "metadata": {
    "collapsed": false,
    "pycharm": {
     "name": "#%%\n"
    }
   }
  },
  {
   "cell_type": "markdown",
   "source": [
    "# Contributions"
   ],
   "metadata": {
    "collapsed": false,
    "pycharm": {
     "name": "#%% md\n"
    }
   }
  },
  {
   "cell_type": "code",
   "execution_count": null,
   "outputs": [],
   "source": [],
   "metadata": {
    "collapsed": false,
    "pycharm": {
     "name": "#%%\n"
    }
   }
  }
 ],
 "metadata": {
  "kernelspec": {
   "display_name": "Python 3",
   "language": "python",
   "name": "python3"
  },
  "language_info": {
   "codemirror_mode": {
    "name": "ipython",
    "version": 2
   },
   "file_extension": ".py",
   "mimetype": "text/x-python",
   "name": "python",
   "nbconvert_exporter": "python",
   "pygments_lexer": "ipython2",
   "version": "2.7.6"
  }
 },
 "nbformat": 4,
 "nbformat_minor": 0
}